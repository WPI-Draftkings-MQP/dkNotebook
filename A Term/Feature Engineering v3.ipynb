{
 "cells": [
  {
   "cell_type": "code",
   "execution_count": 1,
   "metadata": {},
   "outputs": [],
   "source": [
    "import pandas as pd\n",
    "import numpy as np\n",
    "from ipywidgets import FloatProgress\n",
    "from IPython.display import display"
   ]
  },
  {
   "cell_type": "code",
   "execution_count": 2,
   "metadata": {},
   "outputs": [
    {
     "name": "stdout",
     "output_type": "stream",
     "text": [
      "There are 372211 Contests\n"
     ]
    }
   ],
   "source": [
    "workingData = pd.read_csv('data/WorkingData.csv')\n",
    "contests = workingData\n",
    "print(\"There are \" + str(len(contests)) + \" Contests\")"
   ]
  },
  {
   "cell_type": "markdown",
   "metadata": {},
   "source": [
    "### Drop unecessary columns"
   ]
  },
  {
   "cell_type": "code",
   "execution_count": 3,
   "metadata": {},
   "outputs": [],
   "source": [
    "categories = contests.columns.drop(['ContestName', 'GameSet', 'is_vault', 'DistinctUsers'])## AND ENTRIES!\n",
    "contests = workingData[categories].set_index('ContestId')"
   ]
  },
  {
   "cell_type": "code",
   "execution_count": 4,
   "metadata": {},
   "outputs": [
    {
     "data": {
      "text/html": [
       "<div>\n",
       "<style scoped>\n",
       "    .dataframe tbody tr th:only-of-type {\n",
       "        vertical-align: middle;\n",
       "    }\n",
       "\n",
       "    .dataframe tbody tr th {\n",
       "        vertical-align: top;\n",
       "    }\n",
       "\n",
       "    .dataframe thead th {\n",
       "        text-align: right;\n",
       "    }\n",
       "</style>\n",
       "<table border=\"1\" class=\"dataframe\">\n",
       "  <thead>\n",
       "    <tr style=\"text-align: right;\">\n",
       "      <th></th>\n",
       "      <th>SportName</th>\n",
       "      <th>VariantName</th>\n",
       "      <th>ContestStartDatetimeEST</th>\n",
       "      <th>ContestEndDatetimeEST</th>\n",
       "      <th>ContestPayoutDatetimeEST</th>\n",
       "      <th>EntryFeeAmount</th>\n",
       "      <th>TotalPrizeAmount</th>\n",
       "      <th>MaxNumberPlayers</th>\n",
       "      <th>MaxEntriesPerUser</th>\n",
       "      <th>Entries</th>\n",
       "      <th>Contest_Group</th>\n",
       "      <th>NumGames</th>\n",
       "      <th>DraftablePlayersInSet</th>\n",
       "      <th>PaidUsersInDraftGroup</th>\n",
       "      <th>TopPrize</th>\n",
       "      <th>MaxPayoutPosition</th>\n",
       "    </tr>\n",
       "    <tr>\n",
       "      <th>ContestId</th>\n",
       "      <th></th>\n",
       "      <th></th>\n",
       "      <th></th>\n",
       "      <th></th>\n",
       "      <th></th>\n",
       "      <th></th>\n",
       "      <th></th>\n",
       "      <th></th>\n",
       "      <th></th>\n",
       "      <th></th>\n",
       "      <th></th>\n",
       "      <th></th>\n",
       "      <th></th>\n",
       "      <th></th>\n",
       "      <th></th>\n",
       "      <th></th>\n",
       "    </tr>\n",
       "  </thead>\n",
       "  <tbody>\n",
       "    <tr>\n",
       "      <th>7963004</th>\n",
       "      <td>NFL</td>\n",
       "      <td>Classic</td>\n",
       "      <td>2015-09-13 13:00:00.000</td>\n",
       "      <td>2015-09-14 22:20:00.000</td>\n",
       "      <td>2015-09-15 02:27:24.000</td>\n",
       "      <td>0.25</td>\n",
       "      <td>25000.0</td>\n",
       "      <td>117500</td>\n",
       "      <td>100</td>\n",
       "      <td>117500.0</td>\n",
       "      <td>Headliner</td>\n",
       "      <td>15</td>\n",
       "      <td>910.0</td>\n",
       "      <td>668396</td>\n",
       "      <td>2000.0</td>\n",
       "      <td>23665</td>\n",
       "    </tr>\n",
       "    <tr>\n",
       "      <th>7963437</th>\n",
       "      <td>NFL</td>\n",
       "      <td>Classic</td>\n",
       "      <td>2015-09-13 13:00:00.000</td>\n",
       "      <td>2015-09-14 22:20:00.000</td>\n",
       "      <td>2015-09-15 02:27:24.000</td>\n",
       "      <td>2.00</td>\n",
       "      <td>25000.0</td>\n",
       "      <td>14375</td>\n",
       "      <td>100</td>\n",
       "      <td>14375.0</td>\n",
       "      <td>Booster</td>\n",
       "      <td>15</td>\n",
       "      <td>910.0</td>\n",
       "      <td>668396</td>\n",
       "      <td>20.0</td>\n",
       "      <td>1250</td>\n",
       "    </tr>\n",
       "    <tr>\n",
       "      <th>8296224</th>\n",
       "      <td>NFL</td>\n",
       "      <td>Classic</td>\n",
       "      <td>2015-09-13 13:00:00.000</td>\n",
       "      <td>2015-09-14 22:20:00.000</td>\n",
       "      <td>2015-09-15 02:27:24.000</td>\n",
       "      <td>100.00</td>\n",
       "      <td>5000.0</td>\n",
       "      <td>55</td>\n",
       "      <td>1</td>\n",
       "      <td>55.0</td>\n",
       "      <td>SingleEntry</td>\n",
       "      <td>15</td>\n",
       "      <td>910.0</td>\n",
       "      <td>668396</td>\n",
       "      <td>1100.0</td>\n",
       "      <td>11</td>\n",
       "    </tr>\n",
       "    <tr>\n",
       "      <th>8296544</th>\n",
       "      <td>NFL</td>\n",
       "      <td>Classic</td>\n",
       "      <td>2015-09-13 13:00:00.000</td>\n",
       "      <td>2015-09-14 22:20:00.000</td>\n",
       "      <td>2015-09-15 02:27:24.000</td>\n",
       "      <td>50.00</td>\n",
       "      <td>5000.0</td>\n",
       "      <td>111</td>\n",
       "      <td>11</td>\n",
       "      <td>111.0</td>\n",
       "      <td>FeaturedDoubleUp</td>\n",
       "      <td>15</td>\n",
       "      <td>910.0</td>\n",
       "      <td>668396</td>\n",
       "      <td>100.0</td>\n",
       "      <td>50</td>\n",
       "    </tr>\n",
       "    <tr>\n",
       "      <th>8494213</th>\n",
       "      <td>NFL</td>\n",
       "      <td>Classic</td>\n",
       "      <td>2015-09-13 13:00:00.000</td>\n",
       "      <td>2015-09-14 22:20:00.000</td>\n",
       "      <td>2015-09-15 02:27:24.000</td>\n",
       "      <td>5.00</td>\n",
       "      <td>300000.0</td>\n",
       "      <td>69000</td>\n",
       "      <td>200</td>\n",
       "      <td>57604.0</td>\n",
       "      <td>Headliner</td>\n",
       "      <td>15</td>\n",
       "      <td>910.0</td>\n",
       "      <td>668396</td>\n",
       "      <td>25000.0</td>\n",
       "      <td>13805</td>\n",
       "    </tr>\n",
       "  </tbody>\n",
       "</table>\n",
       "</div>"
      ],
      "text/plain": [
       "          SportName VariantName  ContestStartDatetimeEST  \\\n",
       "ContestId                                                  \n",
       "7963004         NFL     Classic  2015-09-13 13:00:00.000   \n",
       "7963437         NFL     Classic  2015-09-13 13:00:00.000   \n",
       "8296224         NFL     Classic  2015-09-13 13:00:00.000   \n",
       "8296544         NFL     Classic  2015-09-13 13:00:00.000   \n",
       "8494213         NFL     Classic  2015-09-13 13:00:00.000   \n",
       "\n",
       "             ContestEndDatetimeEST ContestPayoutDatetimeEST  EntryFeeAmount  \\\n",
       "ContestId                                                                     \n",
       "7963004    2015-09-14 22:20:00.000  2015-09-15 02:27:24.000            0.25   \n",
       "7963437    2015-09-14 22:20:00.000  2015-09-15 02:27:24.000            2.00   \n",
       "8296224    2015-09-14 22:20:00.000  2015-09-15 02:27:24.000          100.00   \n",
       "8296544    2015-09-14 22:20:00.000  2015-09-15 02:27:24.000           50.00   \n",
       "8494213    2015-09-14 22:20:00.000  2015-09-15 02:27:24.000            5.00   \n",
       "\n",
       "           TotalPrizeAmount  MaxNumberPlayers  MaxEntriesPerUser   Entries  \\\n",
       "ContestId                                                                    \n",
       "7963004             25000.0            117500                100  117500.0   \n",
       "7963437             25000.0             14375                100   14375.0   \n",
       "8296224              5000.0                55                  1      55.0   \n",
       "8296544              5000.0               111                 11     111.0   \n",
       "8494213            300000.0             69000                200   57604.0   \n",
       "\n",
       "              Contest_Group  NumGames  DraftablePlayersInSet  \\\n",
       "ContestId                                                      \n",
       "7963004           Headliner        15                  910.0   \n",
       "7963437             Booster        15                  910.0   \n",
       "8296224         SingleEntry        15                  910.0   \n",
       "8296544    FeaturedDoubleUp        15                  910.0   \n",
       "8494213           Headliner        15                  910.0   \n",
       "\n",
       "           PaidUsersInDraftGroup  TopPrize  MaxPayoutPosition  \n",
       "ContestId                                                      \n",
       "7963004                   668396    2000.0              23665  \n",
       "7963437                   668396      20.0               1250  \n",
       "8296224                   668396    1100.0                 11  \n",
       "8296544                   668396     100.0                 50  \n",
       "8494213                   668396   25000.0              13805  "
      ]
     },
     "execution_count": 4,
     "metadata": {},
     "output_type": "execute_result"
    }
   ],
   "source": [
    "contests.head()"
   ]
  },
  {
   "cell_type": "markdown",
   "metadata": {},
   "source": [
    "### Adding Threshold"
   ]
  },
  {
   "cell_type": "code",
   "execution_count": 5,
   "metadata": {},
   "outputs": [],
   "source": [
    "backup = contests"
   ]
  },
  {
   "cell_type": "code",
   "execution_count": 6,
   "metadata": {},
   "outputs": [],
   "source": [
    "contests = backup"
   ]
  },
  {
   "cell_type": "code",
   "execution_count": 7,
   "metadata": {},
   "outputs": [],
   "source": [
    "contests = contests.assign(SuccessThreshold= lambda x:(contests['TotalPrizeAmount'].astype(float)/(contests['EntryFeeAmount'].astype(float))).astype(int))"
   ]
  },
  {
   "cell_type": "markdown",
   "metadata": {},
   "source": [
    "### Adding Success (and removing Entries)"
   ]
  },
  {
   "cell_type": "code",
   "execution_count": 8,
   "metadata": {},
   "outputs": [],
   "source": [
    "contests = contests.assign(Success = lambda x: (x.Entries > x.SuccessThreshold).astype(float))"
   ]
  },
  {
   "cell_type": "code",
   "execution_count": 9,
   "metadata": {},
   "outputs": [],
   "source": [
    "contests = contests.drop(columns=['Entries'], axis=1)"
   ]
  },
  {
   "cell_type": "markdown",
   "metadata": {},
   "source": [
    "### Categorizing"
   ]
  },
  {
   "cell_type": "code",
   "execution_count": 10,
   "metadata": {},
   "outputs": [
    {
     "data": {
      "application/vnd.jupyter.widget-view+json": {
       "model_id": "9c2eaba8d5dc498992cb5697271c474c",
       "version_major": 2,
       "version_minor": 0
      },
      "text/plain": [
       "FloatProgress(value=0.0, max=3.0)"
      ]
     },
     "metadata": {},
     "output_type": "display_data"
    },
    {
     "name": "stdout",
     "output_type": "stream",
     "text": [
      "Categorizing SportName\n",
      "Categorizing VariantName\n",
      "Categorizing Contest_Group\n"
     ]
    }
   ],
   "source": [
    "categoricalFeatures = ['SportName', 'VariantName', 'Contest_Group']\n",
    "def categorizeFeature(df, name):\n",
    "    cats = {}\n",
    "    for cat in workingData[name].unique():\n",
    "        cats[name] = (str(name)+'_'+str(cat))\n",
    "        df = df.assign(newCol = lambda x: (df[name] == cat).astype(float)).rename(columns = {'newCol':cats[name]})    \n",
    "    df = df.drop(columns=[name], axis=1)\n",
    "    return df\n",
    "\n",
    "cBar = FloatProgress(min=0, max=len(categoricalFeatures))\n",
    "display(cBar)\n",
    "\n",
    "for f in categoricalFeatures:\n",
    "    cBar.value += 1\n",
    "#     print(\"Categorizing\", f)\n",
    "    contests = categorizeFeature(contests, f)"
   ]
  },
  {
   "cell_type": "code",
   "execution_count": 11,
   "metadata": {
    "scrolled": true
   },
   "outputs": [
    {
     "data": {
      "text/html": [
       "<div>\n",
       "<style scoped>\n",
       "    .dataframe tbody tr th:only-of-type {\n",
       "        vertical-align: middle;\n",
       "    }\n",
       "\n",
       "    .dataframe tbody tr th {\n",
       "        vertical-align: top;\n",
       "    }\n",
       "\n",
       "    .dataframe thead th {\n",
       "        text-align: right;\n",
       "    }\n",
       "</style>\n",
       "<table border=\"1\" class=\"dataframe\">\n",
       "  <thead>\n",
       "    <tr style=\"text-align: right;\">\n",
       "      <th></th>\n",
       "      <th>ContestStartDatetimeEST</th>\n",
       "      <th>ContestEndDatetimeEST</th>\n",
       "      <th>ContestPayoutDatetimeEST</th>\n",
       "      <th>EntryFeeAmount</th>\n",
       "      <th>TotalPrizeAmount</th>\n",
       "      <th>MaxNumberPlayers</th>\n",
       "      <th>MaxEntriesPerUser</th>\n",
       "      <th>NumGames</th>\n",
       "      <th>DraftablePlayersInSet</th>\n",
       "      <th>PaidUsersInDraftGroup</th>\n",
       "      <th>...</th>\n",
       "      <th>Contest_Group_MultiPlayer</th>\n",
       "      <th>Contest_Group_DoubleUp</th>\n",
       "      <th>Contest_Group_Satellite</th>\n",
       "      <th>Contest_Group_Qualifier</th>\n",
       "      <th>Contest_Group_50/50</th>\n",
       "      <th>Contest_Group_H2H</th>\n",
       "      <th>Contest_Group_LiveEvent</th>\n",
       "      <th>Contest_Group_3Max</th>\n",
       "      <th>Contest_Group_Multiplier</th>\n",
       "      <th>Contest_Group_DFSLeagues</th>\n",
       "    </tr>\n",
       "    <tr>\n",
       "      <th>ContestId</th>\n",
       "      <th></th>\n",
       "      <th></th>\n",
       "      <th></th>\n",
       "      <th></th>\n",
       "      <th></th>\n",
       "      <th></th>\n",
       "      <th></th>\n",
       "      <th></th>\n",
       "      <th></th>\n",
       "      <th></th>\n",
       "      <th></th>\n",
       "      <th></th>\n",
       "      <th></th>\n",
       "      <th></th>\n",
       "      <th></th>\n",
       "      <th></th>\n",
       "      <th></th>\n",
       "      <th></th>\n",
       "      <th></th>\n",
       "      <th></th>\n",
       "      <th></th>\n",
       "    </tr>\n",
       "  </thead>\n",
       "  <tbody>\n",
       "    <tr>\n",
       "      <th>7963004</th>\n",
       "      <td>2015-09-13 13:00:00.000</td>\n",
       "      <td>2015-09-14 22:20:00.000</td>\n",
       "      <td>2015-09-15 02:27:24.000</td>\n",
       "      <td>0.25</td>\n",
       "      <td>25000.0</td>\n",
       "      <td>117500</td>\n",
       "      <td>100</td>\n",
       "      <td>15</td>\n",
       "      <td>910.0</td>\n",
       "      <td>668396</td>\n",
       "      <td>...</td>\n",
       "      <td>0.0</td>\n",
       "      <td>0.0</td>\n",
       "      <td>0.0</td>\n",
       "      <td>0.0</td>\n",
       "      <td>0.0</td>\n",
       "      <td>0.0</td>\n",
       "      <td>0.0</td>\n",
       "      <td>0.0</td>\n",
       "      <td>0.0</td>\n",
       "      <td>0.0</td>\n",
       "    </tr>\n",
       "  </tbody>\n",
       "</table>\n",
       "<p>1 rows × 58 columns</p>\n",
       "</div>"
      ],
      "text/plain": [
       "           ContestStartDatetimeEST    ContestEndDatetimeEST  \\\n",
       "ContestId                                                     \n",
       "7963004    2015-09-13 13:00:00.000  2015-09-14 22:20:00.000   \n",
       "\n",
       "          ContestPayoutDatetimeEST  EntryFeeAmount  TotalPrizeAmount  \\\n",
       "ContestId                                                              \n",
       "7963004    2015-09-15 02:27:24.000            0.25           25000.0   \n",
       "\n",
       "           MaxNumberPlayers  MaxEntriesPerUser  NumGames  \\\n",
       "ContestId                                                  \n",
       "7963004              117500                100        15   \n",
       "\n",
       "           DraftablePlayersInSet  PaidUsersInDraftGroup  \\\n",
       "ContestId                                                 \n",
       "7963004                    910.0                 668396   \n",
       "\n",
       "                     ...             Contest_Group_MultiPlayer  \\\n",
       "ContestId            ...                                         \n",
       "7963004              ...                                   0.0   \n",
       "\n",
       "           Contest_Group_DoubleUp  Contest_Group_Satellite  \\\n",
       "ContestId                                                    \n",
       "7963004                       0.0                      0.0   \n",
       "\n",
       "           Contest_Group_Qualifier  Contest_Group_50/50  Contest_Group_H2H  \\\n",
       "ContestId                                                                    \n",
       "7963004                        0.0                  0.0                0.0   \n",
       "\n",
       "           Contest_Group_LiveEvent  Contest_Group_3Max  \\\n",
       "ContestId                                                \n",
       "7963004                        0.0                 0.0   \n",
       "\n",
       "           Contest_Group_Multiplier  Contest_Group_DFSLeagues  \n",
       "ContestId                                                      \n",
       "7963004                         0.0                       0.0  \n",
       "\n",
       "[1 rows x 58 columns]"
      ]
     },
     "execution_count": 11,
     "metadata": {},
     "output_type": "execute_result"
    }
   ],
   "source": [
    "contests.head(1)"
   ]
  },
  {
   "cell_type": "markdown",
   "metadata": {},
   "source": [
    "### Time"
   ]
  },
  {
   "cell_type": "code",
   "execution_count": 12,
   "metadata": {},
   "outputs": [],
   "source": [
    "backup = contests"
   ]
  },
  {
   "cell_type": "code",
   "execution_count": 13,
   "metadata": {
    "scrolled": true
   },
   "outputs": [
    {
     "data": {
      "application/vnd.jupyter.widget-view+json": {
       "model_id": "81fa944264154903a8697534e7433f6a",
       "version_major": 2,
       "version_minor": 0
      },
      "text/plain": [
       "FloatProgress(value=0.0, max=3.0)"
      ]
     },
     "metadata": {},
     "output_type": "display_data"
    }
   ],
   "source": [
    "contests = backup\n",
    "timeFeatures = ['ContestStartDatetimeEST', 'ContestEndDatetimeEST', 'ContestPayoutDatetimeEST']\n",
    "timeNames = ['_Minute', '_Hour', '_Day', '_Month', '_DayOfWeek', '_DayOfYear', '_WeekOfYear', '_Year']\n",
    "formatString = '%Y-%m-%d %H:%M:%S'\n",
    "\n",
    "def mapTime(df, name, colHeader):\n",
    "    df = df.assign(timeCol = lambda x: pd.to_datetime(df[name], format=formatString))\n",
    "    df[colHeader+'_Minute'] = df.timeCol.apply(lambda x: x.strftime('%M')).astype(float)\n",
    "    df[colHeader+'_Hour'] = df.timeCol.apply(lambda x: x.strftime('%H')).astype(float)\n",
    "    df[colHeader+'_Day'] = df.timeCol.apply(lambda x: x.strftime('%d')).astype(float)\n",
    "    df[colHeader+'_Month'] = df.timeCol.apply(lambda x: x.strftime('%m')).astype(float)\n",
    "    df[colHeader+'_DayOfWeek'] = df.timeCol.apply(lambda x: x.strftime('%w')).astype(float)\n",
    "    df[colHeader+'_DayOfYear'] = df.timeCol.apply(lambda x: x.strftime('%-j')).astype(float)\n",
    "    df[colHeader+'_WeekOfYear'] = df.timeCol.apply(lambda x: x.strftime('%U')).astype(float)\n",
    "    df[colHeader+'_Year'] = df.timeCol.apply(lambda x: x.strftime('%Y')).astype(float)\n",
    "\n",
    "    df = df.drop(columns = [name, 'timeCol'], axis=1)\n",
    "    return df\n",
    "\n",
    "\n",
    "def scaleTime(df, colHeader):\n",
    "    timeCols = []\n",
    "#     for c in \n",
    "    df[colHeader+'_Minute_Scaled'] = df[colHeader+'_Minute'].apply(lambda x: x/60)\n",
    "    df[colHeader+'_Hour_Scaled'] = df[colHeader+'_Hour'].apply(lambda x: x/24)\n",
    "    df[colHeader+'_Day_Scaled'] = df[colHeader+'_Day'].apply(lambda x: x/31)\n",
    "    df[colHeader+'_Month_Scaled'] = df[colHeader+'_Month'].apply(lambda x: x/12)\n",
    "    df[colHeader+'_DayOfWeek_Scaled'] = df[colHeader+'_DayOfWeek'].apply(lambda x: x/7)\n",
    "    df[colHeader+'_DayOfYear_Scaled'] = df[colHeader+'_DayOfYear'].apply(lambda x: x/365)\n",
    "    df[colHeader+'_WeekOfYear_Scaled'] = df[colHeader+'_WeekOfYear'].apply(lambda x: x/52)\n",
    "    df[colHeader+'_Year_Scaled'] = df[colHeader+'_Year'].apply(lambda x: (x-2000)/20)\n",
    "    \n",
    "    dropCols = []\n",
    "    for n in timeNames:\n",
    "        dropCols.append(colHeader+n)\n",
    "    df = df.drop(columns = dropCols, axis=1)\n",
    "    return df\n",
    "\n",
    "import math\n",
    "circularizeFeatures = ['_Minute_Scaled', '_Hour_Scaled', '_Day_Scaled', '_Month_Scaled', '_DayOfWeek_Scaled', '_DayOfYear_Scaled', '_WeekOfYear_Scaled']\n",
    "def circularizeTime(df, colHeader):\n",
    "    for f in circularizeFeatures:\n",
    "        fStr = f[:-len('Scaled')]\n",
    "        df = df.assign(X= lambda c: np.cos(df[colHeader+f]*2*math.pi)).assign(Y= lambda c: np.sin(df[colHeader+f]*2*math.pi))\n",
    "        df = df.rename(columns={'X': colHeader+fStr+'X', 'Y': colHeader+fStr+'Y'}).drop(columns=[colHeader+f], axis=1)\n",
    "    return df\n",
    "\n",
    "tBar = FloatProgress(min=0, max=len(timeFeatures))\n",
    "display(tBar)\n",
    "for f in timeFeatures:\n",
    "    newColHeader = f[len('Contest'):-len('DatetimeEST')]\n",
    "#     print(\"Time data from\", f)\n",
    "    contests = mapTime(contests, f, newColHeader)\n",
    "#     print(\"Scale times from\", f)\n",
    "    contests = scaleTime(contests, newColHeader)\n",
    "#     print(\"Splitting x,y times from\", f)\n",
    "    contests = circularizeTime(contests, newColHeader)\n",
    "    \n",
    "    tBar.value+=1"
   ]
  },
  {
   "cell_type": "markdown",
   "metadata": {},
   "source": [
    "### Time Series Data"
   ]
  },
  {
   "cell_type": "code",
   "execution_count": 14,
   "metadata": {},
   "outputs": [],
   "source": [
    "backup = contests"
   ]
  },
  {
   "cell_type": "code",
   "execution_count": null,
   "metadata": {},
   "outputs": [],
   "source": []
  },
  {
   "cell_type": "code",
   "execution_count": 15,
   "metadata": {
    "scrolled": true
   },
   "outputs": [
    {
     "data": {
      "text/html": [
       "<div>\n",
       "<style scoped>\n",
       "    .dataframe tbody tr th:only-of-type {\n",
       "        vertical-align: middle;\n",
       "    }\n",
       "\n",
       "    .dataframe tbody tr th {\n",
       "        vertical-align: top;\n",
       "    }\n",
       "\n",
       "    .dataframe thead th {\n",
       "        text-align: right;\n",
       "    }\n",
       "</style>\n",
       "<table border=\"1\" class=\"dataframe\">\n",
       "  <thead>\n",
       "    <tr style=\"text-align: right;\">\n",
       "      <th></th>\n",
       "      <th>EntryFeeAmount</th>\n",
       "      <th>TotalPrizeAmount</th>\n",
       "      <th>MaxNumberPlayers</th>\n",
       "      <th>MaxEntriesPerUser</th>\n",
       "      <th>NumGames</th>\n",
       "      <th>DraftablePlayersInSet</th>\n",
       "      <th>PaidUsersInDraftGroup</th>\n",
       "      <th>TopPrize</th>\n",
       "      <th>MaxPayoutPosition</th>\n",
       "      <th>SuccessThreshold</th>\n",
       "      <th>...</th>\n",
       "      <th>Payout_Day_X</th>\n",
       "      <th>Payout_Day_Y</th>\n",
       "      <th>Payout_Month_X</th>\n",
       "      <th>Payout_Month_Y</th>\n",
       "      <th>Payout_DayOfWeek_X</th>\n",
       "      <th>Payout_DayOfWeek_Y</th>\n",
       "      <th>Payout_DayOfYear_X</th>\n",
       "      <th>Payout_DayOfYear_Y</th>\n",
       "      <th>Payout_WeekOfYear_X</th>\n",
       "      <th>Payout_WeekOfYear_Y</th>\n",
       "    </tr>\n",
       "    <tr>\n",
       "      <th>ContestId</th>\n",
       "      <th></th>\n",
       "      <th></th>\n",
       "      <th></th>\n",
       "      <th></th>\n",
       "      <th></th>\n",
       "      <th></th>\n",
       "      <th></th>\n",
       "      <th></th>\n",
       "      <th></th>\n",
       "      <th></th>\n",
       "      <th></th>\n",
       "      <th></th>\n",
       "      <th></th>\n",
       "      <th></th>\n",
       "      <th></th>\n",
       "      <th></th>\n",
       "      <th></th>\n",
       "      <th></th>\n",
       "      <th></th>\n",
       "      <th></th>\n",
       "      <th></th>\n",
       "    </tr>\n",
       "  </thead>\n",
       "  <tbody>\n",
       "    <tr>\n",
       "      <th>7963004</th>\n",
       "      <td>0.25</td>\n",
       "      <td>25000.0</td>\n",
       "      <td>117500</td>\n",
       "      <td>100</td>\n",
       "      <td>15</td>\n",
       "      <td>910.0</td>\n",
       "      <td>668396</td>\n",
       "      <td>2000.0</td>\n",
       "      <td>23665</td>\n",
       "      <td>100000</td>\n",
       "      <td>...</td>\n",
       "      <td>-0.994869</td>\n",
       "      <td>0.101168</td>\n",
       "      <td>-1.836970e-16</td>\n",
       "      <td>-1.0</td>\n",
       "      <td>-0.222521</td>\n",
       "      <td>0.974928</td>\n",
       "      <td>-0.267814</td>\n",
       "      <td>-0.963471</td>\n",
       "      <td>-0.239316</td>\n",
       "      <td>-0.970942</td>\n",
       "    </tr>\n",
       "    <tr>\n",
       "      <th>7963437</th>\n",
       "      <td>2.00</td>\n",
       "      <td>25000.0</td>\n",
       "      <td>14375</td>\n",
       "      <td>100</td>\n",
       "      <td>15</td>\n",
       "      <td>910.0</td>\n",
       "      <td>668396</td>\n",
       "      <td>20.0</td>\n",
       "      <td>1250</td>\n",
       "      <td>12500</td>\n",
       "      <td>...</td>\n",
       "      <td>-0.994869</td>\n",
       "      <td>0.101168</td>\n",
       "      <td>-1.836970e-16</td>\n",
       "      <td>-1.0</td>\n",
       "      <td>-0.222521</td>\n",
       "      <td>0.974928</td>\n",
       "      <td>-0.267814</td>\n",
       "      <td>-0.963471</td>\n",
       "      <td>-0.239316</td>\n",
       "      <td>-0.970942</td>\n",
       "    </tr>\n",
       "    <tr>\n",
       "      <th>8296224</th>\n",
       "      <td>100.00</td>\n",
       "      <td>5000.0</td>\n",
       "      <td>55</td>\n",
       "      <td>1</td>\n",
       "      <td>15</td>\n",
       "      <td>910.0</td>\n",
       "      <td>668396</td>\n",
       "      <td>1100.0</td>\n",
       "      <td>11</td>\n",
       "      <td>50</td>\n",
       "      <td>...</td>\n",
       "      <td>-0.994869</td>\n",
       "      <td>0.101168</td>\n",
       "      <td>-1.836970e-16</td>\n",
       "      <td>-1.0</td>\n",
       "      <td>-0.222521</td>\n",
       "      <td>0.974928</td>\n",
       "      <td>-0.267814</td>\n",
       "      <td>-0.963471</td>\n",
       "      <td>-0.239316</td>\n",
       "      <td>-0.970942</td>\n",
       "    </tr>\n",
       "    <tr>\n",
       "      <th>8296544</th>\n",
       "      <td>50.00</td>\n",
       "      <td>5000.0</td>\n",
       "      <td>111</td>\n",
       "      <td>11</td>\n",
       "      <td>15</td>\n",
       "      <td>910.0</td>\n",
       "      <td>668396</td>\n",
       "      <td>100.0</td>\n",
       "      <td>50</td>\n",
       "      <td>100</td>\n",
       "      <td>...</td>\n",
       "      <td>-0.994869</td>\n",
       "      <td>0.101168</td>\n",
       "      <td>-1.836970e-16</td>\n",
       "      <td>-1.0</td>\n",
       "      <td>-0.222521</td>\n",
       "      <td>0.974928</td>\n",
       "      <td>-0.267814</td>\n",
       "      <td>-0.963471</td>\n",
       "      <td>-0.239316</td>\n",
       "      <td>-0.970942</td>\n",
       "    </tr>\n",
       "    <tr>\n",
       "      <th>8494213</th>\n",
       "      <td>5.00</td>\n",
       "      <td>300000.0</td>\n",
       "      <td>69000</td>\n",
       "      <td>200</td>\n",
       "      <td>15</td>\n",
       "      <td>910.0</td>\n",
       "      <td>668396</td>\n",
       "      <td>25000.0</td>\n",
       "      <td>13805</td>\n",
       "      <td>60000</td>\n",
       "      <td>...</td>\n",
       "      <td>-0.994869</td>\n",
       "      <td>0.101168</td>\n",
       "      <td>-1.836970e-16</td>\n",
       "      <td>-1.0</td>\n",
       "      <td>-0.222521</td>\n",
       "      <td>0.974928</td>\n",
       "      <td>-0.267814</td>\n",
       "      <td>-0.963471</td>\n",
       "      <td>-0.239316</td>\n",
       "      <td>-0.970942</td>\n",
       "    </tr>\n",
       "  </tbody>\n",
       "</table>\n",
       "<p>5 rows × 100 columns</p>\n",
       "</div>"
      ],
      "text/plain": [
       "           EntryFeeAmount  TotalPrizeAmount  MaxNumberPlayers  \\\n",
       "ContestId                                                       \n",
       "7963004              0.25           25000.0            117500   \n",
       "7963437              2.00           25000.0             14375   \n",
       "8296224            100.00            5000.0                55   \n",
       "8296544             50.00            5000.0               111   \n",
       "8494213              5.00          300000.0             69000   \n",
       "\n",
       "           MaxEntriesPerUser  NumGames  DraftablePlayersInSet  \\\n",
       "ContestId                                                       \n",
       "7963004                  100        15                  910.0   \n",
       "7963437                  100        15                  910.0   \n",
       "8296224                    1        15                  910.0   \n",
       "8296544                   11        15                  910.0   \n",
       "8494213                  200        15                  910.0   \n",
       "\n",
       "           PaidUsersInDraftGroup  TopPrize  MaxPayoutPosition  \\\n",
       "ContestId                                                       \n",
       "7963004                   668396    2000.0              23665   \n",
       "7963437                   668396      20.0               1250   \n",
       "8296224                   668396    1100.0                 11   \n",
       "8296544                   668396     100.0                 50   \n",
       "8494213                   668396   25000.0              13805   \n",
       "\n",
       "           SuccessThreshold         ...           Payout_Day_X  Payout_Day_Y  \\\n",
       "ContestId                           ...                                        \n",
       "7963004              100000         ...              -0.994869      0.101168   \n",
       "7963437               12500         ...              -0.994869      0.101168   \n",
       "8296224                  50         ...              -0.994869      0.101168   \n",
       "8296544                 100         ...              -0.994869      0.101168   \n",
       "8494213               60000         ...              -0.994869      0.101168   \n",
       "\n",
       "           Payout_Month_X  Payout_Month_Y  Payout_DayOfWeek_X  \\\n",
       "ContestId                                                       \n",
       "7963004     -1.836970e-16            -1.0           -0.222521   \n",
       "7963437     -1.836970e-16            -1.0           -0.222521   \n",
       "8296224     -1.836970e-16            -1.0           -0.222521   \n",
       "8296544     -1.836970e-16            -1.0           -0.222521   \n",
       "8494213     -1.836970e-16            -1.0           -0.222521   \n",
       "\n",
       "           Payout_DayOfWeek_Y  Payout_DayOfYear_X  Payout_DayOfYear_Y  \\\n",
       "ContestId                                                               \n",
       "7963004              0.974928           -0.267814           -0.963471   \n",
       "7963437              0.974928           -0.267814           -0.963471   \n",
       "8296224              0.974928           -0.267814           -0.963471   \n",
       "8296544              0.974928           -0.267814           -0.963471   \n",
       "8494213              0.974928           -0.267814           -0.963471   \n",
       "\n",
       "           Payout_WeekOfYear_X  Payout_WeekOfYear_Y  \n",
       "ContestId                                            \n",
       "7963004              -0.239316            -0.970942  \n",
       "7963437              -0.239316            -0.970942  \n",
       "8296224              -0.239316            -0.970942  \n",
       "8296544              -0.239316            -0.970942  \n",
       "8494213              -0.239316            -0.970942  \n",
       "\n",
       "[5 rows x 100 columns]"
      ]
     },
     "execution_count": 15,
     "metadata": {},
     "output_type": "execute_result"
    }
   ],
   "source": [
    "contests.head()"
   ]
  },
  {
   "cell_type": "markdown",
   "metadata": {},
   "source": [
    "### Scale Features"
   ]
  },
  {
   "cell_type": "code",
   "execution_count": 16,
   "metadata": {},
   "outputs": [],
   "source": [
    "scaleFeatures = ['EntryFeeAmount', 'TotalPrizeAmount', 'MaxNumberPlayers', 'MaxEntriesPerUser', 'NumGames', 'DraftablePlayersInSet', 'PaidUsersInDraftGroup', 'TopPrize', 'MaxPayoutPosition', 'SuccessThreshold']"
   ]
  },
  {
   "cell_type": "code",
   "execution_count": 17,
   "metadata": {},
   "outputs": [],
   "source": [
    "contests = backup[:]"
   ]
  },
  {
   "cell_type": "code",
   "execution_count": 18,
   "metadata": {},
   "outputs": [],
   "source": [
    "def scaleFeature(df, name):\n",
    "    minVal = df[name].min()\n",
    "    maxVal = df[name].max()\n",
    "    return df.assign(newCol=lambda x: (x[name]-df[name].min())/(df[name].max()-df[name].min())).rename(columns={'newCol': name+'_Scaled'}).drop(columns=[name], axis=1)"
   ]
  },
  {
   "cell_type": "code",
   "execution_count": 19,
   "metadata": {
    "scrolled": false
   },
   "outputs": [
    {
     "data": {
      "application/vnd.jupyter.widget-view+json": {
       "model_id": "38c302fd674b4363b0924a499a55709f",
       "version_major": 2,
       "version_minor": 0
      },
      "text/plain": [
       "FloatProgress(value=0.0, max=3.0)"
      ]
     },
     "metadata": {},
     "output_type": "display_data"
    },
    {
     "name": "stdout",
     "output_type": "stream",
     "text": [
      "Scaling EntryFeeAmount\n",
      "Scaling TotalPrizeAmount\n",
      "Scaling MaxNumberPlayers\n",
      "Scaling MaxEntriesPerUser\n",
      "Scaling NumGames\n",
      "Scaling DraftablePlayersInSet\n",
      "Scaling PaidUsersInDraftGroup\n",
      "Scaling TopPrize\n",
      "Scaling MaxPayoutPosition\n",
      "Scaling SuccessThreshold\n"
     ]
    }
   ],
   "source": [
    "sBar = FloatProgress(min=0, max=len(timeFeatures))\n",
    "display(sBar)\n",
    "\n",
    "for f in scaleFeatures:\n",
    "    print('Scaling', f)\n",
    "    contests = scaleFeature(contests, f)\n",
    "    sBar.value +=1"
   ]
  },
  {
   "cell_type": "markdown",
   "metadata": {},
   "source": [
    "### Summary and Saving"
   ]
  },
  {
   "cell_type": "code",
   "execution_count": 21,
   "metadata": {},
   "outputs": [
    {
     "name": "stdout",
     "output_type": "stream",
     "text": [
      "Success\n",
      "SportName_NFL\n",
      "SportName_PGA\n",
      "SportName_SOCC\n",
      "SportName_MLB\n",
      "SportName_NAS\n",
      "SportName_CFB\n",
      "SportName_MMA\n",
      "SportName_LOL\n",
      "SportName_NHL\n",
      "SportName_NBA\n",
      "SportName_SOC\n",
      "SportName_CBB\n",
      "SportName_GOLF\n",
      "SportName_CFL\n",
      "SportName_EL\n",
      "SportName_TEN\n",
      "VariantName_Classic\n",
      "VariantName_Weekend\n",
      "VariantName_Arcade\n",
      "VariantName_WNBA\n",
      "VariantName_Tiers\n",
      "VariantName_Playoff Arcade\n",
      "VariantName_Late Swap\n",
      "VariantName_Final Series\n",
      "VariantName_Tiers Late Swap\n",
      "VariantName_Showdown\n",
      "VariantName_Match Play\n",
      "VariantName_Showdown Captain Mode\n",
      "VariantName_Lowball\n",
      "VariantName_Single Match\n",
      "Contest_Group_Headliner\n",
      "Contest_Group_Booster\n",
      "Contest_Group_SingleEntry\n",
      "Contest_Group_FeaturedDoubleUp\n",
      "Contest_Group_MultiPlayer\n",
      "Contest_Group_DoubleUp\n",
      "Contest_Group_Satellite\n",
      "Contest_Group_Qualifier\n",
      "Contest_Group_50/50\n",
      "Contest_Group_H2H\n",
      "Contest_Group_LiveEvent\n",
      "Contest_Group_3Max\n",
      "Contest_Group_Multiplier\n",
      "Contest_Group_DFSLeagues\n",
      "Start_Year_Scaled\n",
      "Start_Minute_X\n",
      "Start_Minute_Y\n",
      "Start_Hour_X\n",
      "Start_Hour_Y\n",
      "Start_Day_X\n",
      "Start_Day_Y\n",
      "Start_Month_X\n",
      "Start_Month_Y\n",
      "Start_DayOfWeek_X\n",
      "Start_DayOfWeek_Y\n",
      "Start_DayOfYear_X\n",
      "Start_DayOfYear_Y\n",
      "Start_WeekOfYear_X\n",
      "Start_WeekOfYear_Y\n",
      "End_Year_Scaled\n",
      "End_Minute_X\n",
      "End_Minute_Y\n",
      "End_Hour_X\n",
      "End_Hour_Y\n",
      "End_Day_X\n",
      "End_Day_Y\n",
      "End_Month_X\n",
      "End_Month_Y\n",
      "End_DayOfWeek_X\n",
      "End_DayOfWeek_Y\n",
      "End_DayOfYear_X\n",
      "End_DayOfYear_Y\n",
      "End_WeekOfYear_X\n",
      "End_WeekOfYear_Y\n",
      "Payout_Year_Scaled\n",
      "Payout_Minute_X\n",
      "Payout_Minute_Y\n",
      "Payout_Hour_X\n",
      "Payout_Hour_Y\n",
      "Payout_Day_X\n",
      "Payout_Day_Y\n",
      "Payout_Month_X\n",
      "Payout_Month_Y\n",
      "Payout_DayOfWeek_X\n",
      "Payout_DayOfWeek_Y\n",
      "Payout_DayOfYear_X\n",
      "Payout_DayOfYear_Y\n",
      "Payout_WeekOfYear_X\n",
      "Payout_WeekOfYear_Y\n",
      "EntryFeeAmount_Scaled\n",
      "TotalPrizeAmount_Scaled\n",
      "MaxNumberPlayers_Scaled\n",
      "MaxEntriesPerUser_Scaled\n",
      "NumGames_Scaled\n",
      "DraftablePlayersInSet_Scaled\n",
      "PaidUsersInDraftGroup_Scaled\n",
      "TopPrize_Scaled\n",
      "MaxPayoutPosition_Scaled\n",
      "SuccessThreshold_Scaled\n"
     ]
    }
   ],
   "source": [
    "for c in contests.columns:\n",
    "    print(c)"
   ]
  },
  {
   "cell_type": "code",
   "execution_count": 22,
   "metadata": {},
   "outputs": [],
   "source": [
    "# contests.to_csv(\"data/WorkedData.csv\")\n"
   ]
  },
  {
   "cell_type": "code",
   "execution_count": 27,
   "metadata": {},
   "outputs": [],
   "source": [
    "successes = len(contests.loc[contests['Success'] == 1])\n",
    "fails = len(contests.loc[contests['Success'] == 0])"
   ]
  },
  {
   "cell_type": "code",
   "execution_count": 28,
   "metadata": {},
   "outputs": [
    {
     "name": "stdout",
     "output_type": "stream",
     "text": [
      "Successes: 355740\n",
      "Fails: 16471\n"
     ]
    }
   ],
   "source": [
    "print(\"Successes:\", successes)\n",
    "print(\"Fails:\", fails)"
   ]
  },
  {
   "cell_type": "code",
   "execution_count": 29,
   "metadata": {},
   "outputs": [
    {
     "data": {
      "text/plain": [
       "0.04425178191939518"
      ]
     },
     "execution_count": 29,
     "metadata": {},
     "output_type": "execute_result"
    }
   ],
   "source": [
    "fails/(successes+fails)"
   ]
  },
  {
   "cell_type": "code",
   "execution_count": null,
   "metadata": {},
   "outputs": [],
   "source": []
  }
 ],
 "metadata": {
  "kernelspec": {
   "display_name": "Python 3",
   "language": "python",
   "name": "python3"
  },
  "language_info": {
   "codemirror_mode": {
    "name": "ipython",
    "version": 3
   },
   "file_extension": ".py",
   "mimetype": "text/x-python",
   "name": "python",
   "nbconvert_exporter": "python",
   "pygments_lexer": "ipython3",
   "version": "3.6.5"
  }
 },
 "nbformat": 4,
 "nbformat_minor": 2
}

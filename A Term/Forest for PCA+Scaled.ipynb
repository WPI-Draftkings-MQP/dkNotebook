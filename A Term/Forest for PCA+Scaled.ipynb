{
 "cells": [
  {
   "cell_type": "code",
   "execution_count": 1,
   "metadata": {},
   "outputs": [],
   "source": [
    "import pandas as pd\n",
    "import matplotlib.pyplot as plt\n",
    "import numpy as np\n",
    "import random\n",
    "from sklearn.ensemble import RandomForestClassifier\n",
    "from sklearn.metrics import accuracy_score\n",
    "from sklearn.metrics import confusion_matrix"
   ]
  },
  {
   "cell_type": "code",
   "execution_count": 2,
   "metadata": {},
   "outputs": [],
   "source": [
    "from ipywidgets import FloatProgress\n",
    "from IPython.display import display\n",
    "import time"
   ]
  },
  {
   "cell_type": "code",
   "execution_count": 3,
   "metadata": {},
   "outputs": [],
   "source": [
    "rawContests = pd.read_csv('data/WorkingData.csv').set_index('ContestId')\n",
    "expensiveContests = rawContests.loc[rawContests['TotalPrizeAmount']> 100000][[]]"
   ]
  },
  {
   "cell_type": "code",
   "execution_count": 4,
   "metadata": {},
   "outputs": [
    {
     "data": {
      "text/html": [
       "<div>\n",
       "<style scoped>\n",
       "    .dataframe tbody tr th:only-of-type {\n",
       "        vertical-align: middle;\n",
       "    }\n",
       "\n",
       "    .dataframe tbody tr th {\n",
       "        vertical-align: top;\n",
       "    }\n",
       "\n",
       "    .dataframe thead th {\n",
       "        text-align: right;\n",
       "    }\n",
       "</style>\n",
       "<table border=\"1\" class=\"dataframe\">\n",
       "  <thead>\n",
       "    <tr style=\"text-align: right;\">\n",
       "      <th></th>\n",
       "      <th>Success</th>\n",
       "      <th>SportName_NFL</th>\n",
       "      <th>SportName_PGA</th>\n",
       "      <th>SportName_SOCC</th>\n",
       "      <th>SportName_MLB</th>\n",
       "      <th>SportName_NAS</th>\n",
       "      <th>SportName_CFB</th>\n",
       "      <th>SportName_MMA</th>\n",
       "      <th>SportName_LOL</th>\n",
       "      <th>SportName_NHL</th>\n",
       "      <th>...</th>\n",
       "      <th>EntryFeeAmount_Scaled</th>\n",
       "      <th>TotalPrizeAmount_Scaled</th>\n",
       "      <th>MaxNumberPlayers_Scaled</th>\n",
       "      <th>MaxEntriesPerUser_Scaled</th>\n",
       "      <th>NumGames_Scaled</th>\n",
       "      <th>DraftablePlayersInSet_Scaled</th>\n",
       "      <th>PaidUsersInDraftGroup_Scaled</th>\n",
       "      <th>TopPrize_Scaled</th>\n",
       "      <th>MaxPayoutPosition_Scaled</th>\n",
       "      <th>SuccessThreshold_Scaled</th>\n",
       "    </tr>\n",
       "    <tr>\n",
       "      <th>ContestId</th>\n",
       "      <th></th>\n",
       "      <th></th>\n",
       "      <th></th>\n",
       "      <th></th>\n",
       "      <th></th>\n",
       "      <th></th>\n",
       "      <th></th>\n",
       "      <th></th>\n",
       "      <th></th>\n",
       "      <th></th>\n",
       "      <th></th>\n",
       "      <th></th>\n",
       "      <th></th>\n",
       "      <th></th>\n",
       "      <th></th>\n",
       "      <th></th>\n",
       "      <th></th>\n",
       "      <th></th>\n",
       "      <th></th>\n",
       "      <th></th>\n",
       "      <th></th>\n",
       "    </tr>\n",
       "  </thead>\n",
       "  <tbody>\n",
       "    <tr>\n",
       "      <th>7963004</th>\n",
       "      <td>1.0</td>\n",
       "      <td>1.0</td>\n",
       "      <td>0.0</td>\n",
       "      <td>0.0</td>\n",
       "      <td>0.0</td>\n",
       "      <td>0.0</td>\n",
       "      <td>0.0</td>\n",
       "      <td>0.0</td>\n",
       "      <td>0.0</td>\n",
       "      <td>0.0</td>\n",
       "      <td>...</td>\n",
       "      <td>0.000005</td>\n",
       "      <td>0.0025</td>\n",
       "      <td>0.14981</td>\n",
       "      <td>9.900000e-08</td>\n",
       "      <td>0.222222</td>\n",
       "      <td>0.582524</td>\n",
       "      <td>0.891705</td>\n",
       "      <td>0.000999</td>\n",
       "      <td>0.122835</td>\n",
       "      <td>0.149999</td>\n",
       "    </tr>\n",
       "  </tbody>\n",
       "</table>\n",
       "<p>1 rows × 100 columns</p>\n",
       "</div>"
      ],
      "text/plain": [
       "           Success  SportName_NFL  SportName_PGA  SportName_SOCC  \\\n",
       "ContestId                                                          \n",
       "7963004        1.0            1.0            0.0             0.0   \n",
       "\n",
       "           SportName_MLB  SportName_NAS  SportName_CFB  SportName_MMA  \\\n",
       "ContestId                                                               \n",
       "7963004              0.0            0.0            0.0            0.0   \n",
       "\n",
       "           SportName_LOL  SportName_NHL           ...             \\\n",
       "ContestId                                         ...              \n",
       "7963004              0.0            0.0           ...              \n",
       "\n",
       "           EntryFeeAmount_Scaled  TotalPrizeAmount_Scaled  \\\n",
       "ContestId                                                   \n",
       "7963004                 0.000005                   0.0025   \n",
       "\n",
       "           MaxNumberPlayers_Scaled  MaxEntriesPerUser_Scaled  NumGames_Scaled  \\\n",
       "ContestId                                                                       \n",
       "7963004                    0.14981              9.900000e-08         0.222222   \n",
       "\n",
       "           DraftablePlayersInSet_Scaled  PaidUsersInDraftGroup_Scaled  \\\n",
       "ContestId                                                               \n",
       "7963004                        0.582524                      0.891705   \n",
       "\n",
       "           TopPrize_Scaled  MaxPayoutPosition_Scaled  SuccessThreshold_Scaled  \n",
       "ContestId                                                                      \n",
       "7963004           0.000999                  0.122835                 0.149999  \n",
       "\n",
       "[1 rows x 100 columns]"
      ]
     },
     "execution_count": 4,
     "metadata": {},
     "output_type": "execute_result"
    }
   ],
   "source": [
    "contests = pd.read_csv('data/PCA_EVERYTHING.csv').set_index('ContestId')\n",
    "workedData = pd.read_csv('data/WorkedData.csv').set_index('ContestId')\n",
    "\n",
    "workedData.head(1)"
   ]
  },
  {
   "cell_type": "code",
   "execution_count": 5,
   "metadata": {},
   "outputs": [
    {
     "data": {
      "text/html": [
       "<div>\n",
       "<style scoped>\n",
       "    .dataframe tbody tr th:only-of-type {\n",
       "        vertical-align: middle;\n",
       "    }\n",
       "\n",
       "    .dataframe tbody tr th {\n",
       "        vertical-align: top;\n",
       "    }\n",
       "\n",
       "    .dataframe thead th {\n",
       "        text-align: right;\n",
       "    }\n",
       "</style>\n",
       "<table border=\"1\" class=\"dataframe\">\n",
       "  <thead>\n",
       "    <tr style=\"text-align: right;\">\n",
       "      <th></th>\n",
       "      <th>Success</th>\n",
       "      <th>principal component 1</th>\n",
       "      <th>principal component 2</th>\n",
       "      <th>principal component 3</th>\n",
       "    </tr>\n",
       "    <tr>\n",
       "      <th>ContestId</th>\n",
       "      <th></th>\n",
       "      <th></th>\n",
       "      <th></th>\n",
       "      <th></th>\n",
       "    </tr>\n",
       "  </thead>\n",
       "  <tbody>\n",
       "    <tr>\n",
       "      <th>24567084</th>\n",
       "      <td>0.0</td>\n",
       "      <td>2.071823e+07</td>\n",
       "      <td>-1.235748</td>\n",
       "      <td>0.545033</td>\n",
       "    </tr>\n",
       "    <tr>\n",
       "      <th>24567089</th>\n",
       "      <td>1.0</td>\n",
       "      <td>2.071822e+07</td>\n",
       "      <td>-1.280345</td>\n",
       "      <td>0.976134</td>\n",
       "    </tr>\n",
       "    <tr>\n",
       "      <th>24567090</th>\n",
       "      <td>0.0</td>\n",
       "      <td>2.071822e+07</td>\n",
       "      <td>-1.223384</td>\n",
       "      <td>0.403065</td>\n",
       "    </tr>\n",
       "    <tr>\n",
       "      <th>24567091</th>\n",
       "      <td>0.0</td>\n",
       "      <td>2.071822e+07</td>\n",
       "      <td>-1.234668</td>\n",
       "      <td>0.548913</td>\n",
       "    </tr>\n",
       "    <tr>\n",
       "      <th>24567093</th>\n",
       "      <td>0.0</td>\n",
       "      <td>2.071822e+07</td>\n",
       "      <td>-1.248919</td>\n",
       "      <td>0.562719</td>\n",
       "    </tr>\n",
       "  </tbody>\n",
       "</table>\n",
       "</div>"
      ],
      "text/plain": [
       "           Success  principal component 1  principal component 2  \\\n",
       "ContestId                                                          \n",
       "24567084       0.0           2.071823e+07              -1.235748   \n",
       "24567089       1.0           2.071822e+07              -1.280345   \n",
       "24567090       0.0           2.071822e+07              -1.223384   \n",
       "24567091       0.0           2.071822e+07              -1.234668   \n",
       "24567093       0.0           2.071822e+07              -1.248919   \n",
       "\n",
       "           principal component 3  \n",
       "ContestId                         \n",
       "24567084                0.545033  \n",
       "24567089                0.976134  \n",
       "24567090                0.403065  \n",
       "24567091                0.548913  \n",
       "24567093                0.562719  "
      ]
     },
     "execution_count": 5,
     "metadata": {},
     "output_type": "execute_result"
    }
   ],
   "source": [
    "contests.head()"
   ]
  },
  {
   "cell_type": "code",
   "execution_count": 6,
   "metadata": {},
   "outputs": [],
   "source": [
    "contests = pd.merge(contests, workedData.drop(columns=['Success'], axis=1), on=\"ContestId\", how='left').dropna()"
   ]
  },
  {
   "cell_type": "code",
   "execution_count": 7,
   "metadata": {},
   "outputs": [],
   "source": [
    "# contests = workedData"
   ]
  },
  {
   "cell_type": "code",
   "execution_count": 8,
   "metadata": {},
   "outputs": [
    {
     "data": {
      "text/plain": [
       "58462"
      ]
     },
     "execution_count": 8,
     "metadata": {},
     "output_type": "execute_result"
    }
   ],
   "source": [
    "len(contests)"
   ]
  },
  {
   "cell_type": "code",
   "execution_count": 9,
   "metadata": {},
   "outputs": [
    {
     "data": {
      "text/plain": [
       "0.9467517361705039"
      ]
     },
     "execution_count": 9,
     "metadata": {},
     "output_type": "execute_result"
    }
   ],
   "source": [
    "numFail = len(contests.loc[contests['Success']==0])\n",
    "percent = numFail/len(contests)\n",
    "1-percent"
   ]
  },
  {
   "cell_type": "code",
   "execution_count": 10,
   "metadata": {},
   "outputs": [
    {
     "data": {
      "text/plain": [
       "58462"
      ]
     },
     "execution_count": 10,
     "metadata": {},
     "output_type": "execute_result"
    }
   ],
   "source": [
    "CLF_contests = contests.loc[:].dropna()\n",
    "len(CLF_contests)"
   ]
  },
  {
   "cell_type": "code",
   "execution_count": 11,
   "metadata": {},
   "outputs": [],
   "source": [
    "# CLF_contests['USE_FOR_BALANCE'] = np.random.uniform(0, 1, len(CLF_contests)) <= percent\n",
    "# CLF_contests = CLF_contests.loc[(CLF_contests[\"USE_FOR_BALANCE\"] == True) | (CLF_contests[\"Success\"] == 0)]\n",
    "# CLF_Features = CLF_contests.columns"
   ]
  },
  {
   "cell_type": "code",
   "execution_count": 12,
   "metadata": {},
   "outputs": [],
   "source": [
    "CLF_Features= CLF_contests.columns.drop('Success')\n",
    "# CLF_Features = CLF_Features.drop('USE_FOR_BALANCE')"
   ]
  },
  {
   "cell_type": "code",
   "execution_count": 13,
   "metadata": {},
   "outputs": [
    {
     "name": "stdout",
     "output_type": "stream",
     "text": [
      "Number of observations in the training data: 43869\n",
      "Number of observations in the test data: 14593\n"
     ]
    }
   ],
   "source": [
    "CLF_contests['is_train'] = np.random.uniform(0, 1, len(CLF_contests)) <= .75\n",
    "train, test = CLF_contests[CLF_contests['is_train']==True], CLF_contests[CLF_contests['is_train']==False]\n",
    "print('Number of observations in the training data:', len(train))\n",
    "print('Number of observations in the test data:',len(test))"
   ]
  },
  {
   "cell_type": "code",
   "execution_count": 26,
   "metadata": {},
   "outputs": [],
   "source": [
    "def getSample(df, numSamples):\n",
    "    successes = df.loc[df['Success']==1][[]]\n",
    "    fails = df.loc[df['Success']==0][[]]\n",
    "#     print(len(fails)) \n",
    "    subSuccess = successes.sample(numSamples)\n",
    "    subFail = fails.sample(numSamples)\n",
    "    allSub = subSuccess.append(subFail)\n",
    "    newDF = pd.merge(allSub, df, on='ContestId', how='left').dropna()\n",
    "    return newDF"
   ]
  },
  {
   "cell_type": "code",
   "execution_count": 27,
   "metadata": {},
   "outputs": [],
   "source": [
    "numForests = 200\n",
    "clfs = []\n",
    "clfPreds = []\n",
    "preds = []\n",
    "numTrains = 800"
   ]
  },
  {
   "cell_type": "code",
   "execution_count": 28,
   "metadata": {},
   "outputs": [
    {
     "data": {
      "application/vnd.jupyter.widget-view+json": {
       "model_id": "e75543069a304766a3880469b974fffb",
       "version_major": 2,
       "version_minor": 0
      },
      "text/plain": [
       "FloatProgress(value=0.0, max=200.0)"
      ]
     },
     "metadata": {},
     "output_type": "display_data"
    }
   ],
   "source": [
    "actual = test['Success']\n",
    "f = FloatProgress(min=0, max=numForests)\n",
    "display(f)\n",
    "for i in range(numForests):\n",
    "    subTrain = getSample(train, numTrains)\n",
    "    y = subTrain['Success']\n",
    "    clfs.append(RandomForestClassifier(n_jobs=2, n_estimators=30, random_state=i))\n",
    "    clfs[i].fit(subTrain[CLF_Features], y)\n",
    "    clfPreds.append(clfs[i].predict(test[CLF_Features]))\n",
    "    f.value += 1\n"
   ]
  },
  {
   "cell_type": "code",
   "execution_count": 29,
   "metadata": {},
   "outputs": [],
   "source": [
    "for c in range(len(test)):\n",
    "    val = 0\n",
    "    for i in range(numForests):\n",
    "        val = val + clfPreds[i][c]\n",
    "    preds.append(int(val>=(.5*numForests)))"
   ]
  },
  {
   "cell_type": "code",
   "execution_count": 30,
   "metadata": {},
   "outputs": [
    {
     "name": "stdout",
     "output_type": "stream",
     "text": [
      "Predicted price of first five observations [0, 0, 0, 0, 1]\n",
      "Actual Price of first five observations ContestId\n",
      "24567084    0.0\n",
      "24567093    0.0\n",
      "24567085    0.0\n",
      "24567092    1.0\n",
      "24878883    1.0\n",
      "Name: Success, dtype: float64\n"
     ]
    }
   ],
   "source": [
    "# Create actual english names for the plants for each predicted plant class\n",
    "trueIds = test[['Success']]\n",
    "\n",
    "\n",
    "# View the PREDICTED species for the first five observations\n",
    "print('Predicted price of first five observations', preds[0:5])\n",
    "# View the ACTUAL species for the first five observations\n",
    "print('Actual Price of first five observations', test['Success'].head())"
   ]
  },
  {
   "cell_type": "code",
   "execution_count": 31,
   "metadata": {},
   "outputs": [
    {
     "data": {
      "text/plain": [
       "0.7326115260741451"
      ]
     },
     "execution_count": 31,
     "metadata": {},
     "output_type": "execute_result"
    }
   ],
   "source": [
    "accuracy_score(actual, preds)"
   ]
  },
  {
   "cell_type": "code",
   "execution_count": 32,
   "metadata": {},
   "outputs": [],
   "source": [
    "confuse = pd.DataFrame({'Predict':preds, 'Real':actual})"
   ]
  },
  {
   "cell_type": "code",
   "execution_count": 33,
   "metadata": {},
   "outputs": [],
   "source": [
    "successes =  len(test.loc[test['Success']==True])\n",
    "fails = len(test.loc[test['Success']==False])"
   ]
  },
  {
   "cell_type": "code",
   "execution_count": 34,
   "metadata": {},
   "outputs": [
    {
     "name": "stdout",
     "output_type": "stream",
     "text": [
      "fails: 784 --- successes: 13809\n"
     ]
    }
   ],
   "source": [
    "print(\"fails:\", fails, \"---\", \"successes:\", successes)"
   ]
  },
  {
   "cell_type": "code",
   "execution_count": 35,
   "metadata": {},
   "outputs": [
    {
     "name": "stdout",
     "output_type": "stream",
     "text": [
      "[[  684   100]\n",
      " [ 3802 10007]]\n"
     ]
    }
   ],
   "source": [
    "print(confusion_matrix(actual, preds))"
   ]
  },
  {
   "cell_type": "code",
   "execution_count": null,
   "metadata": {},
   "outputs": [],
   "source": []
  },
  {
   "cell_type": "code",
   "execution_count": null,
   "metadata": {},
   "outputs": [],
   "source": []
  }
 ],
 "metadata": {
  "kernelspec": {
   "display_name": "Python 3",
   "language": "python",
   "name": "python3"
  },
  "language_info": {
   "codemirror_mode": {
    "name": "ipython",
    "version": 3
   },
   "file_extension": ".py",
   "mimetype": "text/x-python",
   "name": "python",
   "nbconvert_exporter": "python",
   "pygments_lexer": "ipython3",
   "version": "3.6.5"
  }
 },
 "nbformat": 4,
 "nbformat_minor": 2
}

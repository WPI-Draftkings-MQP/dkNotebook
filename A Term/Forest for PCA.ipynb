{
 "cells": [
  {
   "cell_type": "code",
   "execution_count": 1,
   "metadata": {},
   "outputs": [],
   "source": [
    "import pandas as pd\n",
    "import matplotlib.pyplot as plt\n",
    "import numpy as np\n",
    "import random\n",
    "from sklearn.ensemble import RandomForestClassifier\n",
    "from sklearn.metrics import accuracy_score\n",
    "from sklearn.metrics import confusion_matrix"
   ]
  },
  {
   "cell_type": "code",
   "execution_count": 2,
   "metadata": {},
   "outputs": [],
   "source": [
    "rawContests = pd.read_csv('data/WorkingData.csv').set_index('ContestId')\n",
    "expensiveContests = rawContests.loc[rawContests['TotalPrizeAmount']> 100000][[]]"
   ]
  },
  {
   "cell_type": "code",
   "execution_count": 3,
   "metadata": {},
   "outputs": [
    {
     "data": {
      "text/html": [
       "<div>\n",
       "<style scoped>\n",
       "    .dataframe tbody tr th:only-of-type {\n",
       "        vertical-align: middle;\n",
       "    }\n",
       "\n",
       "    .dataframe tbody tr th {\n",
       "        vertical-align: top;\n",
       "    }\n",
       "\n",
       "    .dataframe thead th {\n",
       "        text-align: right;\n",
       "    }\n",
       "</style>\n",
       "<table border=\"1\" class=\"dataframe\">\n",
       "  <thead>\n",
       "    <tr style=\"text-align: right;\">\n",
       "      <th></th>\n",
       "      <th>Success</th>\n",
       "      <th>SportName_NFL</th>\n",
       "      <th>SportName_PGA</th>\n",
       "      <th>SportName_SOCC</th>\n",
       "      <th>SportName_MLB</th>\n",
       "      <th>SportName_NAS</th>\n",
       "      <th>SportName_CFB</th>\n",
       "      <th>SportName_MMA</th>\n",
       "      <th>SportName_LOL</th>\n",
       "      <th>SportName_NHL</th>\n",
       "      <th>...</th>\n",
       "      <th>2HoursOut_scaled</th>\n",
       "      <th>36HoursOut_scaled</th>\n",
       "      <th>3HoursOut_scaled</th>\n",
       "      <th>48HoursOut_scaled</th>\n",
       "      <th>4HoursOut_scaled</th>\n",
       "      <th>5HoursOut_scaled</th>\n",
       "      <th>6HoursOut_scaled</th>\n",
       "      <th>7HoursOut_scaled</th>\n",
       "      <th>8HoursOut_scaled</th>\n",
       "      <th>9HoursOut_scaled</th>\n",
       "    </tr>\n",
       "    <tr>\n",
       "      <th>ContestId</th>\n",
       "      <th></th>\n",
       "      <th></th>\n",
       "      <th></th>\n",
       "      <th></th>\n",
       "      <th></th>\n",
       "      <th></th>\n",
       "      <th></th>\n",
       "      <th></th>\n",
       "      <th></th>\n",
       "      <th></th>\n",
       "      <th></th>\n",
       "      <th></th>\n",
       "      <th></th>\n",
       "      <th></th>\n",
       "      <th></th>\n",
       "      <th></th>\n",
       "      <th></th>\n",
       "      <th></th>\n",
       "      <th></th>\n",
       "      <th></th>\n",
       "      <th></th>\n",
       "    </tr>\n",
       "  </thead>\n",
       "  <tbody>\n",
       "    <tr>\n",
       "      <th>24567084</th>\n",
       "      <td>0.0</td>\n",
       "      <td>0.0</td>\n",
       "      <td>0.0</td>\n",
       "      <td>0.0</td>\n",
       "      <td>0.0</td>\n",
       "      <td>0.0</td>\n",
       "      <td>0.0</td>\n",
       "      <td>0.0</td>\n",
       "      <td>1.0</td>\n",
       "      <td>0.0</td>\n",
       "      <td>...</td>\n",
       "      <td>0.58</td>\n",
       "      <td>0.18</td>\n",
       "      <td>0.5</td>\n",
       "      <td>0.16</td>\n",
       "      <td>0.44</td>\n",
       "      <td>0.44</td>\n",
       "      <td>0.44</td>\n",
       "      <td>0.44</td>\n",
       "      <td>0.42</td>\n",
       "      <td>0.36</td>\n",
       "    </tr>\n",
       "  </tbody>\n",
       "</table>\n",
       "<p>1 rows × 117 columns</p>\n",
       "</div>"
      ],
      "text/plain": [
       "           Success  SportName_NFL  SportName_PGA  SportName_SOCC  \\\n",
       "ContestId                                                          \n",
       "24567084       0.0            0.0            0.0             0.0   \n",
       "\n",
       "           SportName_MLB  SportName_NAS  SportName_CFB  SportName_MMA  \\\n",
       "ContestId                                                               \n",
       "24567084             0.0            0.0            0.0            0.0   \n",
       "\n",
       "           SportName_LOL  SportName_NHL        ...         2HoursOut_scaled  \\\n",
       "ContestId                                      ...                            \n",
       "24567084             1.0            0.0        ...                     0.58   \n",
       "\n",
       "           36HoursOut_scaled  3HoursOut_scaled  48HoursOut_scaled  \\\n",
       "ContestId                                                           \n",
       "24567084                0.18               0.5               0.16   \n",
       "\n",
       "           4HoursOut_scaled  5HoursOut_scaled  6HoursOut_scaled  \\\n",
       "ContestId                                                         \n",
       "24567084               0.44              0.44              0.44   \n",
       "\n",
       "           7HoursOut_scaled  8HoursOut_scaled  9HoursOut_scaled  \n",
       "ContestId                                                        \n",
       "24567084               0.44              0.42              0.36  \n",
       "\n",
       "[1 rows x 117 columns]"
      ]
     },
     "execution_count": 3,
     "metadata": {},
     "output_type": "execute_result"
    }
   ],
   "source": [
    "contests = pd.read_csv('data/SCALEDEVERYTHING.csv').set_index('ContestId')\n",
    "contests.head(1)"
   ]
  },
  {
   "cell_type": "code",
   "execution_count": 4,
   "metadata": {},
   "outputs": [
    {
     "data": {
      "text/plain": [
       "0.9467517361705039"
      ]
     },
     "execution_count": 4,
     "metadata": {},
     "output_type": "execute_result"
    }
   ],
   "source": [
    "numFail = len(contests.loc[contests['Success']==0])\n",
    "percent = numFail/len(contests)\n",
    "1-percent"
   ]
  },
  {
   "cell_type": "code",
   "execution_count": 5,
   "metadata": {},
   "outputs": [],
   "source": [
    "CLF_contests = contests.loc[:].dropna()"
   ]
  },
  {
   "cell_type": "code",
   "execution_count": 6,
   "metadata": {},
   "outputs": [],
   "source": [
    "CLF_contests['USE_FOR_BALANCE'] = np.random.uniform(0, 1, len(CLF_contests)) <= percent\n",
    "CLF_contests = CLF_contests.loc[(CLF_contests[\"USE_FOR_BALANCE\"] == True) | (CLF_contests[\"Success\"] == 0)]\n",
    "CLF_Features = CLF_contests.columns"
   ]
  },
  {
   "cell_type": "code",
   "execution_count": 7,
   "metadata": {},
   "outputs": [],
   "source": [
    "CLF_Features= CLF_contests.columns.drop('Success')\n",
    "CLF_Features = CLF_Features.drop('USE_FOR_BALANCE')"
   ]
  },
  {
   "cell_type": "code",
   "execution_count": 8,
   "metadata": {},
   "outputs": [
    {
     "name": "stdout",
     "output_type": "stream",
     "text": [
      "Number of observations in the training data: 4581\n",
      "Number of observations in the test data: 1514\n"
     ]
    }
   ],
   "source": [
    "CLF_contests['is_train'] = np.random.uniform(0, 1, len(CLF_contests)) <= .75\n",
    "train, test = CLF_contests[CLF_contests['is_train']==True], CLF_contests[CLF_contests['is_train']==False]\n",
    "print('Number of observations in the training data:', len(train))\n",
    "print('Number of observations in the test data:',len(test))"
   ]
  },
  {
   "cell_type": "code",
   "execution_count": 9,
   "metadata": {},
   "outputs": [],
   "source": [
    "actual = test['Success']\n",
    "y = train['Success']"
   ]
  },
  {
   "cell_type": "code",
   "execution_count": 10,
   "metadata": {},
   "outputs": [
    {
     "data": {
      "text/plain": [
       "RandomForestClassifier(bootstrap=True, class_weight=None, criterion='gini',\n",
       "            max_depth=None, max_features='auto', max_leaf_nodes=None,\n",
       "            min_impurity_decrease=0.0, min_impurity_split=None,\n",
       "            min_samples_leaf=1, min_samples_split=2,\n",
       "            min_weight_fraction_leaf=0.0, n_estimators=10, n_jobs=2,\n",
       "            oob_score=False, random_state=0, verbose=0, warm_start=False)"
      ]
     },
     "execution_count": 10,
     "metadata": {},
     "output_type": "execute_result"
    }
   ],
   "source": [
    "clf = RandomForestClassifier(n_jobs=2, random_state=0)\n",
    "clf.fit(train[CLF_Features], y)"
   ]
  },
  {
   "cell_type": "code",
   "execution_count": 11,
   "metadata": {},
   "outputs": [
    {
     "name": "stdout",
     "output_type": "stream",
     "text": [
      "Predicted price of first five observations [0. 1. 0. 0. 1.]\n",
      "Actual Price of first five observations ContestId\n",
      "24567084    0.0\n",
      "24878538    1.0\n",
      "24878532    0.0\n",
      "24878890    0.0\n",
      "24912812    0.0\n",
      "Name: Success, dtype: float64\n"
     ]
    }
   ],
   "source": [
    "# Create actual english names for the plants for each predicted plant class\n",
    "preds = clf.predict(test[CLF_Features])\n",
    "trueIds = test[['Success']]\n",
    "\n",
    "\n",
    "# View the PREDICTED species for the first five observations\n",
    "print('Predicted price of first five observations', preds[0:5])\n",
    "# View the ACTUAL species for the first five observations\n",
    "print('Actual Price of first five observations', test['Success'].head())"
   ]
  },
  {
   "cell_type": "code",
   "execution_count": 12,
   "metadata": {},
   "outputs": [
    {
     "data": {
      "text/plain": [
       "0.8731836195508587"
      ]
     },
     "execution_count": 12,
     "metadata": {},
     "output_type": "execute_result"
    }
   ],
   "source": [
    "accuracy_score(actual, preds)"
   ]
  },
  {
   "cell_type": "code",
   "execution_count": 13,
   "metadata": {},
   "outputs": [],
   "source": [
    "confuse = pd.DataFrame({'Predict':preds, 'Real':actual})"
   ]
  },
  {
   "cell_type": "code",
   "execution_count": 14,
   "metadata": {},
   "outputs": [],
   "source": [
    "successes =  len(test.loc[test['Success']==True])\n",
    "fails = len(test.loc[test['Success']==False])"
   ]
  },
  {
   "cell_type": "code",
   "execution_count": 15,
   "metadata": {},
   "outputs": [
    {
     "name": "stdout",
     "output_type": "stream",
     "text": [
      "fails: 791 --- successes: 723\n"
     ]
    }
   ],
   "source": [
    "print(\"fails:\", fails, \"---\", \"successes:\", successes)"
   ]
  },
  {
   "cell_type": "code",
   "execution_count": 16,
   "metadata": {},
   "outputs": [
    {
     "name": "stdout",
     "output_type": "stream",
     "text": [
      "[[727  64]\n",
      " [128 595]]\n"
     ]
    }
   ],
   "source": [
    "print(confusion_matrix(actual, preds))"
   ]
  },
  {
   "cell_type": "code",
   "execution_count": 17,
   "metadata": {},
   "outputs": [],
   "source": [
    "# true.columns = ['RealVal']\n",
    "trueDF = pd.DataFrame(data=actual)\n",
    "trueDF.columns = ['RealVal']\n",
    "trueDF = trueDF.assign(PredVal= preds.tolist())\n"
   ]
  },
  {
   "cell_type": "code",
   "execution_count": 18,
   "metadata": {},
   "outputs": [],
   "source": [
    "failDF = trueDF.loc[trueDF['RealVal'] != trueDF['PredVal']]\n",
    "falsePositives = failDF.loc[failDF['PredVal']==1][[]]\n",
    "falseNegatives = failDF.loc[failDF['PredVal']==0][[]]\n",
    "falsePositivesDF = pd.merge(falsePositives, rawContests, on='ContestId', how='left')\n",
    "falseNegativesDF = pd.merge(falseNegatives, rawContests, on='ContestId', how='left')"
   ]
  },
  {
   "cell_type": "code",
   "execution_count": 19,
   "metadata": {},
   "outputs": [],
   "source": [
    "# falsePositivesDF.to_csv(\"data/ForJon/PCAFalsePositives.csv\")\n",
    "# falseNegativesDF.to_csv(\"data/ForJon/PCAFalseNegatives.csv\")"
   ]
  },
  {
   "cell_type": "code",
   "execution_count": null,
   "metadata": {},
   "outputs": [],
   "source": []
  },
  {
   "cell_type": "code",
   "execution_count": null,
   "metadata": {},
   "outputs": [],
   "source": []
  }
 ],
 "metadata": {
  "kernelspec": {
   "display_name": "Python 3",
   "language": "python",
   "name": "python3"
  },
  "language_info": {
   "codemirror_mode": {
    "name": "ipython",
    "version": 3
   },
   "file_extension": ".py",
   "mimetype": "text/x-python",
   "name": "python",
   "nbconvert_exporter": "python",
   "pygments_lexer": "ipython3",
   "version": "3.6.5"
  }
 },
 "nbformat": 4,
 "nbformat_minor": 2
}

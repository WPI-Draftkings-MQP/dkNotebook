{
 "cells": [
  {
   "cell_type": "markdown",
   "metadata": {},
   "source": [
    "# Weigh contests that are much more expensive\n",
    "# Z transform data\n",
    "# ADA Boost (in scikitlearn) (gradient boost?)\n",
    "# Reciever Operating Characteristic (ROC) CURVE\n",
    "\n",
    "\n",
    "#\n",
    "WenJing Li (Might know optimal tree size) (is doing phd research on ensembles)"
   ]
  },
  {
   "cell_type": "code",
   "execution_count": 1,
   "metadata": {},
   "outputs": [],
   "source": [
    "import pandas as pd\n",
    "import matplotlib.pyplot as plt\n",
    "import numpy as np\n",
    "import random\n",
    "from sklearn.ensemble import RandomForestClassifier\n",
    "from sklearn.metrics import accuracy_score\n",
    "from sklearn.metrics import confusion_matrix"
   ]
  },
  {
   "cell_type": "code",
   "execution_count": 2,
   "metadata": {
    "scrolled": true
   },
   "outputs": [
    {
     "data": {
      "text/html": [
       "<div>\n",
       "<style scoped>\n",
       "    .dataframe tbody tr th:only-of-type {\n",
       "        vertical-align: middle;\n",
       "    }\n",
       "\n",
       "    .dataframe tbody tr th {\n",
       "        vertical-align: top;\n",
       "    }\n",
       "\n",
       "    .dataframe thead th {\n",
       "        text-align: right;\n",
       "    }\n",
       "</style>\n",
       "<table border=\"1\" class=\"dataframe\">\n",
       "  <thead>\n",
       "    <tr style=\"text-align: right;\">\n",
       "      <th></th>\n",
       "      <th>Success</th>\n",
       "      <th>SportName_NFL</th>\n",
       "      <th>SportName_PGA</th>\n",
       "      <th>SportName_SOCC</th>\n",
       "      <th>SportName_MLB</th>\n",
       "      <th>SportName_NAS</th>\n",
       "      <th>SportName_CFB</th>\n",
       "      <th>SportName_MMA</th>\n",
       "      <th>SportName_LOL</th>\n",
       "      <th>SportName_NHL</th>\n",
       "      <th>...</th>\n",
       "      <th>EntryFeeAmount_Scaled</th>\n",
       "      <th>TotalPrizeAmount_Scaled</th>\n",
       "      <th>MaxNumberPlayers_Scaled</th>\n",
       "      <th>MaxEntriesPerUser_Scaled</th>\n",
       "      <th>NumGames_Scaled</th>\n",
       "      <th>DraftablePlayersInSet_Scaled</th>\n",
       "      <th>PaidUsersInDraftGroup_Scaled</th>\n",
       "      <th>TopPrize_Scaled</th>\n",
       "      <th>MaxPayoutPosition_Scaled</th>\n",
       "      <th>SuccessThreshold_Scaled</th>\n",
       "    </tr>\n",
       "    <tr>\n",
       "      <th>ContestId</th>\n",
       "      <th></th>\n",
       "      <th></th>\n",
       "      <th></th>\n",
       "      <th></th>\n",
       "      <th></th>\n",
       "      <th></th>\n",
       "      <th></th>\n",
       "      <th></th>\n",
       "      <th></th>\n",
       "      <th></th>\n",
       "      <th></th>\n",
       "      <th></th>\n",
       "      <th></th>\n",
       "      <th></th>\n",
       "      <th></th>\n",
       "      <th></th>\n",
       "      <th></th>\n",
       "      <th></th>\n",
       "      <th></th>\n",
       "      <th></th>\n",
       "      <th></th>\n",
       "    </tr>\n",
       "  </thead>\n",
       "  <tbody>\n",
       "    <tr>\n",
       "      <th>58300706</th>\n",
       "      <td>0.0</td>\n",
       "      <td>0.0</td>\n",
       "      <td>0.0</td>\n",
       "      <td>0.0</td>\n",
       "      <td>1.0</td>\n",
       "      <td>0.0</td>\n",
       "      <td>0.0</td>\n",
       "      <td>0.0</td>\n",
       "      <td>0.0</td>\n",
       "      <td>0.0</td>\n",
       "      <td>...</td>\n",
       "      <td>0.000032</td>\n",
       "      <td>0.000005</td>\n",
       "      <td>0.000073</td>\n",
       "      <td>0.0</td>\n",
       "      <td>0.0</td>\n",
       "      <td>0.058252</td>\n",
       "      <td>0.00643</td>\n",
       "      <td>0.000005</td>\n",
       "      <td>0.000047</td>\n",
       "      <td>0.000074</td>\n",
       "    </tr>\n",
       "  </tbody>\n",
       "</table>\n",
       "<p>1 rows × 100 columns</p>\n",
       "</div>"
      ],
      "text/plain": [
       "           Success  SportName_NFL  SportName_PGA  SportName_SOCC  \\\n",
       "ContestId                                                          \n",
       "58300706       0.0            0.0            0.0             0.0   \n",
       "\n",
       "           SportName_MLB  SportName_NAS  SportName_CFB  SportName_MMA  \\\n",
       "ContestId                                                               \n",
       "58300706             1.0            0.0            0.0            0.0   \n",
       "\n",
       "           SportName_LOL  SportName_NHL           ...             \\\n",
       "ContestId                                         ...              \n",
       "58300706             0.0            0.0           ...              \n",
       "\n",
       "           EntryFeeAmount_Scaled  TotalPrizeAmount_Scaled  \\\n",
       "ContestId                                                   \n",
       "58300706                0.000032                 0.000005   \n",
       "\n",
       "           MaxNumberPlayers_Scaled  MaxEntriesPerUser_Scaled  NumGames_Scaled  \\\n",
       "ContestId                                                                       \n",
       "58300706                  0.000073                       0.0              0.0   \n",
       "\n",
       "           DraftablePlayersInSet_Scaled  PaidUsersInDraftGroup_Scaled  \\\n",
       "ContestId                                                               \n",
       "58300706                       0.058252                       0.00643   \n",
       "\n",
       "           TopPrize_Scaled  MaxPayoutPosition_Scaled  SuccessThreshold_Scaled  \n",
       "ContestId                                                                      \n",
       "58300706          0.000005                  0.000047                 0.000074  \n",
       "\n",
       "[1 rows x 100 columns]"
      ]
     },
     "execution_count": 2,
     "metadata": {},
     "output_type": "execute_result"
    }
   ],
   "source": [
    "rawContests = pd.read_csv('data/WorkingData.csv').set_index('ContestId')\n",
    "contests = pd.read_csv('data/WorkedData.csv').set_index('ContestId')\n",
    "expensiveContests = rawContests.loc[rawContests['TotalPrizeAmount']> 100000][[]]\n",
    "contests.tail(1)"
   ]
  },
  {
   "cell_type": "code",
   "execution_count": 3,
   "metadata": {},
   "outputs": [
    {
     "data": {
      "text/plain": [
       "0.9557482180806048"
      ]
     },
     "execution_count": 3,
     "metadata": {},
     "output_type": "execute_result"
    }
   ],
   "source": [
    "numFail = len(contests.loc[contests['Success']==0])\n",
    "percent = numFail/len(contests)\n",
    "1-percent"
   ]
  },
  {
   "cell_type": "code",
   "execution_count": 4,
   "metadata": {},
   "outputs": [],
   "source": [
    "CLF_contests = contests.loc[:].dropna()\n"
   ]
  },
  {
   "cell_type": "code",
   "execution_count": 5,
   "metadata": {},
   "outputs": [],
   "source": [
    "CLF_contests['USE_FOR_BALANCE'] = np.random.uniform(0, 1, len(CLF_contests)) <= percent\n",
    "CLF_contests = CLF_contests.loc[(CLF_contests[\"USE_FOR_BALANCE\"] == True) | (CLF_contests[\"Success\"] == 0)]\n",
    "CLF_Features = CLF_contests.columns"
   ]
  },
  {
   "cell_type": "code",
   "execution_count": 6,
   "metadata": {},
   "outputs": [],
   "source": [
    "CLF_Features= CLF_contests.columns.drop('Success')\n",
    "CLF_Features = CLF_Features.drop('USE_FOR_BALANCE')"
   ]
  },
  {
   "cell_type": "code",
   "execution_count": 7,
   "metadata": {},
   "outputs": [],
   "source": [
    "# for c in CLF_contests.columns:\n",
    "#     print(c)"
   ]
  },
  {
   "cell_type": "code",
   "execution_count": 8,
   "metadata": {},
   "outputs": [
    {
     "data": {
      "text/html": [
       "<div>\n",
       "<style scoped>\n",
       "    .dataframe tbody tr th:only-of-type {\n",
       "        vertical-align: middle;\n",
       "    }\n",
       "\n",
       "    .dataframe tbody tr th {\n",
       "        vertical-align: top;\n",
       "    }\n",
       "\n",
       "    .dataframe thead th {\n",
       "        text-align: right;\n",
       "    }\n",
       "</style>\n",
       "<table border=\"1\" class=\"dataframe\">\n",
       "  <thead>\n",
       "    <tr style=\"text-align: right;\">\n",
       "      <th></th>\n",
       "      <th>Success</th>\n",
       "      <th>SportName_NFL</th>\n",
       "      <th>SportName_PGA</th>\n",
       "      <th>SportName_SOCC</th>\n",
       "      <th>SportName_MLB</th>\n",
       "      <th>SportName_NAS</th>\n",
       "      <th>SportName_CFB</th>\n",
       "      <th>SportName_MMA</th>\n",
       "      <th>SportName_LOL</th>\n",
       "      <th>SportName_NHL</th>\n",
       "      <th>...</th>\n",
       "      <th>TotalPrizeAmount_Scaled</th>\n",
       "      <th>MaxNumberPlayers_Scaled</th>\n",
       "      <th>MaxEntriesPerUser_Scaled</th>\n",
       "      <th>NumGames_Scaled</th>\n",
       "      <th>DraftablePlayersInSet_Scaled</th>\n",
       "      <th>PaidUsersInDraftGroup_Scaled</th>\n",
       "      <th>TopPrize_Scaled</th>\n",
       "      <th>MaxPayoutPosition_Scaled</th>\n",
       "      <th>SuccessThreshold_Scaled</th>\n",
       "      <th>USE_FOR_BALANCE</th>\n",
       "    </tr>\n",
       "    <tr>\n",
       "      <th>ContestId</th>\n",
       "      <th></th>\n",
       "      <th></th>\n",
       "      <th></th>\n",
       "      <th></th>\n",
       "      <th></th>\n",
       "      <th></th>\n",
       "      <th></th>\n",
       "      <th></th>\n",
       "      <th></th>\n",
       "      <th></th>\n",
       "      <th></th>\n",
       "      <th></th>\n",
       "      <th></th>\n",
       "      <th></th>\n",
       "      <th></th>\n",
       "      <th></th>\n",
       "      <th></th>\n",
       "      <th></th>\n",
       "      <th></th>\n",
       "      <th></th>\n",
       "      <th></th>\n",
       "    </tr>\n",
       "  </thead>\n",
       "  <tbody>\n",
       "    <tr>\n",
       "      <th>58300706</th>\n",
       "      <td>0.0</td>\n",
       "      <td>0.0</td>\n",
       "      <td>0.0</td>\n",
       "      <td>0.0</td>\n",
       "      <td>1.0</td>\n",
       "      <td>0.0</td>\n",
       "      <td>0.0</td>\n",
       "      <td>0.0</td>\n",
       "      <td>0.0</td>\n",
       "      <td>0.0</td>\n",
       "      <td>...</td>\n",
       "      <td>0.000005</td>\n",
       "      <td>0.000073</td>\n",
       "      <td>0.0</td>\n",
       "      <td>0.0</td>\n",
       "      <td>0.058252</td>\n",
       "      <td>0.00643</td>\n",
       "      <td>0.000005</td>\n",
       "      <td>0.000047</td>\n",
       "      <td>0.000074</td>\n",
       "      <td>False</td>\n",
       "    </tr>\n",
       "  </tbody>\n",
       "</table>\n",
       "<p>1 rows × 101 columns</p>\n",
       "</div>"
      ],
      "text/plain": [
       "           Success  SportName_NFL  SportName_PGA  SportName_SOCC  \\\n",
       "ContestId                                                          \n",
       "58300706       0.0            0.0            0.0             0.0   \n",
       "\n",
       "           SportName_MLB  SportName_NAS  SportName_CFB  SportName_MMA  \\\n",
       "ContestId                                                               \n",
       "58300706             1.0            0.0            0.0            0.0   \n",
       "\n",
       "           SportName_LOL  SportName_NHL       ...         \\\n",
       "ContestId                                     ...          \n",
       "58300706             0.0            0.0       ...          \n",
       "\n",
       "           TotalPrizeAmount_Scaled  MaxNumberPlayers_Scaled  \\\n",
       "ContestId                                                     \n",
       "58300706                  0.000005                 0.000073   \n",
       "\n",
       "           MaxEntriesPerUser_Scaled  NumGames_Scaled  \\\n",
       "ContestId                                              \n",
       "58300706                        0.0              0.0   \n",
       "\n",
       "           DraftablePlayersInSet_Scaled  PaidUsersInDraftGroup_Scaled  \\\n",
       "ContestId                                                               \n",
       "58300706                       0.058252                       0.00643   \n",
       "\n",
       "           TopPrize_Scaled  MaxPayoutPosition_Scaled  SuccessThreshold_Scaled  \\\n",
       "ContestId                                                                       \n",
       "58300706          0.000005                  0.000047                 0.000074   \n",
       "\n",
       "           USE_FOR_BALANCE  \n",
       "ContestId                   \n",
       "58300706             False  \n",
       "\n",
       "[1 rows x 101 columns]"
      ]
     },
     "execution_count": 8,
     "metadata": {},
     "output_type": "execute_result"
    }
   ],
   "source": [
    "CLF_contests.tail(1)"
   ]
  },
  {
   "cell_type": "code",
   "execution_count": 9,
   "metadata": {},
   "outputs": [],
   "source": [
    "feature_names = CLF_contests.columns"
   ]
  },
  {
   "cell_type": "code",
   "execution_count": 10,
   "metadata": {},
   "outputs": [
    {
     "name": "stdout",
     "output_type": "stream",
     "text": [
      "Number of observations in the training data: 24054\n",
      "Number of observations in the test data: 8041\n"
     ]
    }
   ],
   "source": [
    "CLF_contests['is_train'] = np.random.uniform(0, 1, len(CLF_contests)) <= .75\n",
    "train, test = CLF_contests[CLF_contests['is_train']==True], CLF_contests[CLF_contests['is_train']==False]\n",
    "print('Number of observations in the training data:', len(train))\n",
    "print('Number of observations in the test data:',len(test))"
   ]
  },
  {
   "cell_type": "markdown",
   "metadata": {},
   "source": [
    "### Limit Test data to Expesnive"
   ]
  },
  {
   "cell_type": "code",
   "execution_count": 11,
   "metadata": {},
   "outputs": [],
   "source": [
    "# test = test.loc[test.index.isin(expensiveContests.index)].dropna()"
   ]
  },
  {
   "cell_type": "markdown",
   "metadata": {},
   "source": [
    "## ...."
   ]
  },
  {
   "cell_type": "code",
   "execution_count": 12,
   "metadata": {},
   "outputs": [],
   "source": [
    "actual = test['Success']\n",
    "y = train['Success']"
   ]
  },
  {
   "cell_type": "code",
   "execution_count": 13,
   "metadata": {},
   "outputs": [
    {
     "data": {
      "text/plain": [
       "RandomForestClassifier(bootstrap=True, class_weight=None, criterion='gini',\n",
       "            max_depth=None, max_features='auto', max_leaf_nodes=None,\n",
       "            min_impurity_decrease=0.0, min_impurity_split=None,\n",
       "            min_samples_leaf=1, min_samples_split=2,\n",
       "            min_weight_fraction_leaf=0.0, n_estimators=10, n_jobs=2,\n",
       "            oob_score=False, random_state=0, verbose=0, warm_start=False)"
      ]
     },
     "execution_count": 13,
     "metadata": {},
     "output_type": "execute_result"
    }
   ],
   "source": [
    "clf = RandomForestClassifier(n_jobs=2, random_state=0)\n",
    "clf.fit(train[CLF_Features], y)"
   ]
  },
  {
   "cell_type": "code",
   "execution_count": 14,
   "metadata": {},
   "outputs": [
    {
     "name": "stdout",
     "output_type": "stream",
     "text": [
      "Predicted price of first five observations [0. 0. 0. 0. 1.]\n",
      "Actual Price of first five observations ContestId\n",
      "8627704    0.0\n",
      "8492957    0.0\n",
      "8493634    0.0\n",
      "8564494    0.0\n",
      "8627699    1.0\n",
      "Name: Success, dtype: float64\n"
     ]
    }
   ],
   "source": [
    "# Create actual english names for the plants for each predicted plant class\n",
    "preds = clf.predict(test[CLF_Features])\n",
    "trueIds = test[['Success']]\n",
    "\n",
    "\n",
    "# View the PREDICTED species for the first five observations\n",
    "print('Predicted price of first five observations', preds[0:5])\n",
    "# View the ACTUAL species for the first five observations\n",
    "print('Actual Price of first five observations', test['Success'].head())"
   ]
  },
  {
   "cell_type": "code",
   "execution_count": 15,
   "metadata": {
    "scrolled": true
   },
   "outputs": [],
   "source": [
    "featureImportanceDF = pd.DataFrame(data={\"Feature\":CLF_Features, \"Importance\":clf.feature_importances_})\n",
    "featureImportanceDF = featureImportanceDF.sort_values(by=['Importance'],ascending=False)"
   ]
  },
  {
   "cell_type": "code",
   "execution_count": 16,
   "metadata": {},
   "outputs": [],
   "source": [
    "# featureImportanceDF.head(50)\n",
    "featureImportanceDF.to_csv(\"data/RawForestFeatures.csv\")"
   ]
  },
  {
   "cell_type": "code",
   "execution_count": 17,
   "metadata": {},
   "outputs": [
    {
     "data": {
      "text/html": [
       "<div>\n",
       "<style scoped>\n",
       "    .dataframe tbody tr th:only-of-type {\n",
       "        vertical-align: middle;\n",
       "    }\n",
       "\n",
       "    .dataframe tbody tr th {\n",
       "        vertical-align: top;\n",
       "    }\n",
       "\n",
       "    .dataframe thead th {\n",
       "        text-align: right;\n",
       "    }\n",
       "</style>\n",
       "<table border=\"1\" class=\"dataframe\">\n",
       "  <thead>\n",
       "    <tr style=\"text-align: right;\">\n",
       "      <th></th>\n",
       "      <th>Feature</th>\n",
       "      <th>Importance</th>\n",
       "    </tr>\n",
       "  </thead>\n",
       "  <tbody>\n",
       "    <tr>\n",
       "      <th>95</th>\n",
       "      <td>PaidUsersInDraftGroup_Scaled</td>\n",
       "      <td>0.062618</td>\n",
       "    </tr>\n",
       "    <tr>\n",
       "      <th>98</th>\n",
       "      <td>SuccessThreshold_Scaled</td>\n",
       "      <td>0.049404</td>\n",
       "    </tr>\n",
       "    <tr>\n",
       "      <th>97</th>\n",
       "      <td>MaxPayoutPosition_Scaled</td>\n",
       "      <td>0.047134</td>\n",
       "    </tr>\n",
       "    <tr>\n",
       "      <th>96</th>\n",
       "      <td>TopPrize_Scaled</td>\n",
       "      <td>0.046195</td>\n",
       "    </tr>\n",
       "    <tr>\n",
       "      <th>91</th>\n",
       "      <td>MaxNumberPlayers_Scaled</td>\n",
       "      <td>0.043060</td>\n",
       "    </tr>\n",
       "  </tbody>\n",
       "</table>\n",
       "</div>"
      ],
      "text/plain": [
       "                         Feature  Importance\n",
       "95  PaidUsersInDraftGroup_Scaled    0.062618\n",
       "98       SuccessThreshold_Scaled    0.049404\n",
       "97      MaxPayoutPosition_Scaled    0.047134\n",
       "96               TopPrize_Scaled    0.046195\n",
       "91       MaxNumberPlayers_Scaled    0.043060"
      ]
     },
     "execution_count": 17,
     "metadata": {},
     "output_type": "execute_result"
    }
   ],
   "source": [
    "featureImportanceDF.head()"
   ]
  },
  {
   "cell_type": "code",
   "execution_count": 18,
   "metadata": {},
   "outputs": [
    {
     "data": {
      "text/plain": [
       "0.7812461136674543"
      ]
     },
     "execution_count": 18,
     "metadata": {},
     "output_type": "execute_result"
    }
   ],
   "source": [
    "accuracy_score(actual, preds)"
   ]
  },
  {
   "cell_type": "code",
   "execution_count": 19,
   "metadata": {},
   "outputs": [],
   "source": [
    "confuse = pd.DataFrame({'Predict':preds, 'Real':actual})"
   ]
  },
  {
   "cell_type": "code",
   "execution_count": 20,
   "metadata": {},
   "outputs": [],
   "source": [
    "successes =  len(test.loc[test['Success']==1.0])\n",
    "fails = len(test.loc[test['Success']==0.0])"
   ]
  },
  {
   "cell_type": "code",
   "execution_count": 21,
   "metadata": {},
   "outputs": [
    {
     "name": "stdout",
     "output_type": "stream",
     "text": [
      "fails: 4134 --- successes: 3907\n"
     ]
    }
   ],
   "source": [
    "print(\"fails:\", fails, \"---\", \"successes:\", successes)"
   ]
  },
  {
   "cell_type": "code",
   "execution_count": 22,
   "metadata": {
    "scrolled": true
   },
   "outputs": [
    {
     "name": "stdout",
     "output_type": "stream",
     "text": [
      "[[3520  614]\n",
      " [1145 2762]]\n"
     ]
    }
   ],
   "source": [
    "print(confusion_matrix(actual, preds))"
   ]
  },
  {
   "cell_type": "code",
   "execution_count": 23,
   "metadata": {},
   "outputs": [],
   "source": [
    "# true.columns = ['RealVal']\n",
    "trueDF = pd.DataFrame(data=actual)\n",
    "trueDF.columns = ['RealVal']\n",
    "trueDF = trueDF.assign(PredVal= preds.tolist())\n"
   ]
  },
  {
   "cell_type": "code",
   "execution_count": 24,
   "metadata": {},
   "outputs": [],
   "source": [
    "failDF = trueDF.loc[trueDF['RealVal'] != trueDF['PredVal']]\n",
    "falsePositives = failDF.loc[failDF['PredVal']==1][[]]\n",
    "falseNegatives = failDF.loc[failDF['PredVal']==0][[]]\n",
    "falsePositivesDF = pd.merge(falsePositives, rawContests, on='ContestId', how='left')\n",
    "falseNegativesDF = pd.merge(falseNegatives, rawContests, on='ContestId', how='left')"
   ]
  },
  {
   "cell_type": "code",
   "execution_count": 25,
   "metadata": {},
   "outputs": [],
   "source": [
    "# falsePositivesDF.to_csv(\"data/ForJon/RawFalsePositives.csv\")\n",
    "# falseNegativesDF.to_csv(\"data/ForJon/RawFalseNegatives.csv\")"
   ]
  },
  {
   "cell_type": "code",
   "execution_count": null,
   "metadata": {},
   "outputs": [],
   "source": []
  }
 ],
 "metadata": {
  "kernelspec": {
   "display_name": "Python 3",
   "language": "python",
   "name": "python3"
  },
  "language_info": {
   "codemirror_mode": {
    "name": "ipython",
    "version": 3
   },
   "file_extension": ".py",
   "mimetype": "text/x-python",
   "name": "python",
   "nbconvert_exporter": "python",
   "pygments_lexer": "ipython3",
   "version": "3.6.5"
  }
 },
 "nbformat": 4,
 "nbformat_minor": 2
}

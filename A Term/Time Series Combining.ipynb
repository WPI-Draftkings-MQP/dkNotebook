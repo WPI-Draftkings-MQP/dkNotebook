{
 "cells": [
  {
   "cell_type": "code",
   "execution_count": 1,
   "metadata": {},
   "outputs": [],
   "source": [
    "import pandas as pd\n",
    "import numpy as np\n",
    "import os\n",
    "import copy"
   ]
  },
  {
   "cell_type": "code",
   "execution_count": 2,
   "metadata": {},
   "outputs": [],
   "source": [
    "# from ipywidgets import FloatProgress\n",
    "# from IPython.display import display\n",
    "# import time"
   ]
  },
  {
   "cell_type": "markdown",
   "metadata": {},
   "source": [
    "### Cache Series Data"
   ]
  },
  {
   "cell_type": "code",
   "execution_count": 3,
   "metadata": {},
   "outputs": [],
   "source": [
    "dirList = os.listdir(\"data/WPI/\")\n",
    "fList = []\n",
    "for filename in dirList: #limit to .csv\n",
    "    if(filename[-4:] == '.csv'):\n",
    "        fList.append(filename[:-4]) "
   ]
  },
  {
   "cell_type": "code",
   "execution_count": 4,
   "metadata": {},
   "outputs": [],
   "source": [
    "seekHours = [0, 1, 2, 3, 4, 5, 6, 7, 8, 9, 10, 12, 16, 20, 24, 36, 48]\n",
    "defaultData = {'ContestId' : 'default'}\n",
    "for h in seekHours:\n",
    "    defaultData[str(h)+'HoursOut'] = 0"
   ]
  },
  {
   "cell_type": "code",
   "execution_count": 5,
   "metadata": {},
   "outputs": [],
   "source": [
    "def transformSeries(df):\n",
    "    contestsDF = pd.DataFrame(columns = defaultData.keys()).set_index('ContestId')\n",
    "    \n",
    "#     f = FloatProgress(min=0, max=len(df))\n",
    "#     display(f)\n",
    "    \n",
    "    for index, row in df[:].iterrows():\n",
    "        cId = row.ContestId\n",
    "        if(len(contestsDF.loc[contestsDF.index == cId]) == 0):\n",
    "    #         print('new Id', row.ContestId)\n",
    "            newData = defaultData.copy()\n",
    "            newData['ContestId'] = [cId]\n",
    "            newDF = pd.DataFrame(data = newData).set_index('ContestId')\n",
    "            contestsDF = contestsDF.append(newDF)\n",
    "        hoursOut = row.SecondsRemaining/(60*60)\n",
    "        for h in seekHours:\n",
    "            if hoursOut > h:\n",
    "                contestsDF.loc[contestsDF.index == cId, str(h)+'HoursOut'] += row.Entries\n",
    "#         f.value += 1\n",
    "    return contestsDF"
   ]
  },
  {
   "cell_type": "code",
   "execution_count": null,
   "metadata": {},
   "outputs": [
    {
     "name": "stdout",
     "output_type": "stream",
     "text": [
      "Transforming  2018-06\n"
     ]
    },
    {
     "data": {
      "application/vnd.jupyter.widget-view+json": {
       "model_id": "20c039d05d454172bdd13cfb91cf09a6",
       "version_major": 2,
       "version_minor": 0
      },
      "text/plain": [
       "FloatProgress(value=0.0, max=2380177.0)"
      ]
     },
     "metadata": {},
     "output_type": "display_data"
    },
    {
     "name": "stdout",
     "output_type": "stream",
     "text": [
      "Saving  2018-06_Summed\n",
      "Transforming  2016-03\n"
     ]
    },
    {
     "data": {
      "application/vnd.jupyter.widget-view+json": {
       "model_id": "d59f131ca8c74e828558d2e254d87558",
       "version_major": 2,
       "version_minor": 0
      },
      "text/plain": [
       "FloatProgress(value=0.0, max=2194374.0)"
      ]
     },
     "metadata": {},
     "output_type": "display_data"
    },
    {
     "name": "stdout",
     "output_type": "stream",
     "text": [
      "Saving  2016-03_Summed\n",
      "Transforming  2016-02\n"
     ]
    },
    {
     "data": {
      "application/vnd.jupyter.widget-view+json": {
       "model_id": "cef4740e48f144858395490717994374",
       "version_major": 2,
       "version_minor": 0
      },
      "text/plain": [
       "FloatProgress(value=0.0, max=2005870.0)"
      ]
     },
     "metadata": {},
     "output_type": "display_data"
    }
   ],
   "source": [
    "for fName in fList[:]:\n",
    "    print('Transforming ', fName)\n",
    "    newFName = fName+\"_Summed\"\n",
    "    fContent = pd.read_csv('data/WPI/'+fName+'.csv', header=None)\n",
    "    fContent.columns = ['ContestId', 'SecondsRemaining', 'Entries']\n",
    "    newDf = transformSeries(fContent)\n",
    "    print('Saving ', newFName)\n",
    "    newDf.to_csv('data/Transformed/'+fName+'.csv')"
   ]
  },
  {
   "cell_type": "code",
   "execution_count": 109,
   "metadata": {},
   "outputs": [
    {
     "data": {
      "text/html": [
       "<div>\n",
       "<style scoped>\n",
       "    .dataframe tbody tr th:only-of-type {\n",
       "        vertical-align: middle;\n",
       "    }\n",
       "\n",
       "    .dataframe tbody tr th {\n",
       "        vertical-align: top;\n",
       "    }\n",
       "\n",
       "    .dataframe thead th {\n",
       "        text-align: right;\n",
       "    }\n",
       "</style>\n",
       "<table border=\"1\" class=\"dataframe\">\n",
       "  <thead>\n",
       "    <tr style=\"text-align: right;\">\n",
       "      <th></th>\n",
       "      <th>1HoursOut</th>\n",
       "      <th>2HoursOut</th>\n",
       "      <th>3HoursOut</th>\n",
       "      <th>4HoursOut</th>\n",
       "      <th>5HoursOut</th>\n",
       "      <th>6HoursOut</th>\n",
       "      <th>7HoursOut</th>\n",
       "      <th>8HoursOut</th>\n",
       "      <th>9HoursOut</th>\n",
       "      <th>10HoursOut</th>\n",
       "      <th>12HoursOut</th>\n",
       "      <th>16HoursOut</th>\n",
       "      <th>20HoursOut</th>\n",
       "      <th>24HoursOut</th>\n",
       "      <th>36HoursOut</th>\n",
       "      <th>48HoursOut</th>\n",
       "    </tr>\n",
       "    <tr>\n",
       "      <th>ContestId</th>\n",
       "      <th></th>\n",
       "      <th></th>\n",
       "      <th></th>\n",
       "      <th></th>\n",
       "      <th></th>\n",
       "      <th></th>\n",
       "      <th></th>\n",
       "      <th></th>\n",
       "      <th></th>\n",
       "      <th></th>\n",
       "      <th></th>\n",
       "      <th></th>\n",
       "      <th></th>\n",
       "      <th></th>\n",
       "      <th></th>\n",
       "      <th></th>\n",
       "    </tr>\n",
       "  </thead>\n",
       "  <tbody>\n",
       "    <tr>\n",
       "      <th>55826033</th>\n",
       "      <td>9281</td>\n",
       "      <td>9281</td>\n",
       "      <td>9281</td>\n",
       "      <td>8863</td>\n",
       "      <td>7377</td>\n",
       "      <td>6807</td>\n",
       "      <td>5799</td>\n",
       "      <td>5298</td>\n",
       "      <td>4871</td>\n",
       "      <td>4141</td>\n",
       "      <td>3266</td>\n",
       "      <td>1041</td>\n",
       "      <td>0</td>\n",
       "      <td>0</td>\n",
       "      <td>0</td>\n",
       "      <td>0</td>\n",
       "    </tr>\n",
       "    <tr>\n",
       "      <th>56610037</th>\n",
       "      <td>2606</td>\n",
       "      <td>1717</td>\n",
       "      <td>1100</td>\n",
       "      <td>777</td>\n",
       "      <td>624</td>\n",
       "      <td>515</td>\n",
       "      <td>428</td>\n",
       "      <td>291</td>\n",
       "      <td>157</td>\n",
       "      <td>0</td>\n",
       "      <td>0</td>\n",
       "      <td>0</td>\n",
       "      <td>0</td>\n",
       "      <td>0</td>\n",
       "      <td>0</td>\n",
       "      <td>0</td>\n",
       "    </tr>\n",
       "    <tr>\n",
       "      <th>56645954</th>\n",
       "      <td>72</td>\n",
       "      <td>65</td>\n",
       "      <td>55</td>\n",
       "      <td>35</td>\n",
       "      <td>0</td>\n",
       "      <td>0</td>\n",
       "      <td>0</td>\n",
       "      <td>0</td>\n",
       "      <td>0</td>\n",
       "      <td>0</td>\n",
       "      <td>0</td>\n",
       "      <td>0</td>\n",
       "      <td>0</td>\n",
       "      <td>0</td>\n",
       "      <td>0</td>\n",
       "      <td>0</td>\n",
       "    </tr>\n",
       "    <tr>\n",
       "      <th>56751298</th>\n",
       "      <td>103</td>\n",
       "      <td>17</td>\n",
       "      <td>11</td>\n",
       "      <td>7</td>\n",
       "      <td>2</td>\n",
       "      <td>1</td>\n",
       "      <td>0</td>\n",
       "      <td>0</td>\n",
       "      <td>0</td>\n",
       "      <td>0</td>\n",
       "      <td>0</td>\n",
       "      <td>0</td>\n",
       "      <td>0</td>\n",
       "      <td>0</td>\n",
       "      <td>0</td>\n",
       "      <td>0</td>\n",
       "    </tr>\n",
       "    <tr>\n",
       "      <th>56776765</th>\n",
       "      <td>0</td>\n",
       "      <td>0</td>\n",
       "      <td>0</td>\n",
       "      <td>0</td>\n",
       "      <td>0</td>\n",
       "      <td>0</td>\n",
       "      <td>0</td>\n",
       "      <td>0</td>\n",
       "      <td>0</td>\n",
       "      <td>0</td>\n",
       "      <td>0</td>\n",
       "      <td>0</td>\n",
       "      <td>0</td>\n",
       "      <td>0</td>\n",
       "      <td>0</td>\n",
       "      <td>0</td>\n",
       "    </tr>\n",
       "  </tbody>\n",
       "</table>\n",
       "</div>"
      ],
      "text/plain": [
       "          1HoursOut 2HoursOut 3HoursOut 4HoursOut 5HoursOut 6HoursOut  \\\n",
       "ContestId                                                               \n",
       "55826033       9281      9281      9281      8863      7377      6807   \n",
       "56610037       2606      1717      1100       777       624       515   \n",
       "56645954         72        65        55        35         0         0   \n",
       "56751298        103        17        11         7         2         1   \n",
       "56776765          0         0         0         0         0         0   \n",
       "\n",
       "          7HoursOut 8HoursOut 9HoursOut 10HoursOut 12HoursOut 16HoursOut  \\\n",
       "ContestId                                                                  \n",
       "55826033       5799      5298      4871       4141       3266       1041   \n",
       "56610037        428       291       157          0          0          0   \n",
       "56645954          0         0         0          0          0          0   \n",
       "56751298          0         0         0          0          0          0   \n",
       "56776765          0         0         0          0          0          0   \n",
       "\n",
       "          20HoursOut 24HoursOut 36HoursOut 48HoursOut  \n",
       "ContestId                                              \n",
       "55826033           0          0          0          0  \n",
       "56610037           0          0          0          0  \n",
       "56645954           0          0          0          0  \n",
       "56751298           0          0          0          0  \n",
       "56776765           0          0          0          0  "
      ]
     },
     "execution_count": 109,
     "metadata": {},
     "output_type": "execute_result"
    }
   ],
   "source": [
    "contestsDF.head()"
   ]
  },
  {
   "cell_type": "code",
   "execution_count": null,
   "metadata": {},
   "outputs": [],
   "source": [
    "contestsDF.to_csv('data/WorkingData_1000_HoursOut.csv')"
   ]
  },
  {
   "cell_type": "code",
   "execution_count": null,
   "metadata": {},
   "outputs": [],
   "source": []
  }
 ],
 "metadata": {
  "kernelspec": {
   "display_name": "Python 3",
   "language": "python",
   "name": "python3"
  },
  "language_info": {
   "codemirror_mode": {
    "name": "ipython",
    "version": 3
   },
   "file_extension": ".py",
   "mimetype": "text/x-python",
   "name": "python",
   "nbconvert_exporter": "python",
   "pygments_lexer": "ipython3",
   "version": "3.6.5"
  }
 },
 "nbformat": 4,
 "nbformat_minor": 2
}

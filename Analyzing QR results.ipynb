{
 "cells": [
  {
   "cell_type": "code",
   "execution_count": 1,
   "metadata": {},
   "outputs": [],
   "source": [
    "import pandas as pd\n",
    "import numpy as np\n",
    "import os"
   ]
  },
  {
   "cell_type": "markdown",
   "metadata": {},
   "source": [
    "---"
   ]
  },
  {
   "cell_type": "code",
   "execution_count": 2,
   "metadata": {},
   "outputs": [],
   "source": [
    "fullContests = pd.read_csv('data/WorkingData.csv')\n",
    "durations = pd.read_csv('data/Durations.csv').drop(columns=['Unnamed: 0'])"
   ]
  },
  {
   "cell_type": "code",
   "execution_count": 50,
   "metadata": {},
   "outputs": [],
   "source": [
    "def combineChunkPreds(chunkName):\n",
    "    dirList = os.listdir(\"data/results/\"+chunkName+\"/\")\n",
    "    chunkResults = []\n",
    "    for filename in dirList[:]: #limit to .csv\n",
    "        if(filename[-4:] == '.csv'):\n",
    "            version = filename.split('_')[2]\n",
    "            load = pd.read_csv('data/results/'+chunkName+'/'+filename).drop(columns=['Unnamed: 0'])\n",
    "            load.columns = ['ContestId', version, \"label\"]\n",
    "            load = load.drop(columns=['label'])\n",
    "            chunkResults.append(load)\n",
    "    combinedDF = chunkResults[0]\n",
    "    for nextDF in chunkResults[1:]:\n",
    "        combinedDF = pd.merge(combinedDF, nextDF, on='ContestId', how='left')\n",
    "    return combinedDF\n"
   ]
  },
  {
   "cell_type": "code",
   "execution_count": 63,
   "metadata": {
    "scrolled": true
   },
   "outputs": [
    {
     "name": "stderr",
     "output_type": "stream",
     "text": [
      "/anaconda3/lib/python3.6/site-packages/ipykernel_launcher.py:9: FutureWarning: Sorting because non-concatenation axis is not aligned. A future version\n",
      "of pandas will change to not sort by default.\n",
      "\n",
      "To accept the future behavior, pass 'sort=True'.\n",
      "\n",
      "To retain the current behavior and silence the warning, pass sort=False\n",
      "\n",
      "  if __name__ == '__main__':\n"
     ]
    }
   ],
   "source": [
    "dirList = os.listdir(\"data/results/\")\n",
    "kalmanResults = []\n",
    "for filename in dirList: #limit to .csv\n",
    "    if(filename[0] != '.' and filename[0] != '_' ):\n",
    "#         print(filename)\n",
    "        r = combineChunkPreds(filename)\n",
    "        kalmanResults.append(r)\n",
    "#         kalmanResults.append(pd.read_csv('data/results/'+filename).drop(columns=['Unnamed: 0']))\n",
    "resultsDF = pd.concat(kalmanResults).set_index('ContestId').dropna(axis=1)"
   ]
  },
  {
   "cell_type": "code",
   "execution_count": 65,
   "metadata": {},
   "outputs": [
    {
     "data": {
      "text/plain": [
       "142565"
      ]
     },
     "execution_count": 65,
     "metadata": {},
     "output_type": "execute_result"
    }
   ],
   "source": [
    "len(resultsDF)"
   ]
  },
  {
   "cell_type": "code",
   "execution_count": 5,
   "metadata": {},
   "outputs": [],
   "source": [
    "# cids = resultsDF['ContestId'].unique()\n",
    "# combinedObjs = []\n",
    "# count = 0\n",
    "# for cid in cids[:]:\n",
    "#     obj = {'ContestId':cid}\n",
    "#     count+=1\n",
    "#     duration = durations[durations['ContestId']==cid].iloc[0].Duration\n",
    "#     obj['Duration']=duration\n",
    "#     for v in versions:\n",
    "#         currC = resultsDF[resultsDF['ContestId']==cid]\n",
    "#         AB = str(currC[currC['label']==v].Xf.iloc[0])[1:-1].split(', ')\n",
    "        \n",
    "#         obj['A'+v]=AB[0]\n",
    "#         obj['B'+v]=AB[1]\n",
    "#     if(count%10000==0):\n",
    "#         print(str(count)+\".../...\"+str(len(cids)))\n",
    "# #         print(obj)\n",
    "#     combinedObjs.append(obj)"
   ]
  },
  {
   "cell_type": "code",
   "execution_count": 6,
   "metadata": {},
   "outputs": [],
   "source": [
    "# combinedDF = pd.DataFrame(data = combinedObjs).set_index('ContestId')"
   ]
  },
  {
   "cell_type": "code",
   "execution_count": 7,
   "metadata": {},
   "outputs": [],
   "source": [
    "# combinedDF.to_csv('data/QR_Results.csv')"
   ]
  },
  {
   "cell_type": "markdown",
   "metadata": {},
   "source": [
    "---"
   ]
  },
  {
   "cell_type": "code",
   "execution_count": 8,
   "metadata": {},
   "outputs": [],
   "source": [
    "# qrDF = pd.read_csv('data/QR_Results.csv').set_index('ContestId')\n",
    "# qrDFCols = qrDF.columns\n",
    "# dropList = []\n",
    "# vNames = []\n",
    "# for col in qrDFCols:\n",
    "#     if(\"Pred\" in col):\n",
    "#         dropList.append(col)\n",
    "#     if(col[0]==\"A\"):\n",
    "#         vNames.append(col[1:])\n",
    "# qrDF = qrDF.drop(columns = dropList)"
   ]
  },
  {
   "cell_type": "code",
   "execution_count": 9,
   "metadata": {},
   "outputs": [],
   "source": [
    "# successDF = pd.read_csv('data/WorkedData.csv').set_index('ContestId')[['Success']]\n",
    "# contestsDF = pd.read_csv('data/WorkingData.csv').set_index('ContestId')[['EntryFeeAmount', 'TotalPrizeAmount', 'MaxNumberPlayers']]\n",
    "# contestsDF = pd.merge(contestsDF, successDF, on='ContestId', how='left')"
   ]
  },
  {
   "cell_type": "code",
   "execution_count": 10,
   "metadata": {
    "scrolled": true
   },
   "outputs": [],
   "source": [
    "# resultsDF = pd.merge(qrDF, contestsDF, on='ContestId', how='left').dropna()"
   ]
  },
  {
   "cell_type": "code",
   "execution_count": null,
   "metadata": {},
   "outputs": [],
   "source": []
  }
 ],
 "metadata": {
  "kernelspec": {
   "display_name": "Python 3",
   "language": "python",
   "name": "python3"
  },
  "language_info": {
   "codemirror_mode": {
    "name": "ipython",
    "version": 3
   },
   "file_extension": ".py",
   "mimetype": "text/x-python",
   "name": "python",
   "nbconvert_exporter": "python",
   "pygments_lexer": "ipython3",
   "version": "3.6.5"
  }
 },
 "nbformat": 4,
 "nbformat_minor": 2
}

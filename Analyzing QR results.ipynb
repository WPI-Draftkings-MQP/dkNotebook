{
 "cells": [
  {
   "cell_type": "code",
   "execution_count": 1,
   "metadata": {},
   "outputs": [],
   "source": [
    "import pandas as pd\n",
    "import numpy as np\n",
    "import os"
   ]
  },
  {
   "cell_type": "markdown",
   "metadata": {},
   "source": [
    "---"
   ]
  },
  {
   "cell_type": "code",
   "execution_count": 2,
   "metadata": {},
   "outputs": [],
   "source": [
    "# fullContests = pd.read_csv('data/WorkingData.csv')\n",
    "# durations = pd.read_csv('data/Durations.csv').drop(columns=['Unnamed: 0'])"
   ]
  },
  {
   "cell_type": "code",
   "execution_count": 3,
   "metadata": {},
   "outputs": [],
   "source": [
    "# dirList = os.listdir(\"data/results/\")\n",
    "# kalmanResults = []\n",
    "# for filename in dirList: #limit to .csv\n",
    "#     if(filename[-4:] == '.csv'):\n",
    "#         kalmanResults.append(pd.read_csv('data/results/'+filename).drop(columns=['Unnamed: 0']))\n",
    "# resultsDF = pd.concat(kalmanResults)"
   ]
  },
  {
   "cell_type": "code",
   "execution_count": 4,
   "metadata": {},
   "outputs": [],
   "source": [
    "# versions = resultsDF['label'].unique()\n",
    "# print(versions)"
   ]
  },
  {
   "cell_type": "code",
   "execution_count": 5,
   "metadata": {},
   "outputs": [],
   "source": [
    "# cids = resultsDF['ContestId'].unique()\n",
    "# combinedObjs = []\n",
    "# count = 0\n",
    "# for cid in cids[:]:\n",
    "#     obj = {'ContestId':cid}\n",
    "#     count+=1\n",
    "#     duration = durations[durations['ContestId']==cid].iloc[0].Duration\n",
    "#     obj['Duration']=duration\n",
    "#     for v in versions:\n",
    "#         currC = resultsDF[resultsDF['ContestId']==cid]\n",
    "#         AB = str(currC[currC['label']==v].Xf.iloc[0])[1:-1].split(', ')\n",
    "        \n",
    "#         obj['A'+v]=AB[0]\n",
    "#         obj['B'+v]=AB[1]\n",
    "#     if(count%10000==0):\n",
    "#         print(str(count)+\".../...\"+str(len(cids)))\n",
    "# #         print(obj)\n",
    "#     combinedObjs.append(obj)"
   ]
  },
  {
   "cell_type": "code",
   "execution_count": 6,
   "metadata": {},
   "outputs": [],
   "source": [
    "# combinedDF = pd.DataFrame(data = combinedObjs).set_index('ContestId')"
   ]
  },
  {
   "cell_type": "code",
   "execution_count": 7,
   "metadata": {},
   "outputs": [],
   "source": [
    "# combinedDF.to_csv('data/QR_Results.csv')"
   ]
  },
  {
   "cell_type": "markdown",
   "metadata": {},
   "source": [
    "---"
   ]
  },
  {
   "cell_type": "code",
   "execution_count": 8,
   "metadata": {},
   "outputs": [],
   "source": [
    "# qrDF = pd.read_csv('data/QR_Results.csv').set_index('ContestId')\n",
    "# qrDFCols = qrDF.columns\n",
    "# dropList = []\n",
    "# vNames = []\n",
    "# for col in qrDFCols:\n",
    "#     if(\"Pred\" in col):\n",
    "#         dropList.append(col)\n",
    "#     if(col[0]==\"A\"):\n",
    "#         vNames.append(col[1:])\n",
    "# qrDF = qrDF.drop(columns = dropList)"
   ]
  },
  {
   "cell_type": "code",
   "execution_count": 9,
   "metadata": {},
   "outputs": [],
   "source": [
    "# successDF = pd.read_csv('data/WorkedData.csv').set_index('ContestId')[['Success']]\n",
    "# contestsDF = pd.read_csv('data/WorkingData.csv').set_index('ContestId')[['EntryFeeAmount', 'TotalPrizeAmount', 'MaxNumberPlayers']]\n",
    "# contestsDF = pd.merge(contestsDF, successDF, on='ContestId', how='left')"
   ]
  },
  {
   "cell_type": "code",
   "execution_count": 10,
   "metadata": {
    "scrolled": true
   },
   "outputs": [],
   "source": [
    "# resultsDF = pd.merge(qrDF, contestsDF, on='ContestId', how='left').dropna()"
   ]
  },
  {
   "cell_type": "markdown",
   "metadata": {},
   "source": [
    "---\n",
    "### ROC Curves"
   ]
  },
  {
   "cell_type": "code",
   "execution_count": 11,
   "metadata": {},
   "outputs": [],
   "source": [
    "import matplotlib.pyplot as plt"
   ]
  },
  {
   "cell_type": "code",
   "execution_count": 12,
   "metadata": {},
   "outputs": [],
   "source": [
    "def getRates(df):\n",
    "    results = []\n",
    "    for c in df.columns.drop('Success'):\n",
    "        label = c[len(\"Pred\"):-len(\"_Scaled\")]\n",
    "        FP, TP = [], []\n",
    "        FN, TN = [], []\n",
    "        for i in range(0, 100):\n",
    "            threshold=i/100.\n",
    "            FP.append(len(df[(df[c]<threshold) & (df['Success']==1)])/len(df[df['Success']==1]))\n",
    "            TP.append(len(df[(df[c]<threshold) & (df['Success']==0)])/len(df[df['Success']==0]))\n",
    "            FN.append(len(df[(df[c]>threshold) & (df['Success']==0)])/len(df[df['Success']==0]))\n",
    "            TN.append(len(df[(df[c]>threshold) & (df['Success']==1)])/len(df[df['Success']==1]))\n",
    "        results.append({'Label':label, \"TP\":TP, \"FP\":FP, \"TN\":TN, \"FN\":FN})\n",
    "    return results\n"
   ]
  },
  {
   "cell_type": "code",
   "execution_count": null,
   "metadata": {},
   "outputs": [],
   "source": [
    "def rocCurve(results, positives = True, title = 'default'):\n",
    "    fig, ax = plt.subplots()\n",
    "    fig.set_size_inches(5, 5)\n",
    "    columns = ['TP', 'FP']\n",
    "    if(not positives):\n",
    "        columns = ['TN', 'FN']\n",
    "    titleStr = \"ROC for \"\n",
    "    for r in results:\n",
    "        label = r['Label']\n",
    "        TP, FP = r[columns[0]], r[columns[1]]\n",
    "        titleStr = titleStr + \" \" + label\n",
    "        ax.plot(FP, TP, alpha=0.4)\n",
    "#     plt.plot(data)\n",
    "    ax.set_xlabel(columns[1]+ ' Rate', fontsize=10)\n",
    "    ax.set_ylabel(columns[0]+ ' Rate', fontsize='medium')  \n",
    "    ax.set_xlim(xmax=1., xmin=0.)\n",
    "    ax.set_ylim(ymax=1., ymin=0.)\n",
    "    ax.grid(color='r', linestyle='-', linewidth=2)\n",
    "    if(title != 'default'):\n",
    "        fig.suptitle(title)\n",
    "    else:\n",
    "        fig.suptitle(titleStr)\n"
   ]
  },
  {
   "cell_type": "code",
   "execution_count": 16,
   "metadata": {},
   "outputs": [],
   "source": [
    "# rates = getRates(qrPredsDF)\n",
    "# maxedRates = getRates(maxedDF)\n",
    "# avgRate = getRates(avgVal(maxedDF)[['AvgPred', 'Success']])"
   ]
  },
  {
   "cell_type": "code",
   "execution_count": 17,
   "metadata": {},
   "outputs": [],
   "source": [
    "# positives = True\n",
    "# rocCurve(rates, positives=positives, title = \"ROC for raw\")\n",
    "# rocCurve(maxedRates, positives=positives, title = \"ROC for scaledBackTo1\")\n",
    "# rocCurve(avgRate, positives=positives, title = \"ROC for Avg\")"
   ]
  },
  {
   "cell_type": "markdown",
   "metadata": {},
   "source": [
    "---"
   ]
  },
  {
   "cell_type": "code",
   "execution_count": 18,
   "metadata": {},
   "outputs": [],
   "source": [
    "from sklearn.ensemble import RandomForestClassifier\n",
    "from sklearn.metrics import accuracy_score\n",
    "from sklearn.metrics import confusion_matrix\n",
    "\n",
    "from ipywidgets import IntProgress\n",
    "from IPython.display import display, HTML"
   ]
  },
  {
   "cell_type": "code",
   "execution_count": 19,
   "metadata": {},
   "outputs": [],
   "source": [
    "#Samples DF for an approximate numnber of rows  (Needed for cutDF)\n",
    "def cutDF(df, intendedNumber):\n",
    "    df = df.sample(frac=intendedNumber/len(df), replace=True)\n",
    "    return df\n",
    "\n",
    "#Returns DF with ~50/50 split on specified binary column\n",
    "def balanceDF(df, colName, numberOfEach = 0):\n",
    "    successDF, failDF = df[df[colName] == 1], df[df[colName] == 0]\n",
    "    if(numberOfEach == 0):\n",
    "        maxContestsForBalance = min(len(successDF), len(failDF))\n",
    "        numberOfEach = int(maxContestsForBalance*.1)\n",
    "    combinedDF = pd.concat([cutDF(successDF, numberOfEach), cutDF(failDF, numberOfEach)])\n",
    "    return combinedDF.sample(frac=1)\n",
    "\n",
    "def splitTrainingTesting(df, percentTrain):\n",
    "    df['is_train'] = np.random.uniform(0, 1, len(df)) <= percentTrain\n",
    "    trainDF, testDF = df[df['is_train']==True], df[df['is_train']==False]\n",
    "    df = df.drop(['is_train'], axis=1)\n",
    "    trainDF = trainDF.drop(['is_train'], axis=1)\n",
    "    testDF = testDF.drop(['is_train'], axis=1)\n",
    "    return trainDF, testDF\n",
    "def makeAndTrainClassifier(trainDF, classifierType): \n",
    "    clfFeatures = trainDF.columns.drop('Success')\n",
    "    trainActual = trainDF['Success']\n",
    "    clf = classifierType()\n",
    "    clf.fit(trainDF[clfFeatures], trainActual.astype('int'))\n",
    "    return clf\n",
    "def classifierWrapper(trainDF, classifierType, balanced=False):\n",
    "    if(balanced):\n",
    "        trainDF = balanceDF(trainDF, 'Success')\n",
    "    clf = makeAndTrainClassifier(trainDF, classifierType)\n",
    "    columns = trainDF.columns\n",
    "    return clf, columns\n",
    "\n",
    "def getEnsembleResults(df, CLFs, threshold):\n",
    "    localDF = df.copy(deep=True)\n",
    "    preds = testEnsemble(localDF, CLFs)\n",
    "    combinedPreds = combineCLFsPredictions(preds)\n",
    "    return  localDF.assign(Prediction = makeDiscrete(combinedPreds, threshold))[['Success', 'Prediction']]\n",
    "\n",
    "def testEnsemble(testDF, ensemble):\n",
    "    testActual = testDF['Success']\n",
    "    clfFeatures = testDF[testDF.columns.drop('Success')]\n",
    "    preds = []\n",
    "    for clf in ensemble:\n",
    "        preds.append(clf['clf'].predict(testDF[clf['cols'].drop('Success')]))\n",
    "    return preds\n",
    "def makeDiscrete(array, threshold, isArray=False):\n",
    "    dArr = []\n",
    "    for v in array:\n",
    "        value = v\n",
    "        if(isArray):\n",
    "            value = sum(v)/float(len(v))\n",
    "        if(value < threshold):\n",
    "            dArr.append(0.)\n",
    "        else:\n",
    "            dArr.append(1.)\n",
    "    return dArr\n",
    "def combineCLFsPredictions(preds):\n",
    "    numContests = len(preds)\n",
    "    newPreds = []\n",
    "    for c in range(0, len(preds[0])):\n",
    "        predSum = 0\n",
    "        for CLF in range(0, len(preds)):\n",
    "            singlePred = preds[CLF][c]\n",
    "            predSum += singlePred\n",
    "        newPreds.append(predSum/(float(numContests)))\n",
    "    return newPreds\n",
    "\n",
    "accuracies = []\n",
    "def makeEnsembleWithMinAcc(testDF, testActual, numClassifiers, minAcc, minLogThreshold = 1.0):\n",
    "    goodCLFs = []\n",
    "    genBar = IntProgress(min=0, max=numClassifiers, description='Collecting Accurate CLFs:')\n",
    "    display(genBar)\n",
    "    for i in range(0, numClassifiers):\n",
    "        acc = 0\n",
    "        clf, cols = 'err', 'err'    \n",
    "        while acc < minAcc:\n",
    "            clf, cols = classifierWrapper(trainDF, RandomForestClassifier, balanced=True)\n",
    "            pred = clf.predict(testDF[cols.drop('Success')])\n",
    "            acc = accuracy_score(testActual.astype('int'), pred)\n",
    "        if(acc > minLogThreshold):\n",
    "            print(\"#\"+str(len(goodCLFs)-1)+\":\", acc)\n",
    "        accuracies.append(acc)\n",
    "        goodCLFs.append({'clf': clf, 'cols':cols})\n",
    "        genBar.value += 1\n",
    "    return goodCLFs\n",
    "def trainEnsemble(trainDF, numClassifiers = 100, classifierType = RandomForestClassifier, balanced = True):\n",
    "    if classifierType == 'random':\n",
    "        classifierType = getRandomClassifier()\n",
    "    trainBar = IntProgress(min=0, max=numClassifiers, description='Training:')\n",
    "    display(trainBar)\n",
    "    clfs = []\n",
    "    for c in range(0, numClassifiers):\n",
    "        tDF = trainDF.copy()\n",
    "        clf, cols = classifierWrapper(tDF, classifierType, balanced, numColumns=10)\n",
    "        clfs.append({'clf': clf, 'cols':cols})\n",
    "        trainBar.value += 1\n",
    "    return clfs\n"
   ]
  },
  {
   "cell_type": "code",
   "execution_count": 210,
   "metadata": {},
   "outputs": [],
   "source": [
    "# def rocCurve(results, positives = True, title = 'default'):\n",
    "#     fig, ax = plt.subplots()\n",
    "#     fig.set_size_inches(5, 5)\n",
    "#     columns = ['TP', 'FP']\n",
    "#     if(not positives):\n",
    "#         columns = ['TN', 'FN']\n",
    "#     titleStr = \"ROC for \"\n",
    "#     for r in results:\n",
    "#         label = r['Label']\n",
    "#         TP, FP = r[columns[0]], r[columns[1]]\n",
    "#         titleStr = titleStr + \" \" + label\n",
    "#         ax.plot(FP, TP, alpha=0.4)\n",
    "# #     plt.plot(data)\n",
    "#     ax.set_xlabel(columns[1]+ ' Rate', fontsize=10)\n",
    "#     ax.set_ylabel(columns[0]+ ' Rate', fontsize='medium')  \n",
    "#     ax.set_xlim(xmax=1., xmin=0.)\n",
    "#     ax.set_ylim(ymax=1., ymin=0.)\n",
    "#     ax.grid(color='r', linestyle='-', linewidth=2)\n",
    "#     if(title != 'default'):\n",
    "#         fig.suptitle(title)\n",
    "#     else:\n",
    "#         fig.suptitle(titleStr)\n",
    "\n"
   ]
  },
  {
   "cell_type": "code",
   "execution_count": 103,
   "metadata": {},
   "outputs": [],
   "source": [
    "\n",
    "def rocObj(label, FP='-', TP='-', FN='-', TN='-'):\n",
    "    obj = {'Label':label }\n",
    "    if(not(FP is '-')):\n",
    "        obj['FP'] = FP\n",
    "    if(not(FN is '-')):\n",
    "        obj['FN'] = FN\n",
    "    if(not(TP is '-')):\n",
    "        obj['TP'] = TP\n",
    "    if(not(TN is '-')):\n",
    "        obj['TN'] = TN\n",
    "    return obj\n",
    "def maxAtN(df, dropCols = ['Success'], N = 1.):\n",
    "    for c in df.columns.drop(dropCols):\n",
    "        df[c].where(df[c] <= N, N) \n",
    "    return df\n",
    "def avgVal(df, dropCols = ['Success']):\n",
    "    df['AvgPred'] = df.drop(columns=dropCols).mean(axis=1)\n",
    "    return df\n",
    "def getRates(df,label='nonCLF'):\n",
    "    results = []\n",
    "    for c in df.columns.drop('Success'):\n",
    "#         label = c[len(\"Pred\"):-len(\"_Scaled\")]\n",
    "        FP, TP = [], []\n",
    "        FN, TN = [], []\n",
    "        for i in range(0, 100):\n",
    "            threshold=i/100.\n",
    "            FP.append(len(df[(df[c]<threshold) & (df['Success']==1)])/len(df[df['Success']==1]))\n",
    "            TP.append(len(df[(df[c]<threshold) & (df['Success']==0)])/len(df[df['Success']==0]))\n",
    "            FN.append(len(df[(df[c]>threshold) & (df['Success']==0)])/len(df[df['Success']==0]))\n",
    "            TN.append(len(df[(df[c]>threshold) & (df['Success']==1)])/len(df[df['Success']==1]))\n",
    "        results.append(rocObj(label, TP=TP, FP=FP, TN=TN, FN=FN))\n",
    "    return results\n",
    "def getRatesCLF(df, CLFS, label='CLF'):\n",
    "    results = []\n",
    "    FP, TP = [], []\n",
    "    FN, TN = [], []\n",
    "    trainBar = IntProgress(min=0, max=100, description='Testing Thresholds:')\n",
    "    display(trainBar)\n",
    "    for i in range(0, 100)[:]:\n",
    "        threshold=i/100.\n",
    "        resultsDF = getEnsembleResults(df, CLFS, threshold)\n",
    "        FP.append(len(resultsDF[(resultsDF['Prediction']==0) & (resultsDF['Success']==1)])/len(resultsDF[resultsDF['Success']==1]))\n",
    "        TP.append(len(resultsDF[(resultsDF['Prediction']==0) & (resultsDF['Success']==0)])/len(resultsDF[resultsDF['Success']==0]))\n",
    "        FN.append(len(resultsDF[(resultsDF['Prediction']==1) & (resultsDF['Success']==0)])/len(resultsDF[resultsDF['Success']==0]))\n",
    "        TN.append(len(resultsDF[(resultsDF['Prediction']==1) & (resultsDF['Success']==1)])/len(resultsDF[resultsDF['Success']==1]))\n",
    "        trainBar.value+=1\n",
    "    results.append(rocObj(label, TP=TP, FP=FP, TN=TN, FN=FN))\n",
    "    return results"
   ]
  },
  {
   "cell_type": "markdown",
   "metadata": {},
   "source": [
    "## Analysis"
   ]
  },
  {
   "cell_type": "code",
   "execution_count": 47,
   "metadata": {},
   "outputs": [
    {
     "name": "stdout",
     "output_type": "stream",
     "text": [
      "Num QR Data Points: 46000 --> 33473\n"
     ]
    }
   ],
   "source": [
    "contests = pd.read_csv('data/WorkedData.csv')\n",
    "qrPredsDF = pd.read_csv('data/QR_Preds.csv').set_index('ContestId').drop(columns=['is_train'])\n",
    "print(\"Num QR Data Points: 46000 -->\", len(qrPredsDF))"
   ]
  },
  {
   "cell_type": "markdown",
   "metadata": {},
   "source": [
    "##### Avg QR Rates"
   ]
  },
  {
   "cell_type": "code",
   "execution_count": 104,
   "metadata": {},
   "outputs": [],
   "source": [
    "maxedDF = maxAtN(qrPredsDF, N=1.)\n",
    "avgRate = getRates(avgVal(maxedDF)[['AvgPred', 'Success']], label='Avg Kalman Pred')"
   ]
  },
  {
   "cell_type": "markdown",
   "metadata": {},
   "source": [
    "##### Kalman Ensemble Rates"
   ]
  },
  {
   "cell_type": "code",
   "execution_count": 58,
   "metadata": {},
   "outputs": [
    {
     "data": {
      "application/vnd.jupyter.widget-view+json": {
       "model_id": "13bb5c1e47fa47ff9ff80d2d4bfbcae1",
       "version_major": 2,
       "version_minor": 0
      },
      "text/plain": [
       "IntProgress(value=0, description='Collecting Accurate CLFs:', max=20)"
      ]
     },
     "metadata": {},
     "output_type": "display_data"
    },
    {
     "data": {
      "application/vnd.jupyter.widget-view+json": {
       "model_id": "fa64f280f4ea409e86ea11c7b720369d",
       "version_major": 2,
       "version_minor": 0
      },
      "text/plain": [
       "IntProgress(value=0, description='Testing Thresholds:')"
      ]
     },
     "metadata": {},
     "output_type": "display_data"
    }
   ],
   "source": [
    "trainDF, testDF = splitTrainingTesting(maxedDF, .75)\n",
    "CLFS = makeEnsembleWithMinAcc(trainDF, trainDF['Success'].astype('int'), 20, .6)\n",
    "kalmanEnsRates = getRatesCLF(testDF, CLFS, label=\"Kalman Ensemble\")"
   ]
  },
  {
   "cell_type": "markdown",
   "metadata": {},
   "source": [
    "##### Contests Ensemble Rates"
   ]
  },
  {
   "cell_type": "code",
   "execution_count": 60,
   "metadata": {},
   "outputs": [
    {
     "data": {
      "application/vnd.jupyter.widget-view+json": {
       "model_id": "bbb4d6309dc6423d88e520846a48dbc7",
       "version_major": 2,
       "version_minor": 0
      },
      "text/plain": [
       "IntProgress(value=0, description='Collecting Accurate CLFs:', max=20)"
      ]
     },
     "metadata": {},
     "output_type": "display_data"
    },
    {
     "data": {
      "application/vnd.jupyter.widget-view+json": {
       "model_id": "c2aa88d0499b4537945a3c06a7982b2d",
       "version_major": 2,
       "version_minor": 0
      },
      "text/plain": [
       "IntProgress(value=0, description='Testing Thresholds:')"
      ]
     },
     "metadata": {},
     "output_type": "display_data"
    }
   ],
   "source": [
    "trainDF, testDF = splitTrainingTesting(contests.drop(columns=['FillGapDollars', 'TrueLoss']), .75)\n",
    "CLFS = makeEnsembleWithMinAcc(trainDF, trainDF['Success'].astype('int'), 20, .6)\n",
    "contestEnsRates = getRatesCLF(testDF, CLFS, label=\"A Priori Ensemble\")"
   ]
  },
  {
   "cell_type": "markdown",
   "metadata": {},
   "source": [
    "##### Full Ensemble Rates"
   ]
  },
  {
   "cell_type": "code",
   "execution_count": 61,
   "metadata": {},
   "outputs": [],
   "source": [
    "#Success dropped since maxedDF also has it\n",
    "mergedDF = pd.merge(maxedDF, contests.drop(columns=['Success', 'FillGapDollars', 'TrueLoss']), on='ContestId', how='left').set_index('ContestId')"
   ]
  },
  {
   "cell_type": "code",
   "execution_count": 62,
   "metadata": {
    "scrolled": true
   },
   "outputs": [
    {
     "data": {
      "application/vnd.jupyter.widget-view+json": {
       "model_id": "74ec5c5ef08a4ddc933f4e9f1c33ee0f",
       "version_major": 2,
       "version_minor": 0
      },
      "text/plain": [
       "IntProgress(value=0, description='Collecting Accurate CLFs:', max=20)"
      ]
     },
     "metadata": {},
     "output_type": "display_data"
    },
    {
     "data": {
      "application/vnd.jupyter.widget-view+json": {
       "model_id": "65ff350a95d04337b6d49182b833534e",
       "version_major": 2,
       "version_minor": 0
      },
      "text/plain": [
       "IntProgress(value=0, description='Testing Thresholds:')"
      ]
     },
     "metadata": {},
     "output_type": "display_data"
    }
   ],
   "source": [
    "trainDF, testDF = splitTrainingTesting(mergedDF, .75)\n",
    "CLFS = makeEnsembleWithMinAcc(trainDF, trainDF['Success'].astype('int'), 20, .6)\n",
    "fullEnsRates = getRatesCLF(testDF, CLFS, label=\"Full Ensemble\")"
   ]
  },
  {
   "cell_type": "markdown",
   "metadata": {},
   "source": [
    "##### Brown Rates"
   ]
  },
  {
   "cell_type": "code",
   "execution_count": 167,
   "metadata": {},
   "outputs": [],
   "source": [
    "brownDF = pd.read_csv('data/browncurve.csv', header=None, names=['FP', 'TP'])\n",
    "brownRates = [rocObj('Brown Curve', FP=brownDF['FP'].values, TP=brownDF['TP'].values)]"
   ]
  },
  {
   "cell_type": "markdown",
   "metadata": {},
   "source": [
    "#### TP=FP^3"
   ]
  },
  {
   "cell_type": "code",
   "execution_count": 154,
   "metadata": {},
   "outputs": [],
   "source": [
    "TP, FP = [], []\n",
    "for i in range(0, 100):\n",
    "    x = i/100.\n",
    "    y = x*x*x*x\n",
    "    TP.append(1-y)\n",
    "    FP.append(1-x)\n",
    "FP3 = [rocObj('x^3', FP=FP, TP=TP)]"
   ]
  },
  {
   "cell_type": "markdown",
   "metadata": {},
   "source": [
    "### Actually plot"
   ]
  },
  {
   "cell_type": "code",
   "execution_count": 161,
   "metadata": {},
   "outputs": [],
   "source": [
    "def plotRocs(rocObjArray):\n",
    "    fig = plt.figure()\n",
    "    fig.set_size_inches(10, 10)\n",
    "\n",
    "    ax = fig.add_subplot(1,1,1)\n",
    "    \n",
    "    for rocObj in rocObjArray:\n",
    "        label = rocObj[0]['Label']\n",
    "        FP, TP = rocObj[0]['FP'], rocObj[0]['TP']\n",
    "        ax.plot(FP,TP,'-' ,label = label,zorder = -32, alpha=.5)\n",
    "\n",
    "    handles, labels = ax.get_legend_handles_labels()\n",
    "    display = (0,71)\n",
    "    ax.set_xlabel('FP Rate')\n",
    "    ax.set_xlim(0,1)\n",
    "    ax.set_ylabel('TP Rate')\n",
    "    ax.set_ylim(0,1)\n",
    "    ax.grid(color='black', linestyle='-', linewidth=1, alpha=.5)\n",
    "    ax.set_title('ROC Curve Compliation')\n",
    "    ax.legend()"
   ]
  },
  {
   "cell_type": "code",
   "execution_count": 168,
   "metadata": {},
   "outputs": [
    {
     "data": {
      "image/png": "[encoded data removed]",
      "text/plain": [
       "<Figure size 720x720 with 1 Axes>"
      ]
     },
     "metadata": {},
     "output_type": "display_data"
    }
   ],
   "source": [
    "rocObjArray = [avgRate, kalmanEnsRates, contestEnsRates, fullEnsRates, brownRates]\n",
    "plotRocs(rocObjArray)"
   ]
  },
  {
   "cell_type": "code",
   "execution_count": null,
   "metadata": {},
   "outputs": [],
   "source": []
  }
 ],
 "metadata": {
  "kernelspec": {
   "display_name": "Python 3",
   "language": "python",
   "name": "python3"
  },
  "language_info": {
   "codemirror_mode": {
    "name": "ipython",
    "version": 3
   },
   "file_extension": ".py",
   "mimetype": "text/x-python",
   "name": "python",
   "nbconvert_exporter": "python",
   "pygments_lexer": "ipython3",
   "version": "3.6.5"
  }
 },
 "nbformat": 4,
 "nbformat_minor": 2
}

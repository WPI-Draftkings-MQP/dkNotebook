{
 "cells": [
  {
   "cell_type": "code",
   "execution_count": 1,
   "metadata": {},
   "outputs": [],
   "source": [
    "import pandas as pd\n",
    "import numpy as np"
   ]
  },
  {
   "cell_type": "code",
   "execution_count": 3,
   "metadata": {},
   "outputs": [],
   "source": [
    "# takes ~75 seconds...\n",
    "jDF = pd.read_csv('data/JacksonData_01_29.csv').drop(columns=['Unnamed: 0'])"
   ]
  },
  {
   "cell_type": "code",
   "execution_count": 5,
   "metadata": {},
   "outputs": [],
   "source": [
    "chunkMapDF = pd.read_csv('data/ChunkMap.csv')"
   ]
  },
  {
   "cell_type": "code",
   "execution_count": 23,
   "metadata": {},
   "outputs": [
    {
     "name": "stdout",
     "output_type": "stream",
     "text": [
      "chunk1 ... done\n",
      "chunk2 ... done\n",
      "chunk3 ... done\n",
      "chunk4 ... done\n",
      "chunk5 ... done\n",
      "chunk6 ... done\n",
      "chunk7 ... done\n",
      "chunk8 ... done\n",
      "chunk9 ... done\n",
      "chunk10 ... done\n",
      "chunk11 ... done\n",
      "chunk12 ... done\n",
      "chunk13 ... done\n",
      "chunk14 ... done\n",
      "chunk15 ... done\n",
      "chunk16 ... done\n",
      "chunk17 ... done\n",
      "chunk18 ... done\n",
      "chunk19 ... done\n",
      "chunk20 ... done\n",
      "chunk21 ... done\n",
      "chunk22 ... done\n",
      "chunk23 ... done\n",
      "chunk24 ... done\n",
      "chunk25 ... done\n",
      "chunk26 ... done\n",
      "chunk27 ... done\n",
      "chunk28 ... done\n",
      "chunk29 ... done\n",
      "chunk30 ... done\n",
      "chunk31 ... done\n",
      "chunk32 ... done\n",
      "chunk33 ... done\n",
      "chunk34 ... done\n",
      "chunk35 ... done\n",
      "chunk36 ... done\n",
      "chunk37 ... done\n",
      "chunk38 ... done\n",
      "chunk39 ... done\n",
      "chunk40 ... done\n",
      "chunk41 ... done\n",
      "chunk42 ... done\n",
      "chunk43 ... done\n",
      "chunk44 ... done\n",
      "chunk45 ... done\n",
      "chunk46 ... done\n",
      "chunk47 ... done\n",
      "chunk48 ... done\n"
     ]
    }
   ],
   "source": [
    "for chunkName in chunkMapDF['Chunk'].unique()[:]:\n",
    "    ids = chunkMapDF[chunkMapDF['Chunk']==chunkName]['ContestId'].unique()\n",
    "    thisChunk = jDF[jDF['ContestId'].isin(ids)]\n",
    "    thisChunk.to_csv('data/JChunks/'+chunkName+'.csv')\n",
    "    print(chunkName + \" ... done\")"
   ]
  },
  {
   "cell_type": "code",
   "execution_count": 20,
   "metadata": {},
   "outputs": [
    {
     "data": {
      "text/plain": [
       "5423"
      ]
     },
     "execution_count": 20,
     "metadata": {},
     "output_type": "execute_result"
    }
   ],
   "source": [
    "len(thisChunk['ContestId'].unique())"
   ]
  },
  {
   "cell_type": "code",
   "execution_count": null,
   "metadata": {},
   "outputs": [],
   "source": []
  }
 ],
 "metadata": {
  "kernelspec": {
   "display_name": "Python 3",
   "language": "python",
   "name": "python3"
  },
  "language_info": {
   "codemirror_mode": {
    "name": "ipython",
    "version": 3
   },
   "file_extension": ".py",
   "mimetype": "text/x-python",
   "name": "python",
   "nbconvert_exporter": "python",
   "pygments_lexer": "ipython3",
   "version": "3.6.5"
  }
 },
 "nbformat": 4,
 "nbformat_minor": 2
}

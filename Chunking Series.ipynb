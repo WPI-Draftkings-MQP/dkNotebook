{
 "cells": [
  {
   "cell_type": "code",
   "execution_count": 1,
   "metadata": {},
   "outputs": [],
   "source": [
    "import numpy as np\n",
    "import pandas as pd\n",
    "\n",
    "import os\n",
    "\n",
    "import matplotlib.pyplot as plt\n",
    "from ipywidgets import IntProgress"
   ]
  },
  {
   "cell_type": "code",
   "execution_count": 2,
   "metadata": {},
   "outputs": [],
   "source": [
    "dirList = os.listdir(\"data/WPI/\")\n",
    "fList = []\n",
    "for filename in dirList: #limit to .csv\n",
    "    if(filename[-4:] == '.csv'):\n",
    "        fList.append(filename[:]) "
   ]
  },
  {
   "cell_type": "code",
   "execution_count": 10,
   "metadata": {},
   "outputs": [
    {
     "data": {
      "application/vnd.jupyter.widget-view+json": {
       "model_id": "a98b5df3e1f1466b9686a305be1a9927",
       "version_major": 2,
       "version_minor": 0
      },
      "text/plain": [
       "IntProgress(value=0, max=35)"
      ]
     },
     "metadata": {},
     "output_type": "display_data"
    },
    {
     "data": {
      "text/plain": [
       "Text(0,0.5,'File#')"
      ]
     },
     "execution_count": 10,
     "metadata": {},
     "output_type": "execute_result"
    },
    {
     "data": {
      "image/png": "[encoded data removed]",
      "text/plain": [
       "<Figure size 432x288 with 1 Axes>"
      ]
     },
     "metadata": {},
     "output_type": "display_data"
    }
   ],
   "source": [
    "f = IntProgress(min=0, max=len(fList))\n",
    "display(f)\n",
    "\n",
    "i = 0\n",
    "allIDs = []\n",
    "empty=True\n",
    "fullDF = -1\n",
    "for file in fList[:]:\n",
    "    i+=1\n",
    "    fDF = pd.read_csv(\"data/WPI/\"+file)\n",
    "    fDF.columns = ['ContestId', 'SecondsRemaining', 'Entries']\n",
    "    if(empty):\n",
    "        fullDF = fDF\n",
    "        empty = False\n",
    "    else:\n",
    "        fullDF = pd.concat([fullDF,fDF])\n",
    "#     fDF = fDF.set_index('ContestId')\n",
    "    ids = fDF.ContestId.unique()\n",
    "    allIDs = allIDs + list(ids)\n",
    "    ammounts = [i]*len(ids)\n",
    "    plt.scatter(ids, ammounts)\n",
    "    f.value+= 1\n",
    "\n",
    "plt.xlabel(\"IDs\")\n",
    "plt.ylabel(\"File#\")"
   ]
  },
  {
   "cell_type": "code",
   "execution_count": 4,
   "metadata": {},
   "outputs": [],
   "source": [
    "def chunkify(l, n):\n",
    "    for i in range(0, len(l), n):\n",
    "        yield l[i:i + n]"
   ]
  },
  {
   "cell_type": "code",
   "execution_count": 9,
   "metadata": {},
   "outputs": [
    {
     "data": {
      "application/vnd.jupyter.widget-view+json": {
       "model_id": "ed824a3550514c539b6446021260df7a",
       "version_major": 2,
       "version_minor": 0
      },
      "text/plain": [
       "IntProgress(value=0, max=48)"
      ]
     },
     "metadata": {},
     "output_type": "display_data"
    }
   ],
   "source": [
    "i = 0\n",
    "idMap, dfChunks = {}, []\n",
    "chunks = list(chunkify(allIDs, 10000))\n",
    "\n",
    "f = IntProgress(min=0, max=len(chunks))\n",
    "display(f)\n",
    "\n",
    "for chunk in chunks[:]:\n",
    "    i += 1\n",
    "    idMap[\"chunk\"+str(i)] = chunk\n",
    "    subDF = fullDF[fullDF['ContestId'].isin(chunk)]\n",
    "    dfChunks.append(subDF)\n",
    "    f.value += 1"
   ]
  },
  {
   "cell_type": "code",
   "execution_count": 13,
   "metadata": {},
   "outputs": [
    {
     "data": {
      "text/plain": [
       "Text(0,0.5,'Number of entries')"
      ]
     },
     "execution_count": 13,
     "metadata": {},
     "output_type": "execute_result"
    },
    {
     "data": {
      "image/png": "[encoded data removed]",
      "text/plain": [
       "<Figure size 432x288 with 1 Axes>"
      ]
     },
     "metadata": {},
     "output_type": "display_data"
    }
   ],
   "source": [
    "fileNum, count = [], []\n",
    "i = 0\n",
    "for df in dfChunks:\n",
    "    i+=1\n",
    "    fileNum.append(i)\n",
    "    count.append(len(df))\n",
    "plt.scatter(fileNum, count)\n",
    "plt.xlabel(\"FileNum\")\n",
    "plt.ylabel(\"Number of entries\")"
   ]
  },
  {
   "cell_type": "code",
   "execution_count": 15,
   "metadata": {},
   "outputs": [],
   "source": [
    "i = 0\n",
    "for df in dfChunks:\n",
    "    i+=1\n",
    "    df.to_csv(\"Data/Chunks/chunk\"+str(i)+\".csv\")"
   ]
  },
  {
   "cell_type": "code",
   "execution_count": 32,
   "metadata": {},
   "outputs": [],
   "source": [
    "fullMap = []\n",
    "for m in list(idMap.keys()):\n",
    "    idMap[m]\n",
    "    for cid in idMap[m]:\n",
    "        fullMap.append({\"ContestId\": cid, \"Chunk\": m})"
   ]
  },
  {
   "cell_type": "code",
   "execution_count": 35,
   "metadata": {},
   "outputs": [],
   "source": [
    "mapDF =  pd.DataFrame(fullMap).set_index(\"ContestId\")"
   ]
  },
  {
   "cell_type": "code",
   "execution_count": 37,
   "metadata": {},
   "outputs": [],
   "source": [
    "mapDF.to_csv('data/ChunkMap.csv')"
   ]
  },
  {
   "cell_type": "code",
   "execution_count": null,
   "metadata": {},
   "outputs": [],
   "source": []
  }
 ],
 "metadata": {
  "kernelspec": {
   "display_name": "Python 3",
   "language": "python",
   "name": "python3"
  },
  "language_info": {
   "codemirror_mode": {
    "name": "ipython",
    "version": 3
   },
   "file_extension": ".py",
   "mimetype": "text/x-python",
   "name": "python",
   "nbconvert_exporter": "python",
   "pygments_lexer": "ipython3",
   "version": "3.6.5"
  }
 },
 "nbformat": 4,
 "nbformat_minor": 2
}

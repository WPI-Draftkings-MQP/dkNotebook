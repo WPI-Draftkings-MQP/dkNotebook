{
 "cells": [
  {
   "cell_type": "code",
   "execution_count": 1,
   "metadata": {},
   "outputs": [],
   "source": [
    "import pandas as pd\n",
    "import numpy as np"
   ]
  },
  {
   "cell_type": "code",
   "execution_count": 2,
   "metadata": {},
   "outputs": [],
   "source": [
    "seriesDF = pd.read_csv('data/ScaledCumSumSeries.csv').set_index('ContestId')\n",
    "contestsDF = pd.read_csv('data/WorkedData.csv').set_index('ContestId')"
   ]
  },
  {
   "cell_type": "code",
   "execution_count": 3,
   "metadata": {},
   "outputs": [],
   "source": [
    "combinedDF = pd.merge(contestsDF, seriesDF, on='ContestId', how='left')"
   ]
  },
  {
   "cell_type": "code",
   "execution_count": 4,
   "metadata": {},
   "outputs": [],
   "source": [
    "combinedDF.to_csv('data/CombinedContests.csv')"
   ]
  },
  {
   "cell_type": "code",
   "execution_count": 5,
   "metadata": {},
   "outputs": [],
   "source": [
    "columns = combinedDF.columns"
   ]
  },
  {
   "cell_type": "code",
   "execution_count": 6,
   "metadata": {},
   "outputs": [],
   "source": [
    "columns = columns.drop(['00_HoursOut', '01_HoursOut', '02_HoursOut', '03_HoursOut'])"
   ]
  },
  {
   "cell_type": "code",
   "execution_count": 7,
   "metadata": {},
   "outputs": [],
   "source": [
    "for c in columns:\n",
    "    if('Payout_' in c):\n",
    "        columns = columns.drop(c)"
   ]
  },
  {
   "cell_type": "code",
   "execution_count": 8,
   "metadata": {},
   "outputs": [],
   "source": [
    "ThresholdsWithoutCheats = combinedDF.assign(Success=combinedDF['00_HoursOut'])"
   ]
  },
  {
   "cell_type": "code",
   "execution_count": 9,
   "metadata": {},
   "outputs": [],
   "source": [
    "ContestsWithoutCheats = combinedDF.drop(['00_HoursOut', '01_HoursOut', '02_HoursOut', '03_HoursOut'], axis=1)\n",
    "ThresholdsWithoutCheats = ThresholdsWithoutCheats.drop(['00_HoursOut', '01_HoursOut', '02_HoursOut', '03_HoursOut'], axis=1)"
   ]
  },
  {
   "cell_type": "code",
   "execution_count": 12,
   "metadata": {},
   "outputs": [],
   "source": [
    "ContestsWithoutCheats.to_csv('data/ContestsWithoutCheats.csv')\n",
    "ThresholdsWithoutCheats.to_csv('data/ThresholdsWithoutCheats.csv')"
   ]
  },
  {
   "cell_type": "code",
   "execution_count": null,
   "metadata": {},
   "outputs": [],
   "source": []
  }
 ],
 "metadata": {
  "kernelspec": {
   "display_name": "Python 3",
   "language": "python",
   "name": "python3"
  },
  "language_info": {
   "codemirror_mode": {
    "name": "ipython",
    "version": 3
   },
   "file_extension": ".py",
   "mimetype": "text/x-python",
   "name": "python",
   "nbconvert_exporter": "python",
   "pygments_lexer": "ipython3",
   "version": "3.6.5"
  }
 },
 "nbformat": 4,
 "nbformat_minor": 2
}

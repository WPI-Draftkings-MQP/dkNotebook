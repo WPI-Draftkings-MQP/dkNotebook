{
 "cells": [
  {
   "cell_type": "code",
   "execution_count": 1,
   "metadata": {},
   "outputs": [],
   "source": [
    "import pandas as pd\n",
    "import numpy as np\n",
    "import math\n",
    "import matplotlib.pyplot as plt"
   ]
  },
  {
   "cell_type": "markdown",
   "metadata": {},
   "source": [
    "---"
   ]
  },
  {
   "cell_type": "code",
   "execution_count": 415,
   "metadata": {},
   "outputs": [],
   "source": [
    "def getSeriesDF(cid, filename):\n",
    "    localDF = pd.read_csv('data/Chunks/'+fileName+\".csv\").drop(columns=['Unnamed: 0'])\n",
    "    localDF = localDF.loc[localDF['ContestId']==cid]\n",
    "    localDF = localDF.assign(InvertedTime = localDF['SecondsRemaining'].max()-localDF['SecondsRemaining'])\n",
    "    localDF = localDF.assign(SummedEntries = localDF['Entries'][::-1].cumsum()[::-1])\n",
    "    observationsDF, cheatDF = localDF.loc[localDF['SecondsRemaining']>=240], localDF.loc[localDF['SecondsRemaining']<=240]\n",
    "    return observationsDF, localDF\n",
    "def zipCols(col1, col2):\n",
    "    combined = []\n",
    "    col1 = list(col1)\n",
    "    col2 = list(col2)\n",
    "    for i in range(0, len(col1)):\n",
    "        combined.append([(col1[i]), col2[i]])\n",
    "    return combined[::-1]\n",
    "def combineStatesAndObservations(time, observations, states):\n",
    "    combined = [[0, 0]]*max(time)\n",
    "    stateSum = 0\n",
    "    for i in range(0, len(combined)):\n",
    "        if(i in list(time)):\n",
    "            index = list(time).index(i)\n",
    "#             print(index)\n",
    "\n",
    "            stateSum = states.iloc[index]\n",
    "            combined[i] = [observations.iloc[index], states.iloc[index]]\n",
    "        else:\n",
    "            combined[i] = [0, stateSum]\n",
    "    return combined"
   ]
  },
  {
   "cell_type": "markdown",
   "metadata": {},
   "source": [
    "---"
   ]
  },
  {
   "cell_type": "code",
   "execution_count": 416,
   "metadata": {},
   "outputs": [],
   "source": [
    "chunkMapDF = pd.read_csv('data/chunkMap.csv')"
   ]
  },
  {
   "cell_type": "code",
   "execution_count": 510,
   "metadata": {},
   "outputs": [],
   "source": [
    "cid, fileName  = (20280800, 'chunk9')\n",
    "# contest = chunkMapDF.sample(n=1).iloc[0]\n",
    "\n",
    "# cid, fileName  = contest.ContestId, contest.Chunk\n",
    "# cid, fileName = 17477714, 'chunk34'\n",
    "seriesDF, fullSeriesDF = getSeriesDF(cid, fileName)\n",
    "seriesDF = seriesDF.assign(LoggedSummedEntries = np.log(seriesDF['SummedEntries']))"
   ]
  },
  {
   "cell_type": "code",
   "execution_count": 511,
   "metadata": {},
   "outputs": [],
   "source": [
    "kalmanSeriesDF = seriesDF[['InvertedTime', 'LoggedSummedEntries', 'SummedEntries']].rename({'InvertedTime': 'Time', 'LoggedSummedEntries': 'Y'}, axis=1)[::-1]"
   ]
  },
  {
   "cell_type": "code",
   "execution_count": 512,
   "metadata": {},
   "outputs": [],
   "source": [
    "random_state = np.random.RandomState(0)\n",
    "F = np.eye(2) #Transition Matrix (Identity Matrix)\n",
    "w = random_state.randn(2, 1) #Noise in the prediction (?) <<<<  FIX THIS\n",
    "Vk = random_state.randn(2, 1) * .1 #Noise in the observation model (?) <<<<  FIX THIS\n",
    "Z = list(kalmanSeriesDF['Y']) #Observation matrix\n",
    "x0 = [[10], [.00205]] #Inital parameters guess (?) <<<< NEED VALUES\n",
    "P0 = (np.eye(2) + random_state.randn(2, 2)*.1)*100*np.eye(2) #Covariance Matrix (The confidence in our prediction)\n",
    "R = random_state.rand()*.8"
   ]
  },
  {
   "cell_type": "markdown",
   "metadata": {},
   "source": [
    "---"
   ]
  },
  {
   "cell_type": "code",
   "execution_count": 513,
   "metadata": {},
   "outputs": [
    {
     "data": {
      "text/plain": [
       "([1.0, 0.0205], 10.770972233400824)"
      ]
     },
     "execution_count": 513,
     "metadata": {},
     "output_type": "execute_result"
    }
   ],
   "source": [
    "#NOTE! This is the predicted number of entrants based on the current timesetp\n",
    "def kalmanPredictNextVal(tCurr, xCurr, extended=False):\n",
    "    Hk = [1., tCurr]\n",
    "    if(extended):\n",
    "        part1 = np.exp(xCurr[1][0]*tCurr)\n",
    "        Hk = [part1, part1*(xCurr[0][0]*xCurr[1][0])]\n",
    "#         print(\"do something\")\n",
    "    Zk = np.dot(Hk, xCurr) + R #<----- Consider putting Vk instead of R\n",
    "    return Hk,  Zk.tolist()[0]\n",
    "kalmanPredictNextVal(kalmanSeriesDF.iloc[0]['Time'], x0, extended=True)"
   ]
  },
  {
   "cell_type": "code",
   "execution_count": 514,
   "metadata": {},
   "outputs": [],
   "source": [
    "def goForIt(series):\n",
    "    Zs = []\n",
    "    Ys = []\n",
    "    Hs = []\n",
    "    Ss = []\n",
    "    Ps = [] ## Covariance Matrix of Estimate Errors DO P PLEASE\n",
    "    Ks = [] ## Kalman Gain\n",
    "    Xs = []\n",
    "    \n",
    "    Pk = P0 #DONT FORGET TO UPDATE\n",
    "    Xk = x0 #DONT FORGET TO UPDATE\n",
    "    for n in range(0, len(series)):\n",
    "        actual = np.array(series.iloc[n]['Y']) #Current actual\n",
    "        time = np.array(series.iloc[n]['Time']) #Current time\n",
    "    \n",
    "        Hk, Zk = kalmanPredictNextVal(time, Xk, extended=False) #Kalman \n",
    "        Yk = actual - Zk # residuals\n",
    "\n",
    "        transposedH = [[Hk[0]],[Hk[1]]]\n",
    "        \n",
    "        Sk_part = np.dot(Hk, Pk)\n",
    "        Sk = np.dot(Sk_part, transposedH)[0]+R\n",
    "        \n",
    "        if(Sk==0):\n",
    "            print(\"Really??? Y'all bitches trippin... Sk can't be 0 dumby\")\n",
    "            return\n",
    "        inverseS = 1/Sk  \n",
    "        \n",
    "        Kk = np.dot(Pk, transposedH)*inverseS\n",
    "        Xnext = Xk + Kk*Yk        \n",
    "\n",
    "        p_part = (np.eye(2)-np.outer(Kk, Hk))\n",
    "        Pnext = np.dot(p_part, Pk)\n",
    "        \n",
    "        #Set new vars based on current observation\n",
    "        Pk = Pnext\n",
    "        Xk = Xnext\n",
    "        \n",
    "        Zs.append(Zk)\n",
    "        Ys.append(Yk)\n",
    "        Hs.append(Hk)\n",
    "        Ss.append(Sk)\n",
    "        Ks.append(Kk) ## Kalman Gain\n",
    "        Xs.append(Xk)\n",
    "        Ps.append(Pk) \n",
    "\n",
    "    return {\"Zs\": Zs, \"Ys\": Ys, \"Hs\":Hs, \"Ss\":Ss, \"Ps\":Ps, \"Ks\": Ks, \"Xs\": Xs}\n",
    "resultDict = goForIt(kalmanSeriesDF)\n",
    "Xf = resultDict[\"Xs\"][-1:][0].tolist()"
   ]
  },
  {
   "cell_type": "code",
   "execution_count": 515,
   "metadata": {},
   "outputs": [],
   "source": [
    "# for p in (resultDict['Ps']):\n",
    "#     print(str(p)+\"\\n\")"
   ]
  },
  {
   "cell_type": "code",
   "execution_count": 516,
   "metadata": {
    "scrolled": true
   },
   "outputs": [
    {
     "data": {
      "text/plain": [
       "[[4.2634419423905285], [0.0024832268695323245]]"
      ]
     },
     "execution_count": 516,
     "metadata": {},
     "output_type": "execute_result"
    }
   ],
   "source": [
    "Xf "
   ]
  },
  {
   "cell_type": "code",
   "execution_count": 517,
   "metadata": {},
   "outputs": [],
   "source": [
    "def modelValues(A, B, Times):\n",
    "    y = []\n",
    "    for i in Times:\n",
    "        val = A*math.exp(B*i)\n",
    "        y.append(val)\n",
    "    return y"
   ]
  },
  {
   "cell_type": "code",
   "execution_count": 518,
   "metadata": {},
   "outputs": [
    {
     "data": {
      "text/plain": [
       "3394"
      ]
     },
     "execution_count": 518,
     "metadata": {},
     "output_type": "execute_result"
    }
   ],
   "source": [
    "kalmanSeriesDF['SummedEntries'].max()"
   ]
  },
  {
   "cell_type": "code",
   "execution_count": 519,
   "metadata": {},
   "outputs": [],
   "source": [
    "y = modelValues(np.exp(Xf[0][0]), Xf[1][0], kalmanSeriesDF['Time'])\n",
    "\n",
    "# x2, y2 = modelValues(Xf[0][0], Xf[1][0], len(kalmanSeriesDF)+240)"
   ]
  },
  {
   "cell_type": "code",
   "execution_count": 520,
   "metadata": {},
   "outputs": [
    {
     "data": {
      "image/png": "[encoded data removed]",
      "text/plain": [
       "<Figure size 432x288 with 1 Axes>"
      ]
     },
     "metadata": {},
     "output_type": "display_data"
    }
   ],
   "source": [
    "plt.figure(1)\n",
    "plt.plot(kalmanSeriesDF['Time'], y, label=\"Linear\")\n",
    "plt.plot(kalmanSeriesDF['Time'], kalmanSeriesDF['SummedEntries'], label=\"Log\")\n",
    "plt.grid()\n",
    "plt.show()"
   ]
  },
  {
   "cell_type": "code",
   "execution_count": null,
   "metadata": {},
   "outputs": [],
   "source": []
  },
  {
   "cell_type": "code",
   "execution_count": null,
   "metadata": {},
   "outputs": [],
   "source": []
  },
  {
   "cell_type": "code",
   "execution_count": 10,
   "metadata": {},
   "outputs": [
    {
     "data": {
      "text/plain": [
       "[[1.0, 0], [1.0, 1], [1.0, 2], [1.0, 7]]"
      ]
     },
     "execution_count": 10,
     "metadata": {},
     "output_type": "execute_result"
    }
   ],
   "source": [
    "Hk, residualsk = goForIt(kalmanSeriesDF, 4)\n",
    "Hk"
   ]
  },
  {
   "cell_type": "code",
   "execution_count": 12,
   "metadata": {},
   "outputs": [],
   "source": [
    "# plt.figure(1)\n",
    "# plt.plot(kalmanSeriesDF['Time'], kalmanPredictNextVal(kalmanSeriesDF['Time'], x0))\n",
    "# plt.grid()\n",
    "# plt.show()"
   ]
  },
  {
   "cell_type": "code",
   "execution_count": null,
   "metadata": {},
   "outputs": [],
   "source": []
  },
  {
   "cell_type": "code",
   "execution_count": null,
   "metadata": {},
   "outputs": [],
   "source": []
  },
  {
   "cell_type": "code",
   "execution_count": null,
   "metadata": {},
   "outputs": [],
   "source": []
  },
  {
   "cell_type": "code",
   "execution_count": 124,
   "metadata": {},
   "outputs": [
    {
     "data": {
      "text/plain": [
       "array([[1.76405235],\n",
       "       [0.40015721]])"
      ]
     },
     "execution_count": 124,
     "metadata": {},
     "output_type": "execute_result"
    }
   ],
   "source": [
    "w"
   ]
  },
  {
   "cell_type": "code",
   "execution_count": 157,
   "metadata": {},
   "outputs": [
    {
     "data": {
      "image/png": "[encoded data removed]",
      "text/plain": [
       "<Figure size 432x288 with 1 Axes>"
      ]
     },
     "metadata": {},
     "output_type": "display_data"
    }
   ],
   "source": [
    "plt.figure(1)\n",
    "plt.plot(seriesDF['InvertedTime'], seriesDF['LoggedSummedEntries'], label=\"Logged\")\n",
    "plt.grid()\n",
    "plt.show()"
   ]
  },
  {
   "cell_type": "code",
   "execution_count": 63,
   "metadata": {},
   "outputs": [],
   "source": [
    "x, y = modelValues(1.030016, 0.00899546, 1577)"
   ]
  },
  {
   "cell_type": "code",
   "execution_count": 64,
   "metadata": {},
   "outputs": [
    {
     "data": {
      "image/png": "[encoded data removed]",
      "text/plain": [
       "<Figure size 432x288 with 1 Axes>"
      ]
     },
     "metadata": {},
     "output_type": "display_data"
    }
   ],
   "source": [
    "plt.figure(1)\n",
    "plt.plot(x, y, label=\"Slope\")\n",
    "plt.grid()\n",
    "plt.show()"
   ]
  },
  {
   "cell_type": "code",
   "execution_count": null,
   "metadata": {},
   "outputs": [],
   "source": []
  },
  {
   "cell_type": "code",
   "execution_count": 62,
   "metadata": {},
   "outputs": [],
   "source": [
    "# #NOTE! This is the predicted number of entrants based on the current timesetp\n",
    "# def kalmanPredictFullArray(timesTillNow, xCurr):\n",
    "#     n=len(timesTillNow)\n",
    "# #     Vk = [[R]]*n\n",
    "#     Vk = random_state.randn(n, 1)\n",
    "#     Hk = [list(a) for a in zip([1.]*n, timesTillNow)] #Observation Model (?)\n",
    "#     Zk = np.dot(Hk, xCurr) + Vk\n",
    "# #     print(Hk)\n",
    "#     return Hk, Zk\n",
    "# #kalmanPredictNextVal(kalmanSeriesDF.iloc[:100]['Time'], x0)"
   ]
  },
  {
   "cell_type": "code",
   "execution_count": 63,
   "metadata": {
    "scrolled": true
   },
   "outputs": [],
   "source": [
    "# def goForItFull(series):\n",
    "#     Zs = []\n",
    "#     Ys = []\n",
    "#     Hs = []\n",
    "#     Ss = []\n",
    "#     Ps = [] ## Covariance Matrix of Estimate Errors DO P PLEASE\n",
    "#     Ks = [] ## Kalman Gain\n",
    "#     Xs = []\n",
    "    \n",
    "#     pCurr = P0 #DONT FORGET TO UPDATE\n",
    "#     xCurr = x0 #DONT FORGET TO UPDATE\n",
    "#     for n in range (1, 4):\n",
    "#         #Set new vars based on current observation\n",
    "        \n",
    "#         actual = np.array(series.iloc[:n]['Y'])\n",
    "#         times = np.array(series.iloc[:n]['Time'])\n",
    "        \n",
    "        \n",
    "#         Hk, Zk = kalmanPredictNextVal(kalmanSeriesDF.iloc[:n]['Time'], xCurr)\n",
    "        \n",
    "#         Yk = actual - np.array(Zk)[:,0] # residuals\n",
    "#         currY = Yk[-1:][0]\n",
    "        \n",
    "#         currH = Hk[-1:][0]\n",
    "#         transposedH = [[currH[0]],[currH[1]]]\n",
    "        \n",
    "#         Sk_part = np.dot(currH, pCurr)\n",
    "#         Sk = np.dot(Sk_part, transposedH)+R\n",
    "    \n",
    "        \n",
    "#         inverseS = 1/Sk[0]        \n",
    "#         newK = np.dot(pCurr, transposedH)*inverseS\n",
    "#         newX = xCurr + newK*currY\n",
    "        \n",
    "\n",
    "#         p_part = (np.eye(2)-np.outer(newK, currH))\n",
    "#         newP = np.dot(p_part, pCurr)\n",
    "        \n",
    "#         Zs.append(Zk[-1:][0][0])\n",
    "#         Ys.append(Yk[-1:][0])\n",
    "#         Hs.append(Hk[-1:][0])\n",
    "#         Ss.append(Sk[0])\n",
    "#         Ks.append(newK[0]) ## Kalman Gain\n",
    "#         Xs.append(newX[0])\n",
    "#         Ps.append(newP.tolist()) \n",
    "        \n",
    "#         pCurr = newP\n",
    "#         xCurr = newX\n",
    "    \n",
    "#     return {\"Zs\": Zs, \"Ys\": Ys, \"Hs\":Hs, \"Ss\":Ss, \"Ps\":Ps, \"Ks\": Ks, \"Xs\": Xs}\n",
    "# #         Ss.append()\n",
    "# #     print(\"Y\", Ys)\n",
    "# #     print(\"Z\", Zs)\n",
    "# #     print(\"H\", Hs)\n",
    "# #     print(\"S\", Ss)\n",
    "\n",
    "# resultDict = goForIt(kalmanSeriesDF)"
   ]
  }
 ],
 "metadata": {
  "kernelspec": {
   "display_name": "Python 3",
   "language": "python",
   "name": "python3"
  },
  "language_info": {
   "codemirror_mode": {
    "name": "ipython",
    "version": 3
   },
   "file_extension": ".py",
   "mimetype": "text/x-python",
   "name": "python",
   "nbconvert_exporter": "python",
   "pygments_lexer": "ipython3",
   "version": "3.6.5"
  }
 },
 "nbformat": 4,
 "nbformat_minor": 2
}

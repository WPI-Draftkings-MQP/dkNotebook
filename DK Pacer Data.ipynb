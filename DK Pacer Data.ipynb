{
 "cells": [
  {
   "cell_type": "code",
   "execution_count": 1,
   "metadata": {},
   "outputs": [],
   "source": [
    "import pandas as pd"
   ]
  },
  {
   "cell_type": "code",
   "execution_count": 20,
   "metadata": {},
   "outputs": [],
   "source": [
    "dkDF = pd.read_csv('data/DK_Predictions_Raw.csv').drop(columns = ['SnapshotDate']).set_index('ContestId')\n",
    "contests = pd.read_csv('data/WorkingData.csv').set_index('ContestId')[['MaxNumberPlayers', 'EntryFeeAmount']]\n",
    "successDF = pd.read_csv('data/WorkedData.csv').set_index('ContestId')[['Success']]"
   ]
  },
  {
   "cell_type": "code",
   "execution_count": 23,
   "metadata": {},
   "outputs": [],
   "source": [
    "contests['SuccessThreshold'] = contests['EntryFeeAmount']*contests['MaxNumberPlayers']"
   ]
  },
  {
   "cell_type": "code",
   "execution_count": 24,
   "metadata": {},
   "outputs": [],
   "source": [
    "mergedDF = pd.merge(contests, dkDF, on='ContestId', how='left').dropna()\n",
    "mergedDF = pd.merge(mergedDF, successDF, on='ContestId', how='left').dropna()"
   ]
  },
  {
   "cell_type": "code",
   "execution_count": 29,
   "metadata": {},
   "outputs": [],
   "source": [
    "mergedDF['PacerSuccess'] = (mergedDF['PacerEstimate'] + mergedDF['SuccessThreshold'])/mergedDF['SuccessThreshold']"
   ]
  },
  {
   "cell_type": "code",
   "execution_count": 32,
   "metadata": {},
   "outputs": [],
   "source": [
    "mergedDF[['Success', 'PacerSuccess']].to_csv('data/DK_Pacer_Success.csv')"
   ]
  },
  {
   "cell_type": "code",
   "execution_count": null,
   "metadata": {},
   "outputs": [],
   "source": []
  }
 ],
 "metadata": {
  "kernelspec": {
   "display_name": "Python 3",
   "language": "python",
   "name": "python3"
  },
  "language_info": {
   "codemirror_mode": {
    "name": "ipython",
    "version": 3
   },
   "file_extension": ".py",
   "mimetype": "text/x-python",
   "name": "python",
   "nbconvert_exporter": "python",
   "pygments_lexer": "ipython3",
   "version": "3.6.5"
  }
 },
 "nbformat": 4,
 "nbformat_minor": 2
}

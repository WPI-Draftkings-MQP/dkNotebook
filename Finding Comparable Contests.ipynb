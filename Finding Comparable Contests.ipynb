{
 "cells": [
  {
   "cell_type": "code",
   "execution_count": 48,
   "metadata": {},
   "outputs": [],
   "source": [
    "import pandas as pd\n",
    "import numpy as np\n",
    "import datetime\n",
    "from ipywidgets import IntProgress"
   ]
  },
  {
   "cell_type": "code",
   "execution_count": 19,
   "metadata": {},
   "outputs": [],
   "source": [
    "contests = pd.read_csv(\"data/WorkingData.csv\")[['SportName', 'ContestStartDatetimeEST', 'ContestEndDatetimeEST', 'EntryFeeAmount', 'MaxNumberPlayers']]"
   ]
  },
  {
   "cell_type": "code",
   "execution_count": 49,
   "metadata": {},
   "outputs": [],
   "source": [
    "def getTimeDif(startTime, endTime):\n",
    "    d1 = datetime.datetime.strptime(startTime[:-4], '%Y-%m-%d %H:%M:%S')\n",
    "    d2 = datetime.datetime.strptime(endTime[:-4], '%Y-%m-%d %H:%M:%S')\n",
    "    return (d2 - d1).total_seconds() / 60\n",
    "\n",
    "def getDuration(df):\n",
    "    return getTimeDif(df['ContestStartDatetimeEST'], df['ContestEndDatetimeEST'])\n",
    "\n",
    "def getAllDurations(df, showBar=False):\n",
    "    if(showBar):\n",
    "        f = IntProgress(min=0, max=len(df))\n",
    "        display(f)\n",
    "    results = []\n",
    "    for i, c in df.iterrows():\n",
    "        if(showBar):\n",
    "            f.value+=1\n",
    "        results.append(getDuration(c))\n",
    "    return results\n",
    "#     return getTimeDif(df['ContestStartDatetimeEST'], df['ContestEndDatetimeEST'])"
   ]
  },
  {
   "cell_type": "code",
   "execution_count": 54,
   "metadata": {},
   "outputs": [
    {
     "data": {
      "application/vnd.jupyter.widget-view+json": {
       "model_id": "5ff4c1370c1c40c395ddc41e05f7ffa0",
       "version_major": 2,
       "version_minor": 0
      },
      "text/plain": [
       "IntProgress(value=0, max=372211)"
      ]
     },
     "metadata": {},
     "output_type": "display_data"
    }
   ],
   "source": [
    "contests = contests.assign(Duration= getAllDurations(contests, showBar=True))"
   ]
  },
  {
   "cell_type": "code",
   "execution_count": 57,
   "metadata": {},
   "outputs": [
    {
     "data": {
      "text/html": [
       "<div>\n",
       "<style scoped>\n",
       "    .dataframe tbody tr th:only-of-type {\n",
       "        vertical-align: middle;\n",
       "    }\n",
       "\n",
       "    .dataframe tbody tr th {\n",
       "        vertical-align: top;\n",
       "    }\n",
       "\n",
       "    .dataframe thead th {\n",
       "        text-align: right;\n",
       "    }\n",
       "</style>\n",
       "<table border=\"1\" class=\"dataframe\">\n",
       "  <thead>\n",
       "    <tr style=\"text-align: right;\">\n",
       "      <th></th>\n",
       "      <th>SportName</th>\n",
       "      <th>ContestStartDatetimeEST</th>\n",
       "      <th>ContestEndDatetimeEST</th>\n",
       "      <th>EntryFeeAmount</th>\n",
       "      <th>MaxNumberPlayers</th>\n",
       "      <th>Duration</th>\n",
       "    </tr>\n",
       "  </thead>\n",
       "  <tbody>\n",
       "    <tr>\n",
       "      <th>49995</th>\n",
       "      <td>MLB</td>\n",
       "      <td>2016-05-18 13:05:00.000</td>\n",
       "      <td>2016-05-18 15:35:00.000</td>\n",
       "      <td>0.25</td>\n",
       "      <td>941</td>\n",
       "      <td>150.0</td>\n",
       "    </tr>\n",
       "    <tr>\n",
       "      <th>49996</th>\n",
       "      <td>MLB</td>\n",
       "      <td>2016-05-18 13:05:00.000</td>\n",
       "      <td>2016-05-18 15:35:00.000</td>\n",
       "      <td>100.00</td>\n",
       "      <td>11</td>\n",
       "      <td>150.0</td>\n",
       "    </tr>\n",
       "    <tr>\n",
       "      <th>49997</th>\n",
       "      <td>MLB</td>\n",
       "      <td>2016-05-18 19:05:00.000</td>\n",
       "      <td>2016-05-18 22:10:00.000</td>\n",
       "      <td>27.00</td>\n",
       "      <td>42</td>\n",
       "      <td>185.0</td>\n",
       "    </tr>\n",
       "    <tr>\n",
       "      <th>49998</th>\n",
       "      <td>MLB</td>\n",
       "      <td>2016-05-19 12:35:00.000</td>\n",
       "      <td>2016-05-19 13:40:00.000</td>\n",
       "      <td>0.25</td>\n",
       "      <td>7058</td>\n",
       "      <td>65.0</td>\n",
       "    </tr>\n",
       "    <tr>\n",
       "      <th>49999</th>\n",
       "      <td>MLB</td>\n",
       "      <td>2016-05-19 12:35:00.000</td>\n",
       "      <td>2016-05-19 13:40:00.000</td>\n",
       "      <td>5.00</td>\n",
       "      <td>1363</td>\n",
       "      <td>65.0</td>\n",
       "    </tr>\n",
       "  </tbody>\n",
       "</table>\n",
       "</div>"
      ],
      "text/plain": [
       "      SportName  ContestStartDatetimeEST    ContestEndDatetimeEST  \\\n",
       "49995       MLB  2016-05-18 13:05:00.000  2016-05-18 15:35:00.000   \n",
       "49996       MLB  2016-05-18 13:05:00.000  2016-05-18 15:35:00.000   \n",
       "49997       MLB  2016-05-18 19:05:00.000  2016-05-18 22:10:00.000   \n",
       "49998       MLB  2016-05-19 12:35:00.000  2016-05-19 13:40:00.000   \n",
       "49999       MLB  2016-05-19 12:35:00.000  2016-05-19 13:40:00.000   \n",
       "\n",
       "       EntryFeeAmount  MaxNumberPlayers  Duration  \n",
       "49995            0.25               941     150.0  \n",
       "49996          100.00                11     150.0  \n",
       "49997           27.00                42     185.0  \n",
       "49998            0.25              7058      65.0  \n",
       "49999            5.00              1363      65.0  "
      ]
     },
     "execution_count": 57,
     "metadata": {},
     "output_type": "execute_result"
    }
   ],
   "source": [
    "contests.head(50000).tail()"
   ]
  },
  {
   "cell_type": "code",
   "execution_count": null,
   "metadata": {},
   "outputs": [],
   "source": []
  }
 ],
 "metadata": {
  "kernelspec": {
   "display_name": "Python 3",
   "language": "python",
   "name": "python3"
  },
  "language_info": {
   "codemirror_mode": {
    "name": "ipython",
    "version": 3
   },
   "file_extension": ".py",
   "mimetype": "text/x-python",
   "name": "python",
   "nbconvert_exporter": "python",
   "pygments_lexer": "ipython3",
   "version": "3.6.5"
  }
 },
 "nbformat": 4,
 "nbformat_minor": 2
}

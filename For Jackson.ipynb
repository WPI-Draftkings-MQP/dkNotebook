{
 "cells": [
  {
   "cell_type": "code",
   "execution_count": 5,
   "metadata": {},
   "outputs": [],
   "source": [
    "import pandas as pd"
   ]
  },
  {
   "cell_type": "code",
   "execution_count": 14,
   "metadata": {},
   "outputs": [],
   "source": [
    "whichContestsDF = pd.read_csv(\"data/Durations.csv\").drop(columns=['Unnamed: 0']).set_index(\"ContestId\")\n",
    "whichContestsDF = whichContestsDF[whichContestsDF['Duration']>240]\n",
    "contests = pd.read_csv(\"data/WorkedData.csv\").set_index(\"ContestId\")[['Success']]\n",
    "chunkMap = pd.read_csv(\"data/ChunkMap.csv\").set_index(\"ContestId\")"
   ]
  },
  {
   "cell_type": "code",
   "execution_count": 35,
   "metadata": {},
   "outputs": [],
   "source": [
    "jacksonDF = pd.merge(whichContestsDF, contests, on='ContestId', how='left')\n",
    "jacksonDF = pd.merge(jacksonDF, chunkMap, on='ContestId', how='left')\n",
    "jacksonDF = jacksonDF.dropna().reset_index()#.drop(columns=['Unnamed: 0'])"
   ]
  },
  {
   "cell_type": "code",
   "execution_count": 41,
   "metadata": {},
   "outputs": [],
   "source": [
    "from ipywidgets import IntProgress\n",
    "from IPython.display import display"
   ]
  },
  {
   "cell_type": "code",
   "execution_count": 65,
   "metadata": {},
   "outputs": [
    {
     "data": {
      "application/vnd.jupyter.widget-view+json": {
       "model_id": "72b593a409d24d60a58b23f3676038c1",
       "version_major": 2,
       "version_minor": 0
      },
      "text/plain": [
       "IntProgress(value=0, max=48)"
      ]
     },
     "metadata": {},
     "output_type": "display_data"
    }
   ],
   "source": [
    "f = IntProgress(min=0, max=48)\n",
    "display(f)\n",
    "chunks = []\n",
    "for chunkName in jacksonDF['Chunk'].unique()[:]:\n",
    "    chunkDF = pd.read_csv('data/Chunks/'+chunkName+\".csv\").drop(columns=['Unnamed: 0'])\n",
    "    chunkDF = chunkDF[chunkDF['ContestId'].isin(jacksonDF['ContestId'].unique())]\n",
    "    chunks.append(chunkDF)\n",
    "    f.value+=1\n",
    "allChunksDF = pd.concat(chunks)"
   ]
  },
  {
   "cell_type": "code",
   "execution_count": 68,
   "metadata": {},
   "outputs": [
    {
     "data": {
      "application/vnd.jupyter.widget-view+json": {
       "model_id": "95176fcd99584782b0c9fe1b12b07751",
       "version_major": 2,
       "version_minor": 0
      },
      "text/plain": [
       "IntProgress(value=0, max=259896)"
      ]
     },
     "metadata": {},
     "output_type": "display_data"
    }
   ],
   "source": [
    "toMerge = []\n",
    "cids = jacksonDF['ContestId'].unique()\n",
    "f = IntProgress(min=0, max=len(cids))\n",
    "display(f)\n",
    "for cid in cids:\n",
    "    justContest = allChunksDF[allChunksDF['ContestId']== cid]\n",
    "    justContest = justContest.sort_values(by='SecondsRemaining', ascending = False)\n",
    "    justContest['Summed'] = justContest['Entries'].cumsum()\n",
    "    justContest['MinutesRemaining'] = justContest['SecondsRemaining']\n",
    "    toMerge.append(justContest[['ContestId', 'Summed', 'MinutesRemaining']])\n",
    "    f.value+=1"
   ]
  },
  {
   "cell_type": "code",
   "execution_count": 70,
   "metadata": {},
   "outputs": [],
   "source": [
    "mergedDF = pd.merge(jacksonDF, pd.concat(toMerge), on='ContestId', how='outer')"
   ]
  },
  {
   "cell_type": "code",
   "execution_count": 74,
   "metadata": {},
   "outputs": [],
   "source": [
    "forJ=mergedDF.dropna()"
   ]
  },
  {
   "cell_type": "code",
   "execution_count": 75,
   "metadata": {},
   "outputs": [],
   "source": [
    "forJ.to_csv('data/JacksonData_01_29.csv')"
   ]
  },
  {
   "cell_type": "code",
   "execution_count": null,
   "metadata": {},
   "outputs": [],
   "source": []
  }
 ],
 "metadata": {
  "kernelspec": {
   "display_name": "Python 3",
   "language": "python",
   "name": "python3"
  },
  "language_info": {
   "codemirror_mode": {
    "name": "ipython",
    "version": 3
   },
   "file_extension": ".py",
   "mimetype": "text/x-python",
   "name": "python",
   "nbconvert_exporter": "python",
   "pygments_lexer": "ipython3",
   "version": "3.6.5"
  }
 },
 "nbformat": 4,
 "nbformat_minor": 2
}

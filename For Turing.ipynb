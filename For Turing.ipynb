{
 "cells": [
  {
   "cell_type": "code",
   "execution_count": 1,
   "metadata": {},
   "outputs": [],
   "source": [
    "import pandas as pd\n",
    "import numpy as np\n",
    "import datetime\n"
   ]
  },
  {
   "cell_type": "code",
   "execution_count": 2,
   "metadata": {},
   "outputs": [],
   "source": [
    "chunkMapDF = pd.read_csv('data/chunkMap.csv')\n",
    "QRs = pd.read_csv('QR_Values.csv').set_index('label')"
   ]
  },
  {
   "cell_type": "code",
   "execution_count": 64,
   "metadata": {},
   "outputs": [
    {
     "name": "stdout",
     "output_type": "stream",
     "text": [
      "This is the name of the script:  /Users/svwoolf/Library/Jupyter/runtime/kernel-32b0eac6-5848-41d3-92f0-015b3b278813.json\n"
     ]
    }
   ],
   "source": [
    "import sys\n",
    "print (\"This is the name of the script: \", sys.argv[])"
   ]
  },
  {
   "cell_type": "code",
   "execution_count": 52,
   "metadata": {},
   "outputs": [],
   "source": [
    "def getSeriesDF(cid, fileName):\n",
    "    localDF = pd.read_csv('data/Chunks/'+fileName+\".csv\").drop(columns=['Unnamed: 0'])\n",
    "    localDF = localDF.loc[localDF['ContestId']==cid]\n",
    "    localDF = localDF.assign(InvertedTime = localDF['SecondsRemaining'].max()-localDF['SecondsRemaining'])\n",
    "    localDF = localDF.assign(SummedEntries = localDF['Entries'][::-1].cumsum()[::-1])\n",
    "    return localDF\n",
    "def setupSeries(df):\n",
    "    localDF = df.copy(deep=True)\n",
    "    localDF = localDF.assign(X=localDF[\"InvertedTime\"]).assign(Y=localDF[\"SummedEntries\"])\n",
    "    localDF = localDF[['X', 'Y']].sort_values(by=['X'])\n",
    "    return localDF\n",
    "def defaultParameters(df):\n",
    "    random_state = np.random.RandomState(0)\n",
    "    F = np.eye(2) #Transition Matrix (Identity Matrix)\n",
    "\n",
    "    Z = list(df['Y']) #Observation matrix\n",
    "    X0 = [[4.], [.0023]] #Inital parameters guess (?) <<<< NEED VALUES\n",
    "    P0 = (np.eye(2) + random_state.randn(2, 2)*.1)*100*np.eye(2) #Covariance Matrix (The confidence in our prediction)\n",
    "    R = random_state.rand()*5.05\n",
    "#     Q = getQ(random_state)*1000\n",
    "    Q = [[np.power(9.,62),0.],[0.,np.power(6.,65)]]\n",
    "    w = np.random.multivariate_normal([0., 0.], Q)\n",
    "    return {'random_state':random_state, 'F':F, 'Z':Z, 'X0':X0, 'P0':P0, 'R':R, 'Q':Q, 'w':w}\n",
    "def kalmanFilter(series, parameters, extended=True):\n",
    "    Xs = []\n",
    "    \n",
    "    Pk = parameters['P0'] \n",
    "    Xk = parameters['X0'] \n",
    "    for n in range(0, len(series)):\n",
    "        actual = np.array(series.iloc[n]['Y']) #Current actual\n",
    "        time = np.array(series.iloc[n]['X']) #Current time\n",
    "        Pk = Pk + parameters[\"Q\"]\n",
    "                \n",
    "        Hk, Zk = 0, 0\n",
    "        if(extended):\n",
    "            part1 = np.exp(Xk[1][0]*time)\n",
    "            Hk = [part1, part1*(Xk[0][0]*time)]\n",
    "            Zk = Xk[0][0]*np.exp(Xk[1][0]*time)\n",
    "        else:\n",
    "            Hk = [1., time]\n",
    "            Zk = np.dot(Hk, Xk) + np.random.normal(loc=0., scale=parameters['R']) #<----- Consider putting Vk instead of R        \n",
    "        \n",
    "        Yk = actual - Zk # residuals\n",
    "        transposedH = [[Hk[0]],[Hk[1]]]\n",
    "        Sk = np.dot(np.dot(Hk, Pk), transposedH)[0]+parameters['R']\n",
    "        Kk = np.dot(Pk, transposedH)*(1/Sk)\n",
    "        Xnext = Xk + Kk*Yk        \n",
    "        p_part = (np.eye(2)-np.outer(Kk, Hk))\n",
    "        Pnext = np.dot(p_part, Pk)\n",
    "        \n",
    "        Xs.append([Xk[0][0], Xk[1][0]])\n",
    "        #Set new vars based on current observation\n",
    "        Pk = Pnext\n",
    "        Xk = Xnext\n",
    "    return Xs\n",
    "\n",
    "def timeString():\n",
    "    now = datetime.datetime.now()\n",
    "    return str(now.year) + \"-\" + str(now.month) + \"-\" + str(now.day) + \"-\" + str(now.hour) + \"-\" + str(now.minute)"
   ]
  },
  {
   "cell_type": "code",
   "execution_count": 53,
   "metadata": {},
   "outputs": [],
   "source": [
    "qrValName = 'v1'"
   ]
  },
  {
   "cell_type": "code",
   "execution_count": 56,
   "metadata": {},
   "outputs": [
    {
     "name": "stdout",
     "output_type": "stream",
     "text": [
      "\n"
     ]
    }
   ],
   "source": [
    "\n",
    "QR_Vals = QRs.loc[qrValName]\n",
    "for i in range(1, 49)[:1]:\n",
    "    chunkname = 'chunk'+str(i)\n",
    "    contestIds = chunkMapDF[chunkMapDF['Chunk'] == chunkname]['ContestId']\n",
    "    \n",
    "    results = []\n",
    "    for cid in contestIds[:5]:\n",
    "        df = setupSeries(getSeriesDF(cid, chunkname))\n",
    "        parameters = defaultParameters(df)\n",
    "        parameters['Q'] = [[QR_Vals['Q1'], 0.0], [0.0, QR_Vals['Q2']]]\n",
    "        parameters['R'] = QR_Vals['R']\n",
    "\n",
    "        \n",
    "        Xf = kalmanFilter(df, parameters)[-1:][0]\n",
    "        results.append({'label':qrValName, 'ContestId': cid, 'Xf': Xf})\n",
    "    print()\n",
    "    pd.DataFrame(results).to_csv('data/'+'results_'+chunkname+\"_\"+qrValName+\"_\"+timeString()+\".csv\")"
   ]
  },
  {
   "cell_type": "code",
   "execution_count": null,
   "metadata": {},
   "outputs": [],
   "source": []
  }
 ],
 "metadata": {
  "kernelspec": {
   "display_name": "Python 3",
   "language": "python",
   "name": "python3"
  },
  "language_info": {
   "codemirror_mode": {
    "name": "ipython",
    "version": 3
   },
   "file_extension": ".py",
   "mimetype": "text/x-python",
   "name": "python",
   "nbconvert_exporter": "python",
   "pygments_lexer": "ipython3",
   "version": "3.7.0"
  }
 },
 "nbformat": 4,
 "nbformat_minor": 2
}

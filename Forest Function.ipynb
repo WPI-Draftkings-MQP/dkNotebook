{
 "cells": [
  {
   "cell_type": "code",
   "execution_count": 1,
   "metadata": {},
   "outputs": [],
   "source": [
    "import pandas as pd\n",
    "import matplotlib.pyplot as plt\n",
    "import numpy as np\n",
    "import random\n",
    "from sklearn.ensemble import RandomForestClassifier\n",
    "from sklearn.ensemble import AdaBoostClassifier\n",
    "from sklearn.ensemble import GradientBoostingClassifier\n",
    "\n",
    "from sklearn.metrics import accuracy_score\n",
    "from sklearn.metrics import confusion_matrix\n",
    "\n",
    "from ipywidgets import IntProgress\n",
    "from IPython.display import display"
   ]
  },
  {
   "cell_type": "code",
   "execution_count": 2,
   "metadata": {},
   "outputs": [],
   "source": [
    "contests = pd.read_csv('data/ContestsWithoutCheats.csv').set_index('ContestId').dropna()"
   ]
  },
  {
   "cell_type": "code",
   "execution_count": 3,
   "metadata": {},
   "outputs": [],
   "source": [
    "def cutDF(df, intendedNumber):\n",
    "    df = df.sample(frac=intendedNumber/len(df), replace=True)\n",
    "    return df"
   ]
  },
  {
   "cell_type": "code",
   "execution_count": 4,
   "metadata": {},
   "outputs": [],
   "source": [
    "def balanceDF(df, colName, numberOfEach = 0):\n",
    "    successDF, failDF = df.loc[df[colName] == 1], df.loc[df[colName] == 0]\n",
    "    if(numberOfEach == 0):\n",
    "        maxContestsForBalance = min(len(successDF), len(failDF))\n",
    "        numberOfEach = int(maxContestsForBalance*.1)\n",
    "    combinedDF = pd.concat([cutDF(successDF, numberOfEach), cutDF(failDF, numberOfEach)])\n",
    "    return combinedDF.sample(frac=1)"
   ]
  },
  {
   "cell_type": "code",
   "execution_count": 5,
   "metadata": {},
   "outputs": [],
   "source": [
    "def spitTrainingTesting(df, percentTrain):\n",
    "    df['is_train'] = np.random.uniform(0, 1, len(df)) <= percentTrain\n",
    "    trainDF, testDF = df[df['is_train']==True], df[df['is_train']==False]\n",
    "    df = df.drop(['is_train'], axis=1)\n",
    "    trainDF = trainDF.drop(['is_train'], axis=1)\n",
    "    testDF = testDF.drop(['is_train'], axis=1)\n",
    "    return trainDF, testDF\n"
   ]
  },
  {
   "cell_type": "code",
   "execution_count": 6,
   "metadata": {},
   "outputs": [],
   "source": [
    "classifiers = [RandomForestClassifier, AdaBoostClassifier, GradientBoostingClassifier]\n",
    "def getRandomClassifier(): \n",
    "    return classifiers[random.randint(0, len(classifiers)-1)]"
   ]
  },
  {
   "cell_type": "code",
   "execution_count": 7,
   "metadata": {},
   "outputs": [],
   "source": [
    "def makeAndTrainClassifier(trainDF, classifierType): \n",
    "    clfFeatures = trainDF.columns.drop('Success')\n",
    "    trainActual = trainDF['Success']\n",
    "    clf = classifierType()\n",
    "    clf.fit(trainDF[clfFeatures], trainActual)\n",
    "    return clf"
   ]
  },
  {
   "cell_type": "code",
   "execution_count": 8,
   "metadata": {},
   "outputs": [],
   "source": [
    "def classifierWrapper(trainDF, classifierType, balanced, numColumns = 0):\n",
    "    #if numColumns is 0 or >#ofColumns, clf will train on all columns\n",
    "    if(numColumns == 0  or numColumns > len(trainDF.columns)-1):\n",
    "        numColumns = len(trainDF)\n",
    "    columnDF = trainDF[trainDF.columns.drop('Success')].sample(numColumns, axis=1)\n",
    "    columns  = pd.merge(trainDF[['Success']], columnDF, on='ContestId', how='left').columns\n",
    "    if(balanced):\n",
    "        trainDF = balanceDF(contests, 'Success')\n",
    "    clf = makeAndTrainClassifier(trainDF[columns], classifierType)\n",
    "    return clf, columns"
   ]
  },
  {
   "cell_type": "code",
   "execution_count": 44,
   "metadata": {},
   "outputs": [],
   "source": [
    "def trainEnsemble(trainDF, numClassifiers = 100, classifierType = RandomForestClassifier, balanced = True):\n",
    "    if classifierType == 'random':\n",
    "        classifierType = getRandomClassifier()\n",
    "    trainBar = IntProgress(min=0, max=numClassifiers, description='Training:')\n",
    "    display(trainBar)\n",
    "    clfs = []\n",
    "    for c in range(0, numClassifiers):\n",
    "        tDF = trainDF.copy()\n",
    "        clf, cols = classifierWrapper(tDF, classifierType, balanced, numColumns=10)\n",
    "        clfs.append({'clf': clf, 'cols':cols})\n",
    "        trainBar.value += 1\n",
    "    return clfs"
   ]
  },
  {
   "cell_type": "code",
   "execution_count": 45,
   "metadata": {},
   "outputs": [],
   "source": [
    "def testEnsemble(testDF, ensemble):\n",
    "    testBar = IntProgress(min=0, max=len(ensemble), description='Testing:')\n",
    "    display(testBar)\n",
    "    \n",
    "    testActual = testDF['Success']\n",
    "    clfFeatures = testDF[testDF.columns.drop('Success')]\n",
    "    preds = []\n",
    "    for clf in ensemble:\n",
    "        preds.append(clf['clf'].predict(testDF[clf['cols'].drop('Success')]))\n",
    "        testBar.value += 1\n",
    "    return preds"
   ]
  },
  {
   "cell_type": "code",
   "execution_count": 19,
   "metadata": {},
   "outputs": [],
   "source": [
    "def makeDiscrete(array):\n",
    "    dArr = []\n",
    "    for v in array:\n",
    "        if(v < .5):\n",
    "            dArr.append(0.)\n",
    "        else:\n",
    "            dArr.append(1.)\n",
    "    return dArr"
   ]
  },
  {
   "cell_type": "code",
   "execution_count": 93,
   "metadata": {},
   "outputs": [],
   "source": [
    "def makeEnsembleWithMinAcc(testDF, testActual, numClassifiers, minAcc):\n",
    "    goodCLFs = []\n",
    "    genBar = IntProgress(min=0, max=numClassifiers, description='Collecting Accurate CLFs:')\n",
    "    display(genBar)\n",
    "    for i in range(0, numClassifiers):\n",
    "        acc = 0\n",
    "        clf, cols = 'err', 'err'\n",
    "        while acc < minAcc:\n",
    "            clf, cols = classifierWrapper(trainDF, RandomForestClassifier, True, numColumns = random.randint(6, 20))\n",
    "#             clf, cols = classifierWrapper(trainDF, getRandomClassifier(), True, numColumns = random.randint(6, 20))\n",
    "            pred = clf.predict(testDF[cols.drop('Success')])\n",
    "            acc = accuracy_score(testActual, pred)\n",
    "        print(acc)\n",
    "        goodCLFs.append({'clf': clf, 'cols':cols})\n",
    "        genBar.value += 1\n",
    "    return goodCLFs"
   ]
  },
  {
   "cell_type": "code",
   "execution_count": 94,
   "metadata": {},
   "outputs": [
    {
     "data": {
      "application/vnd.jupyter.widget-view+json": {
       "model_id": "9aadfdfe349b46fcbc4bc701760e4163",
       "version_major": 2,
       "version_minor": 0
      },
      "text/plain": [
       "IntProgress(value=0, description='Collecting Accurate CLFs:', max=10)"
      ]
     },
     "metadata": {},
     "output_type": "display_data"
    },
    {
     "name": "stdout",
     "output_type": "stream",
     "text": [
      "0.6460396039603961\n",
      "0.6243408308222127\n",
      "0.6302329961256995\n",
      "0.6398245802841154\n",
      "0.6233588032716315\n",
      "0.6244080929832113\n",
      "0.6337575333620319\n",
      "0.6279057253551442\n",
      "0.6214754627636677\n",
      "0.6230628497632372\n"
     ]
    }
   ],
   "source": [
    "df = contests.copy(deep=True)\n",
    "trainDF, testDF = spitTrainingTesting(df, .8)\n",
    "testActual = testDF.reset_index()['Success']\n",
    "CLFs = makeEnsembleWithMinAcc(testDF, testActual, 10, .62)"
   ]
  },
  {
   "cell_type": "code",
   "execution_count": 97,
   "metadata": {
    "scrolled": true
   },
   "outputs": [
    {
     "data": {
      "application/vnd.jupyter.widget-view+json": {
       "model_id": "0386ce59368a4bbbacaf331d39737d94",
       "version_major": 2,
       "version_minor": 0
      },
      "text/plain": [
       "IntProgress(value=0, description='Testing:', max=10)"
      ]
     },
     "metadata": {},
     "output_type": "display_data"
    },
    {
     "name": "stdout",
     "output_type": "stream",
     "text": [
      "0.7745506887645286\n",
      "[[ 2149  1156]\n",
      " [15603 55428]]\n"
     ]
    }
   ],
   "source": [
    "preds = testEnsemble(testDF, CLFs)\n",
    "numCLF = len(preds)\n",
    "avgPreds = []\n",
    "for y in range(0, len(preds[0])):\n",
    "    predSum = 0\n",
    "    for x in range(0, len(preds)):\n",
    "        predSum += preds[x][y]\n",
    "    avgPreds.append(predSum/numCLF)\n",
    "print(accuracy_score(testActual, makeDiscrete(avgPreds)))\n",
    "print(confusion_matrix(testActual, makeDiscrete(avgPreds)))"
   ]
  },
  {
   "cell_type": "code",
   "execution_count": 67,
   "metadata": {},
   "outputs": [],
   "source": [
    "# Avg num columns\n",
    "colCounts = {}\n",
    "for c in CLFs:\n",
    "    cols = c['cols'].drop('Success')\n",
    "    for col in cols:\n",
    "        if not(col in colCounts):\n",
    "            colCounts[col] = 1\n",
    "        else:\n",
    "            colCounts[col] += 1"
   ]
  },
  {
   "cell_type": "code",
   "execution_count": 70,
   "metadata": {},
   "outputs": [
    {
     "name": "stdout",
     "output_type": "stream",
     "text": [
      "21_HoursOut 16\n",
      "EntryFeeAmount_Scaled 22\n",
      "VariantName_Tiers 16\n",
      "Contest_Group_Satellite 19\n",
      "SportName_TEN 16\n",
      "DraftablePlayersInSet_Scaled 17\n",
      "42_HoursOut 16\n",
      "PaidUsersInDraftGroup_Scaled 25\n",
      "Start_DayOfWeek_Y 19\n",
      "SportName_NHL 19\n",
      "Payout_Day_X 16\n"
     ]
    }
   ],
   "source": [
    "for col in colCounts:\n",
    "    if colCounts[col] > 15:\n",
    "        print(col, colCounts[col])"
   ]
  },
  {
   "cell_type": "code",
   "execution_count": null,
   "metadata": {},
   "outputs": [],
   "source": []
  },
  {
   "cell_type": "code",
   "execution_count": null,
   "metadata": {},
   "outputs": [],
   "source": []
  },
  {
   "cell_type": "code",
   "execution_count": 46,
   "metadata": {
    "scrolled": true
   },
   "outputs": [
    {
     "data": {
      "application/vnd.jupyter.widget-view+json": {
       "model_id": "0665a7a557714a8a8da20ee2e38f24c4",
       "version_major": 2,
       "version_minor": 0
      },
      "text/plain": [
       "IntProgress(value=0, description='Training:')"
      ]
     },
     "metadata": {},
     "output_type": "display_data"
    },
    {
     "data": {
      "application/vnd.jupyter.widget-view+json": {
       "model_id": "9c88d6cfb2554d5394c1a4b367d8bc96",
       "version_major": 2,
       "version_minor": 0
      },
      "text/plain": [
       "IntProgress(value=0, description='Testing:')"
      ]
     },
     "metadata": {},
     "output_type": "display_data"
    }
   ],
   "source": [
    "clfs = trainEnsemble(trainDF, numClassifiers = 100, classifierType = RandomForestClassifier, balanced = True)\n",
    "preds = testEnsemble(testDF, clfs)"
   ]
  },
  {
   "cell_type": "code",
   "execution_count": 54,
   "metadata": {},
   "outputs": [],
   "source": [
    "accuracies = []\n",
    "for pred in preds:\n",
    "    accuracies.append(accuracy_score(testActual,pred))"
   ]
  },
  {
   "cell_type": "code",
   "execution_count": 62,
   "metadata": {},
   "outputs": [
    {
     "data": {
      "text/plain": [
       "0.7254667240544467"
      ]
     },
     "execution_count": 62,
     "metadata": {},
     "output_type": "execute_result"
    }
   ],
   "source": [
    "max(accuracies)"
   ]
  },
  {
   "cell_type": "code",
   "execution_count": 47,
   "metadata": {},
   "outputs": [],
   "source": [
    "numCLF = len(preds)\n",
    "avgPreds = []\n",
    "for y in range(0, len(preds[0])):\n",
    "    predSum = 0\n",
    "    for x in range(0, len(preds)):\n",
    "        predSum += preds[x][y]\n",
    "    avgPreds.append(predSum/numCLF)"
   ]
  },
  {
   "cell_type": "code",
   "execution_count": 49,
   "metadata": {},
   "outputs": [
    {
     "data": {
      "text/plain": [
       "0.6646984451498359"
      ]
     },
     "execution_count": 49,
     "metadata": {},
     "output_type": "execute_result"
    }
   ],
   "source": [
    "accuracy_score(testActual, makeDiscrete(avgPreds))"
   ]
  },
  {
   "cell_type": "code",
   "execution_count": 41,
   "metadata": {},
   "outputs": [
    {
     "data": {
      "text/plain": [
       "array([[ 2333,   935],\n",
       "       [23994, 47086]])"
      ]
     },
     "execution_count": 41,
     "metadata": {},
     "output_type": "execute_result"
    }
   ],
   "source": [
    "confusion_matrix(testActual, makeDiscrete(avgPreds))"
   ]
  },
  {
   "cell_type": "code",
   "execution_count": 42,
   "metadata": {},
   "outputs": [],
   "source": [
    "import matplotlib.pyplot as plt"
   ]
  },
  {
   "cell_type": "code",
   "execution_count": 43,
   "metadata": {},
   "outputs": [
    {
     "data": {
      "text/plain": [
       "<matplotlib.collections.PathCollection at 0x114bfcd68>"
      ]
     },
     "execution_count": 43,
     "metadata": {},
     "output_type": "execute_result"
    },
    {
     "data": {
      "image/png": "[encoded data removed]",
      "text/plain": [
       "<Figure size 432x288 with 1 Axes>"
      ]
     },
     "metadata": {},
     "output_type": "display_data"
    }
   ],
   "source": [
    "plt.scatter(testActual, avgPreds, alpha=.005)"
   ]
  },
  {
   "cell_type": "markdown",
   "metadata": {},
   "source": [
    "### Required Accuracy:"
   ]
  },
  {
   "cell_type": "code",
   "execution_count": 18,
   "metadata": {},
   "outputs": [
    {
     "name": "stdout",
     "output_type": "stream",
     "text": [
      "Percent of contests that breakeven: 0.9557476004094012\n"
     ]
    }
   ],
   "source": [
    "numFail = len(contests.loc[contests['Success']==0])\n",
    "print('Percent of contests that breakeven:', 1-numFail/len(contests))"
   ]
  },
  {
   "cell_type": "code",
   "execution_count": null,
   "metadata": {},
   "outputs": [],
   "source": []
  }
 ],
 "metadata": {
  "kernelspec": {
   "display_name": "Python 3",
   "language": "python",
   "name": "python3"
  },
  "language_info": {
   "codemirror_mode": {
    "name": "ipython",
    "version": 3
   },
   "file_extension": ".py",
   "mimetype": "text/x-python",
   "name": "python",
   "nbconvert_exporter": "python",
   "pygments_lexer": "ipython3",
   "version": "3.6.5"
  }
 },
 "nbformat": 4,
 "nbformat_minor": 2
}

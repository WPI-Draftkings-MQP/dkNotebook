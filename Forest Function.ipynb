{
 "cells": [
  {
   "cell_type": "code",
   "execution_count": 1,
   "metadata": {},
   "outputs": [],
   "source": [
    "import pandas as pd\n",
    "import matplotlib.pyplot as plt\n",
    "import numpy as np\n",
    "import random\n",
    "\n",
    "from sklearn.ensemble import RandomForestClassifier\n",
    "from sklearn.ensemble import AdaBoostClassifier\n",
    "from sklearn.ensemble import GradientBoostingClassifier\n",
    "\n",
    "from sklearn.metrics import accuracy_score\n",
    "from sklearn.metrics import confusion_matrix\n",
    "\n",
    "from ipywidgets import IntProgress\n",
    "from IPython.display import display, HTML"
   ]
  },
  {
   "cell_type": "code",
   "execution_count": 2,
   "metadata": {},
   "outputs": [],
   "source": [
    "contests = pd.read_csv('data/WorkedData.csv').drop(columns=['FillGapDollar'], axis=2).set_index('ContestId').dropna();"
   ]
  },
  {
   "cell_type": "code",
   "execution_count": 61,
   "metadata": {},
   "outputs": [
    {
     "data": {
      "text/plain": [
       "Index(['Success', 'SportName_NFL', 'SportName_PGA', 'SportName_SOCC',\n",
       "       'SportName_MLB', 'SportName_NAS', 'SportName_CFB', 'SportName_MMA',\n",
       "       'SportName_LOL', 'SportName_NHL', 'SportName_NBA', 'SportName_SOC',\n",
       "       'SportName_CBB', 'SportName_GOLF', 'SportName_CFL', 'SportName_EL',\n",
       "       'SportName_TEN', 'VariantName_Classic', 'VariantName_Weekend',\n",
       "       'VariantName_Arcade', 'VariantName_WNBA', 'VariantName_Tiers',\n",
       "       'VariantName_Playoff Arcade', 'VariantName_Late Swap',\n",
       "       'VariantName_Final Series', 'VariantName_Tiers Late Swap',\n",
       "       'VariantName_Showdown', 'VariantName_Match Play',\n",
       "       'VariantName_Showdown Captain Mode', 'VariantName_Lowball',\n",
       "       'VariantName_Single Match', 'Contest_Group_Headliner',\n",
       "       'Contest_Group_Booster', 'Contest_Group_SingleEntry',\n",
       "       'Contest_Group_FeaturedDoubleUp', 'Contest_Group_MultiPlayer',\n",
       "       'Contest_Group_DoubleUp', 'Contest_Group_Satellite',\n",
       "       'Contest_Group_Qualifier', 'Contest_Group_50/50', 'Contest_Group_H2H',\n",
       "       'Contest_Group_LiveEvent', 'Contest_Group_3Max',\n",
       "       'Contest_Group_Multiplier', 'Contest_Group_DFSLeagues',\n",
       "       'Start_Year_Scaled', 'Start_Minute_X', 'Start_Minute_Y', 'Start_Hour_X',\n",
       "       'Start_Hour_Y', 'Start_Day_X', 'Start_Day_Y', 'Start_Month_X',\n",
       "       'Start_Month_Y', 'Start_DayOfWeek_X', 'Start_DayOfWeek_Y',\n",
       "       'Start_DayOfYear_X', 'Start_DayOfYear_Y', 'Start_WeekOfYear_X',\n",
       "       'Start_WeekOfYear_Y', 'End_Year_Scaled', 'End_Minute_X', 'End_Minute_Y',\n",
       "       'End_Hour_X', 'End_Hour_Y', 'End_Day_X', 'End_Day_Y', 'End_Month_X',\n",
       "       'End_Month_Y', 'End_DayOfWeek_X', 'End_DayOfWeek_Y', 'End_DayOfYear_X',\n",
       "       'End_DayOfYear_Y', 'End_WeekOfYear_X', 'End_WeekOfYear_Y',\n",
       "       'EntryFeeAmount_Scaled', 'TotalPrizeAmount_Scaled',\n",
       "       'MaxNumberPlayers_Scaled', 'MaxEntriesPerUser_Scaled',\n",
       "       'NumGames_Scaled', 'DraftablePlayersInSet_Scaled',\n",
       "       'PaidUsersInDraftGroup_Scaled', 'TopPrize_Scaled',\n",
       "       'MaxPayoutPosition_Scaled', 'SuccessThreshold_Scaled'],\n",
       "      dtype='object')"
      ]
     },
     "execution_count": 61,
     "metadata": {},
     "output_type": "execute_result"
    }
   ],
   "source": [
    "contests.columns"
   ]
  },
  {
   "cell_type": "markdown",
   "metadata": {},
   "source": [
    "## Helper functions"
   ]
  },
  {
   "cell_type": "code",
   "execution_count": 4,
   "metadata": {},
   "outputs": [],
   "source": [
    "#Returns DF with ~50/50 split on specified binary column\n",
    "def balanceDF(df, colName, numberOfEach = 0):\n",
    "    successDF, failDF = df.loc[df[colName] == 1], df.loc[df[colName] == 0]\n",
    "    if(numberOfEach == 0):\n",
    "        maxContestsForBalance = min(len(successDF), len(failDF))\n",
    "        numberOfEach = int(maxContestsForBalance*.1)\n",
    "    combinedDF = pd.concat([cutDF(successDF, numberOfEach), cutDF(failDF, numberOfEach)])\n",
    "    return combinedDF.sample(frac=1)\n",
    "#Samples DF for an approximate numnber of rows\n",
    "def cutDF(df, intendedNumber):\n",
    "    df = df.sample(frac=intendedNumber/len(df), replace=True)\n",
    "    return df"
   ]
  },
  {
   "cell_type": "code",
   "execution_count": 5,
   "metadata": {},
   "outputs": [],
   "source": [
    "def spitTrainingTesting(df, percentTrain):\n",
    "    df['is_train'] = np.random.uniform(0, 1, len(df)) <= percentTrain\n",
    "    trainDF, testDF = df[df['is_train']==True], df[df['is_train']==False]\n",
    "    df = df.drop(['is_train'], axis=1)\n",
    "    trainDF = trainDF.drop(['is_train'], axis=1)\n",
    "    testDF = testDF.drop(['is_train'], axis=1)\n",
    "    return trainDF, testDF"
   ]
  },
  {
   "cell_type": "code",
   "execution_count": 6,
   "metadata": {},
   "outputs": [],
   "source": [
    "classifiers = [RandomForestClassifier, AdaBoostClassifier, GradientBoostingClassifier]\n",
    "def getRandomClassifier(): \n",
    "    return classifiers[random.randint(0, len(classifiers)-1)]"
   ]
  },
  {
   "cell_type": "code",
   "execution_count": 7,
   "metadata": {},
   "outputs": [],
   "source": [
    "def makeAndTrainClassifier(trainDF, classifierType): \n",
    "    clfFeatures = trainDF.columns.drop('Success')\n",
    "    trainActual = trainDF['Success']\n",
    "    clf = classifierType()\n",
    "    clf.fit(trainDF[clfFeatures], trainActual)\n",
    "    return clf"
   ]
  },
  {
   "cell_type": "code",
   "execution_count": 8,
   "metadata": {},
   "outputs": [],
   "source": [
    "def classifierWrapper(trainDF, classifierType, balanced, numColumns = 0):\n",
    "    #if numColumns is 0 or >#ofColumns, clf will train on all columns\n",
    "    if(numColumns == 0  or numColumns > len(trainDF.columns)-1):\n",
    "        numColumns = len(trainDF)\n",
    "    columnDF = trainDF[trainDF.columns.drop('Success')].sample(numColumns, axis=1)\n",
    "    columns  = pd.merge(trainDF[['Success']], columnDF, on='ContestId', how='left').columns\n",
    "    if(balanced):\n",
    "        trainDF = balanceDF(contests, 'Success')\n",
    "    clf = makeAndTrainClassifier(trainDF[columns], classifierType)\n",
    "    return clf, columns"
   ]
  },
  {
   "cell_type": "code",
   "execution_count": 9,
   "metadata": {},
   "outputs": [],
   "source": [
    "def trainEnsemble(trainDF, numClassifiers = 100, classifierType = RandomForestClassifier, balanced = True):\n",
    "    if classifierType == 'random':\n",
    "        classifierType = getRandomClassifier()\n",
    "    trainBar = IntProgress(min=0, max=numClassifiers, description='Training:')\n",
    "    display(trainBar)\n",
    "    clfs = []\n",
    "    for c in range(0, numClassifiers):\n",
    "        tDF = trainDF.copy()\n",
    "        clf, cols = classifierWrapper(tDF, classifierType, balanced, numColumns=10)\n",
    "        clfs.append({'clf': clf, 'cols':cols})\n",
    "        trainBar.value += 1\n",
    "    return clfs\n",
    "\n",
    "def testEnsemble(testDF, ensemble):\n",
    "    testBar = IntProgress(min=0, max=len(ensemble), description='Testing:')\n",
    "    display(testBar)\n",
    "    \n",
    "    testActual = testDF['Success']\n",
    "    clfFeatures = testDF[testDF.columns.drop('Success')]\n",
    "    preds = []\n",
    "    for clf in ensemble:\n",
    "        preds.append(clf['clf'].predict(testDF[clf['cols'].drop('Success')]))\n",
    "        testBar.value += 1\n",
    "    return preds"
   ]
  },
  {
   "cell_type": "code",
   "execution_count": 10,
   "metadata": {},
   "outputs": [],
   "source": [
    "accuracies = []\n",
    "def makeEnsembleWithMinAcc(testDF, testActual, numClassifiers, minAcc, minLogThreshold = 1.0):\n",
    "    goodCLFs = []\n",
    "    genBar = IntProgress(min=0, max=numClassifiers, description='Collecting Accurate CLFs:')\n",
    "    display(genBar)\n",
    "    for i in range(0, numClassifiers):\n",
    "        acc = 0\n",
    "        clf, cols = 'err', 'err'\n",
    "        while acc < minAcc:\n",
    "            clf, cols = classifierWrapper(trainDF, RandomForestClassifier, True, numColumns = random.randint(10, 40))\n",
    "#             clf, cols = classifierWrapper(trainDF, getRandomClassifier(), True, numColumns = random.randint(6, 20))\n",
    "            pred = clf.predict(testDF[cols.drop('Success')])\n",
    "            acc = accuracy_score(testActual, pred)\n",
    "        if(acc > minLogThreshold):\n",
    "            print(\"#\"+str(len(goodCLFs)-1)+\":\", acc)\n",
    "        accuracies.append(acc)\n",
    "        goodCLFs.append({'clf': clf, 'cols':cols})\n",
    "        genBar.value += 1\n",
    "    return goodCLFs"
   ]
  },
  {
   "cell_type": "code",
   "execution_count": 11,
   "metadata": {},
   "outputs": [],
   "source": [
    "def makeDiscrete(array, threshold, isArray=False):\n",
    "    dArr = []\n",
    "    for v in array:\n",
    "        value = v\n",
    "        if(isArray):\n",
    "            value = sum(v)/float(len(v))\n",
    "        if(value < threshold):\n",
    "            dArr.append(0.)\n",
    "        else:\n",
    "            dArr.append(1.)\n",
    "    return dArr"
   ]
  },
  {
   "cell_type": "code",
   "execution_count": 12,
   "metadata": {},
   "outputs": [],
   "source": [
    "def combineCLFsPredictions(preds):\n",
    "    numContests = len(preds)\n",
    "    newPreds = []\n",
    "    for c in range(0, len(preds[0])):\n",
    "        predSum = 0\n",
    "        for CLF in range(0, len(preds)):\n",
    "            singlePred = preds[CLF][c]\n",
    "            predSum += singlePred\n",
    "        newPreds.append(predSum/(float(numContests)))\n",
    "    return newPreds"
   ]
  },
  {
   "cell_type": "markdown",
   "metadata": {},
   "source": [
    "## Make and Train Ensemble"
   ]
  },
  {
   "cell_type": "code",
   "execution_count": 13,
   "metadata": {
    "scrolled": false
   },
   "outputs": [],
   "source": [
    "df = contests.copy(deep=True)\n",
    "trainDF, testDF = spitTrainingTesting(df, .75)\n",
    "testActual = testDF.reset_index()['Success']"
   ]
  },
  {
   "cell_type": "code",
   "execution_count": 14,
   "metadata": {
    "scrolled": false
   },
   "outputs": [
    {
     "data": {
      "application/vnd.jupyter.widget-view+json": {
       "model_id": "a4deaf2b1dcf489eafa2de299a2dacaa",
       "version_major": 2,
       "version_minor": 0
      },
      "text/plain": [
       "IntProgress(value=0, description='Collecting Accurate CLFs:')"
      ]
     },
     "metadata": {},
     "output_type": "display_data"
    }
   ],
   "source": [
    "CLFs = makeEnsembleWithMinAcc(testDF, testActual, 100, .62, minLogThreshold=.75)"
   ]
  },
  {
   "cell_type": "markdown",
   "metadata": {},
   "source": [
    "## Saving CLF"
   ]
  },
  {
   "cell_type": "code",
   "execution_count": 17,
   "metadata": {},
   "outputs": [],
   "source": [
    "from sklearn.externals import joblib\n",
    "def saveCLF(clf, name):\n",
    "    print(clf['cols'])\n",
    "    joblib.dump(clf['clf'], name)\n",
    "# saveCLF(CLFs[92], 'Classifier84Percent.joblib')"
   ]
  },
  {
   "cell_type": "markdown",
   "metadata": {},
   "source": [
    "## Including FillGapDollars"
   ]
  },
  {
   "cell_type": "code",
   "execution_count": 15,
   "metadata": {},
   "outputs": [],
   "source": [
    "fillgapDF = pd.read_csv('data/SuccessAndFillGapDollars.csv').set_index('ContestId')[['FillGapDollar']]"
   ]
  },
  {
   "cell_type": "code",
   "execution_count": 16,
   "metadata": {},
   "outputs": [],
   "source": [
    "def getGap(df):\n",
    "    combinedDF = pd.merge(df, fillgapDF, on='ContestId', how='left')\n",
    "    combinedDF.head()\n",
    "    return combinedDF['FillGapDollar'].sum()\n",
    "def getTotalGap(df):\n",
    "    return round(getGap(df),2)\n",
    "def getAveGap(df):\n",
    "    return round(getGap(df)/len(df),2)\n",
    "def prettyDollars(newInt):\n",
    "    return \"$\"+\"{:,}\".format(newInt)"
   ]
  },
  {
   "cell_type": "markdown",
   "metadata": {},
   "source": [
    "## Generating False/True Positive/Negative columns"
   ]
  },
  {
   "cell_type": "code",
   "execution_count": 18,
   "metadata": {},
   "outputs": [],
   "source": [
    "def getF2Split(df, PredVal= 0, TrueVal=0):\n",
    "    splitDF = df.loc[df[\"Prediction\"] == PredVal]\n",
    "    splitDF = splitDF.loc[splitDF[\"Success\"] == TrueVal]\n",
    "    return splitDF\n",
    "def getTruePositives(df):\n",
    "    val = getF2Split(df, PredVal=1, TrueVal=1)\n",
    "#     print(\"getTruePositives\", len(val))\n",
    "    return val\n",
    "def getFalsePositives(df):\n",
    "    val = getF2Split(df, PredVal=1, TrueVal=0)\n",
    "#     print(\"getFalsePositives\", len(val))\n",
    "    return val\n",
    "def getTrueNegatives(df):\n",
    "    val = getF2Split(df, PredVal=0, TrueVal=0)\n",
    "#     print(\"getTrueNegatives\", len(val))\n",
    "    return val\n",
    "def getFalseNegatives(df):\n",
    "    val = getF2Split(df, PredVal=0, TrueVal=1)\n",
    "#     print(\"getFalseNegatives\", len(val))\n",
    "    return val"
   ]
  },
  {
   "cell_type": "code",
   "execution_count": 19,
   "metadata": {},
   "outputs": [],
   "source": [
    "def f2Table(title, TN, FN, FP, TP):\n",
    "    newStr = \"<table>\"\n",
    "    newStr += \"<tr><th colspan=\\'2\\'>\"+title+\"</th></tr>\"\n",
    "    newStr += \"<tr><td>TN: \"+str(TN)+\"</td><td>FN: \"+str(FN)+\"</td></tr>\"\n",
    "    newStr += \"<tr><td>FP: \"+str(FP)+\"</td><td>TP: \"+str(TP)+\"</td></tr>\"\n",
    "    newStr += \"</table>\"\n",
    "    return display(HTML(newStr))\n",
    "def f2TableFromMatrix(title, acc):\n",
    "    return f2Table(title, acc[0][0], acc[0][1], acc[1][0], acc[1][1])"
   ]
  },
  {
   "cell_type": "code",
   "execution_count": 31,
   "metadata": {},
   "outputs": [],
   "source": [
    "def getEnsembleResults(df, CLFs, threshold):\n",
    "    localDF = df.copy(deep=True)\n",
    "    preds = testEnsemble(localDF, CLFs)\n",
    "    combinedPreds = combineCLFsPredictions(preds)\n",
    "    return  localDF.assign(Prediction = makeDiscrete(combinedPreds, .5))[['Success', 'Prediction']]\n"
   ]
  },
  {
   "cell_type": "code",
   "execution_count": 32,
   "metadata": {},
   "outputs": [],
   "source": [
    "def analyzeCLFs(df, CLFs):\n",
    "    resultsDF = getEnsembleResults(df, CLFs, .5)\n",
    "    FP = getFalsePositives(resultsDF)\n",
    "    TP = getTruePositives(resultsDF)\n",
    "    FN = getFalseNegatives(resultsDF)\n",
    "    TN = getTrueNegatives(resultsDF)\n",
    "    print(\"Accuracy:\", accuracy_score(resultsDF['Prediction'], resultsDF['Success']))\n",
    "    f2TableFromMatrix(\"F2 Counts\", confusion_matrix(resultsDF['Prediction'], resultsDF['Success']))\n",
    "    f2Table(\"Average FillGapDollars\", prettyDollars(getAveGap(TN)), prettyDollars(getAveGap(FN)), prettyDollars(getAveGap(FP)), prettyDollars(getAveGap(TP)))\n",
    "    f2Table(\"Total FillGapDollars\", prettyDollars(getTotalGap(TN)), prettyDollars(getTotalGap(FN)), prettyDollars(getTotalGap(FP)), prettyDollars(getTotalGap(TP)))\n",
    "\n",
    "    #     return resultsDF"
   ]
  },
  {
   "cell_type": "markdown",
   "metadata": {},
   "source": [
    "## Testing"
   ]
  },
  {
   "cell_type": "markdown",
   "metadata": {},
   "source": [
    "#### Normal"
   ]
  },
  {
   "cell_type": "code",
   "execution_count": 33,
   "metadata": {
    "scrolled": true
   },
   "outputs": [
    {
     "data": {
      "application/vnd.jupyter.widget-view+json": {
       "model_id": "b6e92ec83c944627813381c1caa2d7ab",
       "version_major": 2,
       "version_minor": 0
      },
      "text/plain": [
       "IntProgress(value=0, description='Testing:')"
      ]
     },
     "metadata": {},
     "output_type": "display_data"
    },
    {
     "name": "stdout",
     "output_type": "stream",
     "text": [
      "Accuracy: 0.707174059319228\n"
     ]
    },
    {
     "data": {
      "text/html": [
       "<table><tr><th colspan='2'>F2 Counts</th></tr><tr><td>TN: 6850</td><td>FN: 26554</td></tr><tr><td>FP: 863</td><td>TP: 59362</td></tr></table>"
      ],
      "text/plain": [
       "<IPython.core.display.HTML object>"
      ]
     },
     "metadata": {},
     "output_type": "display_data"
    },
    {
     "data": {
      "text/html": [
       "<table><tr><th colspan='2'>Average FillGapDollars</th></tr><tr><td>TN: $2,007.47</td><td>FN: $0.0</td></tr><tr><td>FP: $292.61</td><td>TP: $0.0</td></tr></table>"
      ],
      "text/plain": [
       "<IPython.core.display.HTML object>"
      ]
     },
     "metadata": {},
     "output_type": "display_data"
    },
    {
     "data": {
      "text/html": [
       "<table><tr><th colspan='2'>Total FillGapDollars</th></tr><tr><td>TN: $13,751,197.3</td><td>FN: $0.0</td></tr><tr><td>FP: $252,526.05</td><td>TP: $0.0</td></tr></table>"
      ],
      "text/plain": [
       "<IPython.core.display.HTML object>"
      ]
     },
     "metadata": {},
     "output_type": "display_data"
    }
   ],
   "source": [
    "analyzeCLFs(testDF, CLFs)"
   ]
  },
  {
   "cell_type": "markdown",
   "metadata": {},
   "source": [
    "#### >= 100k"
   ]
  },
  {
   "cell_type": "code",
   "execution_count": 34,
   "metadata": {
    "scrolled": true
   },
   "outputs": [
    {
     "name": "stdout",
     "output_type": "stream",
     "text": [
      "5401 filtered to  1358\n"
     ]
    },
    {
     "data": {
      "application/vnd.jupyter.widget-view+json": {
       "model_id": "8b4eceeed57142479cfaa023f474262d",
       "version_major": 2,
       "version_minor": 0
      },
      "text/plain": [
       "IntProgress(value=0, description='Testing:')"
      ]
     },
     "metadata": {},
     "output_type": "display_data"
    },
    {
     "name": "stdout",
     "output_type": "stream",
     "text": [
      "Accuracy: 0.26435935198821797\n"
     ]
    },
    {
     "data": {
      "text/html": [
       "<table><tr><th colspan='2'>F2 Counts</th></tr><tr><td>TN: 284</td><td>FN: 998</td></tr><tr><td>FP: 1</td><td>TP: 75</td></tr></table>"
      ],
      "text/plain": [
       "<IPython.core.display.HTML object>"
      ]
     },
     "metadata": {},
     "output_type": "display_data"
    },
    {
     "data": {
      "text/html": [
       "<table><tr><th colspan='2'>Average FillGapDollars</th></tr><tr><td>TN: $33,203.51</td><td>FN: $0.0</td></tr><tr><td>FP: $24,975.0</td><td>TP: $0.0</td></tr></table>"
      ],
      "text/plain": [
       "<IPython.core.display.HTML object>"
      ]
     },
     "metadata": {},
     "output_type": "display_data"
    },
    {
     "data": {
      "text/html": [
       "<table><tr><th colspan='2'>Total FillGapDollars</th></tr><tr><td>TN: $9,429,796.0</td><td>FN: $0.0</td></tr><tr><td>FP: $24,975.0</td><td>TP: $0.0</td></tr></table>"
      ],
      "text/plain": [
       "<IPython.core.display.HTML object>"
      ]
     },
     "metadata": {},
     "output_type": "display_data"
    }
   ],
   "source": [
    "bigDF = pd.read_csv('data/BigContests.csv')[['ContestId']].set_index('ContestId')\n",
    "bigTestDF = pd.merge(bigDF, testDF, on='ContestId', how='inner')\n",
    "print(len(bigDF), \"filtered to \", len(bigTestDF))\n",
    "analyzeCLFs(bigTestDF, CLFs)"
   ]
  },
  {
   "cell_type": "markdown",
   "metadata": {},
   "source": [
    "#### < 100k"
   ]
  },
  {
   "cell_type": "code",
   "execution_count": 35,
   "metadata": {},
   "outputs": [
    {
     "data": {
      "application/vnd.jupyter.widget-view+json": {
       "model_id": "adf72f06e01c44bb9d92cf41e33e0fbb",
       "version_major": 2,
       "version_minor": 0
      },
      "text/plain": [
       "IntProgress(value=0, description='Testing:')"
      ]
     },
     "metadata": {},
     "output_type": "display_data"
    },
    {
     "name": "stdout",
     "output_type": "stream",
     "text": [
      "Accuracy: 0.7137705876620213\n"
     ]
    },
    {
     "data": {
      "text/html": [
       "<table><tr><th colspan='2'>F2 Counts</th></tr><tr><td>TN: 6572</td><td>FN: 25571</td></tr><tr><td>FP: 862</td><td>TP: 59344</td></tr></table>"
      ],
      "text/plain": [
       "<IPython.core.display.HTML object>"
      ]
     },
     "metadata": {},
     "output_type": "display_data"
    },
    {
     "data": {
      "text/html": [
       "<table><tr><th colspan='2'>Average FillGapDollars</th></tr><tr><td>TN: $657.61</td><td>FN: $0.0</td></tr><tr><td>FP: $263.98</td><td>TP: $0.0</td></tr></table>"
      ],
      "text/plain": [
       "<IPython.core.display.HTML object>"
      ]
     },
     "metadata": {},
     "output_type": "display_data"
    },
    {
     "data": {
      "text/html": [
       "<table><tr><th colspan='2'>Total FillGapDollars</th></tr><tr><td>TN: $4,321,784.3</td><td>FN: $0.0</td></tr><tr><td>FP: $227,551.05</td><td>TP: $0.0</td></tr></table>"
      ],
      "text/plain": [
       "<IPython.core.display.HTML object>"
      ]
     },
     "metadata": {},
     "output_type": "display_data"
    }
   ],
   "source": [
    "smallDF = pd.read_csv('data/SmallContests.csv')[['ContestId']].set_index('ContestId')\n",
    "smallTestDF = pd.merge(smallDF, testDF, on='ContestId', how='inner')\n",
    "analyzeCLFs(smallTestDF, CLFs)"
   ]
  },
  {
   "cell_type": "markdown",
   "metadata": {},
   "source": [
    "## Threshold Test Functions"
   ]
  },
  {
   "cell_type": "code",
   "execution_count": 44,
   "metadata": {},
   "outputs": [],
   "source": [
    "def getPredCost(rDF):\n",
    "    fn = len(getFalseNegatives(rDF))\n",
    "    fp = len(getFalsePositives(rDF))\n",
    "#     print(\"fn:\", fn, \"   fp:\", fp)\n",
    "    return fp*10+fn"
   ]
  },
  {
   "cell_type": "code",
   "execution_count": 27,
   "metadata": {},
   "outputs": [],
   "source": [
    "def getFNCost(rDF):\n",
    "    fnGap = getAveGap(getFalseNegatives(rDF))\n",
    "    return abs(fnGap)\n",
    "def getFPCost(rDF):\n",
    "    fpGap = getAveGap(getFalsePositives(rDF))\n",
    "    return abs(fpGap)"
   ]
  },
  {
   "cell_type": "markdown",
   "metadata": {},
   "source": [
    "## Determine Best Threshold"
   ]
  },
  {
   "cell_type": "code",
   "execution_count": 37,
   "metadata": {},
   "outputs": [],
   "source": [
    "def meanPreds(preds):\n",
    "    numCLF = len(preds)\n",
    "    avgPreds = []\n",
    "    for y in range(0, len(preds[0])):\n",
    "        predSum = 0\n",
    "        for x in range(0, len(preds)):\n",
    "            predSum += preds[x][y]\n",
    "        avgPreds.append(predSum/numCLF)\n",
    "    return avgPreds"
   ]
  },
  {
   "cell_type": "code",
   "execution_count": 38,
   "metadata": {},
   "outputs": [],
   "source": [
    "def testThresholds(avgPreds, func):\n",
    "    trainBar = IntProgress(min=0, max=99, description='Testing Thresholds:')\n",
    "    display(trainBar)\n",
    "    \n",
    "    localDF = testDF.copy(deep = True)\n",
    "    thresholds, values = [], []\n",
    "    for i in np.arange(0.01, 1, .01):\n",
    "        thresholds.append(i)\n",
    "        rDF = localDF.assign(Prediction = makeDiscrete(avgPreds, i))[['Success', 'Prediction']]\n",
    "        values.append(func(rDF))\n",
    "        trainBar.value+=1\n",
    "    return thresholds, values"
   ]
  },
  {
   "cell_type": "code",
   "execution_count": 45,
   "metadata": {
    "scrolled": true
   },
   "outputs": [
    {
     "data": {
      "application/vnd.jupyter.widget-view+json": {
       "model_id": "a2ab2d76f89a450fbf88263824702c2c",
       "version_major": 2,
       "version_minor": 0
      },
      "text/plain": [
       "IntProgress(value=0, description='Testing:')"
      ]
     },
     "metadata": {},
     "output_type": "display_data"
    },
    {
     "data": {
      "application/vnd.jupyter.widget-view+json": {
       "model_id": "17cb7cf0d0614f4caadda66f41dadc52",
       "version_major": 2,
       "version_minor": 0
      },
      "text/plain": [
       "IntProgress(value=0, description='Testing Thresholds:', max=99)"
      ]
     },
     "metadata": {},
     "output_type": "display_data"
    }
   ],
   "source": [
    "avgPreds = meanPreds(testEnsemble(testDF, CLFs))\n",
    "thresholds, values = testThresholds(avgPreds, getPredCost)"
   ]
  },
  {
   "cell_type": "code",
   "execution_count": 53,
   "metadata": {},
   "outputs": [
    {
     "data": {
      "text/plain": [
       "<matplotlib.collections.PathCollection at 0x1a48faf828>"
      ]
     },
     "execution_count": 53,
     "metadata": {},
     "output_type": "execute_result"
    },
    {
     "data": {
      "image/png": "[encoded data removed]",
      "text/plain": [
       "<Figure size 432x288 with 1 Axes>"
      ]
     },
     "metadata": {},
     "output_type": "display_data"
    }
   ],
   "source": [
    "plt.scatter(thresholds, values)"
   ]
  },
  {
   "cell_type": "code",
   "execution_count": 60,
   "metadata": {},
   "outputs": [
    {
     "name": "stdout",
     "output_type": "stream",
     "text": [
      "0.42000000000000004\n",
      "0.7694197310662295\n",
      "[[ 6360  1353]\n",
      " [20236 65680]]\n"
     ]
    }
   ],
   "source": [
    "t = thresholds[values.index(min(values))]\n",
    "preds = makeDiscrete(avgPreds, t)\n",
    "print(t)\n",
    "print(accuracy_score(testActual, preds))\n",
    "print(confusion_matrix(testActual, preds))"
   ]
  },
  {
   "cell_type": "markdown",
   "metadata": {},
   "source": [
    "## Frequent Columns"
   ]
  },
  {
   "cell_type": "code",
   "execution_count": 54,
   "metadata": {},
   "outputs": [],
   "source": [
    "# Avg num columns\n",
    "colCounts = {}\n",
    "for c in CLFs:\n",
    "    cols = c['cols'].drop('Success')\n",
    "    for col in cols:\n",
    "        if not(col in colCounts):\n",
    "            colCounts[col] = 1\n",
    "        else:\n",
    "            colCounts[col] += 1"
   ]
  },
  {
   "cell_type": "code",
   "execution_count": 59,
   "metadata": {},
   "outputs": [
    {
     "name": "stdout",
     "output_type": "stream",
     "text": [
      "PaidUsersInDraftGroup_Scaled 74\n",
      "SportName_PGA 41\n",
      "TopPrize_Scaled 59\n",
      "Contest_Group_Satellite 44\n",
      "Contest_Group_Booster 44\n",
      "MaxEntriesPerUser_Scaled 52\n",
      "VariantName_Classic 41\n"
     ]
    }
   ],
   "source": [
    "for col in colCounts:\n",
    "    if colCounts[col] > 40:\n",
    "        print(col, colCounts[col])"
   ]
  },
  {
   "cell_type": "markdown",
   "metadata": {},
   "source": [
    "### Required Accuracy:"
   ]
  },
  {
   "cell_type": "code",
   "execution_count": 33,
   "metadata": {
    "scrolled": false
   },
   "outputs": [
    {
     "name": "stdout",
     "output_type": "stream",
     "text": [
      "Percent of contests that breakeven: 0.9557476004094012\n"
     ]
    }
   ],
   "source": [
    "numFail = len(contests.loc[contests['Success']==0])\n",
    "print('Percent of contests that breakeven:', 1-numFail/len(contests))"
   ]
  },
  {
   "cell_type": "code",
   "execution_count": 46,
   "metadata": {},
   "outputs": [
    {
     "name": "stdout",
     "output_type": "stream",
     "text": [
      "Percent of contests that breakeven: 0.9664814814814815\n"
     ]
    }
   ],
   "source": [
    "bigDF = pd.read_csv('data/BigContests.csv')[['ContestId']].set_index('ContestId')\n",
    "bigMergedDF = pd.merge(bigDF, contests, on='ContestId', how='inner')\n",
    "numFail = len(bigMergedDF.loc[bigMergedDF['Success']==0])\n",
    "print('Percent of contests that breakeven:', 1-numFail/len(bigMergedDF))"
   ]
  },
  {
   "cell_type": "markdown",
   "metadata": {},
   "source": [
    "Bin contests to determine avg model\n",
    "\n",
    "Kalman texbook from brandon"
   ]
  },
  {
   "cell_type": "code",
   "execution_count": null,
   "metadata": {},
   "outputs": [],
   "source": []
  }
 ],
 "metadata": {
  "kernelspec": {
   "display_name": "Python 3",
   "language": "python",
   "name": "python3"
  },
  "language_info": {
   "codemirror_mode": {
    "name": "ipython",
    "version": 3
   },
   "file_extension": ".py",
   "mimetype": "text/x-python",
   "name": "python",
   "nbconvert_exporter": "python",
   "pygments_lexer": "ipython3",
   "version": "3.6.5"
  }
 },
 "nbformat": 4,
 "nbformat_minor": 2
}

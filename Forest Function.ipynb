{
 "cells": [
  {
   "cell_type": "code",
   "execution_count": 1,
   "metadata": {},
   "outputs": [],
   "source": [
    "import pandas as pd\n",
    "import matplotlib.pyplot as plt\n",
    "import numpy as np\n",
    "import random\n",
    "\n",
    "from sklearn.ensemble import RandomForestClassifier\n",
    "from sklearn.ensemble import AdaBoostClassifier\n",
    "from sklearn.ensemble import GradientBoostingClassifier\n",
    "\n",
    "from sklearn.metrics import accuracy_score\n",
    "from sklearn.metrics import confusion_matrix\n",
    "\n",
    "from ipywidgets import IntProgress\n",
    "from IPython.display import display, HTML"
   ]
  },
  {
   "cell_type": "markdown",
   "metadata": {},
   "source": [
    "## Helper functions"
   ]
  },
  {
   "cell_type": "code",
   "execution_count": 93,
   "metadata": {},
   "outputs": [],
   "source": [
    "#Returns DF with ~50/50 split on specified binary column\n",
    "def balanceDF(df, colName, numberOfEach = 0):\n",
    "    successDF, failDF = df[df[colName] == 1], df[df[colName] == 0]\n",
    "    if(numberOfEach == 0):\n",
    "        maxContestsForBalance = min(len(successDF), len(failDF))\n",
    "        numberOfEach = int(maxContestsForBalance*.1)\n",
    "    combinedDF = pd.concat([cutDF(successDF, numberOfEach), cutDF(failDF, numberOfEach)])\n",
    "    return combinedDF.sample(frac=1)\n",
    "#Samples DF for an approximate numnber of rows\n",
    "def cutDF(df, intendedNumber):\n",
    "    df = df.sample(frac=intendedNumber/len(df), replace=True)\n",
    "    return df"
   ]
  },
  {
   "cell_type": "code",
   "execution_count": 94,
   "metadata": {},
   "outputs": [],
   "source": [
    "def splitTrainingTesting(df, percentTrain):\n",
    "    df['is_train'] = np.random.uniform(0, 1, len(df)) <= percentTrain\n",
    "    trainDF, testDF = df[df['is_train']==True], df[df['is_train']==False]\n",
    "    df = df.drop(['is_train'], axis=1)\n",
    "    trainDF = trainDF.drop(['is_train'], axis=1)\n",
    "    testDF = testDF.drop(['is_train'], axis=1)\n",
    "    return trainDF, testDF\n",
    "trainDF, testDF = splitTrainingTesting(forestDF.dropna(), .75)"
   ]
  },
  {
   "cell_type": "code",
   "execution_count": 96,
   "metadata": {},
   "outputs": [],
   "source": [
    "classifiers = [RandomForestClassifier, AdaBoostClassifier, GradientBoostingClassifier]\n",
    "def getRandomClassifier(): \n",
    "    return classifiers[random.randint(0, len(classifiers)-1)]"
   ]
  },
  {
   "cell_type": "code",
   "execution_count": 104,
   "metadata": {},
   "outputs": [],
   "source": [
    "def makeAndTrainClassifier(trainDF, classifierType): \n",
    "    clfFeatures = trainDF.columns.drop('Success')\n",
    "    trainActual = trainDF['Success']\n",
    "    clf = classifierType()\n",
    "    clf.fit(trainDF[clfFeatures], trainActual.astype('int'))\n",
    "    return clf\n",
    "# makeAndTrainClassifier(trainDF, RandomForestClassifier)"
   ]
  },
  {
   "cell_type": "code",
   "execution_count": 135,
   "metadata": {},
   "outputs": [],
   "source": [
    "def classifierWrapper(trainDF, classifierType, balanced=False):\n",
    "    if(balanced):\n",
    "        trainDF = balanceDF(trainDF, 'Success')\n",
    "    clf = makeAndTrainClassifier(trainDF, classifierType)\n",
    "    columns = trainDF.columns\n",
    "    return clf, columns\n",
    "# classifierWrapper(trainDF, RandomForestClassifier, balanced=True)"
   ]
  },
  {
   "cell_type": "code",
   "execution_count": 136,
   "metadata": {},
   "outputs": [],
   "source": [
    "def trainEnsemble(trainDF, numClassifiers = 100, classifierType = RandomForestClassifier, balanced = True):\n",
    "    if classifierType == 'random':\n",
    "        classifierType = getRandomClassifier()\n",
    "    trainBar = IntProgress(min=0, max=numClassifiers, description='Training:')\n",
    "    display(trainBar)\n",
    "    clfs = []\n",
    "    for c in range(0, numClassifiers):\n",
    "        tDF = trainDF.copy()\n",
    "        clf, cols = classifierWrapper(tDF, classifierType, balanced, numColumns=10)\n",
    "        clfs.append({'clf': clf, 'cols':cols})\n",
    "        trainBar.value += 1\n",
    "    return clfs\n"
   ]
  },
  {
   "cell_type": "code",
   "execution_count": 144,
   "metadata": {},
   "outputs": [],
   "source": [
    "accuracies = []\n",
    "def makeEnsembleWithMinAcc(testDF, testActual, numClassifiers, minAcc, minLogThreshold = 1.0):\n",
    "    goodCLFs = []\n",
    "    genBar = IntProgress(min=0, max=numClassifiers, description='Collecting Accurate CLFs:')\n",
    "    display(genBar)\n",
    "    for i in range(0, numClassifiers):\n",
    "        acc = 0\n",
    "        clf, cols = 'err', 'err'    \n",
    "        while acc < minAcc:\n",
    "            clf, cols = classifierWrapper(trainDF, RandomForestClassifier, True)\n",
    "            pred = clf.predict(testDF[cols.drop('Success')])\n",
    "            acc = accuracy_score(testActual.astype('int'), pred)\n",
    "        if(acc > minLogThreshold):\n",
    "            print(\"#\"+str(len(goodCLFs)-1)+\":\", acc)\n",
    "        accuracies.append(acc)\n",
    "        goodCLFs.append({'clf': clf, 'cols':cols})\n",
    "        genBar.value += 1\n",
    "    return goodCLFs\n"
   ]
  },
  {
   "cell_type": "code",
   "execution_count": 112,
   "metadata": {},
   "outputs": [],
   "source": [
    "def makeDiscrete(array, threshold, isArray=False):\n",
    "    dArr = []\n",
    "    for v in array:\n",
    "        value = v\n",
    "        if(isArray):\n",
    "            value = sum(v)/float(len(v))\n",
    "        if(value < threshold):\n",
    "            dArr.append(0.)\n",
    "        else:\n",
    "            dArr.append(1.)\n",
    "    return dArr"
   ]
  },
  {
   "cell_type": "code",
   "execution_count": 113,
   "metadata": {},
   "outputs": [],
   "source": [
    "def combineCLFsPredictions(preds):\n",
    "    numContests = len(preds)\n",
    "    newPreds = []\n",
    "    for c in range(0, len(preds[0])):\n",
    "        predSum = 0\n",
    "        for CLF in range(0, len(preds)):\n",
    "            singlePred = preds[CLF][c]\n",
    "            predSum += singlePred\n",
    "        newPreds.append(predSum/(float(numContests)))\n",
    "    return newPreds"
   ]
  },
  {
   "cell_type": "markdown",
   "metadata": {},
   "source": [
    "## Make and Train Ensemble"
   ]
  },
  {
   "cell_type": "code",
   "execution_count": 166,
   "metadata": {},
   "outputs": [],
   "source": [
    "successDF = pd.read_csv('data/WorkedData.csv').set_index('ContestId')[['Success']]\n",
    "contestsDF = pd.read_csv('data/WorkingData.csv').set_index('ContestId')[['EntryFeeAmount', 'TotalPrizeAmount', 'MaxNumberPlayers']]\n",
    "contestsDF = pd.merge(contestsDF, successDF, on='ContestId', how='left')"
   ]
  },
  {
   "cell_type": "code",
   "execution_count": 165,
   "metadata": {},
   "outputs": [],
   "source": [
    "# qrDF = pd.read_csv('data/QR_Results.csv').set_index('ContestId')\n",
    "# qrDFCols = qrDF.columns\n",
    "# dropList = []\n",
    "# vNames = []\n",
    "# for col in qrDFCols:\n",
    "#     if(\"Pred\" in col):\n",
    "#         dropList.append(col)\n",
    "#     if(col[0]==\"A\"):\n",
    "#         vNames.append(col[1:])\n",
    "# qrDF = qrDF.drop(columns = dropList)"
   ]
  },
  {
   "cell_type": "code",
   "execution_count": 147,
   "metadata": {},
   "outputs": [],
   "source": [
    "resultsDF = pd.merge(qrDF, contestsDF, on='ContestId', how='left').dropna()"
   ]
  },
  {
   "cell_type": "code",
   "execution_count": 162,
   "metadata": {},
   "outputs": [
    {
     "data": {
      "text/html": [
       "<div>\n",
       "<style scoped>\n",
       "    .dataframe tbody tr th:only-of-type {\n",
       "        vertical-align: middle;\n",
       "    }\n",
       "\n",
       "    .dataframe tbody tr th {\n",
       "        vertical-align: top;\n",
       "    }\n",
       "\n",
       "    .dataframe thead th {\n",
       "        text-align: right;\n",
       "    }\n",
       "</style>\n",
       "<table border=\"1\" class=\"dataframe\">\n",
       "  <thead>\n",
       "    <tr style=\"text-align: right;\">\n",
       "      <th></th>\n",
       "      <th>Av10</th>\n",
       "      <th>Av11</th>\n",
       "      <th>Av12</th>\n",
       "      <th>Av13</th>\n",
       "      <th>Av14</th>\n",
       "      <th>Av15</th>\n",
       "      <th>Av6</th>\n",
       "      <th>Av7</th>\n",
       "      <th>Av8</th>\n",
       "      <th>Av9</th>\n",
       "      <th>...</th>\n",
       "      <th>Predv15</th>\n",
       "      <th>Predv15_Scaled</th>\n",
       "      <th>Predv6</th>\n",
       "      <th>Predv6_Scaled</th>\n",
       "      <th>Predv7</th>\n",
       "      <th>Predv7_Scaled</th>\n",
       "      <th>Predv8</th>\n",
       "      <th>Predv8_Scaled</th>\n",
       "      <th>Predv9</th>\n",
       "      <th>Predv9_Scaled</th>\n",
       "    </tr>\n",
       "    <tr>\n",
       "      <th>ContestId</th>\n",
       "      <th></th>\n",
       "      <th></th>\n",
       "      <th></th>\n",
       "      <th></th>\n",
       "      <th></th>\n",
       "      <th></th>\n",
       "      <th></th>\n",
       "      <th></th>\n",
       "      <th></th>\n",
       "      <th></th>\n",
       "      <th></th>\n",
       "      <th></th>\n",
       "      <th></th>\n",
       "      <th></th>\n",
       "      <th></th>\n",
       "      <th></th>\n",
       "      <th></th>\n",
       "      <th></th>\n",
       "      <th></th>\n",
       "      <th></th>\n",
       "      <th></th>\n",
       "    </tr>\n",
       "  </thead>\n",
       "  <tbody>\n",
       "    <tr>\n",
       "      <th>21744385</th>\n",
       "      <td>3.103649</td>\n",
       "      <td>1.591775</td>\n",
       "      <td>4.532958</td>\n",
       "      <td>2.983631</td>\n",
       "      <td>1.000053</td>\n",
       "      <td>1.005164</td>\n",
       "      <td>2.362644</td>\n",
       "      <td>1.002685</td>\n",
       "      <td>5.140647</td>\n",
       "      <td>4.173658</td>\n",
       "      <td>...</td>\n",
       "      <td>490.198851</td>\n",
       "      <td>1.225497</td>\n",
       "      <td>433.467459</td>\n",
       "      <td>1.083669</td>\n",
       "      <td>490.373053</td>\n",
       "      <td>1.225933</td>\n",
       "      <td>387.586235</td>\n",
       "      <td>0.968966</td>\n",
       "      <td>399.385829</td>\n",
       "      <td>0.998465</td>\n",
       "    </tr>\n",
       "  </tbody>\n",
       "</table>\n",
       "<p>1 rows × 45 columns</p>\n",
       "</div>"
      ],
      "text/plain": [
       "               Av10      Av11      Av12      Av13      Av14      Av15  \\\n",
       "ContestId                                                               \n",
       "21744385   3.103649  1.591775  4.532958  2.983631  1.000053  1.005164   \n",
       "\n",
       "                Av6       Av7       Av8       Av9      ...           Predv15  \\\n",
       "ContestId                                              ...                     \n",
       "21744385   2.362644  1.002685  5.140647  4.173658      ...        490.198851   \n",
       "\n",
       "           Predv15_Scaled      Predv6  Predv6_Scaled      Predv7  \\\n",
       "ContestId                                                          \n",
       "21744385         1.225497  433.467459       1.083669  490.373053   \n",
       "\n",
       "           Predv7_Scaled      Predv8  Predv8_Scaled      Predv9  Predv9_Scaled  \n",
       "ContestId                                                                       \n",
       "21744385        1.225933  387.586235       0.968966  399.385829       0.998465  \n",
       "\n",
       "[1 rows x 45 columns]"
      ]
     },
     "execution_count": 162,
     "metadata": {},
     "output_type": "execute_result"
    }
   ],
   "source": [
    "resultsDF.head(1)"
   ]
  },
  {
   "cell_type": "code",
   "execution_count": 148,
   "metadata": {},
   "outputs": [],
   "source": [
    "for v in vNames:\n",
    "    resultsDF['Pred'+v] = resultsDF['A'+v]*np.exp(resultsDF['B'+v]*resultsDF['Duration'])\n",
    "    resultsDF['Pred'+v+'_Scaled'] = resultsDF['Pred'+v]/resultsDF['MaxNumberPlayers']"
   ]
  },
  {
   "cell_type": "code",
   "execution_count": 149,
   "metadata": {},
   "outputs": [],
   "source": [
    "forestColumns = ['Predv6_Scaled', 'Predv7_Scaled', 'Predv8_Scaled', 'Predv9_Scaled', 'Predv10_Scaled', 'Predv11_Scaled', 'Predv12_Scaled', 'Predv13_Scaled', 'Predv14_Scaled', 'Predv15_Scaled', 'Success']\n",
    "forestDF = resultsDF[forestColumns]\n",
    "for col in forestColumns:\n",
    "    forestDF = forestDF[forestDF[col] != np.inf]\n",
    "    forestDF = forestDF[forestDF[col] < 10e+30]\n",
    "#     3.856038e+117"
   ]
  },
  {
   "cell_type": "code",
   "execution_count": 164,
   "metadata": {},
   "outputs": [],
   "source": [
    "forestDF.to_csv('data/QR_Preds.csv')"
   ]
  },
  {
   "cell_type": "code",
   "execution_count": null,
   "metadata": {},
   "outputs": [],
   "source": []
  },
  {
   "cell_type": "code",
   "execution_count": null,
   "metadata": {},
   "outputs": [],
   "source": []
  },
  {
   "cell_type": "code",
   "execution_count": 150,
   "metadata": {
    "scrolled": true
   },
   "outputs": [],
   "source": [
    "# df = contests.copy(deep=True)\n",
    "trainDF, testDF = spitTrainingTesting(forestDF, .75)\n",
    "testActual = testDF.reset_index()['Success'].astype('int')"
   ]
  },
  {
   "cell_type": "code",
   "execution_count": 151,
   "metadata": {
    "scrolled": false
   },
   "outputs": [
    {
     "data": {
      "application/vnd.jupyter.widget-view+json": {
       "model_id": "0f2abeece09246f2a11d362f6393d172",
       "version_major": 2,
       "version_minor": 0
      },
      "text/plain": [
       "IntProgress(value=0, description='Collecting Accurate CLFs:')"
      ]
     },
     "metadata": {},
     "output_type": "display_data"
    }
   ],
   "source": [
    "CLFs = makeEnsembleWithMinAcc(testDF, testActual, 100, .62, minLogThreshold=.75)"
   ]
  },
  {
   "cell_type": "markdown",
   "metadata": {},
   "source": [
    "## Saving CLF"
   ]
  },
  {
   "cell_type": "code",
   "execution_count": 152,
   "metadata": {},
   "outputs": [],
   "source": [
    "from sklearn.externals import joblib\n",
    "def saveCLF(clf, name):\n",
    "    print(clf['cols'])\n",
    "    joblib.dump(clf['clf'], name)\n",
    "# saveCLF(CLFs[92], 'Classifier84Percent.joblib')"
   ]
  },
  {
   "cell_type": "markdown",
   "metadata": {},
   "source": [
    "## Including FillGapDollars"
   ]
  },
  {
   "cell_type": "code",
   "execution_count": 153,
   "metadata": {},
   "outputs": [],
   "source": [
    "fillgapDF = pd.read_csv('data/SuccessAndFillGapDollars.csv').set_index('ContestId')[['FillGapDollar']]"
   ]
  },
  {
   "cell_type": "code",
   "execution_count": 154,
   "metadata": {},
   "outputs": [],
   "source": [
    "def getGap(df):\n",
    "    combinedDF = pd.merge(df, fillgapDF, on='ContestId', how='left')\n",
    "    combinedDF.head()\n",
    "    return combinedDF['FillGapDollar'].sum()\n",
    "def getTotalGap(df):\n",
    "    return round(getGap(df),2)\n",
    "def getAveGap(df):\n",
    "    return round(getGap(df)/len(df),2)\n",
    "def prettyDollars(newInt):\n",
    "    return \"$\"+\"{:,}\".format(newInt)"
   ]
  },
  {
   "cell_type": "markdown",
   "metadata": {},
   "source": [
    "## Generating False/True Positive/Negative columns"
   ]
  },
  {
   "cell_type": "code",
   "execution_count": 155,
   "metadata": {},
   "outputs": [],
   "source": [
    "def getF2Split(df, PredVal= 0, TrueVal=0):\n",
    "    splitDF = df.loc[df[\"Prediction\"] == PredVal]\n",
    "    splitDF = splitDF.loc[splitDF[\"Success\"] == TrueVal]\n",
    "    return splitDF\n",
    "def getTruePositives(df):\n",
    "    val = getF2Split(df, PredVal=1, TrueVal=1)\n",
    "#     print(\"getTruePositives\", len(val))\n",
    "    return val\n",
    "def getFalsePositives(df):\n",
    "    val = getF2Split(df, PredVal=1, TrueVal=0)\n",
    "#     print(\"getFalsePositives\", len(val))\n",
    "    return val\n",
    "def getTrueNegatives(df):\n",
    "    val = getF2Split(df, PredVal=0, TrueVal=0)\n",
    "#     print(\"getTrueNegatives\", len(val))\n",
    "    return val\n",
    "def getFalseNegatives(df):\n",
    "    val = getF2Split(df, PredVal=0, TrueVal=1)\n",
    "#     print(\"getFalseNegatives\", len(val))\n",
    "    return val"
   ]
  },
  {
   "cell_type": "code",
   "execution_count": 156,
   "metadata": {},
   "outputs": [],
   "source": [
    "def f2Table(title, TN, FN, FP, TP):\n",
    "    newStr = \"<table>\"\n",
    "    newStr += \"<tr><th colspan=\\'2\\'>\"+title+\"</th></tr>\"\n",
    "    newStr += \"<tr><td>TN: \"+str(TN)+\"</td><td>FN: \"+str(FN)+\"</td></tr>\"\n",
    "    newStr += \"<tr><td>FP: \"+str(FP)+\"</td><td>TP: \"+str(TP)+\"</td></tr>\"\n",
    "    newStr += \"</table>\"\n",
    "    return display(HTML(newStr))\n",
    "def f2TableFromMatrix(title, acc):\n",
    "    return f2Table(title, acc[0][0], acc[0][1], acc[1][0], acc[1][1])"
   ]
  },
  {
   "cell_type": "code",
   "execution_count": 157,
   "metadata": {},
   "outputs": [],
   "source": [
    "def getEnsembleResults(df, CLFs, threshold):\n",
    "    localDF = df.copy(deep=True)\n",
    "    preds = testEnsemble(localDF, CLFs)\n",
    "    combinedPreds = combineCLFsPredictions(preds)\n",
    "    return  localDF.assign(Prediction = makeDiscrete(combinedPreds, .5))[['Success', 'Prediction']]\n"
   ]
  },
  {
   "cell_type": "code",
   "execution_count": 160,
   "metadata": {},
   "outputs": [],
   "source": [
    "def analyzeCLFs(df, CLFs):\n",
    "    resultsDF = getEnsembleResults(df, CLFs, .5)\n",
    "    FP = getFalsePositives(resultsDF)\n",
    "    TP = getTruePositives(resultsDF)\n",
    "    FN = getFalseNegatives(resultsDF)\n",
    "    TN = getTrueNegatives(resultsDF)\n",
    "    print(\"Accuracy:\", accuracy_score(resultsDF['Prediction'].astype('int'), resultsDF['Success'].astype('int')))\n",
    "    f2TableFromMatrix(\"F2 Counts\", confusion_matrix(resultsDF['Prediction'].astype('int'), resultsDF['Success'].astype('int')))\n",
    "    f2Table(\"Average FillGapDollars\", prettyDollars(getAveGap(TN)), prettyDollars(getAveGap(FN)), prettyDollars(getAveGap(FP)), prettyDollars(getAveGap(TP)))\n",
    "    f2Table(\"Total FillGapDollars\", prettyDollars(getTotalGap(TN)), prettyDollars(getTotalGap(FN)), prettyDollars(getTotalGap(FP)), prettyDollars(getTotalGap(TP)))\n",
    "\n",
    "    #     return resultsDF"
   ]
  },
  {
   "cell_type": "markdown",
   "metadata": {},
   "source": [
    "## Testing"
   ]
  },
  {
   "cell_type": "markdown",
   "metadata": {},
   "source": [
    "#### Normal"
   ]
  },
  {
   "cell_type": "code",
   "execution_count": 161,
   "metadata": {
    "scrolled": true
   },
   "outputs": [
    {
     "data": {
      "application/vnd.jupyter.widget-view+json": {
       "model_id": "8eecdbae39174eeea543db83392b3eac",
       "version_major": 2,
       "version_minor": 0
      },
      "text/plain": [
       "IntProgress(value=0, description='Testing:')"
      ]
     },
     "metadata": {},
     "output_type": "display_data"
    },
    {
     "name": "stdout",
     "output_type": "stream",
     "text": [
      "Accuracy: 0.6680298292037528\n"
     ]
    },
    {
     "data": {
      "text/html": [
       "<table><tr><th colspan='2'>F2 Counts</th></tr><tr><td>TN: 597</td><td>FN: 2600</td></tr><tr><td>FP: 160</td><td>TP: 4957</td></tr></table>"
      ],
      "text/plain": [
       "<IPython.core.display.HTML object>"
      ]
     },
     "metadata": {},
     "output_type": "display_data"
    },
    {
     "data": {
      "text/html": [
       "<table><tr><th colspan='2'>Average FillGapDollars</th></tr><tr><td>TN: $1,948.91</td><td>FN: $0.0</td></tr><tr><td>FP: $2,336.17</td><td>TP: $0.0</td></tr></table>"
      ],
      "text/plain": [
       "<IPython.core.display.HTML object>"
      ]
     },
     "metadata": {},
     "output_type": "display_data"
    },
    {
     "data": {
      "text/html": [
       "<table><tr><th colspan='2'>Total FillGapDollars</th></tr><tr><td>TN: $1,163,501.58</td><td>FN: $0.0</td></tr><tr><td>FP: $373,787.8</td><td>TP: $0.0</td></tr></table>"
      ],
      "text/plain": [
       "<IPython.core.display.HTML object>"
      ]
     },
     "metadata": {},
     "output_type": "display_data"
    }
   ],
   "source": [
    "analyzeCLFs(testDF, CLFs)"
   ]
  },
  {
   "cell_type": "markdown",
   "metadata": {},
   "source": [
    "## Threshold Test Functions"
   ]
  },
  {
   "cell_type": "code",
   "execution_count": 44,
   "metadata": {},
   "outputs": [],
   "source": [
    "def getPredCost(rDF):\n",
    "    fn = len(getFalseNegatives(rDF))\n",
    "    fp = len(getFalsePositives(rDF))\n",
    "#     print(\"fn:\", fn, \"   fp:\", fp)\n",
    "    return fp*10+fn"
   ]
  },
  {
   "cell_type": "code",
   "execution_count": 27,
   "metadata": {},
   "outputs": [],
   "source": [
    "def getFNCost(rDF):\n",
    "    fnGap = getAveGap(getFalseNegatives(rDF))\n",
    "    return abs(fnGap)\n",
    "def getFPCost(rDF):\n",
    "    fpGap = getAveGap(getFalsePositives(rDF))\n",
    "    return abs(fpGap)"
   ]
  },
  {
   "cell_type": "markdown",
   "metadata": {},
   "source": [
    "## Determine Best Threshold"
   ]
  },
  {
   "cell_type": "code",
   "execution_count": 37,
   "metadata": {},
   "outputs": [],
   "source": [
    "def meanPreds(preds):\n",
    "    numCLF = len(preds)\n",
    "    avgPreds = []\n",
    "    for y in range(0, len(preds[0])):\n",
    "        predSum = 0\n",
    "        for x in range(0, len(preds)):\n",
    "            predSum += preds[x][y]\n",
    "        avgPreds.append(predSum/numCLF)\n",
    "    return avgPreds"
   ]
  },
  {
   "cell_type": "code",
   "execution_count": 38,
   "metadata": {},
   "outputs": [],
   "source": [
    "def testThresholds(avgPreds, func):\n",
    "    trainBar = IntProgress(min=0, max=99, description='Testing Thresholds:')\n",
    "    display(trainBar)\n",
    "    \n",
    "    localDF = testDF.copy(deep = True)\n",
    "    thresholds, values = [], []\n",
    "    for i in np.arange(0.01, 1, .01):\n",
    "        thresholds.append(i)\n",
    "        rDF = localDF.assign(Prediction = makeDiscrete(avgPreds, i))[['Success', 'Prediction']]\n",
    "        values.append(func(rDF))\n",
    "        trainBar.value+=1\n",
    "    return thresholds, values"
   ]
  },
  {
   "cell_type": "code",
   "execution_count": 45,
   "metadata": {
    "scrolled": true
   },
   "outputs": [
    {
     "data": {
      "application/vnd.jupyter.widget-view+json": {
       "model_id": "a2ab2d76f89a450fbf88263824702c2c",
       "version_major": 2,
       "version_minor": 0
      },
      "text/plain": [
       "IntProgress(value=0, description='Testing:')"
      ]
     },
     "metadata": {},
     "output_type": "display_data"
    },
    {
     "data": {
      "application/vnd.jupyter.widget-view+json": {
       "model_id": "17cb7cf0d0614f4caadda66f41dadc52",
       "version_major": 2,
       "version_minor": 0
      },
      "text/plain": [
       "IntProgress(value=0, description='Testing Thresholds:', max=99)"
      ]
     },
     "metadata": {},
     "output_type": "display_data"
    }
   ],
   "source": [
    "avgPreds = meanPreds(testEnsemble(testDF, CLFs))\n",
    "thresholds, values = testThresholds(avgPreds, getPredCost)"
   ]
  },
  {
   "cell_type": "code",
   "execution_count": 53,
   "metadata": {},
   "outputs": [
    {
     "data": {
      "text/plain": [
       "<matplotlib.collections.PathCollection at 0x1a48faf828>"
      ]
     },
     "execution_count": 53,
     "metadata": {},
     "output_type": "execute_result"
    },
    {
     "data": {
      "image/png": "[encoded data removed]",
      "text/plain": [
       "<Figure size 432x288 with 1 Axes>"
      ]
     },
     "metadata": {},
     "output_type": "display_data"
    }
   ],
   "source": [
    "plt.scatter(thresholds, values)"
   ]
  },
  {
   "cell_type": "code",
   "execution_count": 60,
   "metadata": {},
   "outputs": [
    {
     "name": "stdout",
     "output_type": "stream",
     "text": [
      "0.42000000000000004\n",
      "0.7694197310662295\n",
      "[[ 6360  1353]\n",
      " [20236 65680]]\n"
     ]
    }
   ],
   "source": [
    "t = thresholds[values.index(min(values))]\n",
    "preds = makeDiscrete(avgPreds, t)\n",
    "print(t)\n",
    "print(accuracy_score(testActual, preds))\n",
    "print(confusion_matrix(testActual, preds))"
   ]
  },
  {
   "cell_type": "markdown",
   "metadata": {},
   "source": [
    "## Frequent Columns"
   ]
  },
  {
   "cell_type": "code",
   "execution_count": 54,
   "metadata": {},
   "outputs": [],
   "source": [
    "# Avg num columns\n",
    "colCounts = {}\n",
    "for c in CLFs:\n",
    "    cols = c['cols'].drop('Success')\n",
    "    for col in cols:\n",
    "        if not(col in colCounts):\n",
    "            colCounts[col] = 1\n",
    "        else:\n",
    "            colCounts[col] += 1"
   ]
  },
  {
   "cell_type": "code",
   "execution_count": 59,
   "metadata": {},
   "outputs": [
    {
     "name": "stdout",
     "output_type": "stream",
     "text": [
      "PaidUsersInDraftGroup_Scaled 74\n",
      "SportName_PGA 41\n",
      "TopPrize_Scaled 59\n",
      "Contest_Group_Satellite 44\n",
      "Contest_Group_Booster 44\n",
      "MaxEntriesPerUser_Scaled 52\n",
      "VariantName_Classic 41\n"
     ]
    }
   ],
   "source": [
    "for col in colCounts:\n",
    "    if colCounts[col] > 40:\n",
    "        print(col, colCounts[col])"
   ]
  },
  {
   "cell_type": "markdown",
   "metadata": {},
   "source": [
    "### Required Accuracy:"
   ]
  },
  {
   "cell_type": "code",
   "execution_count": 33,
   "metadata": {
    "scrolled": false
   },
   "outputs": [
    {
     "name": "stdout",
     "output_type": "stream",
     "text": [
      "Percent of contests that breakeven: 0.9557476004094012\n"
     ]
    }
   ],
   "source": [
    "numFail = len(contests.loc[contests['Success']==0])\n",
    "print('Percent of contests that breakeven:', 1-numFail/len(contests))"
   ]
  },
  {
   "cell_type": "code",
   "execution_count": 46,
   "metadata": {},
   "outputs": [
    {
     "name": "stdout",
     "output_type": "stream",
     "text": [
      "Percent of contests that breakeven: 0.9664814814814815\n"
     ]
    }
   ],
   "source": [
    "bigDF = pd.read_csv('data/BigContests.csv')[['ContestId']].set_index('ContestId')\n",
    "bigMergedDF = pd.merge(bigDF, contests, on='ContestId', how='inner')\n",
    "numFail = len(bigMergedDF.loc[bigMergedDF['Success']==0])\n",
    "print('Percent of contests that breakeven:', 1-numFail/len(bigMergedDF))"
   ]
  },
  {
   "cell_type": "markdown",
   "metadata": {},
   "source": [
    "Bin contests to determine avg model\n",
    "\n",
    "Kalman texbook from brandon"
   ]
  },
  {
   "cell_type": "code",
   "execution_count": null,
   "metadata": {},
   "outputs": [],
   "source": []
  }
 ],
 "metadata": {
  "kernelspec": {
   "display_name": "Python 3",
   "language": "python",
   "name": "python3"
  },
  "language_info": {
   "codemirror_mode": {
    "name": "ipython",
    "version": 3
   },
   "file_extension": ".py",
   "mimetype": "text/x-python",
   "name": "python",
   "nbconvert_exporter": "python",
   "pygments_lexer": "ipython3",
   "version": "3.6.5"
  }
 },
 "nbformat": 4,
 "nbformat_minor": 2
}

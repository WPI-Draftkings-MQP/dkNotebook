{
 "cells": [
  {
   "cell_type": "code",
   "execution_count": null,
   "metadata": {},
   "outputs": [],
   "source": []
  },
  {
   "cell_type": "code",
   "execution_count": 1,
   "metadata": {},
   "outputs": [],
   "source": [
    "import pandas as pd\n",
    "import matplotlib.pyplot as plt\n",
    "import numpy as np\n",
    "import random\n",
    "from sklearn.ensemble import RandomForestClassifier\n",
    "from sklearn.metrics import accuracy_score\n",
    "from sklearn.metrics import confusion_matrix"
   ]
  },
  {
   "cell_type": "code",
   "execution_count": 2,
   "metadata": {
    "scrolled": true
   },
   "outputs": [
    {
     "data": {
      "text/html": [
       "<div>\n",
       "<style scoped>\n",
       "    .dataframe tbody tr th:only-of-type {\n",
       "        vertical-align: middle;\n",
       "    }\n",
       "\n",
       "    .dataframe tbody tr th {\n",
       "        vertical-align: top;\n",
       "    }\n",
       "\n",
       "    .dataframe thead th {\n",
       "        text-align: right;\n",
       "    }\n",
       "</style>\n",
       "<table border=\"1\" class=\"dataframe\">\n",
       "  <thead>\n",
       "    <tr style=\"text-align: right;\">\n",
       "      <th></th>\n",
       "      <th>Success</th>\n",
       "      <th>SportName_NFL</th>\n",
       "      <th>SportName_PGA</th>\n",
       "      <th>SportName_SOCC</th>\n",
       "      <th>SportName_MLB</th>\n",
       "      <th>SportName_NAS</th>\n",
       "      <th>SportName_CFB</th>\n",
       "      <th>SportName_MMA</th>\n",
       "      <th>SportName_LOL</th>\n",
       "      <th>SportName_NHL</th>\n",
       "      <th>...</th>\n",
       "      <th>40_HoursOut</th>\n",
       "      <th>41_HoursOut</th>\n",
       "      <th>42_HoursOut</th>\n",
       "      <th>43_HoursOut</th>\n",
       "      <th>44_HoursOut</th>\n",
       "      <th>45_HoursOut</th>\n",
       "      <th>46_HoursOut</th>\n",
       "      <th>47_HoursOut</th>\n",
       "      <th>48_HoursOut</th>\n",
       "      <th>RestOf_HoursOut</th>\n",
       "    </tr>\n",
       "    <tr>\n",
       "      <th>ContestId</th>\n",
       "      <th></th>\n",
       "      <th></th>\n",
       "      <th></th>\n",
       "      <th></th>\n",
       "      <th></th>\n",
       "      <th></th>\n",
       "      <th></th>\n",
       "      <th></th>\n",
       "      <th></th>\n",
       "      <th></th>\n",
       "      <th></th>\n",
       "      <th></th>\n",
       "      <th></th>\n",
       "      <th></th>\n",
       "      <th></th>\n",
       "      <th></th>\n",
       "      <th></th>\n",
       "      <th></th>\n",
       "      <th></th>\n",
       "      <th></th>\n",
       "      <th></th>\n",
       "    </tr>\n",
       "  </thead>\n",
       "  <tbody>\n",
       "    <tr>\n",
       "      <th>58300706</th>\n",
       "      <td>0.0</td>\n",
       "      <td>0.0</td>\n",
       "      <td>0.0</td>\n",
       "      <td>0.0</td>\n",
       "      <td>1.0</td>\n",
       "      <td>0.0</td>\n",
       "      <td>0.0</td>\n",
       "      <td>0.0</td>\n",
       "      <td>0.0</td>\n",
       "      <td>0.0</td>\n",
       "      <td>...</td>\n",
       "      <td>0.0</td>\n",
       "      <td>0.0</td>\n",
       "      <td>0.0</td>\n",
       "      <td>0.0</td>\n",
       "      <td>0.0</td>\n",
       "      <td>0.0</td>\n",
       "      <td>0.0</td>\n",
       "      <td>0.0</td>\n",
       "      <td>0.0</td>\n",
       "      <td>0.0</td>\n",
       "    </tr>\n",
       "  </tbody>\n",
       "</table>\n",
       "<p>1 rows × 146 columns</p>\n",
       "</div>"
      ],
      "text/plain": [
       "           Success  SportName_NFL  SportName_PGA  SportName_SOCC  \\\n",
       "ContestId                                                          \n",
       "58300706       0.0            0.0            0.0             0.0   \n",
       "\n",
       "           SportName_MLB  SportName_NAS  SportName_CFB  SportName_MMA  \\\n",
       "ContestId                                                               \n",
       "58300706             1.0            0.0            0.0            0.0   \n",
       "\n",
       "           SportName_LOL  SportName_NHL       ...         40_HoursOut  \\\n",
       "ContestId                                     ...                       \n",
       "58300706             0.0            0.0       ...                 0.0   \n",
       "\n",
       "           41_HoursOut  42_HoursOut  43_HoursOut  44_HoursOut  45_HoursOut  \\\n",
       "ContestId                                                                    \n",
       "58300706           0.0          0.0          0.0          0.0          0.0   \n",
       "\n",
       "           46_HoursOut  47_HoursOut  48_HoursOut  RestOf_HoursOut  \n",
       "ContestId                                                          \n",
       "58300706           0.0          0.0          0.0              0.0  \n",
       "\n",
       "[1 rows x 146 columns]"
      ]
     },
     "execution_count": 2,
     "metadata": {},
     "output_type": "execute_result"
    }
   ],
   "source": [
    "contests = pd.read_csv('data/ContestsWithoutCheats.csv').set_index('ContestId')\n",
    "contests.tail(1)"
   ]
  },
  {
   "cell_type": "markdown",
   "metadata": {},
   "source": [
    "### Required Accuracy:"
   ]
  },
  {
   "cell_type": "code",
   "execution_count": 6,
   "metadata": {},
   "outputs": [
    {
     "name": "stdout",
     "output_type": "stream",
     "text": [
      "Percent of contests that breakeven: 0.9557599602529844\n"
     ]
    }
   ],
   "source": [
    "numFail = len(contests.loc[contests['Success']==0])\n",
    "print('Percent of contests that breakeven:', 1-numFail/len(contests))"
   ]
  },
  {
   "cell_type": "code",
   "execution_count": 7,
   "metadata": {},
   "outputs": [],
   "source": [
    "CLF_contests = contests.loc[:].dropna()"
   ]
  },
  {
   "cell_type": "code",
   "execution_count": 14,
   "metadata": {},
   "outputs": [],
   "source": [
    "CLF_Features = CLF_contests.columns.drop('Success')"
   ]
  },
  {
   "cell_type": "code",
   "execution_count": 10,
   "metadata": {},
   "outputs": [
    {
     "name": "stdout",
     "output_type": "stream",
     "text": [
      "Number of observations in the training data: 279166\n",
      "Number of observations in the test data: 93085\n"
     ]
    }
   ],
   "source": [
    "CLF_contests['is_train'] = np.random.uniform(0, 1, len(CLF_contests)) <= .75\n",
    "train, test = CLF_contests[CLF_contests['is_train']==True], CLF_contests[CLF_contests['is_train']==False]\n",
    "print('Number of observations in the training data:', len(train))\n",
    "print('Number of observations in the test data:',len(test))"
   ]
  },
  {
   "cell_type": "code",
   "execution_count": 11,
   "metadata": {},
   "outputs": [],
   "source": [
    "actual = test['Success']\n",
    "y = train['Success']"
   ]
  },
  {
   "cell_type": "code",
   "execution_count": 15,
   "metadata": {},
   "outputs": [
    {
     "data": {
      "text/plain": [
       "RandomForestClassifier(bootstrap=True, class_weight=None, criterion='gini',\n",
       "            max_depth=None, max_features='auto', max_leaf_nodes=None,\n",
       "            min_impurity_decrease=0.0, min_impurity_split=None,\n",
       "            min_samples_leaf=1, min_samples_split=2,\n",
       "            min_weight_fraction_leaf=0.0, n_estimators=10, n_jobs=2,\n",
       "            oob_score=False, random_state=0, verbose=0, warm_start=False)"
      ]
     },
     "execution_count": 15,
     "metadata": {},
     "output_type": "execute_result"
    }
   ],
   "source": [
    "clf = RandomForestClassifier(n_jobs=2, random_state=0)\n",
    "clf.fit(train[CLF_Features], y)"
   ]
  },
  {
   "cell_type": "code",
   "execution_count": 16,
   "metadata": {},
   "outputs": [],
   "source": [
    "preds = clf.predict(test[CLF_Features])\n",
    "trueIds = test[['Success']]"
   ]
  },
  {
   "cell_type": "code",
   "execution_count": 17,
   "metadata": {
    "scrolled": true
   },
   "outputs": [],
   "source": [
    "featureImportanceDF = pd.DataFrame(data={\"Feature\":CLF_Features, \"Importance\":clf.feature_importances_})\n",
    "featureImportanceDF = featureImportanceDF.sort_values(by=['Importance'],ascending=False)"
   ]
  },
  {
   "cell_type": "code",
   "execution_count": 18,
   "metadata": {},
   "outputs": [],
   "source": [
    "# featureImportanceDF.head(50)\n",
    "featureImportanceDF.to_csv(\"data/RawForestFeatures.csv\")"
   ]
  },
  {
   "cell_type": "code",
   "execution_count": 24,
   "metadata": {},
   "outputs": [
    {
     "data": {
      "text/html": [
       "<div>\n",
       "<style scoped>\n",
       "    .dataframe tbody tr th:only-of-type {\n",
       "        vertical-align: middle;\n",
       "    }\n",
       "\n",
       "    .dataframe tbody tr th {\n",
       "        vertical-align: top;\n",
       "    }\n",
       "\n",
       "    .dataframe thead th {\n",
       "        text-align: right;\n",
       "    }\n",
       "</style>\n",
       "<table border=\"1\" class=\"dataframe\">\n",
       "  <thead>\n",
       "    <tr style=\"text-align: right;\">\n",
       "      <th></th>\n",
       "      <th>Feature</th>\n",
       "      <th>Importance</th>\n",
       "    </tr>\n",
       "  </thead>\n",
       "  <tbody>\n",
       "    <tr>\n",
       "      <th>91</th>\n",
       "      <td>MaxNumberPlayers_Scaled</td>\n",
       "      <td>0.059039</td>\n",
       "    </tr>\n",
       "    <tr>\n",
       "      <th>96</th>\n",
       "      <td>TopPrize_Scaled</td>\n",
       "      <td>0.059033</td>\n",
       "    </tr>\n",
       "    <tr>\n",
       "      <th>90</th>\n",
       "      <td>TotalPrizeAmount_Scaled</td>\n",
       "      <td>0.058044</td>\n",
       "    </tr>\n",
       "    <tr>\n",
       "      <th>98</th>\n",
       "      <td>SuccessThreshold_Scaled</td>\n",
       "      <td>0.056359</td>\n",
       "    </tr>\n",
       "    <tr>\n",
       "      <th>89</th>\n",
       "      <td>EntryFeeAmount_Scaled</td>\n",
       "      <td>0.056043</td>\n",
       "    </tr>\n",
       "    <tr>\n",
       "      <th>95</th>\n",
       "      <td>PaidUsersInDraftGroup_Scaled</td>\n",
       "      <td>0.052016</td>\n",
       "    </tr>\n",
       "    <tr>\n",
       "      <th>97</th>\n",
       "      <td>MaxPayoutPosition_Scaled</td>\n",
       "      <td>0.046893</td>\n",
       "    </tr>\n",
       "    <tr>\n",
       "      <th>94</th>\n",
       "      <td>DraftablePlayersInSet_Scaled</td>\n",
       "      <td>0.032075</td>\n",
       "    </tr>\n",
       "    <tr>\n",
       "      <th>76</th>\n",
       "      <td>Payout_Minute_Y</td>\n",
       "      <td>0.024365</td>\n",
       "    </tr>\n",
       "    <tr>\n",
       "      <th>75</th>\n",
       "      <td>Payout_Minute_X</td>\n",
       "      <td>0.023592</td>\n",
       "    </tr>\n",
       "    <tr>\n",
       "      <th>93</th>\n",
       "      <td>NumGames_Scaled</td>\n",
       "      <td>0.019484</td>\n",
       "    </tr>\n",
       "    <tr>\n",
       "      <th>56</th>\n",
       "      <td>Start_DayOfYear_Y</td>\n",
       "      <td>0.017624</td>\n",
       "    </tr>\n",
       "    <tr>\n",
       "      <th>86</th>\n",
       "      <td>Payout_DayOfYear_Y</td>\n",
       "      <td>0.017032</td>\n",
       "    </tr>\n",
       "    <tr>\n",
       "      <th>47</th>\n",
       "      <td>Start_Hour_X</td>\n",
       "      <td>0.016781</td>\n",
       "    </tr>\n",
       "    <tr>\n",
       "      <th>85</th>\n",
       "      <td>Payout_DayOfYear_X</td>\n",
       "      <td>0.016639</td>\n",
       "    </tr>\n",
       "    <tr>\n",
       "      <th>70</th>\n",
       "      <td>End_DayOfYear_X</td>\n",
       "      <td>0.016441</td>\n",
       "    </tr>\n",
       "    <tr>\n",
       "      <th>55</th>\n",
       "      <td>Start_DayOfYear_X</td>\n",
       "      <td>0.016294</td>\n",
       "    </tr>\n",
       "    <tr>\n",
       "      <th>80</th>\n",
       "      <td>Payout_Day_Y</td>\n",
       "      <td>0.016232</td>\n",
       "    </tr>\n",
       "    <tr>\n",
       "      <th>50</th>\n",
       "      <td>Start_Day_Y</td>\n",
       "      <td>0.015576</td>\n",
       "    </tr>\n",
       "    <tr>\n",
       "      <th>71</th>\n",
       "      <td>End_DayOfYear_Y</td>\n",
       "      <td>0.015440</td>\n",
       "    </tr>\n",
       "    <tr>\n",
       "      <th>48</th>\n",
       "      <td>Start_Hour_Y</td>\n",
       "      <td>0.015202</td>\n",
       "    </tr>\n",
       "    <tr>\n",
       "      <th>65</th>\n",
       "      <td>End_Day_Y</td>\n",
       "      <td>0.014831</td>\n",
       "    </tr>\n",
       "    <tr>\n",
       "      <th>78</th>\n",
       "      <td>Payout_Hour_Y</td>\n",
       "      <td>0.013887</td>\n",
       "    </tr>\n",
       "    <tr>\n",
       "      <th>77</th>\n",
       "      <td>Payout_Hour_X</td>\n",
       "      <td>0.013844</td>\n",
       "    </tr>\n",
       "    <tr>\n",
       "      <th>49</th>\n",
       "      <td>Start_Day_X</td>\n",
       "      <td>0.013700</td>\n",
       "    </tr>\n",
       "    <tr>\n",
       "      <th>79</th>\n",
       "      <td>Payout_Day_X</td>\n",
       "      <td>0.013305</td>\n",
       "    </tr>\n",
       "    <tr>\n",
       "      <th>64</th>\n",
       "      <td>End_Day_X</td>\n",
       "      <td>0.013164</td>\n",
       "    </tr>\n",
       "    <tr>\n",
       "      <th>63</th>\n",
       "      <td>End_Hour_Y</td>\n",
       "      <td>0.012046</td>\n",
       "    </tr>\n",
       "    <tr>\n",
       "      <th>36</th>\n",
       "      <td>Contest_Group_Satellite</td>\n",
       "      <td>0.011897</td>\n",
       "    </tr>\n",
       "    <tr>\n",
       "      <th>62</th>\n",
       "      <td>End_Hour_X</td>\n",
       "      <td>0.011542</td>\n",
       "    </tr>\n",
       "    <tr>\n",
       "      <th>45</th>\n",
       "      <td>Start_Minute_X</td>\n",
       "      <td>0.010482</td>\n",
       "    </tr>\n",
       "    <tr>\n",
       "      <th>73</th>\n",
       "      <td>End_WeekOfYear_Y</td>\n",
       "      <td>0.009724</td>\n",
       "    </tr>\n",
       "    <tr>\n",
       "      <th>54</th>\n",
       "      <td>Start_DayOfWeek_Y</td>\n",
       "      <td>0.009531</td>\n",
       "    </tr>\n",
       "    <tr>\n",
       "      <th>88</th>\n",
       "      <td>Payout_WeekOfYear_Y</td>\n",
       "      <td>0.009468</td>\n",
       "    </tr>\n",
       "    <tr>\n",
       "      <th>60</th>\n",
       "      <td>End_Minute_X</td>\n",
       "      <td>0.009444</td>\n",
       "    </tr>\n",
       "    <tr>\n",
       "      <th>72</th>\n",
       "      <td>End_WeekOfYear_X</td>\n",
       "      <td>0.009256</td>\n",
       "    </tr>\n",
       "    <tr>\n",
       "      <th>84</th>\n",
       "      <td>Payout_DayOfWeek_Y</td>\n",
       "      <td>0.009197</td>\n",
       "    </tr>\n",
       "    <tr>\n",
       "      <th>87</th>\n",
       "      <td>Payout_WeekOfYear_X</td>\n",
       "      <td>0.009172</td>\n",
       "    </tr>\n",
       "    <tr>\n",
       "      <th>57</th>\n",
       "      <td>Start_WeekOfYear_X</td>\n",
       "      <td>0.008923</td>\n",
       "    </tr>\n",
       "    <tr>\n",
       "      <th>58</th>\n",
       "      <td>Start_WeekOfYear_Y</td>\n",
       "      <td>0.008678</td>\n",
       "    </tr>\n",
       "    <tr>\n",
       "      <th>46</th>\n",
       "      <td>Start_Minute_Y</td>\n",
       "      <td>0.008669</td>\n",
       "    </tr>\n",
       "    <tr>\n",
       "      <th>69</th>\n",
       "      <td>End_DayOfWeek_Y</td>\n",
       "      <td>0.008564</td>\n",
       "    </tr>\n",
       "    <tr>\n",
       "      <th>61</th>\n",
       "      <td>End_Minute_Y</td>\n",
       "      <td>0.007599</td>\n",
       "    </tr>\n",
       "    <tr>\n",
       "      <th>30</th>\n",
       "      <td>Contest_Group_Headliner</td>\n",
       "      <td>0.007134</td>\n",
       "    </tr>\n",
       "    <tr>\n",
       "      <th>83</th>\n",
       "      <td>Payout_DayOfWeek_X</td>\n",
       "      <td>0.006991</td>\n",
       "    </tr>\n",
       "    <tr>\n",
       "      <th>68</th>\n",
       "      <td>End_DayOfWeek_X</td>\n",
       "      <td>0.006890</td>\n",
       "    </tr>\n",
       "    <tr>\n",
       "      <th>53</th>\n",
       "      <td>Start_DayOfWeek_X</td>\n",
       "      <td>0.006772</td>\n",
       "    </tr>\n",
       "    <tr>\n",
       "      <th>59</th>\n",
       "      <td>End_Year_Scaled</td>\n",
       "      <td>0.005402</td>\n",
       "    </tr>\n",
       "    <tr>\n",
       "      <th>74</th>\n",
       "      <td>Payout_Year_Scaled</td>\n",
       "      <td>0.005331</td>\n",
       "    </tr>\n",
       "    <tr>\n",
       "      <th>44</th>\n",
       "      <td>Start_Year_Scaled</td>\n",
       "      <td>0.005146</td>\n",
       "    </tr>\n",
       "  </tbody>\n",
       "</table>\n",
       "</div>"
      ],
      "text/plain": [
       "                         Feature  Importance\n",
       "91       MaxNumberPlayers_Scaled    0.059039\n",
       "96               TopPrize_Scaled    0.059033\n",
       "90       TotalPrizeAmount_Scaled    0.058044\n",
       "98       SuccessThreshold_Scaled    0.056359\n",
       "89         EntryFeeAmount_Scaled    0.056043\n",
       "95  PaidUsersInDraftGroup_Scaled    0.052016\n",
       "97      MaxPayoutPosition_Scaled    0.046893\n",
       "94  DraftablePlayersInSet_Scaled    0.032075\n",
       "76               Payout_Minute_Y    0.024365\n",
       "75               Payout_Minute_X    0.023592\n",
       "93               NumGames_Scaled    0.019484\n",
       "56             Start_DayOfYear_Y    0.017624\n",
       "86            Payout_DayOfYear_Y    0.017032\n",
       "47                  Start_Hour_X    0.016781\n",
       "85            Payout_DayOfYear_X    0.016639\n",
       "70               End_DayOfYear_X    0.016441\n",
       "55             Start_DayOfYear_X    0.016294\n",
       "80                  Payout_Day_Y    0.016232\n",
       "50                   Start_Day_Y    0.015576\n",
       "71               End_DayOfYear_Y    0.015440\n",
       "48                  Start_Hour_Y    0.015202\n",
       "65                     End_Day_Y    0.014831\n",
       "78                 Payout_Hour_Y    0.013887\n",
       "77                 Payout_Hour_X    0.013844\n",
       "49                   Start_Day_X    0.013700\n",
       "79                  Payout_Day_X    0.013305\n",
       "64                     End_Day_X    0.013164\n",
       "63                    End_Hour_Y    0.012046\n",
       "36       Contest_Group_Satellite    0.011897\n",
       "62                    End_Hour_X    0.011542\n",
       "45                Start_Minute_X    0.010482\n",
       "73              End_WeekOfYear_Y    0.009724\n",
       "54             Start_DayOfWeek_Y    0.009531\n",
       "88           Payout_WeekOfYear_Y    0.009468\n",
       "60                  End_Minute_X    0.009444\n",
       "72              End_WeekOfYear_X    0.009256\n",
       "84            Payout_DayOfWeek_Y    0.009197\n",
       "87           Payout_WeekOfYear_X    0.009172\n",
       "57            Start_WeekOfYear_X    0.008923\n",
       "58            Start_WeekOfYear_Y    0.008678\n",
       "46                Start_Minute_Y    0.008669\n",
       "69               End_DayOfWeek_Y    0.008564\n",
       "61                  End_Minute_Y    0.007599\n",
       "30       Contest_Group_Headliner    0.007134\n",
       "83            Payout_DayOfWeek_X    0.006991\n",
       "68               End_DayOfWeek_X    0.006890\n",
       "53             Start_DayOfWeek_X    0.006772\n",
       "59               End_Year_Scaled    0.005402\n",
       "74            Payout_Year_Scaled    0.005331\n",
       "44             Start_Year_Scaled    0.005146"
      ]
     },
     "execution_count": 24,
     "metadata": {},
     "output_type": "execute_result"
    }
   ],
   "source": [
    "featureImportanceDF.head(50)"
   ]
  },
  {
   "cell_type": "code",
   "execution_count": 25,
   "metadata": {
    "scrolled": true
   },
   "outputs": [
    {
     "data": {
      "text/plain": [
       "0.9590911532470323"
      ]
     },
     "execution_count": 25,
     "metadata": {},
     "output_type": "execute_result"
    }
   ],
   "source": [
    "accuracy_score(actual, preds)"
   ]
  },
  {
   "cell_type": "code",
   "execution_count": 19,
   "metadata": {},
   "outputs": [],
   "source": [
    "confuse = pd.DataFrame({'Predict':preds, 'Real':actual})"
   ]
  },
  {
   "cell_type": "code",
   "execution_count": 20,
   "metadata": {},
   "outputs": [],
   "source": [
    "successes =  len(test.loc[test['Success']==1.0])\n",
    "fails = len(test.loc[test['Success']==0.0])"
   ]
  },
  {
   "cell_type": "code",
   "execution_count": 21,
   "metadata": {},
   "outputs": [
    {
     "name": "stdout",
     "output_type": "stream",
     "text": [
      "Contest Reach Threshold? fails: 4091 --- successes: 3973\n"
     ]
    }
   ],
   "source": [
    "print(\"Contest Reach Threshold? fails:\", fails, \"---\", \"successes:\", successes)"
   ]
  },
  {
   "cell_type": "code",
   "execution_count": 22,
   "metadata": {
    "scrolled": false
   },
   "outputs": [
    {
     "name": "stdout",
     "output_type": "stream",
     "text": [
      "[[3481  610]\n",
      " [1162 2811]]\n"
     ]
    }
   ],
   "source": [
    "print(confusion_matrix(actual, preds))"
   ]
  },
  {
   "cell_type": "code",
   "execution_count": 23,
   "metadata": {},
   "outputs": [],
   "source": [
    "# true.columns = ['RealVal']\n",
    "trueDF = pd.DataFrame(data=actual)\n",
    "trueDF.columns = ['RealVal']\n",
    "trueDF = trueDF.assign(PredVal= preds.tolist())\n"
   ]
  },
  {
   "cell_type": "code",
   "execution_count": 24,
   "metadata": {},
   "outputs": [
    {
     "ename": "NameError",
     "evalue": "name 'rawContests' is not defined",
     "output_type": "error",
     "traceback": [
      "\u001b[0;31m---------------------------------------------------------------------------\u001b[0m",
      "\u001b[0;31mNameError\u001b[0m                                 Traceback (most recent call last)",
      "\u001b[0;32m<ipython-input-24-da524377a553>\u001b[0m in \u001b[0;36m<module>\u001b[0;34m()\u001b[0m\n\u001b[1;32m      2\u001b[0m \u001b[0mfalsePositives\u001b[0m \u001b[0;34m=\u001b[0m \u001b[0mfailDF\u001b[0m\u001b[0;34m.\u001b[0m\u001b[0mloc\u001b[0m\u001b[0;34m[\u001b[0m\u001b[0mfailDF\u001b[0m\u001b[0;34m[\u001b[0m\u001b[0;34m'PredVal'\u001b[0m\u001b[0;34m]\u001b[0m\u001b[0;34m==\u001b[0m\u001b[0;36m1\u001b[0m\u001b[0;34m]\u001b[0m\u001b[0;34m[\u001b[0m\u001b[0;34m[\u001b[0m\u001b[0;34m]\u001b[0m\u001b[0;34m]\u001b[0m\u001b[0;34m\u001b[0m\u001b[0m\n\u001b[1;32m      3\u001b[0m \u001b[0mfalseNegatives\u001b[0m \u001b[0;34m=\u001b[0m \u001b[0mfailDF\u001b[0m\u001b[0;34m.\u001b[0m\u001b[0mloc\u001b[0m\u001b[0;34m[\u001b[0m\u001b[0mfailDF\u001b[0m\u001b[0;34m[\u001b[0m\u001b[0;34m'PredVal'\u001b[0m\u001b[0;34m]\u001b[0m\u001b[0;34m==\u001b[0m\u001b[0;36m0\u001b[0m\u001b[0;34m]\u001b[0m\u001b[0;34m[\u001b[0m\u001b[0;34m[\u001b[0m\u001b[0;34m]\u001b[0m\u001b[0;34m]\u001b[0m\u001b[0;34m\u001b[0m\u001b[0m\n\u001b[0;32m----> 4\u001b[0;31m \u001b[0mfalsePositivesDF\u001b[0m \u001b[0;34m=\u001b[0m \u001b[0mpd\u001b[0m\u001b[0;34m.\u001b[0m\u001b[0mmerge\u001b[0m\u001b[0;34m(\u001b[0m\u001b[0mfalsePositives\u001b[0m\u001b[0;34m,\u001b[0m \u001b[0mrawContests\u001b[0m\u001b[0;34m,\u001b[0m \u001b[0mon\u001b[0m\u001b[0;34m=\u001b[0m\u001b[0;34m'ContestId'\u001b[0m\u001b[0;34m,\u001b[0m \u001b[0mhow\u001b[0m\u001b[0;34m=\u001b[0m\u001b[0;34m'left'\u001b[0m\u001b[0;34m)\u001b[0m\u001b[0;34m\u001b[0m\u001b[0m\n\u001b[0m\u001b[1;32m      5\u001b[0m \u001b[0mfalseNegativesDF\u001b[0m \u001b[0;34m=\u001b[0m \u001b[0mpd\u001b[0m\u001b[0;34m.\u001b[0m\u001b[0mmerge\u001b[0m\u001b[0;34m(\u001b[0m\u001b[0mfalseNegatives\u001b[0m\u001b[0;34m,\u001b[0m \u001b[0mrawContests\u001b[0m\u001b[0;34m,\u001b[0m \u001b[0mon\u001b[0m\u001b[0;34m=\u001b[0m\u001b[0;34m'ContestId'\u001b[0m\u001b[0;34m,\u001b[0m \u001b[0mhow\u001b[0m\u001b[0;34m=\u001b[0m\u001b[0;34m'left'\u001b[0m\u001b[0;34m)\u001b[0m\u001b[0;34m\u001b[0m\u001b[0m\n",
      "\u001b[0;31mNameError\u001b[0m: name 'rawContests' is not defined"
     ]
    }
   ],
   "source": [
    "failDF = trueDF.loc[trueDF['RealVal'] != trueDF['PredVal']]\n",
    "falsePositives = failDF.loc[failDF['PredVal']==1][[]]\n",
    "falseNegatives = failDF.loc[failDF['PredVal']==0][[]]\n",
    "falsePositivesDF = pd.merge(falsePositives, rawContests, on='ContestId', how='left')\n",
    "falseNegativesDF = pd.merge(falseNegatives, rawContests, on='ContestId', how='left')"
   ]
  },
  {
   "cell_type": "code",
   "execution_count": null,
   "metadata": {},
   "outputs": [],
   "source": [
    "# falsePositivesDF.to_csv(\"data/ForJon/RawFalsePositives.csv\")\n",
    "# falseNegativesDF.to_csv(\"data/ForJon/RawFalseNegatives.csv\")"
   ]
  },
  {
   "cell_type": "code",
   "execution_count": null,
   "metadata": {},
   "outputs": [],
   "source": []
  }
 ],
 "metadata": {
  "kernelspec": {
   "display_name": "Python 3",
   "language": "python",
   "name": "python3"
  },
  "language_info": {
   "codemirror_mode": {
    "name": "ipython",
    "version": 3
   },
   "file_extension": ".py",
   "mimetype": "text/x-python",
   "name": "python",
   "nbconvert_exporter": "python",
   "pygments_lexer": "ipython3",
   "version": "3.6.5"
  }
 },
 "nbformat": 4,
 "nbformat_minor": 2
}

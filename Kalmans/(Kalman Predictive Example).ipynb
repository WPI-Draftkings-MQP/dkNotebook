{
 "cells": [
  {
   "cell_type": "code",
   "execution_count": 11,
   "metadata": {},
   "outputs": [],
   "source": [
    "from pykalman import KalmanFilter\n",
    "import numpy as np\n",
    "import pandas as pd\n",
    "import matplotlib.pyplot as plt\n",
    "\n",
    "df = pd.read_csv('dummydata.txt', header=None)\n",
    "df.columns = ['DateTime','CAT','DOG']\n",
    "df.dropna(inplace=True)"
   ]
  },
  {
   "cell_type": "code",
   "execution_count": 15,
   "metadata": {},
   "outputs": [],
   "source": [
    "n = df.shape[0]\n",
    "n_dim_state = 2;\n",
    "\n",
    "history_state_means = np.zeros((n, n_dim_state))\n",
    "history_state_covs = np.zeros((n, n_dim_state, n_dim_state))"
   ]
  },
  {
   "cell_type": "code",
   "execution_count": 16,
   "metadata": {},
   "outputs": [
    {
     "name": "stdout",
     "output_type": "stream",
     "text": [
      "SLOPE 6.703224641988576\n",
      "SLOPE 6.705120372688268\n",
      "SLOPE 6.703378086487903\n",
      "SLOPE 6.699564067846928\n",
      "SLOPE 6.696176795304429\n",
      "SLOPE 6.6955843882776\n",
      "SLOPE 6.695816826675824\n",
      "SLOPE 6.696176704592797\n"
     ]
    }
   ],
   "source": [
    "\n",
    "for idx, row in df.iterrows():\n",
    "    if idx == 0: # Initialize the Kalman filter\n",
    "        delta = 1e-9\n",
    "        trans_cov = delta / (1 - delta) * np.eye(2)\n",
    "\n",
    "        obs_mat = [df.iloc[0].CAT, 1]\n",
    "\n",
    "        kf = KalmanFilter(n_dim_obs=1, n_dim_state=2,\n",
    "                          initial_state_mean=np.zeros(2),\n",
    "                          initial_state_covariance=np.ones((2, 2)),\n",
    "                          transition_matrices=np.eye(2),\n",
    "                          observation_matrices=obs_mat,\n",
    "                          observation_covariance=1.0,\n",
    "                          transition_covariance=trans_cov)\n",
    "\n",
    "        history_state_means[0], history_state_covs[0] = kf.filter(np.asarray(df.iloc[0].DOG))\n",
    "        slope=history_state_means[0, 0]\n",
    "        print(\"SLOPE\", slope)\n",
    "\n",
    "    else:\n",
    "        obs_mat = np.asarray([[df.iloc[idx].CAT, 1]])\n",
    "\n",
    "        history_state_means[idx], history_state_covs[idx] = kf.filter_update(history_state_means[idx-1], \n",
    "                                                            history_state_covs[idx-1], \n",
    "                                                            observation = df.iloc[idx].DOG, \n",
    "                                                            observation_matrix=obs_mat)\n",
    "        slope=history_state_means[idx, 0]\n",
    "        print(\"SLOPE\", slope)"
   ]
  },
  {
   "cell_type": "code",
   "execution_count": 18,
   "metadata": {},
   "outputs": [
    {
     "data": {
      "image/png": "[encoded data removed]",
      "text/plain": [
       "<Figure size 432x288 with 1 Axes>"
      ]
     },
     "metadata": {},
     "output_type": "display_data"
    }
   ],
   "source": [
    "plt.figure(1)\n",
    "plt.plot(history_state_means[:, 0], label=\"Slope\")\n",
    "plt.grid()\n",
    "plt.show()"
   ]
  },
  {
   "cell_type": "code",
   "execution_count": null,
   "metadata": {},
   "outputs": [],
   "source": []
  }
 ],
 "metadata": {
  "kernelspec": {
   "display_name": "Python 3",
   "language": "python",
   "name": "python3"
  },
  "language_info": {
   "codemirror_mode": {
    "name": "ipython",
    "version": 3
   },
   "file_extension": ".py",
   "mimetype": "text/x-python",
   "name": "python",
   "nbconvert_exporter": "python",
   "pygments_lexer": "ipython3",
   "version": "3.6.5"
  }
 },
 "nbformat": 4,
 "nbformat_minor": 2
}

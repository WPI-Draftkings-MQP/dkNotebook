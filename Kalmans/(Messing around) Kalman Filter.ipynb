{
 "cells": [
  {
   "cell_type": "code",
   "execution_count": 1,
   "metadata": {},
   "outputs": [],
   "source": [
    "import pandas as pd\n",
    "import numpy as np\n",
    "import pylab as pl\n",
    "from pykalman import KalmanFilter\n",
    "import matplotlib.pyplot as plt"
   ]
  },
  {
   "cell_type": "markdown",
   "metadata": {},
   "source": [
    "(20280800, 'chunk9')\n",
    "(11388719, 'chunk28')"
   ]
  },
  {
   "cell_type": "code",
   "execution_count": 2,
   "metadata": {},
   "outputs": [],
   "source": [
    "def getSeriesDF(cid, filename):\n",
    "    localDF = pd.read_csv('data/Chunks/'+fileName+\".csv\").drop(columns=['Unnamed: 0'])\n",
    "    localDF = localDF.loc[localDF['ContestId']==cid]\n",
    "    localDF = localDF.assign(InvertedTime = localDF['SecondsRemaining'].max()-localDF['SecondsRemaining'])\n",
    "    localDF = localDF.assign(SummedEntries = localDF['Entries'][::-1].cumsum()[::-1])\n",
    "    observationsDF, cheatDF = localDF.loc[localDF['SecondsRemaining']>=240], localDF.loc[localDF['SecondsRemaining']<=240]\n",
    "    return observationsDF, localDF\n",
    "def zipCols(col1, col2):\n",
    "    combined = []\n",
    "    col1 = list(col1)\n",
    "    col2 = list(col2)\n",
    "    for i in range(0, len(col1)):\n",
    "        combined.append([(col1[i]), col2[i]])\n",
    "    return combined[::-1]\n",
    "def combineStatesAndObservations(time, observations, states):\n",
    "    combined = [[0, 0]]*max(time)\n",
    "    stateSum = 0\n",
    "    for i in range(0, len(combined)):\n",
    "        if(i in list(time)):\n",
    "            index = list(time).index(i)\n",
    "#             print(index)\n",
    "\n",
    "            stateSum = states.iloc[index]\n",
    "            combined[i] = [observations.iloc[index], states.iloc[index]]\n",
    "        else:\n",
    "            combined[i] = [0, stateSum]\n",
    "    return combined"
   ]
  },
  {
   "cell_type": "code",
   "execution_count": 127,
   "metadata": {},
   "outputs": [],
   "source": [
    "chunkMapDF = pd.read_csv('data/chunkMap.csv')"
   ]
  },
  {
   "cell_type": "code",
   "execution_count": 137,
   "metadata": {},
   "outputs": [],
   "source": [
    "# cid, fileName  = (20280800, 'chunk9')\n",
    "contest = chunkMapDF.sample(n=1).iloc[0]\n",
    "cid, fileName  = contest.ContestId, contest.Chunk\n",
    "seriesDF, fullSeriesDF = getSeriesDF(cid, fileName)"
   ]
  },
  {
   "cell_type": "code",
   "execution_count": 138,
   "metadata": {},
   "outputs": [],
   "source": [
    "observations = zipCols(seriesDF.Entries,seriesDF.SummedEntries)"
   ]
  },
  {
   "cell_type": "code",
   "execution_count": null,
   "metadata": {},
   "outputs": [],
   "source": []
  },
  {
   "cell_type": "code",
   "execution_count": null,
   "metadata": {},
   "outputs": [],
   "source": []
  },
  {
   "cell_type": "code",
   "execution_count": null,
   "metadata": {},
   "outputs": [],
   "source": []
  },
  {
   "cell_type": "code",
   "execution_count": null,
   "metadata": {},
   "outputs": [],
   "source": []
  },
  {
   "cell_type": "code",
   "execution_count": null,
   "metadata": {},
   "outputs": [],
   "source": []
  },
  {
   "cell_type": "code",
   "execution_count": 170,
   "metadata": {},
   "outputs": [],
   "source": [
    "# specify parameters\n",
    "random_state = np.random.RandomState(0)\n",
    "transition_matrix = [[1, 0.1], [0, 1]]\n",
    "transition_offset = [-0.1, 0.1]\n",
    "observation_matrix = np.eye(2) + random_state.randn(2, 2) * 0.1\n",
    "observation_offset = [1.0, -1.0]\n",
    "transition_covariance = np.eye(2)\n",
    "observation_covariance = np.eye(2) + random_state.randn(2, 2) * 0.1\n",
    "initial_state_mean = [1, -1]\n",
    "initial_state_covariance = [[1, 0.1], [-0.1, 1]]\n",
    "\n",
    "# sample from model\n",
    "kf = KalmanFilter(\n",
    "    transition_matrix, observation_matrix, transition_covariance,\n",
    "    observation_covariance, transition_offset, observation_offset,\n",
    "    initial_state_mean, initial_state_covariance,\n",
    "    random_state=random_state\n",
    ")"
   ]
  },
  {
   "cell_type": "code",
   "execution_count": 171,
   "metadata": {},
   "outputs": [],
   "source": [
    "# estimate state with filtering and smoothing\n",
    "filtered_state_estimates = kf.filter(observations)[0]\n",
    "smoothed_state_estimates = kf.smooth(observations)[0]\n"
   ]
  },
  {
   "cell_type": "code",
   "execution_count": 172,
   "metadata": {},
   "outputs": [
    {
     "data": {
      "text/plain": [
       "[<matplotlib.lines.Line2D at 0x10903e978>]"
      ]
     },
     "execution_count": 172,
     "metadata": {},
     "output_type": "execute_result"
    },
    {
     "data": {
      "image/png": "[encoded data removed]",
      "text/plain": [
       "<Figure size 432x288 with 1 Axes>"
      ]
     },
     "metadata": {},
     "output_type": "display_data"
    }
   ],
   "source": [
    "plt.plot(seriesDF.InvertedTime,seriesDF.Entries)\n",
    "plt.plot(seriesDF.InvertedTime,seriesDF.SummedEntries)\n",
    "plt.plot(seriesDF.InvertedTime[::-1],filtered_state_estimates[:, 0])\n",
    "plt.plot(seriesDF.InvertedTime[::-1],filtered_state_estimates[:, 1])"
   ]
  },
  {
   "cell_type": "code",
   "execution_count": 80,
   "metadata": {},
   "outputs": [],
   "source": [
    "# estimate state with filtering and smoothing\n",
    "# filtered_state_estimates = kf.filter(observations)[0]\n",
    "# smoothed_state_estimates = kf.smooth(observations)[0]"
   ]
  },
  {
   "cell_type": "code",
   "execution_count": null,
   "metadata": {},
   "outputs": [],
   "source": []
  }
 ],
 "metadata": {
  "kernelspec": {
   "display_name": "Python 3",
   "language": "python",
   "name": "python3"
  },
  "language_info": {
   "codemirror_mode": {
    "name": "ipython",
    "version": 3
   },
   "file_extension": ".py",
   "mimetype": "text/x-python",
   "name": "python",
   "nbconvert_exporter": "python",
   "pygments_lexer": "ipython3",
   "version": "3.6.5"
  }
 },
 "nbformat": 4,
 "nbformat_minor": 2
}

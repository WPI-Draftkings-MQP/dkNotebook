{
 "cells": [
  {
   "cell_type": "code",
   "execution_count": 27,
   "metadata": {},
   "outputs": [],
   "source": [
    "import pandas as pd\n",
    "import numpy as np"
   ]
  },
  {
   "cell_type": "code",
   "execution_count": 28,
   "metadata": {},
   "outputs": [],
   "source": [
    "contests = pd.read_csv('data/WorkingData.csv').drop(columns=['is_vault'],axis = 1).dropna().set_index('ContestId')\n",
    "abDF = pd.read_csv(\"data/serieswfit.csv\").drop(columns=['Unnamed: 0'],axis = 1).dropna().set_index('ContestId')"
   ]
  },
  {
   "cell_type": "code",
   "execution_count": 29,
   "metadata": {},
   "outputs": [
    {
     "data": {
      "text/plain": [
       "372107"
      ]
     },
     "execution_count": 29,
     "metadata": {},
     "output_type": "execute_result"
    }
   ],
   "source": [
    "cDF = pd.merge(contests, abDF, on='ContestId', how='left')\n",
    "len(cDF)"
   ]
  },
  {
   "cell_type": "code",
   "execution_count": 30,
   "metadata": {},
   "outputs": [],
   "source": [
    "import datetime\n",
    "now = datetime.datetime.now()\n",
    "def newName():\n",
    "    return \"VizData_\"+str(now.year) + \"-\" + str(now.month) + \"-\" + str(now.day) + \"_\" + str(now.hour) + \"-\" + str(now.minute)"
   ]
  },
  {
   "cell_type": "code",
   "execution_count": 33,
   "metadata": {},
   "outputs": [],
   "source": [
    "cDF.head(100000).to_csv(\"data/New/\"+newName()+\".csv\")"
   ]
  },
  {
   "cell_type": "code",
   "execution_count": 32,
   "metadata": {},
   "outputs": [
    {
     "data": {
      "text/plain": [
       "Index(['SportName', 'VariantName', 'GameSet', 'ContestName',\n",
       "       'ContestStartDatetimeEST', 'ContestEndDatetimeEST',\n",
       "       'ContestPayoutDatetimeEST', 'EntryFeeAmount', 'TotalPrizeAmount',\n",
       "       'MaxNumberPlayers', 'MaxEntriesPerUser', 'Entries', 'DistinctUsers',\n",
       "       'Contest_Group', 'NumGames', 'DraftablePlayersInSet',\n",
       "       'PaidUsersInDraftGroup', 'TopPrize', 'MaxPayoutPosition',\n",
       "       'RestOf_HoursOut', '48_HoursOut', '47_HoursOut', '46_HoursOut',\n",
       "       '45_HoursOut', '44_HoursOut', '43_HoursOut', '42_HoursOut',\n",
       "       '41_HoursOut', '40_HoursOut', '39_HoursOut', '38_HoursOut',\n",
       "       '37_HoursOut', '36_HoursOut', '35_HoursOut', '34_HoursOut',\n",
       "       '33_HoursOut', '32_HoursOut', '31_HoursOut', '30_HoursOut',\n",
       "       '29_HoursOut', '28_HoursOut', '27_HoursOut', '26_HoursOut',\n",
       "       '25_HoursOut', '24_HoursOut', '23_HoursOut', '22_HoursOut',\n",
       "       '21_HoursOut', '20_HoursOut', '19_HoursOut', '18_HoursOut',\n",
       "       '17_HoursOut', '16_HoursOut', '15_HoursOut', '14_HoursOut',\n",
       "       '13_HoursOut', '12_HoursOut', '11_HoursOut', '10_HoursOut',\n",
       "       '09_HoursOut', '08_HoursOut', '07_HoursOut', '06_HoursOut',\n",
       "       '05_HoursOut', '04_HoursOut', '03_HoursOut', '02_HoursOut',\n",
       "       '01_HoursOut', '00_HoursOut', 'V52', 'V53'],\n",
       "      dtype='object')"
      ]
     },
     "execution_count": 32,
     "metadata": {},
     "output_type": "execute_result"
    }
   ],
   "source": [
    "cDF.columns"
   ]
  },
  {
   "cell_type": "code",
   "execution_count": null,
   "metadata": {},
   "outputs": [],
   "source": []
  },
  {
   "cell_type": "code",
   "execution_count": null,
   "metadata": {},
   "outputs": [],
   "source": []
  }
 ],
 "metadata": {
  "kernelspec": {
   "display_name": "Python 3",
   "language": "python",
   "name": "python3"
  },
  "language_info": {
   "codemirror_mode": {
    "name": "ipython",
    "version": 3
   },
   "file_extension": ".py",
   "mimetype": "text/x-python",
   "name": "python",
   "nbconvert_exporter": "python",
   "pygments_lexer": "ipython3",
   "version": "3.6.5"
  }
 },
 "nbformat": 4,
 "nbformat_minor": 2
}

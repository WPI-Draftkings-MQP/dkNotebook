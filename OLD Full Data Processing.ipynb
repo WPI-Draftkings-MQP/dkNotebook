{
 "cells": [
  {
   "cell_type": "code",
   "execution_count": 1,
   "metadata": {},
   "outputs": [],
   "source": [
    "import pandas as pd\n",
    "import numpy as np"
   ]
  },
  {
   "cell_type": "code",
   "execution_count": 2,
   "metadata": {},
   "outputs": [],
   "source": [
    "contests = pd.read_csv('data/WorkingData.csv').dropna().set_index('ContestId')"
   ]
  },
  {
   "cell_type": "code",
   "execution_count": 4,
   "metadata": {},
   "outputs": [],
   "source": [
    "def processCategories(df, columns, verbose=False):\n",
    "    localDF = df[columns].copy(deep=True)\n",
    "    for col in columns:\n",
    "        if(verbose):\n",
    "            print(\"Splitting\", col)\n",
    "        for val in localDF[col].unique():\n",
    "            thisCat = col+'_'+val\n",
    "            localDF = localDF.assign(newCol=lambda x:1*(localDF[col] == val)).rename(columns = {'newCol':thisCat})\n",
    "#             print(localDF.head(1))\n",
    "    localDF= localDF.drop(columns=columns, axis=1)\n",
    "    return localDF"
   ]
  },
  {
   "cell_type": "code",
   "execution_count": 5,
   "metadata": {},
   "outputs": [],
   "source": [
    "def timeSubstring(myStr):\n",
    "    return myStr[len('Contest'):-len('DatetimeEST')]\n",
    "    \n",
    "def processTimes(df, columns, verbose=False, formatString = '%Y-%m-%d %H:%M:%S'):\n",
    "    localDF = df[columns].copy(deep=True)\n",
    "    for col in columns:\n",
    "        newColName = timeSubstring(col)\n",
    "        if(verbose):\n",
    "            print(\"Processing\", newColName, \"(\"+ col +\")\")\n",
    "        localDF = localDF.assign(timeCol = lambda x: pd.to_datetime(localDF[col], format=formatString))\n",
    "        localDF[newColName+'_Minute'] = localDF.timeCol.apply(lambda x: x.strftime('%M')).astype(float)\n",
    "        localDF[newColName+'_Minute'] = localDF[newColName+'_Minute'].apply(lambda x: x/60.0)\n",
    "\n",
    "        localDF[newColName+'_Hour'] = localDF.timeCol.apply(lambda x: x.strftime('%H')).astype(float)\n",
    "        localDF[newColName+'_Hour'] = localDF[newColName+'_Hour'].apply(lambda x: x/24.0)\n",
    "\n",
    "        localDF[newColName+'_Day'] = localDF.timeCol.apply(lambda x: x.strftime('%d')).astype(float)\n",
    "        localDF[newColName+'_Day'] = localDF[newColName+'_Hour'].apply(lambda x: x/31.0)\n",
    "\n",
    "        localDF[newColName+'_Month'] = localDF.timeCol.apply(lambda x: x.strftime('%m')).astype(float)\n",
    "        localDF[newColName+'_Month'] = localDF[newColName+'_Month'].apply(lambda x: x/12.0)\n",
    "\n",
    "        localDF[newColName+'_DayOfWeek'] = localDF.timeCol.apply(lambda x: x.strftime('%w')).astype(float)\n",
    "        localDF[newColName+'_DayOfWeek'] = localDF[newColName+'_DayOfWeek'].apply(lambda x: x/7.0)\n",
    "\n",
    "        localDF[newColName+'_DayOfYear'] = localDF.timeCol.apply(lambda x: x.strftime('%-j')).astype(float)\n",
    "        localDF[newColName+'_DayOfYear'] = localDF[newColName+'_DayOfYear'].apply(lambda x: x/365.0)\n",
    "\n",
    "        localDF[newColName+'_WeekOfYear'] = localDF.timeCol.apply(lambda x: x.strftime('%U')).astype(float)\n",
    "        localDF[newColName+'_WeekOfYear'] = localDF[newColName+'_WeekOfYear'].apply(lambda x: x/52.0)\n",
    "\n",
    "        #Assuming contests are between 2000 and 2100\n",
    "        localDF[newColName+'_Year'] = localDF.timeCol.apply(lambda x: x.strftime('%Y')).astype(float)\n",
    "        localDF[newColName+'_Year'] = localDF[newColName+'_Year'].apply(lambda x: (x-2000.0)/100.)\n",
    "\n",
    "        localDF = localDF.drop(columns=[col, 'timeCol'], axis=1)\n",
    "    return localDF"
   ]
  },
  {
   "cell_type": "code",
   "execution_count": 6,
   "metadata": {},
   "outputs": [],
   "source": [
    "def scaleColumns(df, columns, verbose=False, zScore=False):\n",
    "    localDF = df[columns].copy(deep=True)\n",
    "    for col in columns:\n",
    "        newName = col + \"_Scaled\"\n",
    "        if(verbose):\n",
    "            print(\"Scaling\", col)\n",
    "        if(zScore):\n",
    "            localDF[newName] = (localDF[col] - localDF[col].mean())/localDF[col].std()\n",
    "#             localDF[newName] = (localDF[newName] - localDF[newName].min())/(localDF[newName].max() - localDF[newName].min())\n",
    "        else:\n",
    "            localDF[newName] = (localDF[col] - localDF[col].min())/(localDF[col].max() - localDF[col].min())\n",
    "    localDF= localDF.drop(columns=columns, axis=1)\n",
    "    return localDF"
   ]
  },
  {
   "cell_type": "code",
   "execution_count": 7,
   "metadata": {},
   "outputs": [],
   "source": [
    "successColumns = ['MaxNumberPlayers', 'EntryFeeAmount', 'Entries', 'TotalPrizeAmount']\n",
    "def successAndFillGapDollars(df, verbose=False):\n",
    "    localDF = df[successColumns].copy(deep=True)\n",
    "    \n",
    "    if(verbose):\n",
    "        print(\"Calculating Success\")\n",
    "    localDF = localDF.assign(Success = localDF['MaxNumberPlayers'] == localDF['Entries'])\n",
    "    \n",
    "    if(verbose):\n",
    "        print(\"Calculating FillGapDollar\")\n",
    "    localDF = localDF.assign(FillGapDollars = (localDF['MaxNumberPlayers'] - localDF['Entries'])*localDF['EntryFeeAmount'])\n",
    "    \n",
    "    if(verbose):\n",
    "        print(\"Calculating TrueLoss\")\n",
    "    localDF = localDF.assign(TrueLoss = (localDF['TotalPrizeAmount']) - (localDF['Entries']*localDF['EntryFeeAmount']))\n",
    "    \n",
    "    localDF = localDF.drop(columns=successColumns, axis=1)\n",
    "    return localDF"
   ]
  },
  {
   "cell_type": "code",
   "execution_count": 25,
   "metadata": {
    "scrolled": false
   },
   "outputs": [
    {
     "name": "stdout",
     "output_type": "stream",
     "text": [
      "Calculating Success\n",
      "Calculating FillGapDollar\n",
      "Calculating TrueLoss\n",
      "Scaling EntryFeeAmount\n",
      "Scaling TotalPrizeAmount\n",
      "Scaling MaxNumberPlayers\n",
      "Scaling MaxEntriesPerUser\n",
      "Scaling NumGames\n",
      "Scaling DraftablePlayersInSet\n",
      "Scaling PaidUsersInDraftGroup\n",
      "Scaling TopPrize\n",
      "Scaling MaxPayoutPosition\n",
      "Processing Start (ContestStartDatetimeEST)\n",
      "Processing End (ContestEndDatetimeEST)\n",
      "Splitting SportName\n",
      "Splitting VariantName\n",
      "Splitting Contest_Group\n"
     ]
    }
   ],
   "source": [
    "toCombine = []\n",
    "\n",
    "successDF = successAndFillGapDollars(contests, verbose=True)\n",
    "toCombine.append(successDF)\n",
    "\n",
    "scaleFeatures = ['EntryFeeAmount', 'TotalPrizeAmount', 'MaxNumberPlayers', 'MaxEntriesPerUser', 'NumGames', 'DraftablePlayersInSet', 'PaidUsersInDraftGroup', 'TopPrize', 'MaxPayoutPosition']\n",
    "scaledDF = scaleColumns(contests, scaleFeatures, verbose=True, zScore=False)\n",
    "toCombine.append(scaledDF)\n",
    "\n",
    "\n",
    "timeDF = processTimes(contests, ['ContestStartDatetimeEST', 'ContestEndDatetimeEST'], verbose=True)\n",
    "toCombine.append(timeDF)\n",
    "\n",
    "categoryDF = processCategories(contests, ['SportName', 'VariantName', 'Contest_Group'], verbose=True)    \n",
    "toCombine.append(categoryDF)"
   ]
  },
  {
   "cell_type": "markdown",
   "metadata": {},
   "source": [
    "# Saving csv"
   ]
  },
  {
   "cell_type": "code",
   "execution_count": 27,
   "metadata": {},
   "outputs": [],
   "source": [
    "combinedDF = \"none\"\n",
    "for df in toCombine:\n",
    "    if combinedDF is \"none\":\n",
    "        combinedDF = df\n",
    "    else:\n",
    "        combinedDF = pd.merge(combinedDF, df, on='ContestId', how='left')\n",
    "combinedDF = combinedDF.dropna()"
   ]
  },
  {
   "cell_type": "code",
   "execution_count": 33,
   "metadata": {},
   "outputs": [],
   "source": [
    "import datetime\n",
    "now = datetime.datetime.now()\n",
    "def newName():\n",
    "    return \"Contests_\"+str(now.year) + \"-\" + str(now.month) + \"-\" + str(now.day) + \"_\" + str(now.hour) + \"-\" + str(now.minute)"
   ]
  },
  {
   "cell_type": "code",
   "execution_count": 34,
   "metadata": {},
   "outputs": [],
   "source": [
    "combinedDF.to_csv(\"data/New/\"+newName()+\".csv\")"
   ]
  },
  {
   "cell_type": "code",
   "execution_count": 35,
   "metadata": {},
   "outputs": [
    {
     "data": {
      "text/plain": [
       "373115"
      ]
     },
     "execution_count": 35,
     "metadata": {},
     "output_type": "execute_result"
    }
   ],
   "source": [
    "len(combinedDF.dropna())"
   ]
  },
  {
   "cell_type": "markdown",
   "metadata": {},
   "source": [
    "### Viz Data"
   ]
  }
 ],
 "metadata": {
  "kernelspec": {
   "display_name": "Python 3",
   "language": "python",
   "name": "python3"
  },
  "language_info": {
   "codemirror_mode": {
    "name": "ipython",
    "version": 3
   },
   "file_extension": ".py",
   "mimetype": "text/x-python",
   "name": "python",
   "nbconvert_exporter": "python",
   "pygments_lexer": "ipython3",
   "version": "3.6.5"
  }
 },
 "nbformat": 4,
 "nbformat_minor": 2
}

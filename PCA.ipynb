{
 "cells": [
  {
   "cell_type": "code",
   "execution_count": 1,
   "metadata": {},
   "outputs": [],
   "source": [
    "import pandas as pd\n",
    "import numpy as np\n",
    "from sklearn.decomposition import PCA"
   ]
  },
  {
   "cell_type": "code",
   "execution_count": 16,
   "metadata": {},
   "outputs": [],
   "source": [
    "df = pd.read_csv('data/ContestsWithoutCheats.csv').dropna()"
   ]
  },
  {
   "cell_type": "code",
   "execution_count": 35,
   "metadata": {},
   "outputs": [],
   "source": [
    "pcaDF = df.drop(['ContestId', 'Success'], axis=1)"
   ]
  },
  {
   "cell_type": "code",
   "execution_count": 36,
   "metadata": {},
   "outputs": [],
   "source": [
    "pca = PCA(n_components=3)\n",
    "principalComponents = pca.fit_transform(pcaDF)"
   ]
  },
  {
   "cell_type": "code",
   "execution_count": 37,
   "metadata": {},
   "outputs": [],
   "source": [
    "principalDf = pd.DataFrame(data = principalComponents\n",
    "             , columns = ['PCA1', 'PCA2', 'PCA3']).dropna()"
   ]
  },
  {
   "cell_type": "code",
   "execution_count": 38,
   "metadata": {},
   "outputs": [
    {
     "data": {
      "text/plain": [
       "372251"
      ]
     },
     "execution_count": 38,
     "metadata": {},
     "output_type": "execute_result"
    }
   ],
   "source": [
    "len(principalComponents)"
   ]
  },
  {
   "cell_type": "code",
   "execution_count": 39,
   "metadata": {},
   "outputs": [],
   "source": [
    "combinedDF = df[['ContestId', 'Success']].join(principalDf).set_index('ContestId')"
   ]
  },
  {
   "cell_type": "code",
   "execution_count": 40,
   "metadata": {},
   "outputs": [
    {
     "data": {
      "text/html": [
       "<div>\n",
       "<style scoped>\n",
       "    .dataframe tbody tr th:only-of-type {\n",
       "        vertical-align: middle;\n",
       "    }\n",
       "\n",
       "    .dataframe tbody tr th {\n",
       "        vertical-align: top;\n",
       "    }\n",
       "\n",
       "    .dataframe thead th {\n",
       "        text-align: right;\n",
       "    }\n",
       "</style>\n",
       "<table border=\"1\" class=\"dataframe\">\n",
       "  <thead>\n",
       "    <tr style=\"text-align: right;\">\n",
       "      <th></th>\n",
       "      <th>Success</th>\n",
       "      <th>PCA1</th>\n",
       "      <th>PCA2</th>\n",
       "      <th>PCA3</th>\n",
       "    </tr>\n",
       "    <tr>\n",
       "      <th>ContestId</th>\n",
       "      <th></th>\n",
       "      <th></th>\n",
       "      <th></th>\n",
       "      <th></th>\n",
       "    </tr>\n",
       "  </thead>\n",
       "  <tbody>\n",
       "    <tr>\n",
       "      <th>7963004</th>\n",
       "      <td>1.0</td>\n",
       "      <td>-1.496265</td>\n",
       "      <td>2.791871</td>\n",
       "      <td>0.124807</td>\n",
       "    </tr>\n",
       "    <tr>\n",
       "      <th>7963437</th>\n",
       "      <td>1.0</td>\n",
       "      <td>-1.490259</td>\n",
       "      <td>2.791063</td>\n",
       "      <td>0.118893</td>\n",
       "    </tr>\n",
       "    <tr>\n",
       "      <th>8296224</th>\n",
       "      <td>1.0</td>\n",
       "      <td>-1.474004</td>\n",
       "      <td>2.790586</td>\n",
       "      <td>0.122704</td>\n",
       "    </tr>\n",
       "    <tr>\n",
       "      <th>8296544</th>\n",
       "      <td>1.0</td>\n",
       "      <td>-1.494428</td>\n",
       "      <td>2.786569</td>\n",
       "      <td>0.120407</td>\n",
       "    </tr>\n",
       "    <tr>\n",
       "      <th>8494213</th>\n",
       "      <td>0.0</td>\n",
       "      <td>-1.496159</td>\n",
       "      <td>2.791791</td>\n",
       "      <td>0.124542</td>\n",
       "    </tr>\n",
       "  </tbody>\n",
       "</table>\n",
       "</div>"
      ],
      "text/plain": [
       "           Success      PCA1      PCA2      PCA3\n",
       "ContestId                                       \n",
       "7963004        1.0 -1.496265  2.791871  0.124807\n",
       "7963437        1.0 -1.490259  2.791063  0.118893\n",
       "8296224        1.0 -1.474004  2.790586  0.122704\n",
       "8296544        1.0 -1.494428  2.786569  0.120407\n",
       "8494213        0.0 -1.496159  2.791791  0.124542"
      ]
     },
     "execution_count": 40,
     "metadata": {},
     "output_type": "execute_result"
    }
   ],
   "source": [
    "combinedDF.head()"
   ]
  },
  {
   "cell_type": "code",
   "execution_count": 41,
   "metadata": {},
   "outputs": [],
   "source": [
    "combinedDF.to_csv('data/PCA_WithoutCheats.csv')"
   ]
  },
  {
   "cell_type": "code",
   "execution_count": null,
   "metadata": {},
   "outputs": [],
   "source": []
  }
 ],
 "metadata": {
  "kernelspec": {
   "display_name": "Python 3",
   "language": "python",
   "name": "python3"
  },
  "language_info": {
   "codemirror_mode": {
    "name": "ipython",
    "version": 3
   },
   "file_extension": ".py",
   "mimetype": "text/x-python",
   "name": "python",
   "nbconvert_exporter": "python",
   "pygments_lexer": "ipython3",
   "version": "3.6.5"
  }
 },
 "nbformat": 4,
 "nbformat_minor": 2
}

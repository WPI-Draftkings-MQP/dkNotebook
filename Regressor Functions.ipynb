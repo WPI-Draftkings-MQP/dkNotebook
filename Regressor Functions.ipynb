{
 "cells": [
  {
   "cell_type": "code",
   "execution_count": 1,
   "metadata": {},
   "outputs": [],
   "source": [
    "import pandas as pd\n",
    "import matplotlib.pyplot as plt\n",
    "import numpy as np\n",
    "import random\n",
    "from sklearn.ensemble import RandomForestClassifier\n",
    "from sklearn.ensemble import AdaBoostClassifier\n",
    "from sklearn.ensemble import GradientBoostingClassifier\n",
    "\n",
    "from sklearn.metrics import accuracy_score\n",
    "from sklearn.metrics import confusion_matrix\n",
    "\n",
    "from ipywidgets import IntProgress\n",
    "from IPython.display import display"
   ]
  },
  {
   "cell_type": "code",
   "execution_count": 2,
   "metadata": {},
   "outputs": [],
   "source": [
    "contests = pd.read_csv('data/ContestsWithoutCheats.csv').set_index('ContestId').dropna()"
   ]
  },
  {
   "cell_type": "code",
   "execution_count": 3,
   "metadata": {},
   "outputs": [],
   "source": [
    "def cutDF(df, intendedNumber):\n",
    "    df = df.sample(frac=intendedNumber/len(df), replace=True)\n",
    "    return df"
   ]
  },
  {
   "cell_type": "code",
   "execution_count": 4,
   "metadata": {},
   "outputs": [],
   "source": [
    "def balanceDF(df, colName, numberOfEach = 0):\n",
    "    successDF, failDF = df.loc[df[colName] == 1], df.loc[df[colName] == 0]\n",
    "    if(numberOfEach == 0):\n",
    "        maxContestsForBalance = min(len(successDF), len(failDF))\n",
    "        numberOfEach = int(maxContestsForBalance*.1)\n",
    "    combinedDF = pd.concat([cutDF(successDF, numberOfEach), cutDF(failDF, numberOfEach)])\n",
    "    return combinedDF.sample(frac=1)"
   ]
  },
  {
   "cell_type": "code",
   "execution_count": 5,
   "metadata": {},
   "outputs": [],
   "source": [
    "def spitTrainingTesting(df, percentTrain):\n",
    "    df['is_train'] = np.random.uniform(0, 1, len(df)) <= percentTrain\n",
    "    trainDF, testDF = df[df['is_train']==True], df[df['is_train']==False]\n",
    "    df = df.drop(['is_train'], axis=1)\n",
    "    trainDF = trainDF.drop(['is_train'], axis=1)\n",
    "    testDF = testDF.drop(['is_train'], axis=1)\n",
    "    return trainDF, testDF\n"
   ]
  },
  {
   "cell_type": "code",
   "execution_count": 6,
   "metadata": {},
   "outputs": [],
   "source": [
    "def makeAndTrainClassifier(trainDF, classifierType): \n",
    "    clfFeatures = trainDF.columns.drop('Success')\n",
    "    trainActual = trainDF['Success']\n",
    "    clf = classifierType()\n",
    "    clf.fit(trainDF[clfFeatures], trainActual)\n",
    "    return clf"
   ]
  },
  {
   "cell_type": "code",
   "execution_count": 7,
   "metadata": {},
   "outputs": [],
   "source": [
    "def classifierWrapper(trainDF, classifierType, balanced, numColumns = 0):\n",
    "    #if numColumns is 0 or >#ofColumns, clf will train on all columns\n",
    "    if(numColumns == 0  or numColumns > len(trainDF.columns)-1):\n",
    "        numColumns = len(trainDF)\n",
    "    columnDF = trainDF[trainDF.columns.drop('Success')].sample(10, axis=1)\n",
    "    columns  = pd.merge(trainDF[['Success']], columnDF, on='ContestId', how='left').columns\n",
    "    if(balanced):\n",
    "        trainDF = balanceDF(contests, 'Success')\n",
    "    clf = makeAndTrainClassifier(trainDF[columns], classifierType)\n",
    "    return clf, columns"
   ]
  },
  {
   "cell_type": "code",
   "execution_count": 8,
   "metadata": {},
   "outputs": [],
   "source": [
    "def trainEnsemble(trainDF, numClassifiers = 100, classifierType = RandomForestClassifier, balanced = True):\n",
    "    trainBar = IntProgress(min=0, max=numClassifiers, description='Training:')\n",
    "    display(trainBar)\n",
    "    clfs = []\n",
    "    for c in range(0, numClassifiers):\n",
    "        tDF = trainDF.copy()\n",
    "        clf, cols = classifierWrapper(tDF, classifierType, balanced, numColumns=10)\n",
    "        clfs.append({'clf': clf, 'cols':cols})\n",
    "        trainBar.value += 1\n",
    "    return clfs"
   ]
  },
  {
   "cell_type": "code",
   "execution_count": 9,
   "metadata": {},
   "outputs": [],
   "source": [
    "def testEnsemble(testDF, ensemble):\n",
    "    testBar = IntProgress(min=0, max=len(ensemble), description='Testing:')\n",
    "    display(testBar)\n",
    "    \n",
    "    testActual = testDF['Success']\n",
    "    clfFeatures = testDF[testDF.columns.drop('Success')]\n",
    "    preds = []\n",
    "    for clf in ensemble:\n",
    "        preds.append(clf['clf'].predict(testDF[clf['cols'].drop('Success')]))\n",
    "        testBar.value += 1\n",
    "    return preds"
   ]
  },
  {
   "cell_type": "code",
   "execution_count": 10,
   "metadata": {},
   "outputs": [],
   "source": [
    "def makeDiscrete(array):\n",
    "    dArr = []\n",
    "    for v in array:\n",
    "        if(v < .5):\n",
    "            dArr.append(0.)\n",
    "        else:\n",
    "            dArr.append(1.)\n",
    "    return dArr"
   ]
  },
  {
   "cell_type": "code",
   "execution_count": 11,
   "metadata": {
    "scrolled": true
   },
   "outputs": [],
   "source": [
    "df = contests.copy(deep=True)\n",
    "trainDF, testDF = spitTrainingTesting(df, .8)\n",
    "testActual = testDF.reset_index()['Success']"
   ]
  },
  {
   "cell_type": "code",
   "execution_count": 19,
   "metadata": {},
   "outputs": [
    {
     "data": {
      "application/vnd.jupyter.widget-view+json": {
       "model_id": "480120f6b481474e84465664f73d65fb",
       "version_major": 2,
       "version_minor": 0
      },
      "text/plain": [
       "IntProgress(value=0, description='Training:')"
      ]
     },
     "metadata": {},
     "output_type": "display_data"
    },
    {
     "data": {
      "application/vnd.jupyter.widget-view+json": {
       "model_id": "65b9b03f0c224fdf9355ba687226e597",
       "version_major": 2,
       "version_minor": 0
      },
      "text/plain": [
       "IntProgress(value=0, description='Testing:')"
      ]
     },
     "metadata": {},
     "output_type": "display_data"
    }
   ],
   "source": [
    "clfs = trainEnsemble(trainDF, numClassifiers = 100, classifierType = RandomForestClassifier, balanced = True)\n",
    "preds = testEnsemble(testDF, clfs)"
   ]
  },
  {
   "cell_type": "code",
   "execution_count": 20,
   "metadata": {},
   "outputs": [],
   "source": [
    "numCLF = len(preds)\n",
    "avgPreds = []\n",
    "for y in range(0, len(preds[0])):\n",
    "    predSum = 0\n",
    "    for x in range(0, len(preds)):\n",
    "        predSum += preds[x][y]\n",
    "    avgPreds.append(predSum/numCLF)"
   ]
  },
  {
   "cell_type": "code",
   "execution_count": 21,
   "metadata": {},
   "outputs": [
    {
     "data": {
      "text/plain": [
       "0.7094835680751174"
      ]
     },
     "execution_count": 21,
     "metadata": {},
     "output_type": "execute_result"
    }
   ],
   "source": [
    "accuracy_score(testActual, makeDiscrete(avgPreds))"
   ]
  },
  {
   "cell_type": "code",
   "execution_count": 22,
   "metadata": {},
   "outputs": [
    {
     "data": {
      "text/plain": [
       "array([[ 2787,   563],\n",
       "       [21095, 50105]])"
      ]
     },
     "execution_count": 22,
     "metadata": {},
     "output_type": "execute_result"
    }
   ],
   "source": [
    "confusion_matrix(testActual, makeDiscrete(avgPreds))"
   ]
  },
  {
   "cell_type": "code",
   "execution_count": 23,
   "metadata": {},
   "outputs": [],
   "source": [
    "import matplotlib.pyplot as plt"
   ]
  },
  {
   "cell_type": "code",
   "execution_count": 24,
   "metadata": {},
   "outputs": [
    {
     "data": {
      "text/plain": [
       "<matplotlib.collections.PathCollection at 0x103db55c0>"
      ]
     },
     "execution_count": 24,
     "metadata": {},
     "output_type": "execute_result"
    },
    {
     "data": {
      "image/png": "[encoded data removed]",
      "text/plain": [
       "<Figure size 432x288 with 1 Axes>"
      ]
     },
     "metadata": {},
     "output_type": "display_data"
    }
   ],
   "source": [
    "plt.scatter(testActual, avgPreds, alpha=.005)"
   ]
  },
  {
   "cell_type": "markdown",
   "metadata": {},
   "source": [
    "### Required Accuracy:"
   ]
  },
  {
   "cell_type": "code",
   "execution_count": 18,
   "metadata": {},
   "outputs": [
    {
     "name": "stdout",
     "output_type": "stream",
     "text": [
      "Percent of contests that breakeven: 0.9557476004094012\n"
     ]
    }
   ],
   "source": [
    "numFail = len(contests.loc[contests['Success']==0])\n",
    "print('Percent of contests that breakeven:', 1-numFail/len(contests))"
   ]
  },
  {
   "cell_type": "code",
   "execution_count": null,
   "metadata": {},
   "outputs": [],
   "source": []
  }
 ],
 "metadata": {
  "kernelspec": {
   "display_name": "Python 3",
   "language": "python",
   "name": "python3"
  },
  "language_info": {
   "codemirror_mode": {
    "name": "ipython",
    "version": 3
   },
   "file_extension": ".py",
   "mimetype": "text/x-python",
   "name": "python",
   "nbconvert_exporter": "python",
   "pygments_lexer": "ipython3",
   "version": "3.6.5"
  }
 },
 "nbformat": 4,
 "nbformat_minor": 2
}

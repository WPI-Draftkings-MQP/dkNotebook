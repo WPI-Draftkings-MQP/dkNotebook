{
 "cells": [
  {
   "cell_type": "code",
   "execution_count": 1,
   "metadata": {},
   "outputs": [],
   "source": [
    "import pandas as pd\n",
    "import numpy as np\n",
    "import os\n",
    "from ipywidgets import IntProgress\n",
    "from IPython.display import display"
   ]
  },
  {
   "cell_type": "markdown",
   "metadata": {},
   "source": [
    "### Cache Series Data"
   ]
  },
  {
   "cell_type": "code",
   "execution_count": 2,
   "metadata": {},
   "outputs": [],
   "source": [
    "dirList = os.listdir(\"data/Chunks/\")\n",
    "fList = []\n",
    "for filename in dirList: #limit to .csv\n",
    "    if(filename[-4:] == '.csv'):\n",
    "        fList.append(filename[:-4]) "
   ]
  },
  {
   "cell_type": "code",
   "execution_count": 20,
   "metadata": {},
   "outputs": [],
   "source": [
    "def CalculateSeriesStuff(fContent):  \n",
    "    contests = []\n",
    "    contestIds = fContent.ContestId.unique()\n",
    "\n",
    "    seriesBar = IntProgress(min=0, max=len(contestIds), description='Contests:')\n",
    "    display(seriesBar)\n",
    "\n",
    "    for cId in contestIds:\n",
    "        cSeriesData = fContent[fContent['ContestId']==cId]\n",
    "        restDF = cSeriesData\n",
    "        contest = {'ContestId':cId}\n",
    "        for hour in range(0, 49):\n",
    "            entriesThisHour = 0\n",
    "            if len(restDF) > 0:\n",
    "                start, end = hour*60, (hour+1)*60\n",
    "                restDF = restDF.loc[restDF['SecondsRemaining'] >= start]\n",
    "                entriesThisHour = restDF.loc[restDF['SecondsRemaining'] < end][['Entries']].sum()\n",
    "            title = str(hour)+\"_HoursOut\"\n",
    "            if(hour < 10):\n",
    "                title = '0' + title\n",
    "            contest[title] = int(entriesThisHour)\n",
    "        restDF = restDF.loc[restDF['SecondsRemaining'] >= end]\n",
    "        contest['RestOf_HoursOut'] = int(restDF[['Entries']].sum())\n",
    "        contests.append(contest)\n",
    "\n",
    "        seriesBar.value += 1\n",
    "    ContestsDF = pd.DataFrame(contests).set_index('ContestId')\n",
    "    ContestsDF.to_csv('data/Chunk_Change/'+file+'.csv')\n",
    "#     resetButton.visible = False"
   ]
  },
  {
   "cell_type": "code",
   "execution_count": null,
   "metadata": {},
   "outputs": [
    {
     "data": {
      "application/vnd.jupyter.widget-view+json": {
       "model_id": "bbc72c207a5648368f40df2fd48a2f48",
       "version_major": 2,
       "version_minor": 0
      },
      "text/plain": [
       "IntProgress(value=0, description='Files:', max=47)"
      ]
     },
     "metadata": {},
     "output_type": "display_data"
    },
    {
     "data": {
      "application/vnd.jupyter.widget-view+json": {
       "model_id": "64c8cb55366b41d395d94f33eccae5d4",
       "version_major": 2,
       "version_minor": 0
      },
      "text/plain": [
       "IntProgress(value=0, description='Contests:', max=10000)"
      ]
     },
     "metadata": {},
     "output_type": "display_data"
    },
    {
     "data": {
      "application/vnd.jupyter.widget-view+json": {
       "model_id": "d78c0513990e4705b85eeac8fc885a3a",
       "version_major": 2,
       "version_minor": 0
      },
      "text/plain": [
       "IntProgress(value=0, description='Contests:', max=10000)"
      ]
     },
     "metadata": {},
     "output_type": "display_data"
    },
    {
     "data": {
      "application/vnd.jupyter.widget-view+json": {
       "model_id": "51dffbe9f1df49c6bd3eea30d864cbbd",
       "version_major": 2,
       "version_minor": 0
      },
      "text/plain": [
       "IntProgress(value=0, description='Contests:', max=10000)"
      ]
     },
     "metadata": {},
     "output_type": "display_data"
    }
   ],
   "source": [
    "subFiles = fList[1:]\n",
    "filesBar = IntProgress(min=0, max=len(subFiles), description='Files:')\n",
    "display(filesBar)\n",
    "for file in subFiles:\n",
    "    fileContent = pd.read_csv('data/Chunks/'+file+'.csv').drop(columns={'Unnamed: 0'})\n",
    "#     print(fileContent.head(1))\n",
    "#     fileContent.columns = ['ContestId', 'SecondsRemaining', 'Entries']\n",
    "#     print(fileContent.head())\n",
    "    CalculateSeriesStuff(fileContent)\n",
    "    filesBar.value += 1"
   ]
  },
  {
   "cell_type": "code",
   "execution_count": null,
   "metadata": {},
   "outputs": [],
   "source": []
  },
  {
   "cell_type": "code",
   "execution_count": null,
   "metadata": {},
   "outputs": [],
   "source": []
  },
  {
   "cell_type": "code",
   "execution_count": null,
   "metadata": {},
   "outputs": [],
   "source": []
  },
  {
   "cell_type": "code",
   "execution_count": null,
   "metadata": {},
   "outputs": [],
   "source": []
  },
  {
   "cell_type": "code",
   "execution_count": 142,
   "metadata": {},
   "outputs": [
    {
     "data": {
      "application/vnd.jupyter.widget-view+json": {
       "model_id": "ed030cf963ce47859df8113394dec028",
       "version_major": 2,
       "version_minor": 0
      },
      "text/plain": [
       "FloatProgress(value=0.0, max=16317.0)"
      ]
     },
     "metadata": {},
     "output_type": "display_data"
    }
   ],
   "source": [
    "# contests = []\n",
    "\n",
    "# contestIds = fContent.ContestId.unique()\n",
    "# f = FloatProgress(min=0, max=len(contestIds))\n",
    "# display(f)\n",
    "\n",
    "# for cId in contestIds:\n",
    "#     cSeriesData = fContent[fContent['ContestId']==cId]\n",
    "#     restDF = cSeriesData\n",
    "#     contest = {'ContestId':cId}\n",
    "#     for hour in range(0, 49):\n",
    "#         entriesThisHour = 0\n",
    "#         if len(restDF) > 0:\n",
    "#             start, end = hour*60*60, (hour+1)*60*60\n",
    "#             restDF = restDF.loc[restDF['SecondsRemaining'] >= start]\n",
    "#             entriesThisHour = restDF.loc[restDF['SecondsRemaining'] < end][['Entries']].sum()\n",
    "#         title = str(hour)+\"_HoursOut\"\n",
    "#         if(hour < 10):\n",
    "#             title = '0' + title\n",
    "#         contest[title] = int(entriesThisHour)\n",
    "#     restDF = restDF.loc[restDF['SecondsRemaining'] >= end]\n",
    "#     contest['RestOf_HoursOut'] = int(restDF[['Entries']].sum())\n",
    "#     contests.append(contest)\n",
    "    \n",
    "#     f.value += 1\n",
    "# ContestsDF = pd.DataFrame(contests).set_index('ContestId')\n",
    "# ContestsDF.to_csv('data/WPITransformed/'+file+'.csv')"
   ]
  },
  {
   "cell_type": "code",
   "execution_count": 153,
   "metadata": {},
   "outputs": [],
   "source": [
    "ContestsDF.to_csv('data/WPITransformed/'+file+'.csv')"
   ]
  },
  {
   "cell_type": "code",
   "execution_count": null,
   "metadata": {},
   "outputs": [],
   "source": []
  }
 ],
 "metadata": {
  "kernelspec": {
   "display_name": "Python 3",
   "language": "python",
   "name": "python3"
  },
  "language_info": {
   "codemirror_mode": {
    "name": "ipython",
    "version": 3
   },
   "file_extension": ".py",
   "mimetype": "text/x-python",
   "name": "python",
   "nbconvert_exporter": "python",
   "pygments_lexer": "ipython3",
   "version": "3.6.5"
  }
 },
 "nbformat": 4,
 "nbformat_minor": 2
}

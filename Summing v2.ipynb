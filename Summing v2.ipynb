{
 "cells": [
  {
   "cell_type": "code",
   "execution_count": 2,
   "metadata": {},
   "outputs": [],
   "source": [
    "import pandas as pd\n",
    "import numpy as np\n",
    "import os\n",
    "from ipywidgets import IntProgress\n",
    "from IPython.display import display"
   ]
  },
  {
   "cell_type": "code",
   "execution_count": 32,
   "metadata": {},
   "outputs": [],
   "source": [
    "dirList = os.listdir(\"data/Chunks/\")\n",
    "fList = []\n",
    "for filename in dirList: #limit to .csv\n",
    "    if(filename[-4:] == '.csv'):\n",
    "        fList.append(filename[:-4]) "
   ]
  },
  {
   "cell_type": "code",
   "execution_count": 35,
   "metadata": {},
   "outputs": [],
   "source": [
    "for fName in fList[:]:\n",
    "    print(fName)\n",
    "    sDF = pd.read_csv('data/Chunks/'+fName+'.csv').drop(columns={'Unnamed: 0'})\n",
    "    data = []\n",
    "    for c in sDF.ContestId.unique()[:]:\n",
    "        contestDF = sDF[sDF['ContestId']==c]\n",
    "        val = contestDF[contestDF['SecondsRemaining']>240]['Entries'].sum()\n",
    "        thisD = {'ContestId':c, 'FourHoursOut':val}\n",
    "        data.append(thisD)\n",
    "    thisChunk = pd.DataFrame(data=data)\n",
    "#     print(\"---Saving\"+'data/Chunk_Change/'+fName+'.csv')\n",
    "    thisChunk.to_csv('data/Chunk_Change/'+fName+'.csv')"
   ]
  },
  {
   "cell_type": "code",
   "execution_count": 36,
   "metadata": {},
   "outputs": [],
   "source": [
    "dirList = os.listdir(\"data/Chunks/\")\n",
    "fList = []\n",
    "for filename in dirList: #limit to .csv\n",
    "    if(filename[-4:] == '.csv'):\n",
    "        fList.append(filename[:-4]) "
   ]
  },
  {
   "cell_type": "code",
   "execution_count": 71,
   "metadata": {},
   "outputs": [],
   "source": [
    "contests = pd.read_csv('data/WorkingData.csv').set_index('ContestId')[['Entries', 'MaxNumberPlayers']]"
   ]
  },
  {
   "cell_type": "code",
   "execution_count": 72,
   "metadata": {},
   "outputs": [
    {
     "data": {
      "text/html": [
       "<div>\n",
       "<style scoped>\n",
       "    .dataframe tbody tr th:only-of-type {\n",
       "        vertical-align: middle;\n",
       "    }\n",
       "\n",
       "    .dataframe tbody tr th {\n",
       "        vertical-align: top;\n",
       "    }\n",
       "\n",
       "    .dataframe thead th {\n",
       "        text-align: right;\n",
       "    }\n",
       "</style>\n",
       "<table border=\"1\" class=\"dataframe\">\n",
       "  <thead>\n",
       "    <tr style=\"text-align: right;\">\n",
       "      <th></th>\n",
       "      <th>Entries</th>\n",
       "      <th>MaxNumberPlayers</th>\n",
       "    </tr>\n",
       "    <tr>\n",
       "      <th>ContestId</th>\n",
       "      <th></th>\n",
       "      <th></th>\n",
       "    </tr>\n",
       "  </thead>\n",
       "  <tbody>\n",
       "    <tr>\n",
       "      <th>7963004</th>\n",
       "      <td>117500.0</td>\n",
       "      <td>117500</td>\n",
       "    </tr>\n",
       "  </tbody>\n",
       "</table>\n",
       "</div>"
      ],
      "text/plain": [
       "            Entries  MaxNumberPlayers\n",
       "ContestId                            \n",
       "7963004    117500.0            117500"
      ]
     },
     "execution_count": 72,
     "metadata": {},
     "output_type": "execute_result"
    }
   ],
   "source": [
    "contests.head(1)"
   ]
  },
  {
   "cell_type": "code",
   "execution_count": 77,
   "metadata": {},
   "outputs": [],
   "source": [
    "full=\"None\"\n",
    "for fName in fList[:]:\n",
    "    fContent = pd.read_csv('data/Chunk_Change/'+fName+'.csv').set_index('ContestId').drop(columns=['Unnamed: 0'])\n",
    "    fContent.head(1)\n",
    "    nextC = pd.merge(contests, fContent, on='ContestId', how='right')\n",
    "    if(full is \"None\"):\n",
    "        full = nextC\n",
    "    else:\n",
    "        full = pd.concat([full, nextC])\n"
   ]
  },
  {
   "cell_type": "code",
   "execution_count": 90,
   "metadata": {},
   "outputs": [],
   "source": [
    "newC = full.dropna()\n",
    "newC = newC.assign(ZeroHoursOut_Scaled=newC['Entries']/newC['MaxNumberPlayers'])\n",
    "newC = newC.assign(FourHoursOut_Scaled=newC['FourHoursOut']/newC['MaxNumberPlayers'])\n",
    "newC = newC.drop(columns=['Entries', 'FourHoursOut'])"
   ]
  },
  {
   "cell_type": "code",
   "execution_count": 94,
   "metadata": {},
   "outputs": [],
   "source": [
    "noIndex = newC.reset_index().drop(columns=['ContestId'])"
   ]
  },
  {
   "cell_type": "code",
   "execution_count": 98,
   "metadata": {},
   "outputs": [],
   "source": [
    "noIndex = noIndex[noIndex['FourHoursOut_Scaled']>0]"
   ]
  },
  {
   "cell_type": "code",
   "execution_count": 99,
   "metadata": {},
   "outputs": [],
   "source": [
    "noIndex.to_csv('data/BrownData.csv')"
   ]
  },
  {
   "cell_type": "code",
   "execution_count": null,
   "metadata": {},
   "outputs": [],
   "source": []
  }
 ],
 "metadata": {
  "kernelspec": {
   "display_name": "Python 3",
   "language": "python",
   "name": "python3"
  },
  "language_info": {
   "codemirror_mode": {
    "name": "ipython",
    "version": 3
   },
   "file_extension": ".py",
   "mimetype": "text/x-python",
   "name": "python",
   "nbconvert_exporter": "python",
   "pygments_lexer": "ipython3",
   "version": "3.6.5"
  }
 },
 "nbformat": 4,
 "nbformat_minor": 2
}

{
 "cells": [
  {
   "cell_type": "code",
   "execution_count": 27,
   "metadata": {},
   "outputs": [],
   "source": [
    "import pandas as pd \n",
    "from ipywidgets import IntProgress\n"
   ]
  },
  {
   "cell_type": "code",
   "execution_count": 24,
   "metadata": {},
   "outputs": [],
   "source": [
    "dkDF = pd.read_csv('data/DK_Predictions_Raw.csv', header = None, names = ['ContestId', 'MinutesRemaining', 'PacerEstimate'])#.drop(columns = ['SnapshotDate'])\n",
    "contests = pd.read_csv('data/WorkingData.csv', encoding='cp1252').set_index('ContestId')[['MaxNumberPlayers', 'EntryFeeAmount']]\n",
    "successDF = pd.read_csv('data/WorkedData.csv').set_index('ContestId')[['Success']]"
   ]
  },
  {
   "cell_type": "code",
   "execution_count": 37,
   "metadata": {},
   "outputs": [
    {
     "name": "stdout",
     "output_type": "stream",
     "text": [
      "Contests:\n"
     ]
    },
    {
     "data": {
      "application/vnd.jupyter.widget-view+json": {
       "model_id": "0cd8cff7a9e444c58d86706b63c6d503",
       "version_major": 2,
       "version_minor": 0
      },
      "text/plain": [
       "IntProgress(value=0, max=165614)"
      ]
     },
     "metadata": {},
     "output_type": "display_data"
    }
   ],
   "source": [
    "contestBar = IntProgress(min=0, max=len(dkDF['ContestId'].unique()))\n",
    "print(\"Contests:\")\n",
    "display(contestBar)\n",
    "\n",
    "results = []\n",
    "for cid in dkDF['ContestId'].unique():\n",
    "    seriesDF = dkDF[dkDF['ContestId']==cid]\n",
    "    seriesDF = seriesDF[seriesDF['MinutesRemaining']>240]\n",
    "    if(len(seriesDF)>0):\n",
    "        results.append({'ContestId':cid, 'PacerEstimate':seriesDF.iloc[0].PacerEstimate})\n",
    "    contestBar.value+=1"
   ]
  },
  {
   "cell_type": "code",
   "execution_count": 42,
   "metadata": {},
   "outputs": [],
   "source": [
    "dkDF = pd.DataFrame(results).set_index('ContestId')"
   ]
  },
  {
   "cell_type": "code",
   "execution_count": 41,
   "metadata": {},
   "outputs": [],
   "source": [
    "contests['SuccessThreshold'] = contests['EntryFeeAmount']*contests['MaxNumberPlayers']"
   ]
  },
  {
   "cell_type": "code",
   "execution_count": 43,
   "metadata": {},
   "outputs": [],
   "source": [
    "mergedDF = pd.merge(contests, dkDF, on='ContestId', how='left').dropna()\n",
    "mergedDF = pd.merge(mergedDF, successDF, on='ContestId', how='left').dropna()"
   ]
  },
  {
   "cell_type": "code",
   "execution_count": 44,
   "metadata": {},
   "outputs": [],
   "source": [
    "mergedDF['PacerSuccess'] = (mergedDF['PacerEstimate'] + mergedDF['SuccessThreshold'])/mergedDF['SuccessThreshold']"
   ]
  },
  {
   "cell_type": "code",
   "execution_count": 46,
   "metadata": {},
   "outputs": [],
   "source": [
    "mergedDF[['Success', 'PacerSuccess']].to_csv('data/DK_Pacer_Success.csv')"
   ]
  },
  {
   "cell_type": "code",
   "execution_count": null,
   "metadata": {},
   "outputs": [],
   "source": []
  }
 ],
 "metadata": {
  "kernelspec": {
   "display_name": "Python 3",
   "language": "python",
   "name": "python3"
  },
  "language_info": {
   "codemirror_mode": {
    "name": "ipython",
    "version": 3
   },
   "file_extension": ".py",
   "mimetype": "text/x-python",
   "name": "python",
   "nbconvert_exporter": "python",
   "pygments_lexer": "ipython3",
   "version": "3.6.5"
  }
 },
 "nbformat": 4,
 "nbformat_minor": 2
}

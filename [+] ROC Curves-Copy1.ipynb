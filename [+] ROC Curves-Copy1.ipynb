{
 "cells": [
  {
   "cell_type": "markdown",
   "metadata": {},
   "source": [
    "## ROC Functions "
   ]
  },
  {
   "cell_type": "code",
   "execution_count": 1,
   "metadata": {},
   "outputs": [],
   "source": [
    "import warnings\n",
    "warnings.filterwarnings('ignore')"
   ]
  },
  {
   "cell_type": "code",
   "execution_count": 2,
   "metadata": {},
   "outputs": [],
   "source": [
    "import pandas as pd\n",
    "import numpy as np\n",
    "# import os\n",
    "\n",
    "from ipywidgets import IntProgress\n",
    "from IPython.display import display, HTML\n",
    "from matplotlib import pyplot as plt\n",
    "from scipy.interpolate import InterpolatedUnivariateSpline\n",
    "from scipy.interpolate import CubicSpline\n",
    "\n",
    "\n",
    "#Data Type for ROC graphs (Data name, False Positives, True Positives, False Negatives, True Negatives)\n",
    "def ROC_DATA(label, FP='-', TP='-', FN='-', TN='-', THRESHOLD='-'):\n",
    "    obj = {'Label':label }\n",
    "    if(not(FP is '-')):\n",
    "        obj['FP'] = FP\n",
    "    if(not(FN is '-')):\n",
    "        obj['FN'] = FN\n",
    "    if(not(TP is '-')):\n",
    "        obj['TP'] = TP\n",
    "    if(not(TN is '-')):\n",
    "        obj['TN'] = TN\n",
    "    if(not(THRESHOLD is '-')):\n",
    "        obj['THRESHOLD'] = THRESHOLD\n",
    "    return obj\n",
    "\n",
    "\n",
    "\n",
    "#makes ROC_DATA for a all columns in a df\n",
    "def getRate(df, col, label='Default'):\n",
    "    FP, TP = [], []\n",
    "    FN, TN = [], []\n",
    "    THRESHOLD = []\n",
    "    for i in range(0, 100):\n",
    "        threshold=i/100.\n",
    "        THRESHOLD.append(threshold)\n",
    "        FP.append(len(df[(df[col]<threshold) & (df['Success']==1)])/len(df[df['Success']==1]))\n",
    "        TP.append(len(df[(df[col]<threshold) & (df['Success']==0)])/len(df[df['Success']==0]))\n",
    "        FN.append(len(df[(df[col]>threshold) & (df['Success']==0)])/len(df[df['Success']==0]))\n",
    "        TN.append(len(df[(df[col]>threshold) & (df['Success']==1)])/len(df[df['Success']==1]))\n",
    "    return ROC_DATA(label, TP=TP, FP=FP, TN=TN, FN=FN, THRESHOLD=THRESHOLD)\n",
    "\n",
    "#Plot a single ROC_DATA with THRESHOLD as a second x-axis\n",
    "def plotRocThreshold(rocData):\n",
    "    fig = plt.figure()\n",
    "    fig.set_size_inches(5, 5)\n",
    "    ax = fig.add_subplot(1,1,1)\n",
    "    \n",
    "    d = skimROC_Data(rocData, addTresh=True)\n",
    "    label = d['Label']\n",
    "    \n",
    "    FP, TP = d['FP'], d['TP']\n",
    "    THRESHOLD = d['THRESHOLD']\n",
    "\n",
    "    ax.plot(FP,TP,'-' ,label = \"FP\", alpha=.8, color='black')\n",
    "    ax.plot(THRESHOLD,TP,'-' ,label = \"Threshold\", color='red', linewidth = .5)\n",
    "\n",
    "    ax.set_xlabel('%')\n",
    "    ax.set_xlim(0,1)\n",
    "    ax.set_ylabel('TP %')\n",
    "    ax.set_ylim(0,1)\n",
    "    ax.set_title(label+ \" ROC + Thresholds\")\n",
    "    ax.grid(color='black', linestyle='-', linewidth=1, alpha=.5)\n",
    "\n",
    "    handles, labels = ax.get_legend_handles_labels()\n",
    "    ax.legend()\n",
    "\n",
    "\n",
    "#Plot an array of ROC_DATA\n",
    "def plotRocs(rocObjArray):\n",
    "    fig = plt.figure()\n",
    "    fig.set_size_inches(10, 10)\n",
    "    ax = fig.add_subplot(1,1,1)\n",
    "    for rocData in rocObjArray:\n",
    "        d = skimROC_Data(rocData)\n",
    "        label = d['Label']\n",
    "        FP, TP = d['FP'], d['TP']\n",
    "        ax.plot(FP,TP,'-' ,label = label,zorder = -32, alpha=.5)\n",
    "    handles, labels = ax.get_legend_handles_labels()\n",
    "    display = (0,71)\n",
    "    ax.set_xlabel('FP Rate')\n",
    "    ax.set_xlim(0,1)\n",
    "    ax.set_ylabel('TP Rate')\n",
    "    ax.set_ylim(0,1)\n",
    "    ax.grid(color='black', linestyle='-', linewidth=1, alpha=.5)\n",
    "    ax.set_title('ROC Curve Compliation')\n",
    "    ax.legend()\n",
    "    \n",
    "    \n",
    "#Limits columns in a DF to  particular value\n",
    "def limitVal(df, ignore = ['Success'], N = 1.):\n",
    "    for c in df.drop(columns=ignore).columns:\n",
    "#         df[c].loc[df[c] >= N] = N\n",
    "#         print(df[c].dtype)\n",
    "        if(not (df[c].dtype == 'bool')):\n",
    "            df[c] = df[c].where(df[c] <= 1., 1.) \n",
    "    return df\n",
    "\n",
    "\n",
    "#Takes the average of all columns in a df\n",
    "def avgVal(df, ignore = ['Success'], colName = \"AvgPred\", JUST_PREDS=False):\n",
    "#     if(JUST_PREDS):\n",
    "#         for col in df.columns:\n",
    "#             if(not(col[:4]=='Pred')):\n",
    "#                 ignore.append(col)\n",
    "    df[colName] = df.drop(columns=ignore).mean(axis=1)\n",
    "    return df\n",
    "\n",
    "def skimROC_Data(d, addTresh=False):\n",
    "    x, y = [], []\n",
    "    t = []\n",
    "    for i in range(0, len(d['FP'])):\n",
    "        curX, curY = d['FP'][i], d['TP'][i]\n",
    "        if(addTresh):\n",
    "            curT = d['THRESHOLD'][i]\n",
    "        if(len(x) == 0):\n",
    "            x.append(curX)\n",
    "            y.append(curY)\n",
    "            if(addTresh):\n",
    "                t.append(curT)\n",
    "        elif(not curX == x[-1:][0]):\n",
    "            x.append(curX)\n",
    "            y.append(curY)\n",
    "            if(addTresh):\n",
    "                t.append(curT)\n",
    "    data = {\"Label\":d['Label'], 'FP':x, 'TP':y}\n",
    "    if(addTresh):\n",
    "        data['THRESHOLD'] = t\n",
    "    return data\n",
    "\n",
    "def rocPercent(roc):\n",
    "    data = skimROC_Data(roc)\n",
    "    f = InterpolatedUnivariateSpline(data['FP'], data['TP'], k=1)\n",
    "    plt.plot(f)\n",
    "    return data['Label'] + \"'s Integral is: \"+str(f.integral(0.,1.))\n",
    "\n",
    "def rocPercents(rocData):\n",
    "    for roc in rocData:\n",
    "        pct = rocPercent(roc)\n",
    "        print(pct)\n"
   ]
  },
  {
   "cell_type": "markdown",
   "metadata": {},
   "source": [
    "## Forest Functions"
   ]
  },
  {
   "cell_type": "code",
   "execution_count": 3,
   "metadata": {},
   "outputs": [],
   "source": [
    "import pandas as pd\n",
    "import numpy as np\n",
    "\n",
    "from sklearn.metrics import accuracy_score\n",
    "from sklearn.metrics import r2_score\n",
    "\n",
    "\n",
    "from sklearn.ensemble import RandomForestClassifier\n",
    "from sklearn.ensemble import RandomForestRegressor\n",
    "from sklearn.ensemble import AdaBoostClassifier\n",
    "from sklearn.ensemble import AdaBoostRegressor\n",
    "from sklearn.ensemble import GradientBoostingClassifier\n",
    "from sklearn.ensemble import GradientBoostingRegressor\n",
    "\n",
    "#Samples DF for an approximate numnber of rows  (Needed for balanceDF)\n",
    "def cutDF(df, intendedNumber):\n",
    "    df = df.sample(frac=intendedNumber/len(df), replace=True)\n",
    "    return df\n",
    "\n",
    "#Returns DF with 50/50 split on specified binary column\n",
    "def balanceDF(df, colName, numberOfEach = 0):\n",
    "    failDF = df[df[colName]==False]\n",
    "    successDF = df[df[colName]==True]\n",
    "    if(numberOfEach == 0):\n",
    "        maxContestsForBalance = min(len(successDF), len(failDF))\n",
    "        numberOfEach = int(maxContestsForBalance*.1)\n",
    "    combinedDF = pd.concat([cutDF(successDF, numberOfEach), cutDF(failDF, numberOfEach)])\n",
    "    return combinedDF\n",
    "\n",
    "#Splits a df into two parts, for testing and training\n",
    "def splitTrainingTesting(df, percentTrain, TYPE='None', basedOnVault=False):\n",
    "    if(not basedOnVault):\n",
    "        df = df.copy(deep=True)\n",
    "        if(TYPE==\"CLF\"):\n",
    "            df['Success'] = df['Success'].astype('int')\n",
    "        elif(TYPE=='REGR'):\n",
    "            df['Success'] = df['Success'].astype('float')\n",
    "        df['is_train'] = np.random.uniform(0, 1, len(df)) <= percentTrain\n",
    "        trainDF, testDF = df[df['is_train']==True], df[df['is_train']==False]\n",
    "        df = df.drop(columns=['is_train'], axis=1)\n",
    "        trainDF = trainDF.drop(['is_train'], axis=1)\n",
    "        testDF = testDF.drop(['is_train'], axis=1)\n",
    "        return trainDF, testDF\n",
    "    else:\n",
    "        nonVault = pd.merge(nonVaultDF, df, on='ContestId', how='left')\n",
    "        vault = df[~df.index.isin(nonVault.index)].dropna()\n",
    "#         return len(vault), len(nonVault)\n",
    "        numTrain = len(nonVault)\n",
    "        numTest = int((1-percentTrain)*numTrain)\n",
    "        vault.sample(n=numTest, random_state=1)\n",
    "        return nonVault, vault.sample(n=numTest, random_state=1)\n",
    "\n",
    "\n",
    "#Simple wrapper for a making a classifier\n",
    "def classifierWrapper(trainDF, classifierType, balanced=True):\n",
    "    trainDF = trainDF.copy(deep=True)\n",
    "    if(balanced):\n",
    "        trainDF = balanceDF(trainDF, 'Success')\n",
    "    clf = makeAndTrainCLF(trainDF, classifierType)\n",
    "    columns = trainDF.columns.drop('Success')\n",
    "    return {\"clf\":clf, \"cols\":columns}\n",
    "\n",
    "#Trains a classifier of the provided \n",
    "def makeAndTrainCLF(trainDF, classifierType, successCol = 'Success'): ####################\n",
    "    clf = classifierType()\n",
    "    clf.fit(trainDF[trainDF.columns.drop(successCol)], trainDF[successCol].astype('int'))\n",
    "    return clf\n",
    "\n",
    "\n",
    "def EnsembleWithMinAcc(trainDF, classifierType, balanced=True, numCLF = 20, accuracy=0.):\n",
    "    CLFS = []\n",
    "    for i in range(0, numCLF):\n",
    "        currAcc = -1.\n",
    "        while(currAcc < accuracy):\n",
    "            clf = classifierWrapper(trainDF, RandomForestClassifier, balanced=balanced)\n",
    "            currAcc = accuracy_score(clf['clf'].predict(trainDF[clf['cols']]), trainDF['Success'])\n",
    "        CLFS.append(clf)\n",
    "    return CLFS\n",
    "\n",
    "def getEnsPred(testDF, CLFS):\n",
    "    rDF = testDF[['Success']].copy(deep=True)\n",
    "    count = 0\n",
    "    for CLF in CLFS:\n",
    "        count+=1\n",
    "        classifier, columns = CLF['clf'], CLF['cols']\n",
    "        rDF['CLF'+str(count)] = classifier.predict(testDF[columns])\n",
    "    return rDF"
   ]
  },
  {
   "cell_type": "markdown",
   "metadata": {},
   "source": [
    "### Data Files for ROC"
   ]
  },
  {
   "cell_type": "code",
   "execution_count": 4,
   "metadata": {},
   "outputs": [],
   "source": [
    "fullContests = pd.read_csv('data/WorkingData.csv').set_index('ContestId')"
   ]
  },
  {
   "cell_type": "code",
   "execution_count": 5,
   "metadata": {},
   "outputs": [],
   "source": [
    "# Percent Full at 4 hours out\n",
    "baselineDF = pd.read_csv('data/baseline.csv').drop(columns=['Unnamed: 0'])\n",
    "\n",
    "# Meta Data file\n",
    "metaDataDF = pd.read_csv('data/MetaData.csv')\n",
    "\n",
    "# Kalman Filter\n",
    "kfResultsDF = pd.read_csv('data/KF_Results.csv')\n",
    "kfsResultsDF = pd.read_csv('data/KF_Scaled_Results.csv')\n",
    "\n",
    "# Linear Regression\n",
    "lrResultsDF = pd.read_csv('data/LR_Results.csv')\n",
    "lrsResultsDF = pd.read_csv('data/LR_Scaled_Results.csv')"
   ]
  },
  {
   "cell_type": "code",
   "execution_count": 6,
   "metadata": {},
   "outputs": [
    {
     "name": "stdout",
     "output_type": "stream",
     "text": [
      "Number of contests in trainDF: 373711\n",
      "Number of contests in testDF: 66522\n"
     ]
    }
   ],
   "source": [
    "trainDF = pd.read_csv(\"dataVault/train.csv\").set_index('ContestId')\n",
    "testDF = pd.read_csv(\"dataVault/vault1.csv\").set_index('ContestId')\n",
    "print(\"Number of contests in trainDF:\",len(trainDF))\n",
    "print(\"Number of contests in testDF:\",len(testDF))"
   ]
  },
  {
   "cell_type": "code",
   "execution_count": 33,
   "metadata": {},
   "outputs": [],
   "source": [
    "def filterColumns(columns, contains):\n",
    "    return list(filter(lambda x : contains in x, list(columns)))\n",
    "# lrColumns = filterColumns(workedData, '_LR_')"
   ]
  },
  {
   "cell_type": "markdown",
   "metadata": {},
   "source": [
    "### Calculating ROC_DATA"
   ]
  },
  {
   "cell_type": "markdown",
   "metadata": {},
   "source": [
    "Baseline ROC Generation"
   ]
  },
  {
   "cell_type": "code",
   "execution_count": 7,
   "metadata": {
    "scrolled": true
   },
   "outputs": [
    {
     "data": {
      "image/png": "[encoded data removed]",
      "text/plain": [
       "<Figure size 360x360 with 1 Axes>"
      ]
     },
     "metadata": {},
     "output_type": "display_data"
    }
   ],
   "source": [
    "# print(\"... Calculating Baseline 4-hours-out Prediction\")\n",
    "baselineRates = getRate(baselineDF, 'FourHoursOut_Scaled', label='Baseline (Percent Full at 4 Hours Out)')\n",
    "plotRocThreshold(baselineRates)"
   ]
  },
  {
   "cell_type": "markdown",
   "metadata": {},
   "source": [
    "Meta Data ROC Generation"
   ]
  },
  {
   "cell_type": "code",
   "execution_count": 8,
   "metadata": {},
   "outputs": [],
   "source": [
    "metaColumns = list(metaDataDF.columns.drop('ContestId'))\n",
    "metaColumns.append('Success')\n",
    "metaTrain, metaTest = trainDF[metaColumns], testDF[metaColumns]"
   ]
  },
  {
   "cell_type": "code",
   "execution_count": 9,
   "metadata": {},
   "outputs": [],
   "source": [
    "metaCLFS = EnsembleWithMinAcc(limitVal(metaTrain), RandomForestClassifier, accuracy = .6)\n",
    "metaPreds = avgVal(getEnsPred(limitVal(metaTest), metaCLFS))"
   ]
  },
  {
   "cell_type": "code",
   "execution_count": 10,
   "metadata": {},
   "outputs": [
    {
     "data": {
      "image/png": "[encoded data removed]",
      "text/plain": [
       "<Figure size 360x360 with 1 Axes>"
      ]
     },
     "metadata": {},
     "output_type": "display_data"
    }
   ],
   "source": [
    "metaEnsembleRates =  getRate(metaPreds, 'AvgPred', label='Ensemble of Meta Data')\n",
    "plotRocThreshold(metaEnsembleRates)"
   ]
  },
  {
   "cell_type": "markdown",
   "metadata": {},
   "source": [
    "Kalman Filter ROC Generation"
   ]
  },
  {
   "cell_type": "code",
   "execution_count": 72,
   "metadata": {},
   "outputs": [],
   "source": [
    "kfColumns = list(kfResultsDF.columns.drop('ContestId'))\n",
    "kfColumns.append('Success')\n",
    "kfTrain, kfTest = trainDF[kfColumns], testDF[kfColumns]"
   ]
  },
  {
   "cell_type": "code",
   "execution_count": 73,
   "metadata": {},
   "outputs": [],
   "source": [
    "kfPreds = kfTest[filterColumns(kfTest.columns, \"Pred\") + ['Success']]\n",
    "avgPreds = avgVal(kfPreds)\n",
    "avgRate = getRate(avgPreds, 'AvgPred', label='Average Kalman Prediction')"
   ]
  },
  {
   "cell_type": "code",
   "execution_count": 74,
   "metadata": {},
   "outputs": [
    {
     "data": {
      "image/png": "[encoded data removed]",
      "text/plain": [
       "<Figure size 360x360 with 1 Axes>"
      ]
     },
     "metadata": {},
     "output_type": "display_data"
    }
   ],
   "source": [
    "# kfAvgRate = getRate(avgVal(limitVal(kfPreds, N=1.), JUST_PREDS=True), 'AvgPred', label='Average Kalman Prediction')\n",
    "plotRocThreshold(avgRate)"
   ]
  },
  {
   "cell_type": "code",
   "execution_count": 13,
   "metadata": {},
   "outputs": [],
   "source": [
    "kfCLFS = EnsembleWithMinAcc(limitVal(kfTrain, N=1.), RandomForestClassifier, accuracy = .6)\n",
    "kfPreds = avgVal(getEnsPred(limitVal(kfTest, N=1.), kfCLFS))"
   ]
  },
  {
   "cell_type": "code",
   "execution_count": 14,
   "metadata": {
    "scrolled": false
   },
   "outputs": [
    {
     "data": {
      "image/png": "[encoded data removed]",
      "text/plain": [
       "<Figure size 360x360 with 1 Axes>"
      ]
     },
     "metadata": {},
     "output_type": "display_data"
    }
   ],
   "source": [
    "kfEnsembleRates =  getRate(kfPreds, 'AvgPred', label='Ensemble of Kalman Prediction')\n",
    "plotRocThreshold(kfEnsembleRates)"
   ]
  },
  {
   "cell_type": "markdown",
   "metadata": {},
   "source": [
    "Linear Regression ROC Generation"
   ]
  },
  {
   "cell_type": "code",
   "execution_count": 27,
   "metadata": {},
   "outputs": [],
   "source": [
    "lrColumns = list(lrResultsDF.columns.drop('ContestId'))\n",
    "lrColumns.append('Success')\n",
    "lrTrain, lrTest = trainDF[lrColumns], testDF[lrColumns]"
   ]
  },
  {
   "cell_type": "code",
   "execution_count": 28,
   "metadata": {},
   "outputs": [
    {
     "data": {
      "image/png": "[encoded data removed]",
      "text/plain": [
       "<Figure size 360x360 with 1 Axes>"
      ]
     },
     "metadata": {},
     "output_type": "display_data"
    }
   ],
   "source": [
    "lrAvgRate = getRate(avgVal(limitVal(lrTest, N=1.), JUST_PREDS=True), 'AvgPred', label='Average Linear Regression Prediction')\n",
    "plotRocThreshold(lrAvgRate)"
   ]
  },
  {
   "cell_type": "code",
   "execution_count": 29,
   "metadata": {},
   "outputs": [],
   "source": [
    "lrCLFS = EnsembleWithMinAcc(limitVal(lrTrain, N=1.), RandomForestClassifier, accuracy = .6)\n",
    "lrPreds = avgVal(getEnsPred(limitVal(lrTest, N=1.), lrCLFS))"
   ]
  },
  {
   "cell_type": "code",
   "execution_count": 30,
   "metadata": {
    "scrolled": true
   },
   "outputs": [
    {
     "data": {
      "image/png": "[encoded data removed]",
      "text/plain": [
       "<Figure size 360x360 with 1 Axes>"
      ]
     },
     "metadata": {},
     "output_type": "display_data"
    }
   ],
   "source": [
    "lrEnsembleRates =  getRate(lrPreds, 'AvgPred', label='Ensemble of Linear Regression Prediction')\n",
    "plotRocThreshold(lrEnsembleRates)"
   ]
  },
  {
   "cell_type": "markdown",
   "metadata": {},
   "source": [
    "### Scaled"
   ]
  },
  {
   "cell_type": "code",
   "execution_count": 20,
   "metadata": {},
   "outputs": [],
   "source": [
    "# kfsColumns = list(kfsResultsDF.columns.drop('ContestId'))\n",
    "# kfsColumns.append('Success')\n",
    "# kfsTrain, kfsTest = trainDF[kfsColumns], testDF[kfsColumns]"
   ]
  },
  {
   "cell_type": "code",
   "execution_count": null,
   "metadata": {
    "scrolled": true
   },
   "outputs": [],
   "source": [
    "# kfsAvgRate = getRate(avgVal(limitVal(kfsTest, N=1.)), 'AvgPred', label='Average SCALED Kalman Prediction')\n",
    "# plotRocThreshold(kfsAvgRate)"
   ]
  },
  {
   "cell_type": "code",
   "execution_count": null,
   "metadata": {},
   "outputs": [],
   "source": [
    "kfsCLFS = EnsembleWithMinAcc(limitVal(kfsTrain, N=1.), RandomForestClassifier, accuracy = .6)\n",
    "kfsPreds = avgVal(getEnsPred(limitVal(kfsTest, N=1.), kfsCLFS))"
   ]
  },
  {
   "cell_type": "code",
   "execution_count": null,
   "metadata": {
    "scrolled": true
   },
   "outputs": [],
   "source": [
    "kfsEnsembleRates =  getRate(kfsPreds, 'AvgPred', label='Ensemble of SCALED Kalman Prediction')\n",
    "plotRocThreshold(kfsEnsembleRates)"
   ]
  },
  {
   "cell_type": "code",
   "execution_count": null,
   "metadata": {},
   "outputs": [],
   "source": [
    "lrsColumns = list(lrsResultsDF.columns.drop('ContestId'))\n",
    "lrsColumns.append('Success')\n",
    "lrsTrain, lrsTest = trainDF[lrsColumns], testDF[lrsColumns]"
   ]
  },
  {
   "cell_type": "code",
   "execution_count": null,
   "metadata": {},
   "outputs": [],
   "source": [
    "lrsCLFS = EnsembleWithMinAcc(limitVal(lrsTrain, N=1.), RandomForestClassifier, accuracy = .6)\n",
    "lrsPreds = avgVal(getEnsPred(limitVal(lrsTest, N=1.), lrsCLFS))"
   ]
  },
  {
   "cell_type": "code",
   "execution_count": null,
   "metadata": {
    "scrolled": true
   },
   "outputs": [],
   "source": [
    "lrsEnsembleRates =  getRate(lrsPreds, 'AvgPred', label='Ensemble of SCALED Linear Regression Prediction')\n",
    "plotRocThreshold(lrsEnsembleRates)"
   ]
  },
  {
   "cell_type": "code",
   "execution_count": null,
   "metadata": {},
   "outputs": [],
   "source": [
    "plotRocs([kfsEnsembleRates, kfEnsembleRates, lrsEnsembleRates, lrEnsembleRates])"
   ]
  },
  {
   "cell_type": "markdown",
   "metadata": {},
   "source": [
    "### Merging Predictors"
   ]
  },
  {
   "cell_type": "code",
   "execution_count": 21,
   "metadata": {},
   "outputs": [],
   "source": [
    "lrkfColumns = list(set(kfColumns+lrColumns))\n",
    "lrkfTrain, lrkfTest = trainDF[lrkfColumns], testDF[lrkfColumns]"
   ]
  },
  {
   "cell_type": "code",
   "execution_count": 22,
   "metadata": {},
   "outputs": [],
   "source": [
    "lrkfCLFS = EnsembleWithMinAcc(limitVal(lrkfTrain, N=1.), RandomForestClassifier, accuracy = .6)\n",
    "lrkfPreds = avgVal(getEnsPred(limitVal(lrkfTest, N=1.), lrkfCLFS))"
   ]
  },
  {
   "cell_type": "code",
   "execution_count": 23,
   "metadata": {
    "scrolled": false
   },
   "outputs": [
    {
     "data": {
      "image/png": "[encoded data removed]",
      "text/plain": [
       "<Figure size 360x360 with 1 Axes>"
      ]
     },
     "metadata": {},
     "output_type": "display_data"
    }
   ],
   "source": [
    "lrkfEnsembleRates =  getRate(lrkfPreds, 'AvgPred', label='Ensemble of LR+KF Prediction')\n",
    "plotRocThreshold(lrkfEnsembleRates)"
   ]
  },
  {
   "cell_type": "code",
   "execution_count": 24,
   "metadata": {},
   "outputs": [
    {
     "ename": "NameError",
     "evalue": "name 'lrsColumns' is not defined",
     "output_type": "error",
     "traceback": [
      "\u001b[0;31m---------------------------------------------------------------------------\u001b[0m",
      "\u001b[0;31mNameError\u001b[0m                                 Traceback (most recent call last)",
      "\u001b[0;32m<ipython-input-24-5393a720f81c>\u001b[0m in \u001b[0;36m<module>\u001b[0;34m()\u001b[0m\n\u001b[0;32m----> 1\u001b[0;31m \u001b[0mlrkfsColumns\u001b[0m \u001b[0;34m=\u001b[0m \u001b[0mlist\u001b[0m\u001b[0;34m(\u001b[0m\u001b[0mset\u001b[0m\u001b[0;34m(\u001b[0m\u001b[0mkfsColumns\u001b[0m\u001b[0;34m+\u001b[0m\u001b[0mlrsColumns\u001b[0m\u001b[0;34m)\u001b[0m\u001b[0;34m)\u001b[0m\u001b[0;34m\u001b[0m\u001b[0m\n\u001b[0m\u001b[1;32m      2\u001b[0m \u001b[0mlrkfsTrain\u001b[0m\u001b[0;34m,\u001b[0m \u001b[0mlrkfsTest\u001b[0m \u001b[0;34m=\u001b[0m \u001b[0mtrainDF\u001b[0m\u001b[0;34m[\u001b[0m\u001b[0mlrkfsColumns\u001b[0m\u001b[0;34m]\u001b[0m\u001b[0;34m,\u001b[0m \u001b[0mtestDF\u001b[0m\u001b[0;34m[\u001b[0m\u001b[0mlrkfsColumns\u001b[0m\u001b[0;34m]\u001b[0m\u001b[0;34m\u001b[0m\u001b[0m\n",
      "\u001b[0;31mNameError\u001b[0m: name 'lrsColumns' is not defined"
     ]
    }
   ],
   "source": [
    "lrkfsColumns = list(set(kfsColumns+lrsColumns))\n",
    "lrkfsTrain, lrkfsTest = trainDF[lrkfsColumns], testDF[lrkfsColumns]"
   ]
  },
  {
   "cell_type": "code",
   "execution_count": null,
   "metadata": {},
   "outputs": [],
   "source": [
    "lrkfsCLFS = EnsembleWithMinAcc(limitVal(lrkfsTrain, N=1.), RandomForestClassifier, accuracy = .6)\n",
    "lrkfsPreds = avgVal(getEnsPred(limitVal(lrkfsTest, N=1.), lrkfsCLFS))"
   ]
  },
  {
   "cell_type": "code",
   "execution_count": null,
   "metadata": {
    "scrolled": true
   },
   "outputs": [],
   "source": [
    "lrkfsEnsembleRates =  getRate(lrkfsPreds, 'AvgPred', label='Ensemble of SCALED LR+KF Prediction')\n",
    "plotRocThreshold(lrkfsEnsembleRates)"
   ]
  },
  {
   "cell_type": "code",
   "execution_count": null,
   "metadata": {},
   "outputs": [],
   "source": [
    "plotRocs([lrkfsEnsembleRates, lrkfEnsembleRates])"
   ]
  },
  {
   "cell_type": "markdown",
   "metadata": {},
   "source": [
    "### Adding Meta Data"
   ]
  },
  {
   "cell_type": "code",
   "execution_count": null,
   "metadata": {},
   "outputs": [],
   "source": [
    "lrkfMetaColumns = list(set(metaColumns+lrColumns+kfColumns))\n",
    "lrkfMetaTrain, lrkfMetaTest = trainDF[lrkfMetaColumns], testDF[lrkfMetaColumns]\n",
    "lrkfMetaTrain, lrkfMetaTest = limitVal(lrkfMetaTrain, ignore=metaColumns,  N=1.).dropna(), limitVal(lrkfMetaTest, ignore=metaColumns,  N=1.).dropna()"
   ]
  },
  {
   "cell_type": "code",
   "execution_count": null,
   "metadata": {},
   "outputs": [],
   "source": [
    "lrkfMetaCLFS = EnsembleWithMinAcc(lrkfMetaTrain, RandomForestClassifier, accuracy = .6)\n",
    "lrkfMetaPreds = avgVal(getEnsPred(lrkfMetaTest, lrkfMetaCLFS))"
   ]
  },
  {
   "cell_type": "code",
   "execution_count": null,
   "metadata": {},
   "outputs": [],
   "source": [
    "lrkfMetaEnsembleRates =  getRate(lrkfMetaPreds, 'AvgPred', label='Ensemble of LR+KF+Meta Prediction')\n",
    "plotRocThreshold(lrkfMetaEnsembleRates)"
   ]
  },
  {
   "cell_type": "code",
   "execution_count": null,
   "metadata": {},
   "outputs": [],
   "source": [
    "lrkfsMetaColumns = list(set(metaColumns+lrsColumns+kfsColumns))\n",
    "lrkfsMetaTrain, lrkfsMetaTest = trainDF[lrkfsMetaColumns], testDF[lrkfsMetaColumns]\n",
    "lrkfsMetaTrain, lrkfsMetaTest = limitVal(lrkfsMetaTrain, ignore=metaColumns,  N=1.).dropna(), limitVal(lrkfsMetaTest, ignore=metaColumns,  N=1.).dropna()"
   ]
  },
  {
   "cell_type": "code",
   "execution_count": null,
   "metadata": {},
   "outputs": [],
   "source": [
    "lrkfsMetaCLFS = EnsembleWithMinAcc(lrkfsMetaTrain, RandomForestClassifier, accuracy = .6)\n",
    "lrkfsMetaPreds = avgVal(getEnsPred(lrkfsMetaTest, lrkfsMetaCLFS))"
   ]
  },
  {
   "cell_type": "code",
   "execution_count": null,
   "metadata": {},
   "outputs": [],
   "source": [
    "lrkfsMetaEnsembleRates =  getRate(lrkfsMetaPreds, 'AvgPred', label='Ensemble of LRS+KFS+Meta Prediction')\n",
    "plotRocThreshold(lrkfsMetaEnsembleRates)"
   ]
  },
  {
   "cell_type": "code",
   "execution_count": null,
   "metadata": {},
   "outputs": [],
   "source": [
    "plotRocs([lrkfsMetaEnsembleRates, lrkfMetaEnsembleRates])"
   ]
  },
  {
   "cell_type": "markdown",
   "metadata": {},
   "source": [
    "### Pacer Data"
   ]
  },
  {
   "cell_type": "code",
   "execution_count": null,
   "metadata": {},
   "outputs": [],
   "source": [
    "pacerData = pd.read_csv('data/DK_Pacer_Success.csv').set_index('ContestId')\n",
    "pacerData.columns"
   ]
  },
  {
   "cell_type": "code",
   "execution_count": null,
   "metadata": {
    "scrolled": true
   },
   "outputs": [],
   "source": [
    "pacerRate = getRate(pacerData, 'PacerSuccess', label='Pacer Prediction')"
   ]
  },
  {
   "cell_type": "code",
   "execution_count": null,
   "metadata": {
    "scrolled": true
   },
   "outputs": [],
   "source": [
    "plotRocThreshold(pacerRate)"
   ]
  },
  {
   "cell_type": "code",
   "execution_count": null,
   "metadata": {},
   "outputs": [],
   "source": [
    "pTrain = pd.merge(pacerData, trainDF[metaColumns].drop(columns=['Success']), on='ContestId', how='inner').dropna()\n",
    "pTest = pd.merge(pacerData, testDF[metaColumns].drop(columns=['Success']), on='ContestId', how='inner').dropna()"
   ]
  },
  {
   "cell_type": "code",
   "execution_count": null,
   "metadata": {},
   "outputs": [],
   "source": [
    "pCLFS = EnsembleWithMinAcc(pTrain, RandomForestClassifier, accuracy = .6)\n",
    "pPreds = avgVal(getEnsPred(pTest, pCLFS))\n",
    "pEnsembleRates =  getRate(pPreds, 'AvgPred', label='Ensemble of Pacer+Meta Prediction')"
   ]
  },
  {
   "cell_type": "code",
   "execution_count": null,
   "metadata": {},
   "outputs": [],
   "source": [
    "pmTrain = pd.merge(pacerData, trainDF[list(set(metaColumns))].drop(columns=['Success']), on='ContestId', how='inner').dropna()\n",
    "pmTest = pd.merge(pacerData, testDF[list(set(metaColumns))].drop(columns=['Success']), on='ContestId', how='inner').dropna()\n",
    "pmTrain = limitVal(pmTrain, ignore=metaColumns, N=1.)\n",
    "pmTest = limitVal(pmTest, ignore=metaColumns, N=1.)"
   ]
  },
  {
   "cell_type": "code",
   "execution_count": null,
   "metadata": {},
   "outputs": [],
   "source": [
    "pmCLFS = EnsembleWithMinAcc(pmTrain, RandomForestClassifier, accuracy = .6)\n",
    "pmPreds = avgVal(getEnsPred(pmTest, pmCLFS))\n",
    "pmEnsembleRates =  getRate(pmPreds, 'AvgPred', label='Ensemble of Pacer+Meta Prediction')"
   ]
  },
  {
   "cell_type": "code",
   "execution_count": null,
   "metadata": {},
   "outputs": [],
   "source": [
    "fpTrain = pd.merge(pacerData, trainDF[list(set(metaColumns+kfsColumns+lrsColumns))].drop(columns=['Success']), on='ContestId', how='inner').dropna()\n",
    "fpTest = pd.merge(pacerData, testDF[list(set(metaColumns+kfsColumns+lrsColumns))].drop(columns=['Success']), on='ContestId', how='inner').dropna()\n",
    "fpTrain = limitVal(fpTrain, ignore=metaColumns, N=1.)\n",
    "fpTest = limitVal(fpTest, ignore=metaColumns, N=1.)"
   ]
  },
  {
   "cell_type": "code",
   "execution_count": null,
   "metadata": {},
   "outputs": [],
   "source": [
    "fpCLFS = EnsembleWithMinAcc(fpTrain, RandomForestClassifier, accuracy = .6)\n",
    "fpPreds = avgVal(getEnsPred(fpTest, fpCLFS))\n",
    "fpEnsembleRates =  getRate(fpPreds, 'AvgPred', label='Ensemble of Pacer+KFS+LRS+Meta Prediction')"
   ]
  },
  {
   "cell_type": "code",
   "execution_count": null,
   "metadata": {},
   "outputs": [],
   "source": [
    "plotRocs([baselineRates, fpEnsembleRates, pmEnsembleRates, lrkfsMetaEnsembleRates, lrkfMetaEnsembleRates])"
   ]
  },
  {
   "cell_type": "markdown",
   "metadata": {},
   "source": [
    "### Big Contests"
   ]
  },
  {
   "cell_type": "code",
   "execution_count": null,
   "metadata": {},
   "outputs": [],
   "source": [
    "combinedColumns = list(set(metaColumns+kfsColumns+lrsColumns))\n",
    "combinedTrain, combinedTest = trainDF[combinedColumns], testDF[combinedColumns]\n",
    "combinedTrain, combinedTest = limitVal(combinedTrain, ignore=metaColumns,  N=1.).dropna(), limitVal(combinedTest, ignore=metaColumns,  N=1.).dropna()"
   ]
  },
  {
   "cell_type": "code",
   "execution_count": null,
   "metadata": {},
   "outputs": [],
   "source": [
    "cCLFS = EnsembleWithMinAcc(combinedTrain, RandomForestClassifier, accuracy = .6)"
   ]
  },
  {
   "cell_type": "code",
   "execution_count": null,
   "metadata": {},
   "outputs": [],
   "source": [
    "threshold = 1000\n",
    "bigIds = fullContests[fullContests['MaxNumberPlayers']>threshold][[]]\n",
    "bigTest = combinedTest[combinedTest.index.isin(bigIds.index)]\n",
    "smallIds = fullContests[fullContests['MaxNumberPlayers']<threshold][[]]\n",
    "smallTest = combinedTest[combinedTest.index.isin(smallIds.index)]"
   ]
  },
  {
   "cell_type": "code",
   "execution_count": null,
   "metadata": {},
   "outputs": [],
   "source": [
    "bigRate = getRate(avgVal(getEnsPred(bigTest, cCLFS)), 'AvgPred', label=('Ensemble on Contests > '+str(threshold)))\n",
    "smallRate = getRate(avgVal(getEnsPred(smallTest, cCLFS)), 'AvgPred', label=('Ensemble on Contests < '+str(threshold)))\n",
    "normalRate = getRate(avgVal(getEnsPred(combinedTest, cCLFS)), 'AvgPred', label='Ensemble on all Contests')"
   ]
  },
  {
   "cell_type": "code",
   "execution_count": null,
   "metadata": {},
   "outputs": [],
   "source": [
    "plotRocs([bigRate, smallRate, normalRate])"
   ]
  },
  {
   "cell_type": "markdown",
   "metadata": {},
   "source": [
    "### Sport Comparison"
   ]
  },
  {
   "cell_type": "code",
   "execution_count": null,
   "metadata": {},
   "outputs": [],
   "source": [
    "combinedColumns = list(set(metaColumns+kfsColumns+lrsColumns))\n",
    "combinedTrain, combinedTest = trainDF[combinedColumns], testDF[combinedColumns]\n",
    "combinedTrain, combinedTest = limitVal(combinedTrain, ignore=metaColumns,  N=1.).dropna(), limitVal(combinedTest, ignore=metaColumns,  N=1.).dropna()"
   ]
  },
  {
   "cell_type": "code",
   "execution_count": null,
   "metadata": {},
   "outputs": [],
   "source": [
    "sportCLFS = EnsembleWithMinAcc(combinedTrain, RandomForestClassifier, accuracy = .6)"
   ]
  },
  {
   "cell_type": "code",
   "execution_count": null,
   "metadata": {},
   "outputs": [],
   "source": [
    "sportIds = []\n",
    "for sport in fullContests['SportName'].unique():\n",
    "    sportDF = fullContests[fullContests['SportName']==sport][[]]\n",
    "    sportIds.append({'Sport':sport, 'df':sportDF})"
   ]
  },
  {
   "cell_type": "code",
   "execution_count": null,
   "metadata": {},
   "outputs": [],
   "source": [
    "for sportObj in sportIds:\n",
    "    sportTestDF = combinedTest[combinedTest.index.isin(sportObj['df'].index)]\n",
    "    sportObj['testDF'] = sportTestDF\n",
    "#     print(sportObj['Sport']+\":\\t\", len(sportTestDF))"
   ]
  },
  {
   "cell_type": "code",
   "execution_count": null,
   "metadata": {},
   "outputs": [],
   "source": [
    "for sportObj in sportIds:\n",
    "    sportObj['preds'] = avgVal(getEnsPred(sportObj['testDF'], sportCLFS))\n",
    "    sportObj['rates'] = getRate(sportObj['preds'], 'AvgPred', label=sportObj['Sport'])"
   ]
  },
  {
   "cell_type": "code",
   "execution_count": null,
   "metadata": {},
   "outputs": [],
   "source": [
    "threshold = 2000\n",
    "sportRates = []\n",
    "for sportObj in sportIds:\n",
    "    if(len(sportObj['testDF'])>threshold):\n",
    "        sportRates.append(sportObj['rates'])\n",
    "plotRocs(sportRates)"
   ]
  },
  {
   "cell_type": "code",
   "execution_count": null,
   "metadata": {},
   "outputs": [],
   "source": [
    "# threshold = 500\n",
    "# sportRates = []\n",
    "# for sportObj in sportIds:\n",
    "#     if(len(sportObj['testDF'])<threshold):\n",
    "#         sportRates.append(sportObj['rates'])\n",
    "# plotRocs(sportRates)"
   ]
  },
  {
   "cell_type": "code",
   "execution_count": null,
   "metadata": {},
   "outputs": [],
   "source": [
    "# plotRocs(sportRates)"
   ]
  },
  {
   "cell_type": "markdown",
   "metadata": {},
   "source": [
    "### Pacer Sport Comparison"
   ]
  },
  {
   "cell_type": "code",
   "execution_count": null,
   "metadata": {
    "scrolled": true
   },
   "outputs": [],
   "source": [
    "pacerData = pd.read_csv('data/DK_Pacer_Success.csv').set_index('ContestId')\n",
    "# pacerData.columns"
   ]
  },
  {
   "cell_type": "code",
   "execution_count": null,
   "metadata": {},
   "outputs": [],
   "source": [
    "pTrain = pd.merge(pacerData, trainDF[metaColumns].drop(columns=['Success']), on='ContestId', how='inner').dropna()\n",
    "pTest = pd.merge(pacerData, testDF[metaColumns].drop(columns=['Success']), on='ContestId', how='inner').dropna()"
   ]
  },
  {
   "cell_type": "code",
   "execution_count": null,
   "metadata": {},
   "outputs": [],
   "source": [
    "pSportCLFS = EnsembleWithMinAcc(pTrain, RandomForestClassifier, accuracy = .6)"
   ]
  },
  {
   "cell_type": "code",
   "execution_count": null,
   "metadata": {},
   "outputs": [],
   "source": [
    "pSportIds = []\n",
    "for sport in fullContests['SportName'].unique():\n",
    "    pSportDF = fullContests[fullContests['SportName']==sport][[]]\n",
    "#     print(len(pSportDF))\n",
    "    pSportIds.append({'Sport':sport, 'df':pSportDF})"
   ]
  },
  {
   "cell_type": "code",
   "execution_count": null,
   "metadata": {},
   "outputs": [],
   "source": [
    "for pSportObj in pSportIds:\n",
    "    pSportTestDF = pTest[pTest.index.isin(pSportObj['df'].index)]\n",
    "    pSportObj['testDF'] = pSportTestDF\n",
    "#     print(len(pSportTestDF))\n",
    "#     print(sportObj['Sport']+\":\\t\", len(sportTestDF))"
   ]
  },
  {
   "cell_type": "code",
   "execution_count": null,
   "metadata": {},
   "outputs": [],
   "source": [
    "# pSportIds[7]"
   ]
  },
  {
   "cell_type": "code",
   "execution_count": null,
   "metadata": {},
   "outputs": [],
   "source": [
    "for pSportObj in pSportIds:\n",
    "    if(len(pSportObj['testDF'])> 0):\n",
    "        pSportObj['preds'] = avgVal(getEnsPred(pSportObj['testDF'], pSportCLFS))\n",
    "        pSportObj['rates'] = getRate(pSportObj['preds'], 'AvgPred', label=pSportObj['Sport']+' Pacer')"
   ]
  },
  {
   "cell_type": "code",
   "execution_count": null,
   "metadata": {},
   "outputs": [],
   "source": [
    "# pSportIds[0]"
   ]
  },
  {
   "cell_type": "code",
   "execution_count": null,
   "metadata": {
    "scrolled": false
   },
   "outputs": [],
   "source": [
    "threshold = 2000\n",
    "pSportRates = []\n",
    "for pSportObj in pSportIds:\n",
    "    if(len(pSportObj['testDF'])>threshold):\n",
    "        pSportRates.append(pSportObj['rates'])\n",
    "plotRocs(pSportRates)"
   ]
  },
  {
   "cell_type": "code",
   "execution_count": null,
   "metadata": {},
   "outputs": [],
   "source": [
    "def getSportObj(objs, sportName):\n",
    "    for obj in objs:\n",
    "        if(obj['Sport']==sportName):\n",
    "            return obj"
   ]
  },
  {
   "cell_type": "code",
   "execution_count": null,
   "metadata": {},
   "outputs": [],
   "source": [
    "sportName = \"MLB\"\n",
    "pObj = getSportObj(pSportIds, sportName)\n",
    "obj = getSportObj(sportIds, sportName)\n",
    "plotRocs([pObj['rates'], obj['rates']])"
   ]
  },
  {
   "cell_type": "markdown",
   "metadata": {},
   "source": [
    "### Removing TooShort"
   ]
  },
  {
   "cell_type": "code",
   "execution_count": null,
   "metadata": {},
   "outputs": [],
   "source": [
    "tooShortDF = pd.read_csv('data/LR_Scaled_Values.csv').set_index('ContestId')\n",
    "tooShortIds = tooShortDF[tooShortDF['f10A']=='TooShort'].index"
   ]
  },
  {
   "cell_type": "code",
   "execution_count": null,
   "metadata": {},
   "outputs": [],
   "source": [
    "kfsColumns = list(kfsResultsDF.columns.drop('ContestId'))\n",
    "kfsColumns.append('Success')\n",
    "kfsTrain, kfsTest = trainDF[kfsColumns], testDF[kfsColumns]"
   ]
  },
  {
   "cell_type": "code",
   "execution_count": null,
   "metadata": {},
   "outputs": [],
   "source": [
    "kfsCLFS = EnsembleWithMinAcc(limitVal(kfsTrain, N=1.), RandomForestClassifier, accuracy = .6)\n",
    "kfsPreds = avgVal(getEnsPred(limitVal(kfsTest, N=1.), kfsCLFS))"
   ]
  },
  {
   "cell_type": "code",
   "execution_count": null,
   "metadata": {},
   "outputs": [],
   "source": [
    "kfsEnsembleRates =  getRate(kfsPreds, 'AvgPred', label='Ensemble of SCALED KFS Prediction')\n",
    "plotRocThreshold(kfsEnsembleRates)"
   ]
  },
  {
   "cell_type": "code",
   "execution_count": null,
   "metadata": {},
   "outputs": [],
   "source": [
    "kfsTrain2, kfsTest2 = kfsTrain[~kfsTrain.index.isin(tooShortIds)], kfsTest[~kfsTest.index.isin(tooShortIds)]"
   ]
  },
  {
   "cell_type": "code",
   "execution_count": null,
   "metadata": {},
   "outputs": [],
   "source": [
    "kfsCLFS2 = EnsembleWithMinAcc(limitVal(kfsTrain2, N=1.), RandomForestClassifier, accuracy = .6)\n",
    "kfsPreds2 = avgVal(getEnsPred(limitVal(kfsTest2, N=1.), kfsCLFS2))"
   ]
  },
  {
   "cell_type": "code",
   "execution_count": null,
   "metadata": {},
   "outputs": [],
   "source": [
    "kfsEnsembleRates2 =  getRate(kfsPreds2, 'AvgPred', label='Ensemble of BIG ENOUGH SCALED KFS Prediction')\n",
    "plotRocThreshold(kfsEnsembleRates2)"
   ]
  },
  {
   "cell_type": "code",
   "execution_count": null,
   "metadata": {},
   "outputs": [],
   "source": [
    "plotRocs([kfsEnsembleRates, kfsEnsembleRates2])"
   ]
  }
 ],
 "metadata": {
  "kernelspec": {
   "display_name": "Python 3",
   "language": "python",
   "name": "python3"
  },
  "language_info": {
   "codemirror_mode": {
    "name": "ipython",
    "version": 3
   },
   "file_extension": ".py",
   "mimetype": "text/x-python",
   "name": "python",
   "nbconvert_exporter": "python",
   "pygments_lexer": "ipython3",
   "version": "3.6.5"
  }
 },
 "nbformat": 4,
 "nbformat_minor": 2
}

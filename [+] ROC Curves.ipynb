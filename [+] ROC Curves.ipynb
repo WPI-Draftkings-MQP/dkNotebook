{
 "cells": [
  {
   "cell_type": "markdown",
   "metadata": {},
   "source": [
    "## ROC Functions "
   ]
  },
  {
   "cell_type": "code",
   "execution_count": 1,
   "metadata": {},
   "outputs": [],
   "source": [
    "import warnings\n",
    "warnings.filterwarnings('ignore')"
   ]
  },
  {
   "cell_type": "code",
   "execution_count": 2,
   "metadata": {},
   "outputs": [],
   "source": [
    "import pandas as pd\n",
    "import numpy as np\n",
    "# import os\n",
    "\n",
    "from ipywidgets import IntProgress\n",
    "from IPython.display import display, HTML\n",
    "from matplotlib import pyplot as plt\n",
    "from scipy.interpolate import InterpolatedUnivariateSpline\n",
    "from scipy.interpolate import CubicSpline\n",
    "\n",
    "\n",
    "#Data Type for ROC graphs (Data name, False Positives, True Positives, False Negatives, True Negatives)\n",
    "def ROC_DATA(label, FP='-', TP='-', FN='-', TN='-', THRESHOLD='-'):\n",
    "    obj = {'Label':label }\n",
    "    if(not(FP is '-')):\n",
    "        obj['FP'] = FP\n",
    "    if(not(FN is '-')):\n",
    "        obj['FN'] = FN\n",
    "    if(not(TP is '-')):\n",
    "        obj['TP'] = TP\n",
    "    if(not(TN is '-')):\n",
    "        obj['TN'] = TN\n",
    "    if(not(THRESHOLD is '-')):\n",
    "        obj['THRESHOLD'] = THRESHOLD\n",
    "    return obj\n",
    "\n",
    "\n",
    "\n",
    "#makes ROC_DATA for a all columns in a df\n",
    "def getRate(df, col, label='Default'):\n",
    "    FP, TP = [], []\n",
    "    FN, TN = [], []\n",
    "    THRESHOLD = []\n",
    "    for i in range(0, 100):\n",
    "        threshold=i/100.\n",
    "        THRESHOLD.append(threshold)\n",
    "        FP.append(len(df[(df[col]<threshold) & (df['Success']==1)])/len(df[df['Success']==1]))\n",
    "        TP.append(len(df[(df[col]<threshold) & (df['Success']==0)])/len(df[df['Success']==0]))\n",
    "        FN.append(len(df[(df[col]>threshold) & (df['Success']==0)])/len(df[df['Success']==0]))\n",
    "        TN.append(len(df[(df[col]>threshold) & (df['Success']==1)])/len(df[df['Success']==1]))\n",
    "    return ROC_DATA(label, TP=TP, FP=FP, TN=TN, FN=FN, THRESHOLD=THRESHOLD)\n",
    "\n",
    "#Plot a single ROC_DATA with THRESHOLD as a second x-axis\n",
    "def plotRocThreshold(rocData):\n",
    "    fig = plt.figure()\n",
    "    fig.set_size_inches(5, 5)\n",
    "    ax = fig.add_subplot(1,1,1)\n",
    "    \n",
    "    d = skimROC_Data(rocData, addTresh=True)\n",
    "    label = d['Label']\n",
    "    \n",
    "    FP, TP = d['FP'], d['TP']\n",
    "    THRESHOLD = d['THRESHOLD']\n",
    "\n",
    "    ax.plot(FP,TP,'-' ,label = \"FP\", alpha=.8, color='black')\n",
    "    ax.plot(THRESHOLD,TP,'-' ,label = \"Threshold\", color='red', linewidth = .5)\n",
    "\n",
    "    ax.set_xlabel('%')\n",
    "    ax.set_xlim(0,1)\n",
    "    ax.set_ylabel('TP %')\n",
    "    ax.set_ylim(0,1)\n",
    "    ax.set_title(label+ \" ROC + Thresholds\")\n",
    "    ax.grid(color='black', linestyle='-', linewidth=1, alpha=.5)\n",
    "\n",
    "    handles, labels = ax.get_legend_handles_labels()\n",
    "    ax.legend()\n",
    "\n",
    "\n",
    "#Plot an array of ROC_DATA\n",
    "def plotRocs(rocObjArray):\n",
    "    fig = plt.figure()\n",
    "    fig.set_size_inches(10, 10)\n",
    "    ax = fig.add_subplot(1,1,1)\n",
    "    for rocData in rocObjArray:\n",
    "        d = skimROC_Data(rocData)\n",
    "        label = d['Label']\n",
    "        FP, TP = d['FP'], d['TP']\n",
    "        ax.plot(FP,TP,'-' ,label = label,zorder = -32, alpha=.5)\n",
    "    handles, labels = ax.get_legend_handles_labels()\n",
    "    display = (0,71)\n",
    "    ax.set_xlabel('FP Rate')\n",
    "    ax.set_xlim(0,1)\n",
    "    ax.set_ylabel('TP Rate')\n",
    "    ax.set_ylim(0,1)\n",
    "    ax.grid(color='black', linestyle='-', linewidth=1, alpha=.5)\n",
    "    ax.set_title('ROC Curve Compliation')\n",
    "    ax.legend()\n",
    "    \n",
    "    \n",
    "#Limits columns in a DF to  particular value\n",
    "def limitVal(df, ignore = ['Success'], N = 1.):\n",
    "    for c in df.drop(columns=ignore).columns:\n",
    "#         df[c].loc[df[c] >= N] = N\n",
    "#         print(df[c].dtype)\n",
    "        if(not (df[c].dtype == 'bool')):\n",
    "            df[c] = df[c].where(df[c] <= 1., 1.) \n",
    "    return df\n",
    "\n",
    "\n",
    "#Takes the average of all columns in a df\n",
    "def avgVal(df, ignore = ['Success'], colName = \"AvgPred\", JUST_PREDS=False):\n",
    "#     if(JUST_PREDS):\n",
    "#         for col in df.columns:\n",
    "#             if(not(col[:4]=='Pred')):\n",
    "#                 ignore.append(col)\n",
    "    df[colName] = df.drop(columns=ignore).mean(axis=1)\n",
    "    return df\n",
    "\n",
    "def skimROC_Data(d, addTresh=False):\n",
    "    x, y = [], []\n",
    "    t = []\n",
    "    for i in range(0, len(d['FP'])):\n",
    "        curX, curY = d['FP'][i], d['TP'][i]\n",
    "        if(addTresh):\n",
    "            curT = d['THRESHOLD'][i]\n",
    "        if(len(x) == 0):\n",
    "            x.append(curX)\n",
    "            y.append(curY)\n",
    "            if(addTresh):\n",
    "                t.append(curT)\n",
    "        elif(not curX == x[-1:][0]):\n",
    "            x.append(curX)\n",
    "            y.append(curY)\n",
    "            if(addTresh):\n",
    "                t.append(curT)\n",
    "    data = {\"Label\":d['Label'], 'FP':x, 'TP':y}\n",
    "    if(addTresh):\n",
    "        data['THRESHOLD'] = t\n",
    "    return data\n",
    "\n",
    "def rocPercent(roc):\n",
    "    data = skimROC_Data(roc)\n",
    "    f = InterpolatedUnivariateSpline(data['FP'], data['TP'], k=1)\n",
    "    plt.plot(f)\n",
    "    return data['Label'] + \"'s Integral is: \"+str(f.integral(0.,1.))\n",
    "\n",
    "def rocPercents(rocData):\n",
    "    for roc in rocData:\n",
    "        pct = rocPercent(roc)\n",
    "        print(pct)\n"
   ]
  },
  {
   "cell_type": "markdown",
   "metadata": {},
   "source": [
    "## Forest Functions"
   ]
  },
  {
   "cell_type": "code",
   "execution_count": 3,
   "metadata": {},
   "outputs": [],
   "source": [
    "import pandas as pd\n",
    "import numpy as np\n",
    "\n",
    "from sklearn.metrics import accuracy_score\n",
    "from sklearn.metrics import r2_score\n",
    "\n",
    "\n",
    "from sklearn.ensemble import RandomForestClassifier\n",
    "from sklearn.ensemble import RandomForestRegressor\n",
    "from sklearn.ensemble import AdaBoostClassifier\n",
    "from sklearn.ensemble import AdaBoostRegressor\n",
    "from sklearn.ensemble import GradientBoostingClassifier\n",
    "from sklearn.ensemble import GradientBoostingRegressor\n",
    "\n",
    "#Samples DF for an approximate numnber of rows  (Needed for balanceDF)\n",
    "def cutDF(df, intendedNumber):\n",
    "    df = df.sample(frac=intendedNumber/len(df), replace=True)\n",
    "    return df\n",
    "\n",
    "#Returns DF with 50/50 split on specified binary column\n",
    "def balanceDF(df, colName, numberOfEach = 0):\n",
    "    failDF = df[df[colName]==False]\n",
    "    successDF = df[df[colName]==True]\n",
    "    if(numberOfEach == 0):\n",
    "        maxContestsForBalance = min(len(successDF), len(failDF))\n",
    "        numberOfEach = int(maxContestsForBalance*.1)\n",
    "    combinedDF = pd.concat([cutDF(successDF, numberOfEach), cutDF(failDF, numberOfEach)])\n",
    "    return combinedDF\n",
    "\n",
    "#Splits a df into two parts, for testing and training\n",
    "def splitTrainingTesting(df, percentTrain, TYPE='None', basedOnVault=False):\n",
    "    if(not basedOnVault):\n",
    "        df = df.copy(deep=True)\n",
    "        if(TYPE==\"CLF\"):\n",
    "            df['Success'] = df['Success'].astype('int')\n",
    "        elif(TYPE=='REGR'):\n",
    "            df['Success'] = df['Success'].astype('float')\n",
    "        df['is_train'] = np.random.uniform(0, 1, len(df)) <= percentTrain\n",
    "        trainDF, testDF = df[df['is_train']==True], df[df['is_train']==False]\n",
    "        df = df.drop(columns=['is_train'], axis=1)\n",
    "        trainDF = trainDF.drop(['is_train'], axis=1)\n",
    "        testDF = testDF.drop(['is_train'], axis=1)\n",
    "        return trainDF, testDF\n",
    "    else:\n",
    "        nonVault = pd.merge(nonVaultDF, df, on='ContestId', how='left')\n",
    "        vault = df[~df.index.isin(nonVault.index)].dropna()\n",
    "#         return len(vault), len(nonVault)\n",
    "        numTrain = len(nonVault)\n",
    "        numTest = int((1-percentTrain)*numTrain)\n",
    "        vault.sample(n=numTest, random_state=1)\n",
    "        return nonVault, vault.sample(n=numTest, random_state=1)\n",
    "\n",
    "\n",
    "#Simple wrapper for a making a classifier\n",
    "def classifierWrapper(trainDF, classifierType, balanced=True):\n",
    "    trainDF = trainDF.copy(deep=True)\n",
    "    if(balanced):\n",
    "        trainDF = balanceDF(trainDF, 'Success')\n",
    "    clf = makeAndTrainCLF(trainDF, classifierType)\n",
    "    columns = trainDF.columns.drop('Success')\n",
    "    return {\"clf\":clf, \"cols\":columns}\n",
    "\n",
    "#Trains a classifier of the provided \n",
    "def makeAndTrainCLF(trainDF, classifierType, successCol = 'Success'): ####################\n",
    "    clf = classifierType()\n",
    "    clf.fit(trainDF[trainDF.columns.drop(successCol)], trainDF[successCol].astype('int'))\n",
    "    return clf\n",
    "\n",
    "\n",
    "def EnsembleWithMinAcc(trainDF, classifierType, balanced=True, numCLF = 20, accuracy=0.):\n",
    "    CLFS = []\n",
    "    for i in range(0, numCLF):\n",
    "        currAcc = -1.\n",
    "        while(currAcc < accuracy):\n",
    "            clf = classifierWrapper(trainDF, RandomForestClassifier, balanced=balanced)\n",
    "            currAcc = accuracy_score(clf['clf'].predict(trainDF[clf['cols']]), trainDF['Success'])\n",
    "        CLFS.append(clf)\n",
    "    return CLFS\n",
    "\n",
    "def getEnsPred(testDF, CLFS):\n",
    "    rDF = testDF[['Success']].copy(deep=True)\n",
    "    count = 0\n",
    "    for CLF in CLFS:\n",
    "        count+=1\n",
    "        classifier, columns = CLF['clf'], CLF['cols']\n",
    "        rDF['CLF'+str(count)] = classifier.predict(testDF[columns])\n",
    "    return rDF"
   ]
  },
  {
   "cell_type": "markdown",
   "metadata": {},
   "source": [
    "### Data Files for ROC"
   ]
  },
  {
   "cell_type": "code",
   "execution_count": 4,
   "metadata": {},
   "outputs": [],
   "source": [
    "fullContests = pd.read_csv('data/WorkingData.csv').set_index('ContestId')"
   ]
  },
  {
   "cell_type": "code",
   "execution_count": 11,
   "metadata": {},
   "outputs": [],
   "source": [
    "# Percent Full at 4 hours out\n",
    "baselineDF = pd.read_csv('data/baseline.csv').drop(columns=['Unnamed: 0'])\n",
    "\n",
    "# Meta Data file\n",
    "metaDataDF = pd.read_csv('data/MetaData.csv')\n",
    "\n",
    "# Kalman Filter\n",
    "kfResultsDF = pd.read_csv('data/KF_Results.csv')\n",
    "kfsResultsDF = pd.read_csv('data/KF_Scaled_Results.csv')\n",
    "\n",
    "# Linear Regression\n",
    "lrResultsDF = pd.read_csv('data/LR_Results.csv')\n",
    "lrsResultsDF = pd.read_csv('data/LR_Scaled_Results.csv')"
   ]
  },
  {
   "cell_type": "code",
   "execution_count": null,
   "metadata": {},
   "outputs": [],
   "source": [
    "trainDF = pd.read_csv(\"dataVault/train.csv\").set_index('ContestId')\n",
    "testDF = pd.read_csv(\"dataVault/vault1.csv\").set_index('ContestId')\n",
    "print(\"Number of contests in trainDF:\",len(trainDF))\n",
    "print(\"Number of contests in testDF:\",len(testDF))"
   ]
  },
  {
   "cell_type": "markdown",
   "metadata": {},
   "source": [
    "### Calculating ROC_DATA"
   ]
  },
  {
   "cell_type": "markdown",
   "metadata": {},
   "source": [
    "Baseline ROC Generation"
   ]
  },
  {
   "cell_type": "code",
   "execution_count": 7,
   "metadata": {
    "scrolled": true
   },
   "outputs": [
    {
     "data": {
      "image/png": "[encoded data removed]",
      "text/plain": [
       "<Figure size 360x360 with 1 Axes>"
      ]
     },
     "metadata": {},
     "output_type": "display_data"
    }
   ],
   "source": [
    "# print(\"... Calculating Baseline 4-hours-out Prediction\")\n",
    "baselineRates = getRate(baselineDF, 'FourHoursOut_Scaled', label='Baseline (Percent Full at 4 Hours Out)')\n",
    "plotRocThreshold(baselineRates)"
   ]
  },
  {
   "cell_type": "markdown",
   "metadata": {},
   "source": [
    "Meta Data ROC Generation"
   ]
  },
  {
   "cell_type": "code",
   "execution_count": 8,
   "metadata": {},
   "outputs": [],
   "source": [
    "metaColumns = list(metaDataDF.columns.drop('ContestId'))\n",
    "metaColumns.append('Success')\n",
    "metaTrain, metaTest = trainDF[metaColumns], testDF[metaColumns]"
   ]
  },
  {
   "cell_type": "code",
   "execution_count": 9,
   "metadata": {},
   "outputs": [],
   "source": [
    "metaCLFS = EnsembleWithMinAcc(limitVal(metaTrain), RandomForestClassifier, accuracy = .6)\n",
    "metaPreds = avgVal(getEnsPred(limitVal(metaTest), metaCLFS))"
   ]
  },
  {
   "cell_type": "code",
   "execution_count": 10,
   "metadata": {
    "scrolled": true
   },
   "outputs": [
    {
     "data": {
      "image/png": "[encoded data removed]",
      "text/plain": [
       "<Figure size 360x360 with 1 Axes>"
      ]
     },
     "metadata": {},
     "output_type": "display_data"
    }
   ],
   "source": [
    "metaEnsembleRates =  getRate(metaPreds, 'AvgPred', label='Ensemble of Meta Data')\n",
    "plotRocThreshold(metaEnsembleRates)"
   ]
  },
  {
   "cell_type": "code",
   "execution_count": 11,
   "metadata": {},
   "outputs": [
    {
     "data": {
      "image/png": "[encoded data removed]",
      "text/plain": [
       "<Figure size 720x720 with 1 Axes>"
      ]
     },
     "metadata": {},
     "output_type": "display_data"
    }
   ],
   "source": [
    "plotRocs([metaEnsembleRates, baselineRates])"
   ]
  },
  {
   "cell_type": "markdown",
   "metadata": {},
   "source": [
    "Kalman Filter ROC Generation"
   ]
  },
  {
   "cell_type": "code",
   "execution_count": 12,
   "metadata": {},
   "outputs": [],
   "source": [
    "kfColumns = list(kfResultsDF.columns.drop('ContestId'))\n",
    "kfColumns.append('Success')\n",
    "kfTrain, kfTest = trainDF[kfColumns], testDF[kfColumns]"
   ]
  },
  {
   "cell_type": "code",
   "execution_count": 13,
   "metadata": {},
   "outputs": [],
   "source": [
    "# kfAvgRate = getRate(avgVal(limitVal(kfTest, N=1.), JUST_PREDS=True), 'AvgPred', label='Average Kalman Prediction')\n",
    "# plotRocThreshold(kfAvgRate)"
   ]
  },
  {
   "cell_type": "code",
   "execution_count": 14,
   "metadata": {},
   "outputs": [],
   "source": [
    "kfCLFS = EnsembleWithMinAcc(limitVal(kfTrain, N=1.), RandomForestClassifier, accuracy = .6)\n",
    "kfPreds = avgVal(getEnsPred(limitVal(kfTest, N=1.), kfCLFS))"
   ]
  },
  {
   "cell_type": "code",
   "execution_count": 15,
   "metadata": {
    "scrolled": false
   },
   "outputs": [
    {
     "data": {
      "image/png": "[encoded data removed]",
      "text/plain": [
       "<Figure size 360x360 with 1 Axes>"
      ]
     },
     "metadata": {},
     "output_type": "display_data"
    }
   ],
   "source": [
    "kfEnsembleRates =  getRate(kfPreds, 'AvgPred', label='Ensemble of Kalman Prediction')\n",
    "plotRocThreshold(kfEnsembleRates)"
   ]
  },
  {
   "cell_type": "markdown",
   "metadata": {},
   "source": [
    "Linear Regression ROC Generation"
   ]
  },
  {
   "cell_type": "code",
   "execution_count": 16,
   "metadata": {},
   "outputs": [],
   "source": [
    "lrColumns = list(lrResultsDF.columns.drop('ContestId'))\n",
    "lrColumns.append('Success')\n",
    "lrTrain, lrTest = trainDF[lrColumns], testDF[lrColumns]"
   ]
  },
  {
   "cell_type": "code",
   "execution_count": 17,
   "metadata": {},
   "outputs": [],
   "source": [
    "# lrAvgRate = getRate(avgVal(limitVal(lrTest, N=1.), JUST_PREDS=True), 'AvgPred', label='Average Linear Regression Prediction')\n",
    "# plotRocThreshold(lrAvgRate)"
   ]
  },
  {
   "cell_type": "code",
   "execution_count": 18,
   "metadata": {},
   "outputs": [],
   "source": [
    "lrCLFS = EnsembleWithMinAcc(limitVal(lrTrain, N=1.), RandomForestClassifier, accuracy = .6)\n",
    "lrPreds = avgVal(getEnsPred(limitVal(lrTest, N=1.), lrCLFS))"
   ]
  },
  {
   "cell_type": "code",
   "execution_count": 19,
   "metadata": {
    "scrolled": true
   },
   "outputs": [
    {
     "data": {
      "image/png": "[encoded data removed]",
      "text/plain": [
       "<Figure size 360x360 with 1 Axes>"
      ]
     },
     "metadata": {},
     "output_type": "display_data"
    }
   ],
   "source": [
    "lrEnsembleRates =  getRate(lrPreds, 'AvgPred', label='Ensemble of Linear Regression Prediction')\n",
    "plotRocThreshold(lrEnsembleRates)"
   ]
  },
  {
   "cell_type": "markdown",
   "metadata": {},
   "source": [
    "### Scaled"
   ]
  },
  {
   "cell_type": "code",
   "execution_count": 20,
   "metadata": {},
   "outputs": [
    {
     "ename": "KeyError",
     "evalue": "\"['A_KFS_v1' 'A_KFS_v10' 'A_KFS_v11' 'A_KFS_v12' 'A_KFS_v13' 'A_KFS_v14'\\n 'A_KFS_v15' 'A_KFS_v2' 'A_KFS_v3' 'A_KFS_v4' 'A_KFS_v5' 'A_KFS_v6'\\n 'A_KFS_v7' 'A_KFS_v8' 'A_KFS_v9' 'B_KFS_v1' 'B_KFS_v10' 'B_KFS_v11'\\n 'B_KFS_v12' 'B_KFS_v13' 'B_KFS_v14' 'B_KFS_v15' 'B_KFS_v2' 'B_KFS_v3'\\n 'B_KFS_v4' 'B_KFS_v5' 'B_KFS_v6' 'B_KFS_v7' 'B_KFS_v8' 'B_KFS_v9'\\n 'Pred_KFS_v1' 'Pred_KFS_v10' 'Pred_KFS_v11' 'Pred_KFS_v12' 'Pred_KFS_v13'\\n 'Pred_KFS_v14' 'Pred_KFS_v15' 'Pred_KFS_v2' 'Pred_KFS_v3' 'Pred_KFS_v4'\\n 'Pred_KFS_v5' 'Pred_KFS_v6' 'Pred_KFS_v7' 'Pred_KFS_v8' 'Pred_KFS_v9'] not in index\"",
     "output_type": "error",
     "traceback": [
      "\u001b[0;31m---------------------------------------------------------------------------\u001b[0m",
      "\u001b[0;31mKeyError\u001b[0m                                  Traceback (most recent call last)",
      "\u001b[0;32m<ipython-input-20-edcbda8607b0>\u001b[0m in \u001b[0;36m<module>\u001b[0;34m()\u001b[0m\n\u001b[1;32m      1\u001b[0m \u001b[0mkfsColumns\u001b[0m \u001b[0;34m=\u001b[0m \u001b[0mlist\u001b[0m\u001b[0;34m(\u001b[0m\u001b[0mkfsResultsDF\u001b[0m\u001b[0;34m.\u001b[0m\u001b[0mcolumns\u001b[0m\u001b[0;34m.\u001b[0m\u001b[0mdrop\u001b[0m\u001b[0;34m(\u001b[0m\u001b[0;34m'ContestId'\u001b[0m\u001b[0;34m)\u001b[0m\u001b[0;34m)\u001b[0m\u001b[0;34m\u001b[0m\u001b[0m\n\u001b[1;32m      2\u001b[0m \u001b[0mkfsColumns\u001b[0m\u001b[0;34m.\u001b[0m\u001b[0mappend\u001b[0m\u001b[0;34m(\u001b[0m\u001b[0;34m'Success'\u001b[0m\u001b[0;34m)\u001b[0m\u001b[0;34m\u001b[0m\u001b[0m\n\u001b[0;32m----> 3\u001b[0;31m \u001b[0mkfsTrain\u001b[0m\u001b[0;34m,\u001b[0m \u001b[0mkfsTest\u001b[0m \u001b[0;34m=\u001b[0m \u001b[0mtrainDF\u001b[0m\u001b[0;34m[\u001b[0m\u001b[0mkfsColumns\u001b[0m\u001b[0;34m]\u001b[0m\u001b[0;34m,\u001b[0m \u001b[0mtestDF\u001b[0m\u001b[0;34m[\u001b[0m\u001b[0mkfsColumns\u001b[0m\u001b[0;34m]\u001b[0m\u001b[0;34m\u001b[0m\u001b[0m\n\u001b[0m",
      "\u001b[0;32m/anaconda3/lib/python3.6/site-packages/pandas/core/frame.py\u001b[0m in \u001b[0;36m__getitem__\u001b[0;34m(self, key)\u001b[0m\n\u001b[1;32m   2677\u001b[0m         \u001b[0;32mif\u001b[0m \u001b[0misinstance\u001b[0m\u001b[0;34m(\u001b[0m\u001b[0mkey\u001b[0m\u001b[0;34m,\u001b[0m \u001b[0;34m(\u001b[0m\u001b[0mSeries\u001b[0m\u001b[0;34m,\u001b[0m \u001b[0mnp\u001b[0m\u001b[0;34m.\u001b[0m\u001b[0mndarray\u001b[0m\u001b[0;34m,\u001b[0m \u001b[0mIndex\u001b[0m\u001b[0;34m,\u001b[0m \u001b[0mlist\u001b[0m\u001b[0;34m)\u001b[0m\u001b[0;34m)\u001b[0m\u001b[0;34m:\u001b[0m\u001b[0;34m\u001b[0m\u001b[0m\n\u001b[1;32m   2678\u001b[0m             \u001b[0;31m# either boolean or fancy integer index\u001b[0m\u001b[0;34m\u001b[0m\u001b[0;34m\u001b[0m\u001b[0m\n\u001b[0;32m-> 2679\u001b[0;31m             \u001b[0;32mreturn\u001b[0m \u001b[0mself\u001b[0m\u001b[0;34m.\u001b[0m\u001b[0m_getitem_array\u001b[0m\u001b[0;34m(\u001b[0m\u001b[0mkey\u001b[0m\u001b[0;34m)\u001b[0m\u001b[0;34m\u001b[0m\u001b[0m\n\u001b[0m\u001b[1;32m   2680\u001b[0m         \u001b[0;32melif\u001b[0m \u001b[0misinstance\u001b[0m\u001b[0;34m(\u001b[0m\u001b[0mkey\u001b[0m\u001b[0;34m,\u001b[0m \u001b[0mDataFrame\u001b[0m\u001b[0;34m)\u001b[0m\u001b[0;34m:\u001b[0m\u001b[0;34m\u001b[0m\u001b[0m\n\u001b[1;32m   2681\u001b[0m             \u001b[0;32mreturn\u001b[0m \u001b[0mself\u001b[0m\u001b[0;34m.\u001b[0m\u001b[0m_getitem_frame\u001b[0m\u001b[0;34m(\u001b[0m\u001b[0mkey\u001b[0m\u001b[0;34m)\u001b[0m\u001b[0;34m\u001b[0m\u001b[0m\n",
      "\u001b[0;32m/anaconda3/lib/python3.6/site-packages/pandas/core/frame.py\u001b[0m in \u001b[0;36m_getitem_array\u001b[0;34m(self, key)\u001b[0m\n\u001b[1;32m   2721\u001b[0m             \u001b[0;32mreturn\u001b[0m \u001b[0mself\u001b[0m\u001b[0;34m.\u001b[0m\u001b[0m_take\u001b[0m\u001b[0;34m(\u001b[0m\u001b[0mindexer\u001b[0m\u001b[0;34m,\u001b[0m \u001b[0maxis\u001b[0m\u001b[0;34m=\u001b[0m\u001b[0;36m0\u001b[0m\u001b[0;34m)\u001b[0m\u001b[0;34m\u001b[0m\u001b[0m\n\u001b[1;32m   2722\u001b[0m         \u001b[0;32melse\u001b[0m\u001b[0;34m:\u001b[0m\u001b[0;34m\u001b[0m\u001b[0m\n\u001b[0;32m-> 2723\u001b[0;31m             \u001b[0mindexer\u001b[0m \u001b[0;34m=\u001b[0m \u001b[0mself\u001b[0m\u001b[0;34m.\u001b[0m\u001b[0mloc\u001b[0m\u001b[0;34m.\u001b[0m\u001b[0m_convert_to_indexer\u001b[0m\u001b[0;34m(\u001b[0m\u001b[0mkey\u001b[0m\u001b[0;34m,\u001b[0m \u001b[0maxis\u001b[0m\u001b[0;34m=\u001b[0m\u001b[0;36m1\u001b[0m\u001b[0;34m)\u001b[0m\u001b[0;34m\u001b[0m\u001b[0m\n\u001b[0m\u001b[1;32m   2724\u001b[0m             \u001b[0;32mreturn\u001b[0m \u001b[0mself\u001b[0m\u001b[0;34m.\u001b[0m\u001b[0m_take\u001b[0m\u001b[0;34m(\u001b[0m\u001b[0mindexer\u001b[0m\u001b[0;34m,\u001b[0m \u001b[0maxis\u001b[0m\u001b[0;34m=\u001b[0m\u001b[0;36m1\u001b[0m\u001b[0;34m)\u001b[0m\u001b[0;34m\u001b[0m\u001b[0m\n\u001b[1;32m   2725\u001b[0m \u001b[0;34m\u001b[0m\u001b[0m\n",
      "\u001b[0;32m/anaconda3/lib/python3.6/site-packages/pandas/core/indexing.py\u001b[0m in \u001b[0;36m_convert_to_indexer\u001b[0;34m(self, obj, axis, is_setter)\u001b[0m\n\u001b[1;32m   1325\u001b[0m                 \u001b[0;32mif\u001b[0m \u001b[0mmask\u001b[0m\u001b[0;34m.\u001b[0m\u001b[0many\u001b[0m\u001b[0;34m(\u001b[0m\u001b[0;34m)\u001b[0m\u001b[0;34m:\u001b[0m\u001b[0;34m\u001b[0m\u001b[0m\n\u001b[1;32m   1326\u001b[0m                     raise KeyError('{mask} not in index'\n\u001b[0;32m-> 1327\u001b[0;31m                                    .format(mask=objarr[mask]))\n\u001b[0m\u001b[1;32m   1328\u001b[0m \u001b[0;34m\u001b[0m\u001b[0m\n\u001b[1;32m   1329\u001b[0m                 \u001b[0;32mreturn\u001b[0m \u001b[0mcom\u001b[0m\u001b[0;34m.\u001b[0m\u001b[0m_values_from_object\u001b[0m\u001b[0;34m(\u001b[0m\u001b[0mindexer\u001b[0m\u001b[0;34m)\u001b[0m\u001b[0;34m\u001b[0m\u001b[0m\n",
      "\u001b[0;31mKeyError\u001b[0m: \"['A_KFS_v1' 'A_KFS_v10' 'A_KFS_v11' 'A_KFS_v12' 'A_KFS_v13' 'A_KFS_v14'\\n 'A_KFS_v15' 'A_KFS_v2' 'A_KFS_v3' 'A_KFS_v4' 'A_KFS_v5' 'A_KFS_v6'\\n 'A_KFS_v7' 'A_KFS_v8' 'A_KFS_v9' 'B_KFS_v1' 'B_KFS_v10' 'B_KFS_v11'\\n 'B_KFS_v12' 'B_KFS_v13' 'B_KFS_v14' 'B_KFS_v15' 'B_KFS_v2' 'B_KFS_v3'\\n 'B_KFS_v4' 'B_KFS_v5' 'B_KFS_v6' 'B_KFS_v7' 'B_KFS_v8' 'B_KFS_v9'\\n 'Pred_KFS_v1' 'Pred_KFS_v10' 'Pred_KFS_v11' 'Pred_KFS_v12' 'Pred_KFS_v13'\\n 'Pred_KFS_v14' 'Pred_KFS_v15' 'Pred_KFS_v2' 'Pred_KFS_v3' 'Pred_KFS_v4'\\n 'Pred_KFS_v5' 'Pred_KFS_v6' 'Pred_KFS_v7' 'Pred_KFS_v8' 'Pred_KFS_v9'] not in index\""
     ]
    }
   ],
   "source": [
    "kfsColumns = list(kfsResultsDF.columns.drop('ContestId'))\n",
    "kfsColumns.append('Success')\n",
    "kfsTrain, kfsTest = trainDF[kfsColumns], testDF[kfsColumns]"
   ]
  },
  {
   "cell_type": "code",
   "execution_count": null,
   "metadata": {
    "scrolled": true
   },
   "outputs": [],
   "source": [
    "# kfsAvgRate = getRate(avgVal(limitVal(kfsTest, N=1.)), 'AvgPred', label='Average SCALED Kalman Prediction')\n",
    "# plotRocThreshold(kfsAvgRate)"
   ]
  },
  {
   "cell_type": "code",
   "execution_count": null,
   "metadata": {},
   "outputs": [],
   "source": [
    "kfsCLFS = EnsembleWithMinAcc(limitVal(kfsTrain, N=1.), RandomForestClassifier, accuracy = .6)\n",
    "kfsPreds = avgVal(getEnsPred(limitVal(kfsTest, N=1.), kfsCLFS))"
   ]
  },
  {
   "cell_type": "code",
   "execution_count": null,
   "metadata": {
    "scrolled": true
   },
   "outputs": [],
   "source": [
    "kfsEnsembleRates =  getRate(kfsPreds, 'AvgPred', label='Ensemble of SCALED Kalman Prediction')\n",
    "plotRocThreshold(kfsEnsembleRates)"
   ]
  },
  {
   "cell_type": "code",
   "execution_count": null,
   "metadata": {},
   "outputs": [],
   "source": [
    "lrsColumns = list(lrsResultsDF.columns.drop('ContestId'))\n",
    "lrsColumns.append('Success')\n",
    "lrsTrain, lrsTest = trainDF[lrsColumns], testDF[lrsColumns]"
   ]
  },
  {
   "cell_type": "code",
   "execution_count": null,
   "metadata": {},
   "outputs": [],
   "source": [
    "lrsCLFS = EnsembleWithMinAcc(limitVal(lrsTrain, N=1.), RandomForestClassifier, accuracy = .6)\n",
    "lrsPreds = avgVal(getEnsPred(limitVal(lrsTest, N=1.), lrsCLFS))"
   ]
  },
  {
   "cell_type": "code",
   "execution_count": null,
   "metadata": {
    "scrolled": true
   },
   "outputs": [],
   "source": [
    "lrsEnsembleRates =  getRate(lrsPreds, 'AvgPred', label='Ensemble of SCALED Linear Regression Prediction')\n",
    "plotRocThreshold(lrsEnsembleRates)"
   ]
  },
  {
   "cell_type": "code",
   "execution_count": null,
   "metadata": {},
   "outputs": [],
   "source": [
    "plotRocs([kfsEnsembleRates, kfEnsembleRates, lrsEnsembleRates, lrEnsembleRates])"
   ]
  },
  {
   "cell_type": "markdown",
   "metadata": {},
   "source": [
    "### Merging Predictors"
   ]
  },
  {
   "cell_type": "code",
   "execution_count": null,
   "metadata": {},
   "outputs": [],
   "source": [
    "lrkfColumns = list(set(kfColumns+lrColumns))\n",
    "lrkfTrain, lrkfTest = trainDF[lrkfColumns], testDF[lrkfColumns]"
   ]
  },
  {
   "cell_type": "code",
   "execution_count": null,
   "metadata": {},
   "outputs": [],
   "source": [
    "lrkfCLFS = EnsembleWithMinAcc(limitVal(lrkfTrain, N=1.), RandomForestClassifier, accuracy = .6)\n",
    "lrkfPreds = avgVal(getEnsPred(limitVal(lrkfTest, N=1.), lrkfCLFS))"
   ]
  },
  {
   "cell_type": "code",
   "execution_count": null,
   "metadata": {
    "scrolled": false
   },
   "outputs": [],
   "source": [
    "lrkfEnsembleRates =  getRate(lrkfPreds, 'AvgPred', label='Ensemble of LR+KF Prediction')\n",
    "plotRocThreshold(lrkfEnsembleRates)"
   ]
  },
  {
   "cell_type": "code",
   "execution_count": null,
   "metadata": {},
   "outputs": [],
   "source": [
    "lrkfsColumns = list(set(kfsColumns+lrsColumns))\n",
    "lrkfsTrain, lrkfsTest = trainDF[lrkfsColumns], testDF[lrkfsColumns]"
   ]
  },
  {
   "cell_type": "code",
   "execution_count": null,
   "metadata": {},
   "outputs": [],
   "source": [
    "lrkfsCLFS = EnsembleWithMinAcc(limitVal(lrkfsTrain, N=1.), RandomForestClassifier, accuracy = .6)\n",
    "lrkfsPreds = avgVal(getEnsPred(limitVal(lrkfsTest, N=1.), lrkfsCLFS))"
   ]
  },
  {
   "cell_type": "code",
   "execution_count": null,
   "metadata": {
    "scrolled": true
   },
   "outputs": [],
   "source": [
    "lrkfsEnsembleRates =  getRate(lrkfsPreds, 'AvgPred', label='Ensemble of SCALED LR+KF Prediction')\n",
    "plotRocThreshold(lrkfsEnsembleRates)"
   ]
  },
  {
   "cell_type": "code",
   "execution_count": null,
   "metadata": {},
   "outputs": [],
   "source": [
    "plotRocs([lrkfsEnsembleRates, lrkfEnsembleRates])"
   ]
  },
  {
   "cell_type": "markdown",
   "metadata": {},
   "source": [
    "### Adding Meta Data"
   ]
  },
  {
   "cell_type": "code",
   "execution_count": null,
   "metadata": {},
   "outputs": [],
   "source": [
    "lrkfMetaColumns = list(set(metaColumns+lrColumns+kfColumns))\n",
    "lrkfMetaTrain, lrkfMetaTest = trainDF[lrkfMetaColumns], testDF[lrkfMetaColumns]\n",
    "lrkfMetaTrain, lrkfMetaTest = limitVal(lrkfMetaTrain, ignore=metaColumns,  N=1.).dropna(), limitVal(lrkfMetaTest, ignore=metaColumns,  N=1.).dropna()"
   ]
  },
  {
   "cell_type": "code",
   "execution_count": null,
   "metadata": {},
   "outputs": [],
   "source": [
    "lrkfMetaCLFS = EnsembleWithMinAcc(lrkfMetaTrain, RandomForestClassifier, accuracy = .6)\n",
    "lrkfMetaPreds = avgVal(getEnsPred(lrkfMetaTest, lrkfMetaCLFS))"
   ]
  },
  {
   "cell_type": "code",
   "execution_count": null,
   "metadata": {},
   "outputs": [],
   "source": [
    "lrkfMetaEnsembleRates =  getRate(lrkfMetaPreds, 'AvgPred', label='Ensemble of LR+KF+Meta Prediction')\n",
    "plotRocThreshold(lrkfMetaEnsembleRates)"
   ]
  },
  {
   "cell_type": "code",
   "execution_count": null,
   "metadata": {},
   "outputs": [],
   "source": [
    "lrkfsMetaColumns = list(set(metaColumns+lrsColumns+kfsColumns))\n",
    "lrkfsMetaTrain, lrkfsMetaTest = trainDF[lrkfsMetaColumns], testDF[lrkfsMetaColumns]\n",
    "lrkfsMetaTrain, lrkfsMetaTest = limitVal(lrkfsMetaTrain, ignore=metaColumns,  N=1.).dropna(), limitVal(lrkfsMetaTest, ignore=metaColumns,  N=1.).dropna()"
   ]
  },
  {
   "cell_type": "code",
   "execution_count": null,
   "metadata": {},
   "outputs": [],
   "source": [
    "lrkfsMetaCLFS = EnsembleWithMinAcc(lrkfsMetaTrain, RandomForestClassifier, accuracy = .6)\n",
    "lrkfsMetaPreds = avgVal(getEnsPred(lrkfsMetaTest, lrkfsMetaCLFS))"
   ]
  },
  {
   "cell_type": "code",
   "execution_count": null,
   "metadata": {},
   "outputs": [],
   "source": [
    "lrkfsMetaEnsembleRates =  getRate(lrkfsMetaPreds, 'AvgPred', label='Ensemble of LRS+KFS+Meta Prediction')\n",
    "plotRocThreshold(lrkfsMetaEnsembleRates)"
   ]
  },
  {
   "cell_type": "code",
   "execution_count": null,
   "metadata": {},
   "outputs": [],
   "source": [
    "plotRocs([lrkfsMetaEnsembleRates, lrkfMetaEnsembleRates])"
   ]
  },
  {
   "cell_type": "markdown",
   "metadata": {},
   "source": [
    "### Pacer Data"
   ]
  },
  {
   "cell_type": "code",
   "execution_count": 12,
   "metadata": {},
   "outputs": [],
   "source": [
    "\n",
    "#Plot a single ROC_DATA with THRESHOLD as a second x-axis\n",
    "def plotColorRoc(rocData, vault=\"\"):\n",
    "    # plot it\n",
    "    fig = plt.figure(figsize=(6, 5)) \n",
    "    gs = gridspec.GridSpec(1, 2, width_ratios=[5, .25]) \n",
    "\n",
    "    ax0 = plt.subplot(gs[0])\n",
    "    d = rocData\n",
    "    label = d['Label']\n",
    "    \n",
    "    FP, TP = d['FP'], d['TP']\n",
    "    THRESHOLD = d['THRESHOLD']\n",
    "    COLORS = mapToColors(THRESHOLD)\n",
    "    for i in range(1, len(FP)):\n",
    "        ax0.plot((FP[i-1], FP[i]),(TP[i-1], TP[i]), c = COLORS[i], label = \"FP\", lw=3.)\n",
    "        \n",
    "    ax0.set_xlabel('False Positive Rate')\n",
    "    ax0.set_xlim(0,1)\n",
    "    ax0.set_ylabel('True Positive Rate')\n",
    "    ax0.set_ylim(0,1)\n",
    "    ax0.set_title(vault + \" [\"+ label+ \"]\")\n",
    "    ax0.grid(color='black', linestyle='-', linewidth=1, alpha=.5)\n",
    "\n",
    "\n",
    "    ax1 = plt.subplot(gs[1])\n",
    "    ax1.yaxis.tick_right()\n",
    "    ax1.set_xlim(0,1)\n",
    "    ax1.get_xaxis().set_visible(False)\n",
    "    ax1.set_ylabel('Threshold')\n",
    "    ax1.set_ylim(0,1)\n",
    "\n",
    "    values = np.arange(0., 1., .01)\n",
    "    for i in range(0, 100):\n",
    "        plt.plot((0, 1.), (values[i], values[i]), c = str(colormap[i]), lw=4)"
   ]
  },
  {
   "cell_type": "code",
   "execution_count": 8,
   "metadata": {},
   "outputs": [
    {
     "data": {
      "text/plain": [
       "Index(['Success', 'PacerSuccess'], dtype='object')"
      ]
     },
     "execution_count": 8,
     "metadata": {},
     "output_type": "execute_result"
    }
   ],
   "source": [
    "pacerData = pd.read_csv('data/DK_Pacer_Success.csv').set_index('ContestId')\n",
    "pacerData.columns"
   ]
  },
  {
   "cell_type": "code",
   "execution_count": 9,
   "metadata": {
    "scrolled": true
   },
   "outputs": [],
   "source": [
    "pacerRate = getRate(pacerData, 'PacerSuccess', label='Pacer Prediction')"
   ]
  },
  {
   "cell_type": "code",
   "execution_count": 13,
   "metadata": {
    "scrolled": true
   },
   "outputs": [
    {
     "ename": "NameError",
     "evalue": "name 'gridspec' is not defined",
     "output_type": "error",
     "traceback": [
      "\u001b[0;31m---------------------------------------------------------------------------\u001b[0m",
      "\u001b[0;31mNameError\u001b[0m                                 Traceback (most recent call last)",
      "\u001b[0;32m<ipython-input-13-7417c54a8ef5>\u001b[0m in \u001b[0;36m<module>\u001b[0;34m()\u001b[0m\n\u001b[0;32m----> 1\u001b[0;31m \u001b[0mplotColorRoc\u001b[0m\u001b[0;34m(\u001b[0m\u001b[0mpacerRate\u001b[0m\u001b[0;34m)\u001b[0m\u001b[0;34m\u001b[0m\u001b[0m\n\u001b[0m",
      "\u001b[0;32m<ipython-input-12-af3340f37241>\u001b[0m in \u001b[0;36mplotColorRoc\u001b[0;34m(rocData, vault)\u001b[0m\n\u001b[1;32m      4\u001b[0m     \u001b[0;31m# plot it\u001b[0m\u001b[0;34m\u001b[0m\u001b[0;34m\u001b[0m\u001b[0m\n\u001b[1;32m      5\u001b[0m     \u001b[0mfig\u001b[0m \u001b[0;34m=\u001b[0m \u001b[0mplt\u001b[0m\u001b[0;34m.\u001b[0m\u001b[0mfigure\u001b[0m\u001b[0;34m(\u001b[0m\u001b[0mfigsize\u001b[0m\u001b[0;34m=\u001b[0m\u001b[0;34m(\u001b[0m\u001b[0;36m6\u001b[0m\u001b[0;34m,\u001b[0m \u001b[0;36m5\u001b[0m\u001b[0;34m)\u001b[0m\u001b[0;34m)\u001b[0m\u001b[0;34m\u001b[0m\u001b[0m\n\u001b[0;32m----> 6\u001b[0;31m     \u001b[0mgs\u001b[0m \u001b[0;34m=\u001b[0m \u001b[0mgridspec\u001b[0m\u001b[0;34m.\u001b[0m\u001b[0mGridSpec\u001b[0m\u001b[0;34m(\u001b[0m\u001b[0;36m1\u001b[0m\u001b[0;34m,\u001b[0m \u001b[0;36m2\u001b[0m\u001b[0;34m,\u001b[0m \u001b[0mwidth_ratios\u001b[0m\u001b[0;34m=\u001b[0m\u001b[0;34m[\u001b[0m\u001b[0;36m5\u001b[0m\u001b[0;34m,\u001b[0m \u001b[0;36m.25\u001b[0m\u001b[0;34m]\u001b[0m\u001b[0;34m)\u001b[0m\u001b[0;34m\u001b[0m\u001b[0m\n\u001b[0m\u001b[1;32m      7\u001b[0m \u001b[0;34m\u001b[0m\u001b[0m\n\u001b[1;32m      8\u001b[0m     \u001b[0max0\u001b[0m \u001b[0;34m=\u001b[0m \u001b[0mplt\u001b[0m\u001b[0;34m.\u001b[0m\u001b[0msubplot\u001b[0m\u001b[0;34m(\u001b[0m\u001b[0mgs\u001b[0m\u001b[0;34m[\u001b[0m\u001b[0;36m0\u001b[0m\u001b[0;34m]\u001b[0m\u001b[0;34m)\u001b[0m\u001b[0;34m\u001b[0m\u001b[0m\n",
      "\u001b[0;31mNameError\u001b[0m: name 'gridspec' is not defined"
     ]
    },
    {
     "data": {
      "text/plain": [
       "<Figure size 432x360 with 0 Axes>"
      ]
     },
     "metadata": {},
     "output_type": "display_data"
    }
   ],
   "source": [
    "plotCo(pacerRate)"
   ]
  },
  {
   "cell_type": "code",
   "execution_count": null,
   "metadata": {},
   "outputs": [],
   "source": [
    "pTrain = pd.merge(pacerData, trainDF[metaColumns].drop(columns=['Success']), on='ContestId', how='inner').dropna()\n",
    "pTest = pd.merge(pacerData, testDF[metaColumns].drop(columns=['Success']), on='ContestId', how='inner').dropna()"
   ]
  },
  {
   "cell_type": "code",
   "execution_count": 6,
   "metadata": {},
   "outputs": [
    {
     "ename": "NameError",
     "evalue": "name 'pTrain' is not defined",
     "output_type": "error",
     "traceback": [
      "\u001b[0;31m---------------------------------------------------------------------------\u001b[0m",
      "\u001b[0;31mNameError\u001b[0m                                 Traceback (most recent call last)",
      "\u001b[0;32m<ipython-input-6-302e7b7affd7>\u001b[0m in \u001b[0;36m<module>\u001b[0;34m()\u001b[0m\n\u001b[0;32m----> 1\u001b[0;31m \u001b[0mpCLFS\u001b[0m \u001b[0;34m=\u001b[0m \u001b[0mEnsembleWithMinAcc\u001b[0m\u001b[0;34m(\u001b[0m\u001b[0mpTrain\u001b[0m\u001b[0;34m,\u001b[0m \u001b[0mRandomForestClassifier\u001b[0m\u001b[0;34m,\u001b[0m \u001b[0maccuracy\u001b[0m \u001b[0;34m=\u001b[0m \u001b[0;36m.6\u001b[0m\u001b[0;34m)\u001b[0m\u001b[0;34m\u001b[0m\u001b[0m\n\u001b[0m\u001b[1;32m      2\u001b[0m \u001b[0mpPreds\u001b[0m \u001b[0;34m=\u001b[0m \u001b[0mavgVal\u001b[0m\u001b[0;34m(\u001b[0m\u001b[0mgetEnsPred\u001b[0m\u001b[0;34m(\u001b[0m\u001b[0mpTest\u001b[0m\u001b[0;34m,\u001b[0m \u001b[0mpCLFS\u001b[0m\u001b[0;34m)\u001b[0m\u001b[0;34m)\u001b[0m\u001b[0;34m\u001b[0m\u001b[0m\n\u001b[1;32m      3\u001b[0m \u001b[0mpEnsembleRates\u001b[0m \u001b[0;34m=\u001b[0m  \u001b[0mgetRate\u001b[0m\u001b[0;34m(\u001b[0m\u001b[0mpPreds\u001b[0m\u001b[0;34m,\u001b[0m \u001b[0;34m'AvgPred'\u001b[0m\u001b[0;34m,\u001b[0m \u001b[0mlabel\u001b[0m\u001b[0;34m=\u001b[0m\u001b[0;34m'Ensemble of Pacer+Meta Prediction'\u001b[0m\u001b[0;34m)\u001b[0m\u001b[0;34m\u001b[0m\u001b[0m\n",
      "\u001b[0;31mNameError\u001b[0m: name 'pTrain' is not defined"
     ]
    }
   ],
   "source": [
    "pCLFS = EnsembleWithMinAcc(pTrain, RandomForestClassifier, accuracy = .6)\n",
    "pPreds = avgVal(getEnsPred(pTest, pCLFS))\n",
    "pEnsembleRates =  getRate(pPreds, 'AvgPred', label='Ensemble of Pacer+Meta Prediction')"
   ]
  },
  {
   "cell_type": "code",
   "execution_count": 7,
   "metadata": {},
   "outputs": [
    {
     "ename": "NameError",
     "evalue": "name 'pacerData' is not defined",
     "output_type": "error",
     "traceback": [
      "\u001b[0;31m---------------------------------------------------------------------------\u001b[0m",
      "\u001b[0;31mNameError\u001b[0m                                 Traceback (most recent call last)",
      "\u001b[0;32m<ipython-input-7-81b6246f4a55>\u001b[0m in \u001b[0;36m<module>\u001b[0;34m()\u001b[0m\n\u001b[0;32m----> 1\u001b[0;31m \u001b[0mpmTrain\u001b[0m \u001b[0;34m=\u001b[0m \u001b[0mpd\u001b[0m\u001b[0;34m.\u001b[0m\u001b[0mmerge\u001b[0m\u001b[0;34m(\u001b[0m\u001b[0mpacerData\u001b[0m\u001b[0;34m,\u001b[0m \u001b[0mtrainDF\u001b[0m\u001b[0;34m[\u001b[0m\u001b[0mlist\u001b[0m\u001b[0;34m(\u001b[0m\u001b[0mset\u001b[0m\u001b[0;34m(\u001b[0m\u001b[0mmetaColumns\u001b[0m\u001b[0;34m)\u001b[0m\u001b[0;34m)\u001b[0m\u001b[0;34m]\u001b[0m\u001b[0;34m.\u001b[0m\u001b[0mdrop\u001b[0m\u001b[0;34m(\u001b[0m\u001b[0mcolumns\u001b[0m\u001b[0;34m=\u001b[0m\u001b[0;34m[\u001b[0m\u001b[0;34m'Success'\u001b[0m\u001b[0;34m]\u001b[0m\u001b[0;34m)\u001b[0m\u001b[0;34m,\u001b[0m \u001b[0mon\u001b[0m\u001b[0;34m=\u001b[0m\u001b[0;34m'ContestId'\u001b[0m\u001b[0;34m,\u001b[0m \u001b[0mhow\u001b[0m\u001b[0;34m=\u001b[0m\u001b[0;34m'inner'\u001b[0m\u001b[0;34m)\u001b[0m\u001b[0;34m.\u001b[0m\u001b[0mdropna\u001b[0m\u001b[0;34m(\u001b[0m\u001b[0;34m)\u001b[0m\u001b[0;34m\u001b[0m\u001b[0m\n\u001b[0m\u001b[1;32m      2\u001b[0m \u001b[0mpmTest\u001b[0m \u001b[0;34m=\u001b[0m \u001b[0mpd\u001b[0m\u001b[0;34m.\u001b[0m\u001b[0mmerge\u001b[0m\u001b[0;34m(\u001b[0m\u001b[0mpacerData\u001b[0m\u001b[0;34m,\u001b[0m \u001b[0mtestDF\u001b[0m\u001b[0;34m[\u001b[0m\u001b[0mlist\u001b[0m\u001b[0;34m(\u001b[0m\u001b[0mset\u001b[0m\u001b[0;34m(\u001b[0m\u001b[0mmetaColumns\u001b[0m\u001b[0;34m)\u001b[0m\u001b[0;34m)\u001b[0m\u001b[0;34m]\u001b[0m\u001b[0;34m.\u001b[0m\u001b[0mdrop\u001b[0m\u001b[0;34m(\u001b[0m\u001b[0mcolumns\u001b[0m\u001b[0;34m=\u001b[0m\u001b[0;34m[\u001b[0m\u001b[0;34m'Success'\u001b[0m\u001b[0;34m]\u001b[0m\u001b[0;34m)\u001b[0m\u001b[0;34m,\u001b[0m \u001b[0mon\u001b[0m\u001b[0;34m=\u001b[0m\u001b[0;34m'ContestId'\u001b[0m\u001b[0;34m,\u001b[0m \u001b[0mhow\u001b[0m\u001b[0;34m=\u001b[0m\u001b[0;34m'inner'\u001b[0m\u001b[0;34m)\u001b[0m\u001b[0;34m.\u001b[0m\u001b[0mdropna\u001b[0m\u001b[0;34m(\u001b[0m\u001b[0;34m)\u001b[0m\u001b[0;34m\u001b[0m\u001b[0m\n\u001b[1;32m      3\u001b[0m \u001b[0mpmTrain\u001b[0m \u001b[0;34m=\u001b[0m \u001b[0mlimitVal\u001b[0m\u001b[0;34m(\u001b[0m\u001b[0mpmTrain\u001b[0m\u001b[0;34m,\u001b[0m \u001b[0mignore\u001b[0m\u001b[0;34m=\u001b[0m\u001b[0mmetaColumns\u001b[0m\u001b[0;34m,\u001b[0m \u001b[0mN\u001b[0m\u001b[0;34m=\u001b[0m\u001b[0;36m1.\u001b[0m\u001b[0;34m)\u001b[0m\u001b[0;34m\u001b[0m\u001b[0m\n\u001b[1;32m      4\u001b[0m \u001b[0mpmTest\u001b[0m \u001b[0;34m=\u001b[0m \u001b[0mlimitVal\u001b[0m\u001b[0;34m(\u001b[0m\u001b[0mpmTest\u001b[0m\u001b[0;34m,\u001b[0m \u001b[0mignore\u001b[0m\u001b[0;34m=\u001b[0m\u001b[0mmetaColumns\u001b[0m\u001b[0;34m,\u001b[0m \u001b[0mN\u001b[0m\u001b[0;34m=\u001b[0m\u001b[0;36m1.\u001b[0m\u001b[0;34m)\u001b[0m\u001b[0;34m\u001b[0m\u001b[0m\n",
      "\u001b[0;31mNameError\u001b[0m: name 'pacerData' is not defined"
     ]
    }
   ],
   "source": [
    "pmTrain = pd.merge(pacerData, trainDF[list(set(metaColumns))].drop(columns=['Success']), on='ContestId', how='inner').dropna()\n",
    "pmTest = pd.merge(pacerData, testDF[list(set(metaColumns))].drop(columns=['Success']), on='ContestId', how='inner').dropna()\n",
    "pmTrain = limitVal(pmTrain, ignore=metaColumns, N=1.)\n",
    "pmTest = limitVal(pmTest, ignore=metaColumns, N=1.)"
   ]
  },
  {
   "cell_type": "code",
   "execution_count": null,
   "metadata": {},
   "outputs": [],
   "source": [
    "pmCLFS = EnsembleWithMinAcc(pmTrain, RandomForestClassifier, accuracy = .6)\n",
    "pmPreds = avgVal(getEnsPred(pmTest, pmCLFS))\n",
    "pmEnsembleRates =  getRate(pmPreds, 'AvgPred', label='Ensemble of Pacer+Meta Prediction')"
   ]
  },
  {
   "cell_type": "code",
   "execution_count": null,
   "metadata": {},
   "outputs": [],
   "source": [
    "fpTrain = pd.merge(pacerData, trainDF[list(set(metaColumns+kfsColumns+lrsColumns))].drop(columns=['Success']), on='ContestId', how='inner').dropna()\n",
    "fpTest = pd.merge(pacerData, testDF[list(set(metaColumns+kfsColumns+lrsColumns))].drop(columns=['Success']), on='ContestId', how='inner').dropna()\n",
    "fpTrain = limitVal(fpTrain, ignore=metaColumns, N=1.)\n",
    "fpTest = limitVal(fpTest, ignore=metaColumns, N=1.)"
   ]
  },
  {
   "cell_type": "code",
   "execution_count": null,
   "metadata": {},
   "outputs": [],
   "source": [
    "fpCLFS = EnsembleWithMinAcc(fpTrain, RandomForestClassifier, accuracy = .6)\n",
    "fpPreds = avgVal(getEnsPred(fpTest, fpCLFS))\n",
    "fpEnsembleRates =  getRate(fpPreds, 'AvgPred', label='Ensemble of Pacer+KFS+LRS+Meta Prediction')"
   ]
  },
  {
   "cell_type": "code",
   "execution_count": null,
   "metadata": {},
   "outputs": [],
   "source": [
    "plotRocs([baselineRates, fpEnsembleRates, pmEnsembleRates, lrkfsMetaEnsembleRates, lrkfMetaEnsembleRates])"
   ]
  },
  {
   "cell_type": "markdown",
   "metadata": {},
   "source": [
    "### Big Contests"
   ]
  },
  {
   "cell_type": "code",
   "execution_count": null,
   "metadata": {},
   "outputs": [],
   "source": [
    "combinedColumns = list(set(metaColumns+kfsColumns+lrsColumns))\n",
    "combinedTrain, combinedTest = trainDF[combinedColumns], testDF[combinedColumns]\n",
    "combinedTrain, combinedTest = limitVal(combinedTrain, ignore=metaColumns,  N=1.).dropna(), limitVal(combinedTest, ignore=metaColumns,  N=1.).dropna()"
   ]
  },
  {
   "cell_type": "code",
   "execution_count": null,
   "metadata": {},
   "outputs": [],
   "source": [
    "cCLFS = EnsembleWithMinAcc(combinedTrain, RandomForestClassifier, accuracy = .6)"
   ]
  },
  {
   "cell_type": "code",
   "execution_count": null,
   "metadata": {},
   "outputs": [],
   "source": [
    "threshold = 1000\n",
    "bigIds = fullContests[fullContests['MaxNumberPlayers']>threshold][[]]\n",
    "bigTest = combinedTest[combinedTest.index.isin(bigIds.index)]\n",
    "smallIds = fullContests[fullContests['MaxNumberPlayers']<threshold][[]]\n",
    "smallTest = combinedTest[combinedTest.index.isin(smallIds.index)]"
   ]
  },
  {
   "cell_type": "code",
   "execution_count": null,
   "metadata": {},
   "outputs": [],
   "source": [
    "bigRate = getRate(avgVal(getEnsPred(bigTest, cCLFS)), 'AvgPred', label=('Ensemble on Contests > '+str(threshold)))\n",
    "smallRate = getRate(avgVal(getEnsPred(smallTest, cCLFS)), 'AvgPred', label=('Ensemble on Contests < '+str(threshold)))\n",
    "normalRate = getRate(avgVal(getEnsPred(combinedTest, cCLFS)), 'AvgPred', label='Ensemble on all Contests')"
   ]
  },
  {
   "cell_type": "code",
   "execution_count": null,
   "metadata": {},
   "outputs": [],
   "source": [
    "plotRocs([bigRate, smallRate, normalRate])"
   ]
  },
  {
   "cell_type": "markdown",
   "metadata": {},
   "source": [
    "### Sport Comparison"
   ]
  },
  {
   "cell_type": "code",
   "execution_count": null,
   "metadata": {},
   "outputs": [],
   "source": [
    "combinedColumns = list(set(metaColumns+kfsColumns+lrsColumns))\n",
    "combinedTrain, combinedTest = trainDF[combinedColumns], testDF[combinedColumns]\n",
    "combinedTrain, combinedTest = limitVal(combinedTrain, ignore=metaColumns,  N=1.).dropna(), limitVal(combinedTest, ignore=metaColumns,  N=1.).dropna()"
   ]
  },
  {
   "cell_type": "code",
   "execution_count": null,
   "metadata": {},
   "outputs": [],
   "source": [
    "sportCLFS = EnsembleWithMinAcc(combinedTrain, RandomForestClassifier, accuracy = .6)"
   ]
  },
  {
   "cell_type": "code",
   "execution_count": null,
   "metadata": {},
   "outputs": [],
   "source": [
    "sportIds = []\n",
    "for sport in fullContests['SportName'].unique():\n",
    "    sportDF = fullContests[fullContests['SportName']==sport][[]]\n",
    "    sportIds.append({'Sport':sport, 'df':sportDF})"
   ]
  },
  {
   "cell_type": "code",
   "execution_count": null,
   "metadata": {},
   "outputs": [],
   "source": [
    "for sportObj in sportIds:\n",
    "    sportTestDF = combinedTest[combinedTest.index.isin(sportObj['df'].index)]\n",
    "    sportObj['testDF'] = sportTestDF\n",
    "#     print(sportObj['Sport']+\":\\t\", len(sportTestDF))"
   ]
  },
  {
   "cell_type": "code",
   "execution_count": null,
   "metadata": {},
   "outputs": [],
   "source": [
    "for sportObj in sportIds:\n",
    "    sportObj['preds'] = avgVal(getEnsPred(sportObj['testDF'], sportCLFS))\n",
    "    sportObj['rates'] = getRate(sportObj['preds'], 'AvgPred', label=sportObj['Sport'])"
   ]
  },
  {
   "cell_type": "code",
   "execution_count": null,
   "metadata": {},
   "outputs": [],
   "source": [
    "threshold = 2000\n",
    "sportRates = []\n",
    "for sportObj in sportIds:\n",
    "    if(len(sportObj['testDF'])>threshold):\n",
    "        sportRates.append(sportObj['rates'])\n",
    "plotRocs(sportRates)"
   ]
  },
  {
   "cell_type": "code",
   "execution_count": null,
   "metadata": {},
   "outputs": [],
   "source": [
    "# threshold = 500\n",
    "# sportRates = []\n",
    "# for sportObj in sportIds:\n",
    "#     if(len(sportObj['testDF'])<threshold):\n",
    "#         sportRates.append(sportObj['rates'])\n",
    "# plotRocs(sportRates)"
   ]
  },
  {
   "cell_type": "code",
   "execution_count": null,
   "metadata": {},
   "outputs": [],
   "source": [
    "# plotRocs(sportRates)"
   ]
  },
  {
   "cell_type": "markdown",
   "metadata": {},
   "source": [
    "### Pacer Sport Comparison"
   ]
  },
  {
   "cell_type": "code",
   "execution_count": null,
   "metadata": {
    "scrolled": true
   },
   "outputs": [],
   "source": [
    "pacerData = pd.read_csv('data/DK_Pacer_Success.csv').set_index('ContestId')\n",
    "# pacerData.columns"
   ]
  },
  {
   "cell_type": "code",
   "execution_count": null,
   "metadata": {},
   "outputs": [],
   "source": [
    "pTrain = pd.merge(pacerData, trainDF[metaColumns].drop(columns=['Success']), on='ContestId', how='inner').dropna()\n",
    "pTest = pd.merge(pacerData, testDF[metaColumns].drop(columns=['Success']), on='ContestId', how='inner').dropna()"
   ]
  },
  {
   "cell_type": "code",
   "execution_count": null,
   "metadata": {},
   "outputs": [],
   "source": [
    "pSportCLFS = EnsembleWithMinAcc(pTrain, RandomForestClassifier, accuracy = .6)"
   ]
  },
  {
   "cell_type": "code",
   "execution_count": null,
   "metadata": {},
   "outputs": [],
   "source": [
    "pSportIds = []\n",
    "for sport in fullContests['SportName'].unique():\n",
    "    pSportDF = fullContests[fullContests['SportName']==sport][[]]\n",
    "#     print(len(pSportDF))\n",
    "    pSportIds.append({'Sport':sport, 'df':pSportDF})"
   ]
  },
  {
   "cell_type": "code",
   "execution_count": null,
   "metadata": {},
   "outputs": [],
   "source": [
    "for pSportObj in pSportIds:\n",
    "    pSportTestDF = pTest[pTest.index.isin(pSportObj['df'].index)]\n",
    "    pSportObj['testDF'] = pSportTestDF\n",
    "#     print(len(pSportTestDF))\n",
    "#     print(sportObj['Sport']+\":\\t\", len(sportTestDF))"
   ]
  },
  {
   "cell_type": "code",
   "execution_count": null,
   "metadata": {},
   "outputs": [],
   "source": [
    "# pSportIds[7]"
   ]
  },
  {
   "cell_type": "code",
   "execution_count": null,
   "metadata": {},
   "outputs": [],
   "source": [
    "for pSportObj in pSportIds:\n",
    "    if(len(pSportObj['testDF'])> 0):\n",
    "        pSportObj['preds'] = avgVal(getEnsPred(pSportObj['testDF'], pSportCLFS))\n",
    "        pSportObj['rates'] = getRate(pSportObj['preds'], 'AvgPred', label=pSportObj['Sport']+' Pacer')"
   ]
  },
  {
   "cell_type": "code",
   "execution_count": null,
   "metadata": {},
   "outputs": [],
   "source": [
    "# pSportIds[0]"
   ]
  },
  {
   "cell_type": "code",
   "execution_count": null,
   "metadata": {
    "scrolled": false
   },
   "outputs": [],
   "source": [
    "threshold = 2000\n",
    "pSportRates = []\n",
    "for pSportObj in pSportIds:\n",
    "    if(len(pSportObj['testDF'])>threshold):\n",
    "        pSportRates.append(pSportObj['rates'])\n",
    "plotRocs(pSportRates)"
   ]
  },
  {
   "cell_type": "code",
   "execution_count": null,
   "metadata": {},
   "outputs": [],
   "source": [
    "def getSportObj(objs, sportName):\n",
    "    for obj in objs:\n",
    "        if(obj['Sport']==sportName):\n",
    "            return obj"
   ]
  },
  {
   "cell_type": "code",
   "execution_count": null,
   "metadata": {},
   "outputs": [],
   "source": [
    "sportName = \"MLB\"\n",
    "pObj = getSportObj(pSportIds, sportName)\n",
    "obj = getSportObj(sportIds, sportName)\n",
    "plotRocs([pObj['rates'], obj['rates']])"
   ]
  },
  {
   "cell_type": "markdown",
   "metadata": {},
   "source": [
    "### Removing TooShort"
   ]
  },
  {
   "cell_type": "code",
   "execution_count": null,
   "metadata": {},
   "outputs": [],
   "source": [
    "tooShortDF = pd.read_csv('data/LR_Scaled_Values.csv').set_index('ContestId')\n",
    "tooShortIds = tooShortDF[tooShortDF['f10A']=='TooShort'].index"
   ]
  },
  {
   "cell_type": "code",
   "execution_count": null,
   "metadata": {},
   "outputs": [],
   "source": [
    "kfsColumns = list(kfsResultsDF.columns.drop('ContestId'))\n",
    "kfsColumns.append('Success')\n",
    "kfsTrain, kfsTest = trainDF[kfsColumns], testDF[kfsColumns]"
   ]
  },
  {
   "cell_type": "code",
   "execution_count": null,
   "metadata": {},
   "outputs": [],
   "source": [
    "kfsCLFS = EnsembleWithMinAcc(limitVal(kfsTrain, N=1.), RandomForestClassifier, accuracy = .6)\n",
    "kfsPreds = avgVal(getEnsPred(limitVal(kfsTest, N=1.), kfsCLFS))"
   ]
  },
  {
   "cell_type": "code",
   "execution_count": null,
   "metadata": {},
   "outputs": [],
   "source": [
    "kfsEnsembleRates =  getRate(kfsPreds, 'AvgPred', label='Ensemble of SCALED KFS Prediction')\n",
    "plotRocThreshold(kfsEnsembleRates)"
   ]
  },
  {
   "cell_type": "code",
   "execution_count": null,
   "metadata": {},
   "outputs": [],
   "source": [
    "kfsTrain2, kfsTest2 = kfsTrain[~kfsTrain.index.isin(tooShortIds)], kfsTest[~kfsTest.index.isin(tooShortIds)]"
   ]
  },
  {
   "cell_type": "code",
   "execution_count": null,
   "metadata": {},
   "outputs": [],
   "source": [
    "kfsCLFS2 = EnsembleWithMinAcc(limitVal(kfsTrain2, N=1.), RandomForestClassifier, accuracy = .6)\n",
    "kfsPreds2 = avgVal(getEnsPred(limitVal(kfsTest2, N=1.), kfsCLFS2))"
   ]
  },
  {
   "cell_type": "code",
   "execution_count": null,
   "metadata": {},
   "outputs": [],
   "source": [
    "kfsEnsembleRates2 =  getRate(kfsPreds2, 'AvgPred', label='Ensemble of BIG ENOUGH SCALED KFS Prediction')\n",
    "plotRocThreshold(kfsEnsembleRates2)"
   ]
  },
  {
   "cell_type": "code",
   "execution_count": null,
   "metadata": {},
   "outputs": [],
   "source": [
    "plotRocs([kfsEnsembleRates, kfsEnsembleRates2])"
   ]
  }
 ],
 "metadata": {
  "kernelspec": {
   "display_name": "Python 3",
   "language": "python",
   "name": "python3"
  },
  "language_info": {
   "codemirror_mode": {
    "name": "ipython",
    "version": 3
   },
   "file_extension": ".py",
   "mimetype": "text/x-python",
   "name": "python",
   "nbconvert_exporter": "python",
   "pygments_lexer": "ipython3",
   "version": "3.6.5"
  }
 },
 "nbformat": 4,
 "nbformat_minor": 2
}

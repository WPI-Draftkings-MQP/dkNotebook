{
 "cells": [
  {
   "cell_type": "markdown",
   "metadata": {},
   "source": [
    "Initially, the data was separated by month. This meant that if a single contests started on the last day of the month and continued into the next month, its data would be in two separate places. This file reorganizes the data into chunks, so that the entirety of each contest fits in its chunk\n",
    "\n",
    "This also generates a ChunkMap that contest IDs the chunk that the time series data for each contest is in."
   ]
  },
  {
   "cell_type": "code",
   "execution_count": 1,
   "metadata": {},
   "outputs": [],
   "source": [
    "import numpy as np\n",
    "import pandas as pd\n",
    "import os\n",
    "import matplotlib.pyplot as plt\n",
    "from ipywidgets import IntProgress"
   ]
  },
  {
   "cell_type": "code",
   "execution_count": 2,
   "metadata": {},
   "outputs": [],
   "source": [
    "dirList = os.listdir(\"data/Chunks_Raw/\")\n",
    "fList = []\n",
    "for filename in dirList: \n",
    "    if(filename[-4:] == '.csv'): #limit to .csv files\n",
    "        fList.append(filename[:]) "
   ]
  },
  {
   "cell_type": "code",
   "execution_count": 3,
   "metadata": {},
   "outputs": [
    {
     "data": {
      "application/vnd.jupyter.widget-view+json": {
       "model_id": "a8f47512320f4f80881683a3224257c0",
       "version_major": 2,
       "version_minor": 0
      },
      "text/plain": [
       "IntProgress(value=0, max=42)"
      ]
     },
     "metadata": {},
     "output_type": "display_data"
    },
    {
     "data": {
      "text/plain": [
       "Text(0,0.5,'File#')"
      ]
     },
     "execution_count": 3,
     "metadata": {},
     "output_type": "execute_result"
    },
    {
     "data": {
      "image/png": "[encoded data removed]",
      "text/plain": [
       "<Figure size 432x288 with 1 Axes>"
      ]
     },
     "metadata": {},
     "output_type": "display_data"
    }
   ],
   "source": [
    "## This combines all available chunks into a single dataframe\n",
    "f = IntProgress(min=0, max=len(fList))\n",
    "display(f)\n",
    "\n",
    "i = 0\n",
    "allIDs = []\n",
    "empty=True\n",
    "fullDF = -1\n",
    "for file in fList[:]:\n",
    "    i+=1\n",
    "    fDF = pd.read_csv(\"data/Chunks_Raw/\"+file)\n",
    "    fDF.columns = ['ContestId', 'MinutesRemaining', 'Entries']\n",
    "    if(empty):\n",
    "        fullDF = fDF\n",
    "        empty = False\n",
    "    else:\n",
    "        fullDF = pd.concat([fullDF,fDF])\n",
    "    ids = fDF.ContestId.unique()\n",
    "    allIDs = allIDs + list(ids)\n",
    "    ammounts = [i]*len(ids)\n",
    "    plt.scatter(ids, ammounts)\n",
    "    f.value+= 1\n",
    "plt.xlabel(\"IDs\")\n",
    "plt.ylabel(\"File#\")"
   ]
  },
  {
   "cell_type": "code",
   "execution_count": 4,
   "metadata": {},
   "outputs": [],
   "source": [
    "## This method will take a list and separate it into a two dimensional list \n",
    "## where the inner lists have no more than N\n",
    "def chunkify(l, n):\n",
    "    for i in range(0, len(l), n):\n",
    "        yield l[i:i + n]"
   ]
  },
  {
   "cell_type": "code",
   "execution_count": 8,
   "metadata": {},
   "outputs": [
    {
     "data": {
      "application/vnd.jupyter.widget-view+json": {
       "model_id": "d544af1959f44d56a16a465b1baa2256",
       "version_major": 2,
       "version_minor": 0
      },
      "text/plain": [
       "IntProgress(value=0, max=65)"
      ]
     },
     "metadata": {},
     "output_type": "display_data"
    }
   ],
   "source": [
    "## Splits the huge DF of data into individual DFs of 10000\n",
    "i = 0\n",
    "idMap, dfChunks = {}, []\n",
    "chunks = list(chunkify(allIDs, 10000))\n",
    "\n",
    "f = IntProgress(min=0, max=len(chunks))\n",
    "display(f)\n",
    "\n",
    "for chunk in chunks[:]:\n",
    "    i += 1\n",
    "    idMap[\"chunk\"+str(i)] = chunk\n",
    "    subDF = fullDF[fullDF['ContestId'].isin(chunk)]\n",
    "    dfChunks.append(subDF)\n",
    "    f.value += 1"
   ]
  },
  {
   "cell_type": "code",
   "execution_count": 9,
   "metadata": {},
   "outputs": [
    {
     "data": {
      "text/plain": [
       "Text(0,0.5,'Number of entries')"
      ]
     },
     "execution_count": 9,
     "metadata": {},
     "output_type": "execute_result"
    },
    {
     "data": {
      "image/png": "[encoded data removed]",
      "text/plain": [
       "<Figure size 432x288 with 1 Axes>"
      ]
     },
     "metadata": {},
     "output_type": "display_data"
    }
   ],
   "source": [
    "## Graph of Number of entries per file\n",
    "fileNum, count = [], []\n",
    "i = 0\n",
    "for df in dfChunks:\n",
    "    i+=1\n",
    "    fileNum.append(i)\n",
    "    count.append(len(df))\n",
    "plt.scatter(fileNum, count)\n",
    "plt.xlabel(\"FileNum\")\n",
    "plt.ylabel(\"Number of entries\")"
   ]
  },
  {
   "cell_type": "code",
   "execution_count": 7,
   "metadata": {},
   "outputs": [],
   "source": [
    "i = 0\n",
    "for df in dfChunks:\n",
    "    i+=1\n",
    "    df.to_csv(\"Data/Chunks/chunk\"+str(i)+\".csv\")"
   ]
  },
  {
   "cell_type": "code",
   "execution_count": 8,
   "metadata": {},
   "outputs": [],
   "source": [
    "fullMap = []\n",
    "for m in list(idMap.keys()):\n",
    "    idMap[m]\n",
    "    for cid in idMap[m]:\n",
    "        fullMap.append({\"ContestId\": cid, \"Chunk\": m})"
   ]
  },
  {
   "cell_type": "code",
   "execution_count": 9,
   "metadata": {},
   "outputs": [],
   "source": [
    "mapDF =  pd.DataFrame(fullMap).set_index(\"ContestId\")"
   ]
  },
  {
   "cell_type": "code",
   "execution_count": 10,
   "metadata": {},
   "outputs": [],
   "source": [
    "mapDF.to_csv('data/ChunkMap.csv')"
   ]
  }
 ],
 "metadata": {
  "kernelspec": {
   "display_name": "Python 3",
   "language": "python",
   "name": "python3"
  },
  "language_info": {
   "codemirror_mode": {
    "name": "ipython",
    "version": 3
   },
   "file_extension": ".py",
   "mimetype": "text/x-python",
   "name": "python",
   "nbconvert_exporter": "python",
   "pygments_lexer": "ipython3",
   "version": "3.6.5"
  }
 },
 "nbformat": 4,
 "nbformat_minor": 2
}

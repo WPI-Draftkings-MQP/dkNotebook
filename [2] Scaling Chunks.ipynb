{
 "cells": [
  {
   "cell_type": "code",
   "execution_count": 1,
   "metadata": {},
   "outputs": [],
   "source": [
    "import numpy as np\n",
    "import pandas as pd\n",
    "import os\n",
    "from ipywidgets import IntProgress\n",
    "from matplotlib import pyplot as plt"
   ]
  },
  {
   "cell_type": "code",
   "execution_count": 2,
   "metadata": {},
   "outputs": [],
   "source": [
    "contests = pd.read_csv('data/WorkingData.csv').set_index('ContestId')[['MaxNumberPlayers']]"
   ]
  },
  {
   "cell_type": "code",
   "execution_count": 3,
   "metadata": {},
   "outputs": [],
   "source": [
    "dirList = os.listdir(\"data/Chunks/\")\n",
    "fList = []\n",
    "for filename in dirList: #limit to .csv\n",
    "    if(filename[-4:] == '.csv'):\n",
    "        fList.append(filename[:]) "
   ]
  },
  {
   "cell_type": "code",
   "execution_count": 18,
   "metadata": {
    "scrolled": false
   },
   "outputs": [
    {
     "name": "stdout",
     "output_type": "stream",
     "text": [
      "Chunks:\n"
     ]
    },
    {
     "data": {
      "application/vnd.jupyter.widget-view+json": {
       "model_id": "750d144ec27540bd9db1ed9d1cd551fd",
       "version_major": 2,
       "version_minor": 0
      },
      "text/plain": [
       "IntProgress(value=0, max=65)"
      ]
     },
     "metadata": {},
     "output_type": "display_data"
    }
   ],
   "source": [
    "f = IntProgress(min=0, max=len(fList))\n",
    "print('Chunks:')\n",
    "display(f)\n",
    "importantColumns = ['ContestId', 'EntriesScaled']\n",
    "for fileName in fList[:]:\n",
    "    data = pd.read_csv('data/Chunks/'+fileName).drop(columns=['Unnamed: 0'])\n",
    "    curContests = contests[contests.index.isin(data.ContestId.unique())]\n",
    "    data = pd.merge(data, curContests, on=\"ContestId\", how='left')\n",
    "    data = data.sort_values(by='MinutesRemaining', ascending=False)\n",
    "    data['SummedEntries'] = data.groupby('ContestId')['Entries'].transform(pd.Series.cumsum)\n",
    "    data['EntriesScaled'] = data['SummedEntries'] / data['MaxNumberPlayers']\n",
    "    maxTimes = pd.DataFrame(data.groupby('ContestId')['MinutesRemaining'].max())\n",
    "    maxTimes = maxTimes.rename(columns={'MinutesRemaining':'MaxTime'})\n",
    "    data = pd.merge(data, maxTimes, on='ContestId', how='left')\n",
    "    data['TimeScaled'] = (data['MaxTime'] - data['MinutesRemaining']) / data['MaxTime']\n",
    "    data['Before4HoursOut'] = data['MinutesRemaining'] >= 240\n",
    "    chunkDF = data[['ContestId', 'EntriesScaled', 'TimeScaled', 'Before4HoursOut']].set_index('ContestId')\n",
    "    chunkDF = chunkDF.assign(EntriesScaled = chunkDF['EntriesScaled']*100)\n",
    "    chunkDF = chunkDF.assign(TimeScaled = chunkDF['TimeScaled']*100)\n",
    "    chunkDF.dropna().to_csv('data/Chunks_Scaled/'+fileName)\n",
    "    f.value+=1"
   ]
  },
  {
   "cell_type": "code",
   "execution_count": null,
   "metadata": {},
   "outputs": [],
   "source": []
  }
 ],
 "metadata": {
  "kernelspec": {
   "display_name": "Python 3",
   "language": "python",
   "name": "python3"
  },
  "language_info": {
   "codemirror_mode": {
    "name": "ipython",
    "version": 3
   },
   "file_extension": ".py",
   "mimetype": "text/x-python",
   "name": "python",
   "nbconvert_exporter": "python",
   "pygments_lexer": "ipython3",
   "version": "3.6.5"
  }
 },
 "nbformat": 4,
 "nbformat_minor": 2
}

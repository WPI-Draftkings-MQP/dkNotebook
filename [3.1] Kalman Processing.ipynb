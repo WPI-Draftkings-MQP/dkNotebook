{
 "cells": [
  {
   "cell_type": "markdown",
   "metadata": {},
   "source": [
    "We are using an Extended Kalman Filter to model the time series data to the equation:\n",
    "\\begin{align}\n",
    "y=Ae^{Bx}\n",
    "\\end{align}\n",
    "\n",
    "We use the extended Kalman Filter in order to model the data to an exponential without taking the log of the data. \n",
    "\n",
    "We feed the time series data into the kalman filter with varying Q and R parameters and recieve an A and B value for the modeled equation for each.\n",
    "\n",
    "The Q and R values used are stored in 'data/QR_Values.csv'"
   ]
  },
  {
   "cell_type": "code",
   "execution_count": 3,
   "metadata": {},
   "outputs": [],
   "source": [
    "import pandas as pd\n",
    "import numpy as np\n",
    "\n",
    "from ipywidgets import IntProgress"
   ]
  },
  {
   "cell_type": "code",
   "execution_count": 4,
   "metadata": {},
   "outputs": [],
   "source": [
    "chunkMapDF = pd.read_csv('data/ChunkMap.csv')\n",
    "qrVals = pd.read_csv('data/QR_Values.csv')"
   ]
  },
  {
   "cell_type": "code",
   "execution_count": 5,
   "metadata": {},
   "outputs": [],
   "source": [
    "# Kalman Filters need very specific parameters. The only values we changer per KF are the Q values. \n",
    "# As such, we only need to provide X, Y, and two Q values to get the parameters necessary\n",
    "def kParameters(X, Y, QA, QB):\n",
    "    random_state = np.random.RandomState(0)\n",
    "    F = np.eye(2) #Transition Matrix (Identity Matrix)\n",
    "    Z = Y #Observation matrix\n",
    "    X0 = [[4.], [.0023]] #Inital parameters guess\n",
    "    P0 = (np.eye(2) + random_state.randn(2, 2)*.1)*100*np.eye(2) #Covariance Matrix (The confidence in our prediction)\n",
    "    R = 1\n",
    "    Q = [[QA,0.],[0.,QB]]\n",
    "    w = np.random.multivariate_normal([0., 0.], Q)\n",
    "    return {'random_state':random_state, 'F':F, 'Z':Z, 'X0':X0, 'P0':P0, 'R':R, 'Q':Q, 'w':w}\n",
    "\n",
    "# Calculates the A and B values from Ae^Bx for a specific X/Y dataset, based on parameters\n",
    "# The extended version fits an exponential directly, while non-extended fits linearly and can be \n",
    "# converted back to the exponential model.\n",
    "def kalmanFilter(X, Y, parameters, extended=True):\n",
    "    Xs = []\n",
    "    \n",
    "    Pk = parameters['P0'] \n",
    "    Xk = parameters['X0'] \n",
    "    for n in range(0, len(X)):\n",
    "        time, actual = X[n], Y[n]\n",
    "        Pk = Pk + parameters[\"Q\"]\n",
    "                  \n",
    "        Hk, Zk = 0, 0\n",
    "        if(extended):\n",
    "            part1 = np.exp(Xk[1][0]*time)\n",
    "            Hk = [part1, part1*(Xk[0][0]*time)]\n",
    "            Zk = Xk[0][0]*np.exp(Xk[1][0]*time)\n",
    "        else:\n",
    "            Hk = [1., time]\n",
    "            Zk = np.dot(Hk, Xk) + np.random.normal(loc=0., scale=parameters['R']) \n",
    "        \n",
    "        Yk = actual - Zk # residuals\n",
    "        transposedH = [[Hk[0]],[Hk[1]]]\n",
    "        Sk = np.dot(np.dot(Hk, Pk), transposedH)[0]+parameters['R']\n",
    "        Kk = np.dot(Pk, transposedH)*(1/Sk)\n",
    "        Xnext = Xk + Kk*Yk        \n",
    "        p_part = (np.eye(2)-np.outer(Kk, Hk))\n",
    "        Pnext = np.dot(p_part, Pk)\n",
    "        Xs.append([Xk[0][0], Xk[1][0]])\n",
    "        #Set new vars based on current observation\n",
    "        Pk = Pnext\n",
    "        Xk = Xnext\n",
    "    if(len(Xs)==0):\n",
    "        if(len(X) <240):\n",
    "            return ['TooShort', 'TooShort']\n",
    "        else:\n",
    "            return [np.nan,np.nan]\n",
    "    return Xs[-1:][0]"
   ]
  },
  {
   "cell_type": "markdown",
   "metadata": {},
   "source": [
    "### Unscaled Version"
   ]
  },
  {
   "cell_type": "code",
   "execution_count": 6,
   "metadata": {},
   "outputs": [],
   "source": [
    "chunkNames = chunkMapDF['Chunk'].unique()[:]\n",
    "\n",
    "chunkBar = IntProgress(min=0, max=len(chunkNames))\n",
    "contestBar = IntProgress(min=0, max=10000)\n",
    "\n",
    "print(\"Chunks:\")\n",
    "display(chunkBar)\n",
    "\n",
    "print(\"Contests:\")\n",
    "display(contestBar)\n",
    "\n",
    "results = []\n",
    "\n",
    "for chunkName in chunkNames:\n",
    "    print(chunkName)\n",
    "    chunkDF = pd.read_csv('data/Chunks/'+chunkName+'.csv').drop(columns=['Unnamed: 0']).sort_values(by=['MinutesRemaining'], ascending=False)\n",
    "    \n",
    "    contests = chunkDF['ContestId'].unique()[:]\n",
    "    contestBar.value=0\n",
    "    contestBar.max = len(contests)\n",
    "    for cid in contests:\n",
    "        cSeriesDF = chunkDF[chunkDF['ContestId']==cid]\n",
    "        numberToRemove = len(cSeriesDF[cSeriesDF['MinutesRemaining']<240])\n",
    "\n",
    "        X = cSeriesDF['MinutesRemaining'].max() - cSeriesDF['MinutesRemaining'][:-numberToRemove]\n",
    "        Y = cSeriesDF['Entries'].cumsum()[:-numberToRemove]\n",
    "        X, Y = list(X), list(Y)        \n",
    "        count = 0\n",
    "        contest = {'ContestId':cid}\n",
    "        for ID, qrObj in qrVals.iterrows():\n",
    "            label = qrObj['label']\n",
    "            P = kParameters(X, Y, float(qrObj['Q1']), float(qrObj['Q2']))\n",
    "            val = kalmanFilter(X, Y, P)  \n",
    "            \n",
    "            contest['A'+label] = val[0]\n",
    "            contest['B'+label] = val[1]\n",
    "        results.append(contest)\n",
    "        contestBar.value+=1\n",
    "    chunkBar.value+=1\n"
   ]
  },
  {
   "cell_type": "code",
   "execution_count": 207,
   "metadata": {},
   "outputs": [],
   "source": [
    "rDF = pd.DataFrame(results)\n",
    "rDF.to_csv('data/KF_Values.csv')"
   ]
  },
  {
   "cell_type": "markdown",
   "metadata": {},
   "source": [
    "### Scaled Version"
   ]
  },
  {
   "cell_type": "code",
   "execution_count": 7,
   "metadata": {},
   "outputs": [
    {
     "name": "stdout",
     "output_type": "stream",
     "text": [
      "Chunks:\n"
     ]
    },
    {
     "data": {
      "application/vnd.jupyter.widget-view+json": {
       "model_id": "c757b8115bb84dce9924bfd54cb7fd79",
       "version_major": 2,
       "version_minor": 0
      },
      "text/plain": [
       "IntProgress(value=0, max=65)"
      ]
     },
     "metadata": {},
     "output_type": "display_data"
    },
    {
     "name": "stdout",
     "output_type": "stream",
     "text": [
      "Contests:\n"
     ]
    },
    {
     "data": {
      "application/vnd.jupyter.widget-view+json": {
       "model_id": "25e42e0915f2489b9832ef0a524b0eda",
       "version_major": 2,
       "version_minor": 0
      },
      "text/plain": [
       "IntProgress(value=0)"
      ]
     },
     "metadata": {},
     "output_type": "display_data"
    }
   ],
   "source": [
    "chunkNames = chunkMapDF['Chunk'].unique()[:]\n",
    "\n",
    "chunkBar = IntProgress(min=0, max=len(chunkNames))\n",
    "contestBar = IntProgress(min=0, max=100)\n",
    "\n",
    "print(\"Chunks:\")\n",
    "display(chunkBar)\n",
    "\n",
    "print(\"Contests:\")\n",
    "display(contestBar)\n",
    "\n",
    "results = []\n",
    "\n",
    "for chunkName in chunkNames:\n",
    "    print(chunkName)\n",
    "    chunkDF = pd.read_csv('data/Chunks_Scaled/'+chunkName+'.csv')\n",
    "    \n",
    "    contests = chunkDF['ContestId'].unique()[:]\n",
    "    contestBar.value=0\n",
    "    contestBar.max = len(contests)\n",
    "    for cid in contests:\n",
    "        cSeriesDF = chunkDF[chunkDF['ContestId']==cid]\n",
    "        cSeriesDF = cSeriesDF[cSeriesDF['Before4HoursOut']]\n",
    "\n",
    "        X = cSeriesDF['TimeScaled']\n",
    "        Y = cSeriesDF['EntriesScaled']\n",
    "        X, Y = list(X), list(Y)        \n",
    "        count = 0\n",
    "        contest = {'ContestId':cid}\n",
    "        for ID, qrObj in qrVals.iterrows():\n",
    "            label = qrObj['label']\n",
    "            P = kParameters(X, Y, float(qrObj['Q1']), float(qrObj['Q2']))\n",
    "            val = kalmanFilter(X, Y, P)  \n",
    "            \n",
    "            contest['A'+label] = val[0]\n",
    "            contest['B'+label] = val[1]\n",
    "        results.append(contest)\n",
    "        contestBar.value+=1\n",
    "    chunkBar.value+=1\n"
   ]
  },
  {
   "cell_type": "code",
   "execution_count": 13,
   "metadata": {},
   "outputs": [],
   "source": [
    "rDF = pd.DataFrame(results)\n",
    "rDF.to_csv('data/KF_Values.csv')"
   ]
  }
 ],
 "metadata": {
  "kernelspec": {
   "display_name": "Python 3",
   "language": "python",
   "name": "python3"
  },
  "language_info": {
   "codemirror_mode": {
    "name": "ipython",
    "version": 3
   },
   "file_extension": ".py",
   "mimetype": "text/x-python",
   "name": "python",
   "nbconvert_exporter": "python",
   "pygments_lexer": "ipython3",
   "version": "3.6.5"
  }
 },
 "nbformat": 4,
 "nbformat_minor": 2
}

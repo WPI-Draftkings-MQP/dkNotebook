{
 "cells": [
  {
   "cell_type": "code",
   "execution_count": 1,
   "metadata": {},
   "outputs": [],
   "source": [
    "import pandas as pd\n",
    "import numpy as np\n",
    "\n",
    "from ipywidgets import IntProgress\n"
   ]
  },
  {
   "cell_type": "code",
   "execution_count": 2,
   "metadata": {},
   "outputs": [],
   "source": [
    "chunkMapDF = pd.read_csv('data/ChunkMap.csv')\n",
    "qrVals = pd.read_csv('QR_Values.csv')"
   ]
  },
  {
   "cell_type": "code",
   "execution_count": 3,
   "metadata": {},
   "outputs": [],
   "source": [
    "def kParameters(X, Y, QA, QB):\n",
    "    random_state = np.random.RandomState(0)\n",
    "    F = np.eye(2) #Transition Matrix (Identity Matrix)\n",
    "    Z = Y #Observation matrix\n",
    "    X0 = [[4.], [.0023]] #Inital parameters guess (?) <<<< NEED VALUES\n",
    "    P0 = (np.eye(2) + random_state.randn(2, 2)*.1)*100*np.eye(2) #Covariance Matrix (The confidence in our prediction)\n",
    "    R = 1\n",
    "    Q = [[QA,0.],[0.,QB]]\n",
    "    w = np.random.multivariate_normal([0., 0.], Q)\n",
    "    return {'random_state':random_state, 'F':F, 'Z':Z, 'X0':X0, 'P0':P0, 'R':R, 'Q':Q, 'w':w}\n",
    "\n",
    "def kalmanFilter(X, Y, parameters, extended=True):\n",
    "    Xs = []\n",
    "    \n",
    "    Pk = parameters['P0'] \n",
    "    Xk = parameters['X0'] \n",
    "    for n in range(0, len(X)):\n",
    "        time, actual = X[n], Y[n]\n",
    "        Pk = Pk + parameters[\"Q\"]\n",
    "                  \n",
    "        Hk, Zk = 0, 0\n",
    "        if(extended):\n",
    "            part1 = np.exp(Xk[1][0]*time)\n",
    "            Hk = [part1, part1*(Xk[0][0]*time)]\n",
    "            Zk = Xk[0][0]*np.exp(Xk[1][0]*time)\n",
    "        else:\n",
    "            Hk = [1., time]\n",
    "            Zk = np.dot(Hk, Xk) + np.random.normal(loc=0., scale=parameters['R']) #<----- Consider putting Vk instead of R        \n",
    "        \n",
    "        Yk = actual - Zk # residuals\n",
    "        transposedH = [[Hk[0]],[Hk[1]]]\n",
    "        Sk = np.dot(np.dot(Hk, Pk), transposedH)[0]+parameters['R']\n",
    "        Kk = np.dot(Pk, transposedH)*(1/Sk)\n",
    "        Xnext = Xk + Kk*Yk        \n",
    "        p_part = (np.eye(2)-np.outer(Kk, Hk))\n",
    "        Pnext = np.dot(p_part, Pk)\n",
    "        Xs.append([Xk[0][0], Xk[1][0]])\n",
    "        #Set new vars based on current observation\n",
    "        Pk = Pnext\n",
    "        Xk = Xnext\n",
    "    if(len(Xs)==0):\n",
    "        if(len(X) <240):\n",
    "            return ['TooShort', 'TooShort']\n",
    "        else:\n",
    "            return [np.nan,np.nan]\n",
    "    return Xs[-1:][0]"
   ]
  },
  {
   "cell_type": "code",
   "execution_count": null,
   "metadata": {},
   "outputs": [],
   "source": []
  },
  {
   "cell_type": "code",
   "execution_count": null,
   "metadata": {},
   "outputs": [
    {
     "name": "stdout",
     "output_type": "stream",
     "text": [
      "Chunks:\n"
     ]
    },
    {
     "data": {
      "application/vnd.jupyter.widget-view+json": {
       "model_id": "c9dea802513a4b79830204d4ca9f18af",
       "version_major": 2,
       "version_minor": 0
      },
      "text/plain": [
       "IntProgress(value=0, max=65)"
      ]
     },
     "metadata": {},
     "output_type": "display_data"
    },
    {
     "name": "stdout",
     "output_type": "stream",
     "text": [
      "Contests:\n"
     ]
    },
    {
     "data": {
      "application/vnd.jupyter.widget-view+json": {
       "model_id": "dcf226741db04307b2d0ca128a6ccac3",
       "version_major": 2,
       "version_minor": 0
      },
      "text/plain": [
       "IntProgress(value=0, max=10000)"
      ]
     },
     "metadata": {},
     "output_type": "display_data"
    },
    {
     "name": "stdout",
     "output_type": "stream",
     "text": [
      "chunk1\n"
     ]
    },
    {
     "name": "stderr",
     "output_type": "stream",
     "text": [
      "/anaconda3/lib/python3.6/site-packages/ipykernel_launcher.py:33: RuntimeWarning: invalid value encountered in multiply\n",
      "/anaconda3/lib/python3.6/site-packages/ipykernel_launcher.py:24: RuntimeWarning: overflow encountered in double_scalars\n"
     ]
    },
    {
     "name": "stdout",
     "output_type": "stream",
     "text": [
      "chunk2\n"
     ]
    },
    {
     "name": "stderr",
     "output_type": "stream",
     "text": [
      "/anaconda3/lib/python3.6/site-packages/ipykernel_launcher.py:25: RuntimeWarning: overflow encountered in double_scalars\n"
     ]
    },
    {
     "name": "stdout",
     "output_type": "stream",
     "text": [
      "chunk3\n",
      "chunk4\n",
      "chunk5\n",
      "chunk6\n",
      "chunk7\n",
      "chunk8\n",
      "chunk9\n",
      "chunk10\n",
      "chunk11\n",
      "chunk12\n",
      "chunk13\n",
      "chunk14\n",
      "chunk15\n",
      "chunk16\n",
      "chunk17\n",
      "chunk18\n",
      "chunk19\n",
      "chunk20\n",
      "chunk21\n",
      "chunk22\n",
      "chunk23\n",
      "chunk24\n",
      "chunk25\n",
      "chunk26\n",
      "chunk27\n",
      "chunk28\n",
      "chunk29\n",
      "chunk30\n",
      "chunk31\n",
      "chunk32\n",
      "chunk33\n",
      "chunk34\n",
      "chunk35\n",
      "chunk36\n"
     ]
    }
   ],
   "source": [
    "chunkNames = chunkMapDF['Chunk'].unique()[:]\n",
    "\n",
    "chunkBar = IntProgress(min=0, max=len(chunkNames))\n",
    "contestBar = IntProgress(min=0, max=10000)\n",
    "\n",
    "print(\"Chunks:\")\n",
    "display(chunkBar)\n",
    "\n",
    "print(\"Contests:\")\n",
    "display(contestBar)\n",
    "\n",
    "results = []\n",
    "\n",
    "for chunkName in chunkNames:\n",
    "    print(chunkName)\n",
    "    chunkDF = pd.read_csv('data/Chunks/'+chunkName+'.csv').drop(columns=['Unnamed: 0']).sort_values(by=['MinutesRemaining'], ascending=False)\n",
    "    \n",
    "    contests = chunkDF['ContestId'].unique()[:]\n",
    "    contestBar.value=0\n",
    "    contestBar.max = len(contests)\n",
    "    for cid in contests:\n",
    "        cSeriesDF = chunkDF[chunkDF['ContestId']==cid]\n",
    "        numberToRemove = len(cSeriesDF[cSeriesDF['MinutesRemaining']<240])\n",
    "\n",
    "        X = cSeriesDF['MinutesRemaining'].max() - cSeriesDF['MinutesRemaining'][:-numberToRemove]\n",
    "        Y = cSeriesDF['Entries'].cumsum()[:-numberToRemove]\n",
    "        X, Y = list(X), list(Y)        \n",
    "        count = 0\n",
    "        contest = {'ContestId':cid}\n",
    "        for ID, qrObj in qrVals.iterrows():\n",
    "            label = qrObj['label']\n",
    "            P = kParameters(X, Y, float(qrObj['Q1']), float(qrObj['Q2']))\n",
    "            val = kalmanFilter(X, Y, P)  \n",
    "            \n",
    "            contest['A'+label] = val[0]\n",
    "            contest['B'+label] = val[1]\n",
    "        results.append(contest)\n",
    "        contestBar.value+=1\n",
    "    chunkBar.value+=1\n"
   ]
  },
  {
   "cell_type": "code",
   "execution_count": 207,
   "metadata": {},
   "outputs": [],
   "source": [
    "rDF = pd.DataFrame(results)"
   ]
  },
  {
   "cell_type": "code",
   "execution_count": 211,
   "metadata": {},
   "outputs": [
    {
     "data": {
      "text/html": [
       "<div>\n",
       "<style scoped>\n",
       "    .dataframe tbody tr th:only-of-type {\n",
       "        vertical-align: middle;\n",
       "    }\n",
       "\n",
       "    .dataframe tbody tr th {\n",
       "        vertical-align: top;\n",
       "    }\n",
       "\n",
       "    .dataframe thead th {\n",
       "        text-align: right;\n",
       "    }\n",
       "</style>\n",
       "<table border=\"1\" class=\"dataframe\">\n",
       "  <thead>\n",
       "    <tr style=\"text-align: right;\">\n",
       "      <th></th>\n",
       "      <th>Av1</th>\n",
       "      <th>Av10</th>\n",
       "      <th>Av2</th>\n",
       "      <th>Av3</th>\n",
       "      <th>Av4</th>\n",
       "      <th>Av5</th>\n",
       "      <th>Av6</th>\n",
       "      <th>Av7</th>\n",
       "      <th>Av8</th>\n",
       "      <th>Av9</th>\n",
       "      <th>...</th>\n",
       "      <th>Bv10</th>\n",
       "      <th>Bv2</th>\n",
       "      <th>Bv3</th>\n",
       "      <th>Bv4</th>\n",
       "      <th>Bv5</th>\n",
       "      <th>Bv6</th>\n",
       "      <th>Bv7</th>\n",
       "      <th>Bv8</th>\n",
       "      <th>Bv9</th>\n",
       "      <th>ContestId</th>\n",
       "    </tr>\n",
       "  </thead>\n",
       "  <tbody>\n",
       "    <tr>\n",
       "      <th>0</th>\n",
       "      <td>3.69333</td>\n",
       "      <td>16.2849</td>\n",
       "      <td>3.72745</td>\n",
       "      <td>20.3159</td>\n",
       "      <td>8.83348</td>\n",
       "      <td>5.79256</td>\n",
       "      <td>12.6975</td>\n",
       "      <td>NaN</td>\n",
       "      <td>31.8214</td>\n",
       "      <td>36.55</td>\n",
       "      <td>...</td>\n",
       "      <td>0.00013292</td>\n",
       "      <td>0.000153986</td>\n",
       "      <td>0.000129761</td>\n",
       "      <td>0.000141659</td>\n",
       "      <td>0.000147688</td>\n",
       "      <td>0.000136475</td>\n",
       "      <td>NaN</td>\n",
       "      <td>0.00012335</td>\n",
       "      <td>0.00012137</td>\n",
       "      <td>55826033</td>\n",
       "    </tr>\n",
       "    <tr>\n",
       "      <th>1</th>\n",
       "      <td>3.80067</td>\n",
       "      <td>33.7846</td>\n",
       "      <td>3.85889</td>\n",
       "      <td>44.2676</td>\n",
       "      <td>14.5629</td>\n",
       "      <td>8.52903</td>\n",
       "      <td>24.4516</td>\n",
       "      <td>3.01842</td>\n",
       "      <td>74.0928</td>\n",
       "      <td>99.5069</td>\n",
       "      <td>...</td>\n",
       "      <td>0.000161099</td>\n",
       "      <td>0.000227511</td>\n",
       "      <td>0.000152826</td>\n",
       "      <td>0.000186858</td>\n",
       "      <td>0.000203234</td>\n",
       "      <td>0.000170995</td>\n",
       "      <td>0.00023503</td>\n",
       "      <td>0.00013706</td>\n",
       "      <td>0.000128033</td>\n",
       "      <td>56610037</td>\n",
       "    </tr>\n",
       "    <tr>\n",
       "      <th>2</th>\n",
       "      <td>1.00035</td>\n",
       "      <td>0.00883208</td>\n",
       "      <td>1.00031</td>\n",
       "      <td>4.12504e-16</td>\n",
       "      <td>0.988483</td>\n",
       "      <td>0.998862</td>\n",
       "      <td>0.881227</td>\n",
       "      <td>1.00268</td>\n",
       "      <td>1.18507e-19</td>\n",
       "      <td>4.30873e-21</td>\n",
       "      <td>...</td>\n",
       "      <td>0.00043565</td>\n",
       "      <td>0.000231829</td>\n",
       "      <td>0.00175842</td>\n",
       "      <td>0.000232342</td>\n",
       "      <td>0.000231891</td>\n",
       "      <td>0.000237291</td>\n",
       "      <td>0.000231727</td>\n",
       "      <td>0.00210986</td>\n",
       "      <td>0.00225268</td>\n",
       "      <td>56751298</td>\n",
       "    </tr>\n",
       "    <tr>\n",
       "      <th>3</th>\n",
       "      <td>1.09548</td>\n",
       "      <td>5.62037</td>\n",
       "      <td>1.10574</td>\n",
       "      <td>6.59058</td>\n",
       "      <td>2.87978</td>\n",
       "      <td>1.97619</td>\n",
       "      <td>4.42187</td>\n",
       "      <td>1.00399</td>\n",
       "      <td>2.19328e-09</td>\n",
       "      <td>3.18163e-18</td>\n",
       "      <td>...</td>\n",
       "      <td>0.000221068</td>\n",
       "      <td>0.000297001</td>\n",
       "      <td>0.000213631</td>\n",
       "      <td>0.000252297</td>\n",
       "      <td>0.000269883</td>\n",
       "      <td>0.000232269</td>\n",
       "      <td>0.000301509</td>\n",
       "      <td>0.00123285</td>\n",
       "      <td>0.00218331</td>\n",
       "      <td>56859642</td>\n",
       "    </tr>\n",
       "    <tr>\n",
       "      <th>4</th>\n",
       "      <td>1.00055</td>\n",
       "      <td>7.70277e-10</td>\n",
       "      <td>1.00053</td>\n",
       "      <td>1.28382e-12</td>\n",
       "      <td>1.08517</td>\n",
       "      <td>1.01239</td>\n",
       "      <td>1.31506</td>\n",
       "      <td>1.00268</td>\n",
       "      <td>3.15993e-15</td>\n",
       "      <td>1.62217e-15</td>\n",
       "      <td>...</td>\n",
       "      <td>0.00152566</td>\n",
       "      <td>0.000289738</td>\n",
       "      <td>0.00190242</td>\n",
       "      <td>0.000284955</td>\n",
       "      <td>0.000289044</td>\n",
       "      <td>0.000273639</td>\n",
       "      <td>0.000289611</td>\n",
       "      <td>0.00225621</td>\n",
       "      <td>0.00229548</td>\n",
       "      <td>57008091</td>\n",
       "    </tr>\n",
       "  </tbody>\n",
       "</table>\n",
       "<p>5 rows × 21 columns</p>\n",
       "</div>"
      ],
      "text/plain": [
       "       Av1         Av10      Av2          Av3       Av4       Av5       Av6  \\\n",
       "0  3.69333      16.2849  3.72745      20.3159   8.83348   5.79256   12.6975   \n",
       "1  3.80067      33.7846  3.85889      44.2676   14.5629   8.52903   24.4516   \n",
       "2  1.00035   0.00883208  1.00031  4.12504e-16  0.988483  0.998862  0.881227   \n",
       "3  1.09548      5.62037  1.10574      6.59058   2.87978   1.97619   4.42187   \n",
       "4  1.00055  7.70277e-10  1.00053  1.28382e-12   1.08517   1.01239   1.31506   \n",
       "\n",
       "       Av7          Av8          Av9    ...            Bv10          Bv2  \\\n",
       "0      NaN      31.8214        36.55    ...      0.00013292  0.000153986   \n",
       "1  3.01842      74.0928      99.5069    ...     0.000161099  0.000227511   \n",
       "2  1.00268  1.18507e-19  4.30873e-21    ...      0.00043565  0.000231829   \n",
       "3  1.00399  2.19328e-09  3.18163e-18    ...     0.000221068  0.000297001   \n",
       "4  1.00268  3.15993e-15  1.62217e-15    ...      0.00152566  0.000289738   \n",
       "\n",
       "           Bv3          Bv4          Bv5          Bv6          Bv7  \\\n",
       "0  0.000129761  0.000141659  0.000147688  0.000136475          NaN   \n",
       "1  0.000152826  0.000186858  0.000203234  0.000170995   0.00023503   \n",
       "2   0.00175842  0.000232342  0.000231891  0.000237291  0.000231727   \n",
       "3  0.000213631  0.000252297  0.000269883  0.000232269  0.000301509   \n",
       "4   0.00190242  0.000284955  0.000289044  0.000273639  0.000289611   \n",
       "\n",
       "          Bv8          Bv9 ContestId  \n",
       "0  0.00012335   0.00012137  55826033  \n",
       "1  0.00013706  0.000128033  56610037  \n",
       "2  0.00210986   0.00225268  56751298  \n",
       "3  0.00123285   0.00218331  56859642  \n",
       "4  0.00225621   0.00229548  57008091  \n",
       "\n",
       "[5 rows x 21 columns]"
      ]
     },
     "execution_count": 211,
     "metadata": {},
     "output_type": "execute_result"
    }
   ],
   "source": [
    "rDF.head()"
   ]
  },
  {
   "cell_type": "code",
   "execution_count": 209,
   "metadata": {},
   "outputs": [
    {
     "data": {
      "text/plain": [
       "638723"
      ]
     },
     "execution_count": 209,
     "metadata": {},
     "output_type": "execute_result"
    }
   ],
   "source": [
    "len(rDF.dropna())"
   ]
  },
  {
   "cell_type": "code",
   "execution_count": 210,
   "metadata": {},
   "outputs": [],
   "source": [
    "rDF.to_csv('data/KF_Values.csv')"
   ]
  },
  {
   "cell_type": "code",
   "execution_count": 9,
   "metadata": {},
   "outputs": [
    {
     "data": {
      "text/html": [
       "<div>\n",
       "<style scoped>\n",
       "    .dataframe tbody tr th:only-of-type {\n",
       "        vertical-align: middle;\n",
       "    }\n",
       "\n",
       "    .dataframe tbody tr th {\n",
       "        vertical-align: top;\n",
       "    }\n",
       "\n",
       "    .dataframe thead th {\n",
       "        text-align: right;\n",
       "    }\n",
       "</style>\n",
       "<table border=\"1\" class=\"dataframe\">\n",
       "  <thead>\n",
       "    <tr style=\"text-align: right;\">\n",
       "      <th></th>\n",
       "      <th>ContestId</th>\n",
       "      <th>EntriesScaled</th>\n",
       "      <th>TimeScaled</th>\n",
       "      <th>Before4HoursOut</th>\n",
       "    </tr>\n",
       "  </thead>\n",
       "  <tbody>\n",
       "    <tr>\n",
       "      <th>0</th>\n",
       "      <td>55826033</td>\n",
       "      <td>0.000486</td>\n",
       "      <td>0.0</td>\n",
       "      <td>True</td>\n",
       "    </tr>\n",
       "  </tbody>\n",
       "</table>\n",
       "</div>"
      ],
      "text/plain": [
       "   ContestId  EntriesScaled  TimeScaled  Before4HoursOut\n",
       "0   55826033       0.000486         0.0             True"
      ]
     },
     "execution_count": 9,
     "metadata": {},
     "output_type": "execute_result"
    }
   ],
   "source": [
    "d = pd.read_csv('data/Chunks_Scaled/Chunk1.csv')\n",
    "d.head(1)"
   ]
  },
  {
   "cell_type": "code",
   "execution_count": 12,
   "metadata": {},
   "outputs": [
    {
     "name": "stdout",
     "output_type": "stream",
     "text": [
      "Chunks:\n"
     ]
    },
    {
     "data": {
      "application/vnd.jupyter.widget-view+json": {
       "model_id": "e674823ecd13418e882671f76d2e5567",
       "version_major": 2,
       "version_minor": 0
      },
      "text/plain": [
       "IntProgress(value=0, max=65)"
      ]
     },
     "metadata": {},
     "output_type": "display_data"
    },
    {
     "name": "stdout",
     "output_type": "stream",
     "text": [
      "Contests:\n"
     ]
    },
    {
     "data": {
      "application/vnd.jupyter.widget-view+json": {
       "model_id": "da1673d292ed4a77ac36dbf514ee4dfa",
       "version_major": 2,
       "version_minor": 0
      },
      "text/plain": [
       "IntProgress(value=0)"
      ]
     },
     "metadata": {},
     "output_type": "display_data"
    },
    {
     "name": "stdout",
     "output_type": "stream",
     "text": [
      "chunk1\n",
      "chunk2\n",
      "chunk3\n",
      "chunk4\n",
      "chunk5\n",
      "chunk6\n"
     ]
    },
    {
     "name": "stderr",
     "output_type": "stream",
     "text": [
      "/anaconda3/lib/python3.6/site-packages/ipykernel_launcher.py:24: RuntimeWarning: overflow encountered in double_scalars\n"
     ]
    },
    {
     "name": "stdout",
     "output_type": "stream",
     "text": [
      "chunk7\n",
      "chunk8\n",
      "chunk9\n",
      "chunk10\n",
      "chunk11\n",
      "chunk12\n",
      "chunk13\n",
      "chunk14\n",
      "chunk15\n",
      "chunk16\n",
      "chunk17\n",
      "chunk18\n",
      "chunk19\n",
      "chunk20\n",
      "chunk21\n",
      "chunk22\n",
      "chunk23\n",
      "chunk24\n",
      "chunk25\n",
      "chunk26\n",
      "chunk27\n",
      "chunk28\n",
      "chunk29\n",
      "chunk30\n",
      "chunk31\n",
      "chunk32\n",
      "chunk33\n",
      "chunk34\n",
      "chunk35\n",
      "chunk36\n",
      "chunk37\n",
      "chunk38\n",
      "chunk39\n",
      "chunk40\n",
      "chunk41\n",
      "chunk42\n",
      "chunk43\n",
      "chunk44\n",
      "chunk45\n",
      "chunk46\n",
      "chunk47\n",
      "chunk48\n",
      "chunk49\n",
      "chunk50\n",
      "chunk51\n",
      "chunk52\n",
      "chunk53\n",
      "chunk54\n",
      "chunk55\n"
     ]
    },
    {
     "name": "stderr",
     "output_type": "stream",
     "text": [
      "/anaconda3/lib/python3.6/site-packages/ipykernel_launcher.py:25: RuntimeWarning: overflow encountered in double_scalars\n"
     ]
    },
    {
     "name": "stdout",
     "output_type": "stream",
     "text": [
      "chunk56\n",
      "chunk57\n",
      "chunk58\n",
      "chunk59\n",
      "chunk60\n",
      "chunk61\n",
      "chunk62\n",
      "chunk63\n",
      "chunk64\n",
      "chunk65\n"
     ]
    }
   ],
   "source": [
    "chunkNames = chunkMapDF['Chunk'].unique()[:]\n",
    "\n",
    "chunkBar = IntProgress(min=0, max=len(chunkNames))\n",
    "contestBar = IntProgress(min=0, max=100)\n",
    "\n",
    "print(\"Chunks:\")\n",
    "display(chunkBar)\n",
    "\n",
    "print(\"Contests:\")\n",
    "display(contestBar)\n",
    "\n",
    "results = []\n",
    "\n",
    "for chunkName in chunkNames:\n",
    "    print(chunkName)\n",
    "    chunkDF = pd.read_csv('data/Chunks_Scaled/'+chunkName+'.csv')\n",
    "    \n",
    "    contests = chunkDF['ContestId'].unique()[:]\n",
    "    contestBar.value=0\n",
    "    contestBar.max = len(contests)\n",
    "    for cid in contests:\n",
    "        cSeriesDF = chunkDF[chunkDF['ContestId']==cid]\n",
    "        cSeriesDF = cSeriesDF[cSeriesDF['Before4HoursOut']]\n",
    "\n",
    "        X = cSeriesDF['TimeScaled']\n",
    "        Y = cSeriesDF['EntriesScaled']\n",
    "        X, Y = list(X), list(Y)        \n",
    "        count = 0\n",
    "        contest = {'ContestId':cid}\n",
    "        for ID, qrObj in qrVals.iterrows():\n",
    "            label = qrObj['label']\n",
    "            P = kParameters(X, Y, float(qrObj['Q1']), float(qrObj['Q2']))\n",
    "            val = kalmanFilter(X, Y, P)  \n",
    "            \n",
    "            contest['A'+label] = val[0]\n",
    "            contest['B'+label] = val[1]\n",
    "        results.append(contest)\n",
    "        contestBar.value+=1\n",
    "    chunkBar.value+=1\n"
   ]
  },
  {
   "cell_type": "code",
   "execution_count": 13,
   "metadata": {},
   "outputs": [],
   "source": [
    "rDF = pd.DataFrame(results)"
   ]
  },
  {
   "cell_type": "code",
   "execution_count": 17,
   "metadata": {},
   "outputs": [
    {
     "data": {
      "text/plain": [
       "629290"
      ]
     },
     "execution_count": 17,
     "metadata": {},
     "output_type": "execute_result"
    }
   ],
   "source": [
    "len(rDF.dropna())"
   ]
  },
  {
   "cell_type": "code",
   "execution_count": 18,
   "metadata": {},
   "outputs": [],
   "source": [
    "rDF.to_csv('data/KF_Scaled_Values.csv')"
   ]
  },
  {
   "cell_type": "code",
   "execution_count": null,
   "metadata": {},
   "outputs": [],
   "source": []
  }
 ],
 "metadata": {
  "kernelspec": {
   "display_name": "Python 3",
   "language": "python",
   "name": "python3"
  },
  "language_info": {
   "codemirror_mode": {
    "name": "ipython",
    "version": 3
   },
   "file_extension": ".py",
   "mimetype": "text/x-python",
   "name": "python",
   "nbconvert_exporter": "python",
   "pygments_lexer": "ipython3",
   "version": "3.6.5"
  }
 },
 "nbformat": 4,
 "nbformat_minor": 2
}

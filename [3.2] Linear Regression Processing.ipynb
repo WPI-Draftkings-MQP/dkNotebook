{
 "cells": [
  {
   "cell_type": "code",
   "execution_count": 98,
   "metadata": {},
   "outputs": [],
   "source": [
    "import pandas as pd\n",
    "import numpy as np\n",
    "from ipywidgets import IntProgress\n",
    "from matplotlib import pyplot as plt"
   ]
  },
  {
   "cell_type": "code",
   "execution_count": 99,
   "metadata": {},
   "outputs": [],
   "source": [
    "dif = .1\n",
    "start = 0.\n",
    "Fs = [{'label': 'f1', 'F': 1.}]\n",
    "for i in range(1, 10):\n",
    "    cur = round(start+dif*i, 2)\n",
    "    Fs.append({'label':'f'+str(i+1), 'F':cur})\n",
    "\n",
    "base=.9\n",
    "dif = .9\n",
    "for i in range(0, 5):\n",
    "    dif = dif*.1\n",
    "    base = base + dif\n",
    "    cur = round(base, i+2)\n",
    "    Fs.append({'label':'f'+str(i+11), 'F':cur})"
   ]
  },
  {
   "cell_type": "code",
   "execution_count": 95,
   "metadata": {},
   "outputs": [
    {
     "data": {
      "text/plain": [
       "[{'label': 'f1', 'F': 1.0},\n",
       " {'label': 'f2', 'F': 0.1},\n",
       " {'label': 'f3', 'F': 0.2},\n",
       " {'label': 'f4', 'F': 0.3},\n",
       " {'label': 'f5', 'F': 0.4},\n",
       " {'label': 'f6', 'F': 0.5},\n",
       " {'label': 'f7', 'F': 0.6},\n",
       " {'label': 'f8', 'F': 0.7},\n",
       " {'label': 'f9', 'F': 0.8},\n",
       " {'label': 'f10', 'F': 0.9},\n",
       " {'label': 'f11', 'F': 0.99},\n",
       " {'label': 'f12', 'F': 0.999},\n",
       " {'label': 'f13', 'F': 0.9999},\n",
       " {'label': 'f14', 'F': 0.99999},\n",
       " {'label': 'f15', 'F': 0.999999}]"
      ]
     },
     "execution_count": 95,
     "metadata": {},
     "output_type": "execute_result"
    }
   ],
   "source": [
    "Fs"
   ]
  },
  {
   "cell_type": "code",
   "execution_count": 96,
   "metadata": {},
   "outputs": [],
   "source": [
    "chunkMapDF = pd.read_csv('data/ChunkMap.csv')\n",
    "# qrVals = pd.read_csv('QR_Values.csv')"
   ]
  },
  {
   "cell_type": "code",
   "execution_count": 97,
   "metadata": {},
   "outputs": [],
   "source": [
    "H_TRANSPOSE=None\n",
    "H = None\n",
    "\n",
    "def leastSquare(X, Y, F, SCALED_DATA=False):\n",
    "    H_TRANSPOSE = np.vstack(([1.]*len(X), X))\n",
    "    H = np.transpose(H_TRANSPOSE).copy()\n",
    "    currF = 1.\n",
    "    i=0\n",
    "    currF = F\n",
    "    for x in X:\n",
    "        if(SCALED_DATA):\n",
    "            currF = currF*F\n",
    "        else:\n",
    "            currF = F**(100-x)\n",
    "        \n",
    "        H_TRANSPOSE[0][i], H_TRANSPOSE[1][i] = H_TRANSPOSE[0][i]*currF, H_TRANSPOSE[1][i]*currF\n",
    "        i+=1\n",
    "    if(len(H)==1):\n",
    "        return \"HTooShort\", \"HTooShort\"\n",
    "    else:\n",
    "        return np.linalg.inv(H_TRANSPOSE @ H) @ H_TRANSPOSE @ Y\n",
    "# A, B = leastSquare(Xs, np.log(Ys), .9)\n",
    "# raiseAB(A, B)\n",
    "\n",
    "def interpXY(X, Y):\n",
    "    numPoints = pd.Series(X).max()+1\n",
    "    startX = X[0]\n",
    "    newX = list(range(startX, numPoints+startX))\n",
    "    newY = [np.nan]*numPoints    \n",
    "    for i in range(0, len(X)):\n",
    "        xV = X[i]-startX\n",
    "#         print(i, xV)\n",
    "        newY[xV] = Y[i]\n",
    "    newY = list(pd.Series(newY).interpolate())\n",
    "    return newX, newY\n",
    "\n",
    "def raiseAB(A, B):\n",
    "    return np.exp(A), B\n",
    "\n",
    "def genABData(A, B):\n",
    "#     X = list(range(0, Xf))\n",
    "    X, Y = [], []\n",
    "    for i in range(0, 100):\n",
    "        x = i\n",
    "        X.append(x)\n",
    "        Y.append(A*np.exp(B*x))\n",
    "    return X, Y\n",
    "\n",
    "def genData(A, B):\n",
    "#     X = list(range(0, Xf))\n",
    "    X, Y = [], []\n",
    "    for i in range(0, 100):\n",
    "        x = i\n",
    "        X.append(x)\n",
    "        Y.append(A+B*x)\n",
    "    return X, Y\n",
    "\n",
    "def processRegr(X, Y, F, SCALED_DATA=False):\n",
    "    A, B = leastSquare(X, np.log(Y), F, SCALED_DATA=SCALED_DATA)\n",
    "    if(A==\"HTooShort\"):\n",
    "        return A, B\n",
    "    else:\n",
    "        return raiseAB(A, B)\n"
   ]
  },
  {
   "cell_type": "code",
   "execution_count": 92,
   "metadata": {
    "scrolled": true
   },
   "outputs": [],
   "source": [
    "# plt.plot(X, np.log(Y))\n",
    "# A, B = leastSquare(X, np.log(Y), .1)\n",
    "# pred = genData(A, B)\n",
    "# plt.plot(pred[0], pred[1])"
   ]
  },
  {
   "cell_type": "code",
   "execution_count": 205,
   "metadata": {},
   "outputs": [],
   "source": [
    "# plt.plot(X, Y)\n",
    "# A, B = processRegr(X, Y, .1)\n",
    "# pred = genABData(A, B)\n",
    "# plt.plot(pred[0], pred[1])"
   ]
  },
  {
   "cell_type": "code",
   "execution_count": 184,
   "metadata": {},
   "outputs": [],
   "source": [
    "# cSeriesDF.columns"
   ]
  },
  {
   "cell_type": "code",
   "execution_count": 90,
   "metadata": {
    "scrolled": true
   },
   "outputs": [],
   "source": [
    "chunkNames = chunkMapDF['Chunk'].unique()[:]\n",
    "\n",
    "chunkBar = IntProgress(min=0, max=len(chunkNames))\n",
    "contestBar = IntProgress(min=0, max=10000)\n",
    "\n",
    "print(\"Chunks:\")\n",
    "display(chunkBar)\n",
    "\n",
    "print(\"Contests:\")\n",
    "display(contestBar)\n",
    "\n",
    "results = []\n",
    "\n",
    "for chunkName in chunkNames[:]:\n",
    "    print(chunkName)\n",
    "    chunkDF = pd.read_csv('data/Chunks/'+chunkName+'.csv').drop(columns=['Unnamed: 0']).sort_values(by=['MinutesRemaining'], ascending=False)\n",
    "    \n",
    "    contests = chunkDF['ContestId'].unique()[:]\n",
    "    contestBar.value=0\n",
    "    contestBar.max = len(contests)\n",
    "    for cid in contests[:]:\n",
    "#         cSeriesDF = chunkDF[chunkDF['ContestId']==cid]\n",
    "#         cSeriesDF = cSeriesDF[cSeriesDF['Before4HoursOut']]\n",
    "#         X = cSeriesDF['TimeScaled']\n",
    "#         Y = cSeriesDF['EntriesScaled']\n",
    "#         X, Y = list(X), list(Y)        \n",
    "#         count = 0\n",
    "\n",
    "        cSeriesDF = chunkDF[chunkDF['ContestId']==cid]\n",
    "        numberToRemove = len(cSeriesDF[cSeriesDF['MinutesRemaining']<240])\n",
    "\n",
    "        X = cSeriesDF['MinutesRemaining'].max() - cSeriesDF['MinutesRemaining'][:-numberToRemove]\n",
    "        Y = cSeriesDF['Entries'].cumsum()[:-numberToRemove]\n",
    "        X, Y = list(X), list(Y)   \n",
    "        \n",
    "        contest = {'ContestId':cid}\n",
    "        \n",
    "        for fFactor in Fs[:]:\n",
    "            fName = fFactor['label']\n",
    "            fFactor = fFactor['F']\n",
    "            A, B = 'TooShort', 'TooShort'\n",
    "            if(len(X)>=1):\n",
    "                A, B = processRegr(X, Y, fFactor, SCALED_DATA=True)\n",
    "            contest[fName+'A'], contest[fName+'B']=A, B    \n",
    "        results.append(contest)\n",
    "        contestBar.value+=1\n",
    "    chunkBar.value+=1\n"
   ]
  },
  {
   "cell_type": "code",
   "execution_count": 28,
   "metadata": {},
   "outputs": [],
   "source": [
    "resultsDF = pd.DataFrame(results).set_index('ContestId')"
   ]
  },
  {
   "cell_type": "code",
   "execution_count": 29,
   "metadata": {},
   "outputs": [
    {
     "data": {
      "text/plain": [
       "649329"
      ]
     },
     "execution_count": 29,
     "metadata": {},
     "output_type": "execute_result"
    }
   ],
   "source": [
    "len(resultsDF)"
   ]
  },
  {
   "cell_type": "code",
   "execution_count": 31,
   "metadata": {},
   "outputs": [
    {
     "data": {
      "text/plain": [
       "362198"
      ]
     },
     "execution_count": 31,
     "metadata": {},
     "output_type": "execute_result"
    }
   ],
   "source": [
    "len(resultsDF[resultsDF['f1A']=='TooShort'])"
   ]
  },
  {
   "cell_type": "code",
   "execution_count": 32,
   "metadata": {},
   "outputs": [],
   "source": [
    "resultsDF.to_csv('data/LR_Values.csv')"
   ]
  }
 ],
 "metadata": {
  "kernelspec": {
   "display_name": "Python 3",
   "language": "python",
   "name": "python3"
  },
  "language_info": {
   "codemirror_mode": {
    "name": "ipython",
    "version": 3
   },
   "file_extension": ".py",
   "mimetype": "text/x-python",
   "name": "python",
   "nbconvert_exporter": "python",
   "pygments_lexer": "ipython3",
   "version": "3.6.5"
  }
 },
 "nbformat": 4,
 "nbformat_minor": 2
}

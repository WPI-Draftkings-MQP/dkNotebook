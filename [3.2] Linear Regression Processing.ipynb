{
 "cells": [
  {
   "cell_type": "code",
   "execution_count": 3,
   "metadata": {},
   "outputs": [],
   "source": [
    "import pandas as pd\n",
    "import numpy as np\n",
    "from ipywidgets import IntProgress\n",
    "from matplotlib import pyplot as plt"
   ]
  },
  {
   "cell_type": "code",
   "execution_count": 4,
   "metadata": {},
   "outputs": [],
   "source": [
    "dif = .1\n",
    "start = 0.\n",
    "Fs = [{'label': 'f1', 'F': 1.}]\n",
    "for i in range(1, 10):\n",
    "    cur = round(start+dif*i, 2)\n",
    "    Fs.append({'label':'f'+str(i+1), 'F':cur})\n",
    "\n",
    "base=.9\n",
    "dif = .9\n",
    "for i in range(0, 5):\n",
    "    dif = dif*.1\n",
    "    base = base + dif\n",
    "    cur = round(base, i+2)\n",
    "    Fs.append({'label':'f'+str(i+11), 'F':cur})"
   ]
  },
  {
   "cell_type": "code",
   "execution_count": 5,
   "metadata": {},
   "outputs": [
    {
     "data": {
      "text/plain": [
       "[{'label': 'f1', 'F': 1.0},\n",
       " {'label': 'f2', 'F': 0.1},\n",
       " {'label': 'f3', 'F': 0.2},\n",
       " {'label': 'f4', 'F': 0.3},\n",
       " {'label': 'f5', 'F': 0.4},\n",
       " {'label': 'f6', 'F': 0.5},\n",
       " {'label': 'f7', 'F': 0.6},\n",
       " {'label': 'f8', 'F': 0.7},\n",
       " {'label': 'f9', 'F': 0.8},\n",
       " {'label': 'f10', 'F': 0.9},\n",
       " {'label': 'f11', 'F': 0.99},\n",
       " {'label': 'f12', 'F': 0.999},\n",
       " {'label': 'f13', 'F': 0.9999},\n",
       " {'label': 'f14', 'F': 0.99999},\n",
       " {'label': 'f15', 'F': 0.999999}]"
      ]
     },
     "execution_count": 5,
     "metadata": {},
     "output_type": "execute_result"
    }
   ],
   "source": [
    "Fs"
   ]
  },
  {
   "cell_type": "code",
   "execution_count": 6,
   "metadata": {},
   "outputs": [],
   "source": [
    "chunkMapDF = pd.read_csv('data/ChunkMap.csv')\n",
    "# qrVals = pd.read_csv('QR_Values.csv')"
   ]
  },
  {
   "cell_type": "code",
   "execution_count": 22,
   "metadata": {},
   "outputs": [],
   "source": [
    "H_TRANSPOSE=None\n",
    "H = None\n",
    "\n",
    "def leastSquare(X, Y, F, SCALED_DATA=False):\n",
    "    global H, H_TRANSPOSE\n",
    "    H_TRANSPOSE = np.vstack(([1.]*len(X), X))\n",
    "    H = np.transpose(H_TRANSPOSE).copy()\n",
    "    currF = 1.\n",
    "    i=0\n",
    "    currF = F\n",
    "    for x in X:\n",
    "        if(SCALED_DATA):\n",
    "            currF = currF*F\n",
    "        else:\n",
    "            currF = F**(100-x)\n",
    "        \n",
    "        H_TRANSPOSE[0][i], H_TRANSPOSE[1][i] = H_TRANSPOSE[0][i]*currF, H_TRANSPOSE[1][i]*currF\n",
    "        i+=1\n",
    "    if((len(H)==1 or len(H_TRANSPOSE)==1) or (len(H)==2 and len(H_TRANSPOSE)==2)):\n",
    "        return \"HTooShort\", \"HTooShort\"\n",
    "    else:\n",
    "        return np.linalg.inv(H_TRANSPOSE @ H) @ H_TRANSPOSE @ Y\n",
    "# A, B = leastSquare(Xs, np.log(Ys), .9)\n",
    "# raiseAB(A, B)\n",
    "\n",
    "def interpXY(X, Y):\n",
    "    numPoints = pd.Series(X).max()+1\n",
    "    startX = X[0]\n",
    "    newX = list(range(startX, numPoints+startX))\n",
    "    newY = [np.nan]*numPoints    \n",
    "    for i in range(0, len(X)):\n",
    "        xV = X[i]-startX\n",
    "#         print(i, xV)\n",
    "        newY[xV] = Y[i]\n",
    "    newY = list(pd.Series(newY).interpolate())\n",
    "    return newX, newY\n",
    "\n",
    "def raiseAB(A, B):\n",
    "    return np.exp(A), B\n",
    "\n",
    "def genABData(A, B):\n",
    "#     X = list(range(0, Xf))\n",
    "    X, Y = [], []\n",
    "    for i in range(0, 100):\n",
    "        x = i\n",
    "        X.append(x)\n",
    "        Y.append(A*np.exp(B*x))\n",
    "    return X, Y\n",
    "\n",
    "def genData(A, B):\n",
    "#     X = list(range(0, Xf))\n",
    "    X, Y = [], []\n",
    "    for i in range(0, 100):\n",
    "        x = i\n",
    "        X.append(x)\n",
    "        Y.append(A+B*x)\n",
    "    return X, Y\n",
    "\n",
    "def processRegr(X, Y, F, SCALED_DATA=False):\n",
    "    A, B = leastSquare(X, np.log(Y), F, SCALED_DATA=SCALED_DATA)\n",
    "    if(A==\"HTooShort\"):\n",
    "        return A, B\n",
    "    else:\n",
    "        return raiseAB(A, B)\n"
   ]
  },
  {
   "cell_type": "code",
   "execution_count": 92,
   "metadata": {
    "scrolled": true
   },
   "outputs": [],
   "source": [
    "# plt.plot(X, np.log(Y))\n",
    "# A, B = leastSquare(X, np.log(Y), .1)\n",
    "# pred = genData(A, B)\n",
    "# plt.plot(pred[0], pred[1])"
   ]
  },
  {
   "cell_type": "code",
   "execution_count": 205,
   "metadata": {},
   "outputs": [],
   "source": [
    "# plt.plot(X, Y)\n",
    "# A, B = processRegr(X, Y, .1)\n",
    "# pred = genABData(A, B)\n",
    "# plt.plot(pred[0], pred[1])"
   ]
  },
  {
   "cell_type": "code",
   "execution_count": 184,
   "metadata": {},
   "outputs": [],
   "source": [
    "# cSeriesDF.columns"
   ]
  },
  {
   "cell_type": "code",
   "execution_count": 23,
   "metadata": {
    "scrolled": false
   },
   "outputs": [
    {
     "name": "stdout",
     "output_type": "stream",
     "text": [
      "Chunks:\n"
     ]
    },
    {
     "data": {
      "application/vnd.jupyter.widget-view+json": {
       "model_id": "1cda0cbbe9d04b7aa211c7291f2492f7",
       "version_major": 2,
       "version_minor": 0
      },
      "text/plain": [
       "IntProgress(value=0, max=57)"
      ]
     },
     "metadata": {},
     "output_type": "display_data"
    },
    {
     "name": "stdout",
     "output_type": "stream",
     "text": [
      "Contests:\n"
     ]
    },
    {
     "data": {
      "application/vnd.jupyter.widget-view+json": {
       "model_id": "b07940622b2f4e1a97fa627052dac961",
       "version_major": 2,
       "version_minor": 0
      },
      "text/plain": [
       "IntProgress(value=0, max=10000)"
      ]
     },
     "metadata": {},
     "output_type": "display_data"
    },
    {
     "name": "stdout",
     "output_type": "stream",
     "text": [
      "chunk9\n"
     ]
    },
    {
     "ename": "KeyboardInterrupt",
     "evalue": "",
     "output_type": "error",
     "traceback": [
      "\u001b[0;31m---------------------------------------------------------------------------\u001b[0m",
      "\u001b[0;31mKeyboardInterrupt\u001b[0m                         Traceback (most recent call last)",
      "\u001b[0;32m<ipython-input-23-0a2be7e74d0e>\u001b[0m in \u001b[0;36m<module>\u001b[0;34m()\u001b[0m\n\u001b[1;32m     41\u001b[0m             \u001b[0mA\u001b[0m\u001b[0;34m,\u001b[0m \u001b[0mB\u001b[0m \u001b[0;34m=\u001b[0m \u001b[0;34m'TooShort'\u001b[0m\u001b[0;34m,\u001b[0m \u001b[0;34m'TooShort'\u001b[0m\u001b[0;34m\u001b[0m\u001b[0m\n\u001b[1;32m     42\u001b[0m             \u001b[0;32mif\u001b[0m\u001b[0;34m(\u001b[0m\u001b[0mlen\u001b[0m\u001b[0;34m(\u001b[0m\u001b[0mX\u001b[0m\u001b[0;34m)\u001b[0m\u001b[0;34m>=\u001b[0m\u001b[0;36m1\u001b[0m\u001b[0;34m)\u001b[0m\u001b[0;34m:\u001b[0m\u001b[0;34m\u001b[0m\u001b[0m\n\u001b[0;32m---> 43\u001b[0;31m                 \u001b[0mA\u001b[0m\u001b[0;34m,\u001b[0m \u001b[0mB\u001b[0m \u001b[0;34m=\u001b[0m \u001b[0mprocessRegr\u001b[0m\u001b[0;34m(\u001b[0m\u001b[0mX\u001b[0m\u001b[0;34m,\u001b[0m \u001b[0mY\u001b[0m\u001b[0;34m,\u001b[0m \u001b[0mfFactor\u001b[0m\u001b[0;34m,\u001b[0m \u001b[0mSCALED_DATA\u001b[0m\u001b[0;34m=\u001b[0m\u001b[0;32mTrue\u001b[0m\u001b[0;34m)\u001b[0m\u001b[0;34m\u001b[0m\u001b[0m\n\u001b[0m\u001b[1;32m     44\u001b[0m             \u001b[0mcontest\u001b[0m\u001b[0;34m[\u001b[0m\u001b[0mfName\u001b[0m\u001b[0;34m+\u001b[0m\u001b[0;34m'A'\u001b[0m\u001b[0;34m]\u001b[0m\u001b[0;34m,\u001b[0m \u001b[0mcontest\u001b[0m\u001b[0;34m[\u001b[0m\u001b[0mfName\u001b[0m\u001b[0;34m+\u001b[0m\u001b[0;34m'B'\u001b[0m\u001b[0;34m]\u001b[0m\u001b[0;34m=\u001b[0m\u001b[0mA\u001b[0m\u001b[0;34m,\u001b[0m \u001b[0mB\u001b[0m\u001b[0;34m\u001b[0m\u001b[0m\n\u001b[1;32m     45\u001b[0m         \u001b[0mresults\u001b[0m\u001b[0;34m.\u001b[0m\u001b[0mappend\u001b[0m\u001b[0;34m(\u001b[0m\u001b[0mcontest\u001b[0m\u001b[0;34m)\u001b[0m\u001b[0;34m\u001b[0m\u001b[0m\n",
      "\u001b[0;32m<ipython-input-22-34ade7f9f6d4>\u001b[0m in \u001b[0;36mprocessRegr\u001b[0;34m(X, Y, F, SCALED_DATA)\u001b[0m\n\u001b[1;32m     58\u001b[0m \u001b[0;34m\u001b[0m\u001b[0m\n\u001b[1;32m     59\u001b[0m \u001b[0;32mdef\u001b[0m \u001b[0mprocessRegr\u001b[0m\u001b[0;34m(\u001b[0m\u001b[0mX\u001b[0m\u001b[0;34m,\u001b[0m \u001b[0mY\u001b[0m\u001b[0;34m,\u001b[0m \u001b[0mF\u001b[0m\u001b[0;34m,\u001b[0m \u001b[0mSCALED_DATA\u001b[0m\u001b[0;34m=\u001b[0m\u001b[0;32mFalse\u001b[0m\u001b[0;34m)\u001b[0m\u001b[0;34m:\u001b[0m\u001b[0;34m\u001b[0m\u001b[0m\n\u001b[0;32m---> 60\u001b[0;31m     \u001b[0mA\u001b[0m\u001b[0;34m,\u001b[0m \u001b[0mB\u001b[0m \u001b[0;34m=\u001b[0m \u001b[0mleastSquare\u001b[0m\u001b[0;34m(\u001b[0m\u001b[0mX\u001b[0m\u001b[0;34m,\u001b[0m \u001b[0mnp\u001b[0m\u001b[0;34m.\u001b[0m\u001b[0mlog\u001b[0m\u001b[0;34m(\u001b[0m\u001b[0mY\u001b[0m\u001b[0;34m)\u001b[0m\u001b[0;34m,\u001b[0m \u001b[0mF\u001b[0m\u001b[0;34m,\u001b[0m \u001b[0mSCALED_DATA\u001b[0m\u001b[0;34m=\u001b[0m\u001b[0mSCALED_DATA\u001b[0m\u001b[0;34m)\u001b[0m\u001b[0;34m\u001b[0m\u001b[0m\n\u001b[0m\u001b[1;32m     61\u001b[0m     \u001b[0;32mif\u001b[0m\u001b[0;34m(\u001b[0m\u001b[0mA\u001b[0m\u001b[0;34m==\u001b[0m\u001b[0;34m\"HTooShort\"\u001b[0m\u001b[0;34m)\u001b[0m\u001b[0;34m:\u001b[0m\u001b[0;34m\u001b[0m\u001b[0m\n\u001b[1;32m     62\u001b[0m         \u001b[0;32mreturn\u001b[0m \u001b[0mA\u001b[0m\u001b[0;34m,\u001b[0m \u001b[0mB\u001b[0m\u001b[0;34m\u001b[0m\u001b[0m\n",
      "\u001b[0;32m<ipython-input-22-34ade7f9f6d4>\u001b[0m in \u001b[0;36mleastSquare\u001b[0;34m(X, Y, F, SCALED_DATA)\u001b[0m\n\u001b[1;32m     15\u001b[0m             \u001b[0mcurrF\u001b[0m \u001b[0;34m=\u001b[0m \u001b[0mF\u001b[0m\u001b[0;34m**\u001b[0m\u001b[0;34m(\u001b[0m\u001b[0;36m100\u001b[0m\u001b[0;34m-\u001b[0m\u001b[0mx\u001b[0m\u001b[0;34m)\u001b[0m\u001b[0;34m\u001b[0m\u001b[0m\n\u001b[1;32m     16\u001b[0m \u001b[0;34m\u001b[0m\u001b[0m\n\u001b[0;32m---> 17\u001b[0;31m         \u001b[0mH_TRANSPOSE\u001b[0m\u001b[0;34m[\u001b[0m\u001b[0;36m0\u001b[0m\u001b[0;34m]\u001b[0m\u001b[0;34m[\u001b[0m\u001b[0mi\u001b[0m\u001b[0;34m]\u001b[0m\u001b[0;34m,\u001b[0m \u001b[0mH_TRANSPOSE\u001b[0m\u001b[0;34m[\u001b[0m\u001b[0;36m1\u001b[0m\u001b[0;34m]\u001b[0m\u001b[0;34m[\u001b[0m\u001b[0mi\u001b[0m\u001b[0;34m]\u001b[0m \u001b[0;34m=\u001b[0m \u001b[0mH_TRANSPOSE\u001b[0m\u001b[0;34m[\u001b[0m\u001b[0;36m0\u001b[0m\u001b[0;34m]\u001b[0m\u001b[0;34m[\u001b[0m\u001b[0mi\u001b[0m\u001b[0;34m]\u001b[0m\u001b[0;34m*\u001b[0m\u001b[0mcurrF\u001b[0m\u001b[0;34m,\u001b[0m \u001b[0mH_TRANSPOSE\u001b[0m\u001b[0;34m[\u001b[0m\u001b[0;36m1\u001b[0m\u001b[0;34m]\u001b[0m\u001b[0;34m[\u001b[0m\u001b[0mi\u001b[0m\u001b[0;34m]\u001b[0m\u001b[0;34m*\u001b[0m\u001b[0mcurrF\u001b[0m\u001b[0;34m\u001b[0m\u001b[0m\n\u001b[0m\u001b[1;32m     18\u001b[0m         \u001b[0mi\u001b[0m\u001b[0;34m+=\u001b[0m\u001b[0;36m1\u001b[0m\u001b[0;34m\u001b[0m\u001b[0m\n\u001b[1;32m     19\u001b[0m     \u001b[0;32mif\u001b[0m\u001b[0;34m(\u001b[0m\u001b[0;34m(\u001b[0m\u001b[0mlen\u001b[0m\u001b[0;34m(\u001b[0m\u001b[0mH\u001b[0m\u001b[0;34m)\u001b[0m\u001b[0;34m==\u001b[0m\u001b[0;36m1\u001b[0m \u001b[0;32mor\u001b[0m \u001b[0mlen\u001b[0m\u001b[0;34m(\u001b[0m\u001b[0mH_TRANSPOSE\u001b[0m\u001b[0;34m)\u001b[0m\u001b[0;34m==\u001b[0m\u001b[0;36m1\u001b[0m\u001b[0;34m)\u001b[0m \u001b[0;32mor\u001b[0m \u001b[0;34m(\u001b[0m\u001b[0mlen\u001b[0m\u001b[0;34m(\u001b[0m\u001b[0mH\u001b[0m\u001b[0;34m)\u001b[0m\u001b[0;34m==\u001b[0m\u001b[0;36m2\u001b[0m \u001b[0;32mand\u001b[0m \u001b[0mlen\u001b[0m\u001b[0;34m(\u001b[0m\u001b[0mH_TRANSPOSE\u001b[0m\u001b[0;34m)\u001b[0m\u001b[0;34m==\u001b[0m\u001b[0;36m2\u001b[0m\u001b[0;34m)\u001b[0m\u001b[0;34m)\u001b[0m\u001b[0;34m:\u001b[0m\u001b[0;34m\u001b[0m\u001b[0m\n",
      "\u001b[0;31mKeyboardInterrupt\u001b[0m: "
     ]
    }
   ],
   "source": [
    "chunkNames = chunkMapDF['Chunk'].unique()[8:]\n",
    "\n",
    "chunkBar = IntProgress(min=0, max=len(chunkNames))\n",
    "contestBar = IntProgress(min=0, max=10000)\n",
    "\n",
    "print(\"Chunks:\")\n",
    "display(chunkBar)\n",
    "\n",
    "print(\"Contests:\")\n",
    "display(contestBar)\n",
    "\n",
    "results = []\n",
    "\n",
    "for chunkName in chunkNames[:]:\n",
    "    print(chunkName)\n",
    "    chunkDF = pd.read_csv('data/Chunks_Scaled/'+chunkName+'.csv')\n",
    "    \n",
    "    contests = chunkDF['ContestId'].unique()[:]\n",
    "    contestBar.value=0\n",
    "    contestBar.max = len(contests)\n",
    "    for cid in contests[:]:\n",
    "        cSeriesDF = chunkDF[chunkDF['ContestId']==cid]\n",
    "        cSeriesDF = cSeriesDF[cSeriesDF['Before4HoursOut']]\n",
    "        X = cSeriesDF['TimeScaled']\n",
    "        Y = cSeriesDF['EntriesScaled']\n",
    "        X, Y = list(X), list(Y)        \n",
    "#         count = 0\n",
    "\n",
    "#         cSeriesDF = chunkDF[chunkDF['ContestId']==cid]\n",
    "#         numberToRemove = len(cSeriesDF[cSeriesDF['MinutesRemaining']<240])\n",
    "\n",
    "#         X = cSeriesDF['MinutesRemaining'].max() - cSeriesDF['MinutesRemaining'][:-numberToRemove]\n",
    "#         Y = cSeriesDF['Entries'].cumsum()[:-numberToRemove]\n",
    "#         X, Y = list(X), list(Y)   \n",
    "        \n",
    "        contest = {'ContestId':cid}\n",
    "        \n",
    "        for fFactor in Fs[:]:\n",
    "            fName = fFactor['label']\n",
    "            fFactor = fFactor['F']\n",
    "            A, B = 'TooShort', 'TooShort'\n",
    "            if(len(X)>=1):\n",
    "                A, B = processRegr(X, Y, fFactor, SCALED_DATA=True)\n",
    "            contest[fName+'A'], contest[fName+'B']=A, B    \n",
    "        results.append(contest)\n",
    "        contestBar.value+=1\n",
    "    chunkBar.value+=1\n"
   ]
  },
  {
   "cell_type": "code",
   "execution_count": 28,
   "metadata": {},
   "outputs": [],
   "source": [
    "resultsDF = pd.DataFrame(results).set_index('ContestId')"
   ]
  },
  {
   "cell_type": "code",
   "execution_count": 29,
   "metadata": {},
   "outputs": [
    {
     "data": {
      "text/plain": [
       "649329"
      ]
     },
     "execution_count": 29,
     "metadata": {},
     "output_type": "execute_result"
    }
   ],
   "source": [
    "# len(resultsDF)"
   ]
  },
  {
   "cell_type": "code",
   "execution_count": 31,
   "metadata": {},
   "outputs": [
    {
     "data": {
      "text/plain": [
       "362198"
      ]
     },
     "execution_count": 31,
     "metadata": {},
     "output_type": "execute_result"
    }
   ],
   "source": [
    "# len(resultsDF[resultsDF['f1A']=='TooShort'])"
   ]
  },
  {
   "cell_type": "code",
   "execution_count": 32,
   "metadata": {},
   "outputs": [],
   "source": [
    "# resultsDF.to_csv('data/LR_Values.csv')"
   ]
  }
 ],
 "metadata": {
  "kernelspec": {
   "display_name": "Python 3",
   "language": "python",
   "name": "python3"
  },
  "language_info": {
   "codemirror_mode": {
    "name": "ipython",
    "version": 3
   },
   "file_extension": ".py",
   "mimetype": "text/x-python",
   "name": "python",
   "nbconvert_exporter": "python",
   "pygments_lexer": "ipython3",
   "version": "3.6.5"
  }
 },
 "nbformat": 4,
 "nbformat_minor": 2
}

{
 "cells": [
  {
   "cell_type": "code",
   "execution_count": 528,
   "metadata": {},
   "outputs": [],
   "source": [
    "import pandas as pd\n",
    "import numpy as np\n",
    "from ipywidgets import IntProgress\n",
    "from matplotlib import pyplot as plt"
   ]
  },
  {
   "cell_type": "code",
   "execution_count": 529,
   "metadata": {},
   "outputs": [],
   "source": [
    "dif = 9.\n",
    "cur = 0\n",
    "dig = 1\n",
    "Fs = [{'label':'f1', 'F':1}]\n",
    "for i in range(0, 10):\n",
    "    dif = dif/10\n",
    "    cur = round(cur+ dif, dig)\n",
    "    dig +=1\n",
    "    Fs.append({'label':'f'+str(dig), 'F':cur})"
   ]
  },
  {
   "cell_type": "code",
   "execution_count": 539,
   "metadata": {},
   "outputs": [
    {
     "data": {
      "text/plain": [
       "[{'label': 'f1', 'F': 1},\n",
       " {'label': 'f2', 'F': 0.9},\n",
       " {'label': 'f3', 'F': 0.99},\n",
       " {'label': 'f4', 'F': 0.999},\n",
       " {'label': 'f5', 'F': 0.9999},\n",
       " {'label': 'f6', 'F': 0.99999},\n",
       " {'label': 'f7', 'F': 0.999999},\n",
       " {'label': 'f8', 'F': 0.9999999},\n",
       " {'label': 'f9', 'F': 0.99999999},\n",
       " {'label': 'f10', 'F': 0.999999999},\n",
       " {'label': 'f11', 'F': 0.9999999999}]"
      ]
     },
     "execution_count": 539,
     "metadata": {},
     "output_type": "execute_result"
    }
   ],
   "source": [
    "Fs"
   ]
  },
  {
   "cell_type": "code",
   "execution_count": 530,
   "metadata": {},
   "outputs": [],
   "source": [
    "chunkMapDF = pd.read_csv('data/ChunkMap.csv')\n",
    "# qrVals = pd.read_csv('QR_Values.csv')"
   ]
  },
  {
   "cell_type": "code",
   "execution_count": 531,
   "metadata": {},
   "outputs": [],
   "source": [
    "def leastSquare(X, Y, F):\n",
    "    H_TRANSPOSE = np.vstack((np.linspace(1,1,len(X)), X))\n",
    "    H = np.transpose(H_TRANSPOSE)\n",
    "    currF = 1.\n",
    "    for i in range(0, len(H_TRANSPOSE[0])):\n",
    "        v = len(H)-i-1\n",
    "#         print(v)\n",
    "        currF = currF*F\n",
    "        H_TRANSPOSE[0][v], H_TRANSPOSE[1][v] = H_TRANSPOSE[0][v]*currF, H_TRANSPOSE[1][v]*currF\n",
    "    return np.linalg.inv(H_TRANSPOSE @ H) @ H_TRANSPOSE @ Y\n",
    "\n",
    "def interpXY(X, Y):\n",
    "    numPoints = pd.Series(X).max()+1\n",
    "    startX = X[0]\n",
    "    newX = list(range(startX, numPoints+startX))\n",
    "    newY = [np.nan]*numPoints    \n",
    "    for i in range(0, len(X)):\n",
    "        xV = X[i]-startX\n",
    "#         print(i, xV)\n",
    "        newY[xV] = Y[i]\n",
    "    newY = list(pd.Series(newY).interpolate())\n",
    "    return newX, newY\n",
    "\n",
    "def raiseAB(A, B):\n",
    "    return np.exp(A), B"
   ]
  },
  {
   "cell_type": "code",
   "execution_count": 532,
   "metadata": {},
   "outputs": [],
   "source": [
    "def genABData(A, B, Xf):\n",
    "    X = list(range(0, Xf))\n",
    "    Y = []\n",
    "    for x in X:\n",
    "        Y.append(A*np.exp(B*x))\n",
    "    return X, Y"
   ]
  },
  {
   "cell_type": "code",
   "execution_count": 533,
   "metadata": {},
   "outputs": [],
   "source": [
    "def processRegr(X, Y, F):\n",
    "    logY = list(np.log(Y))\n",
    "    nX, nY = interpXY(X, logY)\n",
    "    A, B = leastSquare(nX, nY, F)\n",
    "    return raiseAB(A, B)\n",
    "# processRegr(X, Y, .99)"
   ]
  },
  {
   "cell_type": "code",
   "execution_count": 534,
   "metadata": {},
   "outputs": [],
   "source": [
    "# plt.plot(X, Y)\n",
    "# A, B = processRegr(X, Y, .99999)\n",
    "# pred = genABData(A, B, pd.Series(X).max())\n",
    "# plt.plot(pred[0], pred[1])"
   ]
  },
  {
   "cell_type": "code",
   "execution_count": 535,
   "metadata": {},
   "outputs": [],
   "source": [
    "df = pd.read_csv('data/Chunks_Scaled/chunk1.csv')"
   ]
  },
  {
   "cell_type": "code",
   "execution_count": 536,
   "metadata": {},
   "outputs": [
    {
     "data": {
      "text/html": [
       "<div>\n",
       "<style scoped>\n",
       "    .dataframe tbody tr th:only-of-type {\n",
       "        vertical-align: middle;\n",
       "    }\n",
       "\n",
       "    .dataframe tbody tr th {\n",
       "        vertical-align: top;\n",
       "    }\n",
       "\n",
       "    .dataframe thead th {\n",
       "        text-align: right;\n",
       "    }\n",
       "</style>\n",
       "<table border=\"1\" class=\"dataframe\">\n",
       "  <thead>\n",
       "    <tr style=\"text-align: right;\">\n",
       "      <th></th>\n",
       "      <th>Unnamed: 0</th>\n",
       "      <th>ContestId</th>\n",
       "      <th>EntriesScaled</th>\n",
       "      <th>TimeScaled</th>\n",
       "      <th>Before4HoursOut</th>\n",
       "    </tr>\n",
       "  </thead>\n",
       "  <tbody>\n",
       "    <tr>\n",
       "      <th>0</th>\n",
       "      <td>0</td>\n",
       "      <td>55826033</td>\n",
       "      <td>0.000005</td>\n",
       "      <td>0.000000</td>\n",
       "      <td>True</td>\n",
       "    </tr>\n",
       "    <tr>\n",
       "      <th>1</th>\n",
       "      <td>1</td>\n",
       "      <td>55826033</td>\n",
       "      <td>0.000019</td>\n",
       "      <td>0.000028</td>\n",
       "      <td>True</td>\n",
       "    </tr>\n",
       "    <tr>\n",
       "      <th>2</th>\n",
       "      <td>2</td>\n",
       "      <td>55826033</td>\n",
       "      <td>0.000024</td>\n",
       "      <td>0.000128</td>\n",
       "      <td>True</td>\n",
       "    </tr>\n",
       "    <tr>\n",
       "      <th>3</th>\n",
       "      <td>3</td>\n",
       "      <td>55826033</td>\n",
       "      <td>0.000029</td>\n",
       "      <td>0.000199</td>\n",
       "      <td>True</td>\n",
       "    </tr>\n",
       "    <tr>\n",
       "      <th>4</th>\n",
       "      <td>4</td>\n",
       "      <td>55826033</td>\n",
       "      <td>0.000034</td>\n",
       "      <td>0.000228</td>\n",
       "      <td>True</td>\n",
       "    </tr>\n",
       "  </tbody>\n",
       "</table>\n",
       "</div>"
      ],
      "text/plain": [
       "   Unnamed: 0  ContestId  EntriesScaled  TimeScaled  Before4HoursOut\n",
       "0           0   55826033       0.000005    0.000000             True\n",
       "1           1   55826033       0.000019    0.000028             True\n",
       "2           2   55826033       0.000024    0.000128             True\n",
       "3           3   55826033       0.000029    0.000199             True\n",
       "4           4   55826033       0.000034    0.000228             True"
      ]
     },
     "execution_count": 536,
     "metadata": {},
     "output_type": "execute_result"
    }
   ],
   "source": [
    "df.head()"
   ]
  },
  {
   "cell_type": "code",
   "execution_count": 538,
   "metadata": {},
   "outputs": [
    {
     "data": {
      "text/html": [
       "<div>\n",
       "<style scoped>\n",
       "    .dataframe tbody tr th:only-of-type {\n",
       "        vertical-align: middle;\n",
       "    }\n",
       "\n",
       "    .dataframe tbody tr th {\n",
       "        vertical-align: top;\n",
       "    }\n",
       "\n",
       "    .dataframe thead th {\n",
       "        text-align: right;\n",
       "    }\n",
       "</style>\n",
       "<table border=\"1\" class=\"dataframe\">\n",
       "  <thead>\n",
       "    <tr style=\"text-align: right;\">\n",
       "      <th></th>\n",
       "      <th>ContestId</th>\n",
       "      <th>MinutesRemaining</th>\n",
       "      <th>Entries</th>\n",
       "    </tr>\n",
       "  </thead>\n",
       "  <tbody>\n",
       "    <tr>\n",
       "      <th>150963</th>\n",
       "      <td>58797657</td>\n",
       "      <td>1</td>\n",
       "      <td>18</td>\n",
       "    </tr>\n",
       "  </tbody>\n",
       "</table>\n",
       "</div>"
      ],
      "text/plain": [
       "        ContestId  MinutesRemaining  Entries\n",
       "150963   58797657                 1       18"
      ]
     },
     "execution_count": 538,
     "metadata": {},
     "output_type": "execute_result"
    }
   ],
   "source": [
    "cSeriesDF"
   ]
  },
  {
   "cell_type": "code",
   "execution_count": 537,
   "metadata": {},
   "outputs": [
    {
     "name": "stdout",
     "output_type": "stream",
     "text": [
      "Chunks:\n"
     ]
    },
    {
     "data": {
      "application/vnd.jupyter.widget-view+json": {
       "model_id": "8bc2f1602e9e498d8bb5e972f6c93872",
       "version_major": 2,
       "version_minor": 0
      },
      "text/plain": [
       "IntProgress(value=0, max=65)"
      ]
     },
     "metadata": {},
     "output_type": "display_data"
    },
    {
     "name": "stdout",
     "output_type": "stream",
     "text": [
      "Contests:\n"
     ]
    },
    {
     "data": {
      "application/vnd.jupyter.widget-view+json": {
       "model_id": "a950613f8e7b4b5ab85fee9146713394",
       "version_major": 2,
       "version_minor": 0
      },
      "text/plain": [
       "IntProgress(value=0, max=10000)"
      ]
     },
     "metadata": {},
     "output_type": "display_data"
    },
    {
     "name": "stdout",
     "output_type": "stream",
     "text": [
      "chunk1\n"
     ]
    },
    {
     "ename": "KeyError",
     "evalue": "'MinutesRemaining'",
     "output_type": "error",
     "traceback": [
      "\u001b[0;31m---------------------------------------------------------------------------\u001b[0m",
      "\u001b[0;31mKeyError\u001b[0m                                  Traceback (most recent call last)",
      "\u001b[0;32m<ipython-input-537-5618c6118375>\u001b[0m in \u001b[0;36m<module>\u001b[0;34m()\u001b[0m\n\u001b[1;32m     14\u001b[0m \u001b[0;32mfor\u001b[0m \u001b[0mchunkName\u001b[0m \u001b[0;32min\u001b[0m \u001b[0mchunkNames\u001b[0m\u001b[0;34m:\u001b[0m\u001b[0;34m\u001b[0m\u001b[0m\n\u001b[1;32m     15\u001b[0m     \u001b[0mprint\u001b[0m\u001b[0;34m(\u001b[0m\u001b[0mchunkName\u001b[0m\u001b[0;34m)\u001b[0m\u001b[0;34m\u001b[0m\u001b[0m\n\u001b[0;32m---> 16\u001b[0;31m     \u001b[0mchunkDF\u001b[0m \u001b[0;34m=\u001b[0m \u001b[0mpd\u001b[0m\u001b[0;34m.\u001b[0m\u001b[0mread_csv\u001b[0m\u001b[0;34m(\u001b[0m\u001b[0;34m'data/Chunks_Scaled/'\u001b[0m\u001b[0;34m+\u001b[0m\u001b[0mchunkName\u001b[0m\u001b[0;34m+\u001b[0m\u001b[0;34m'.csv'\u001b[0m\u001b[0;34m)\u001b[0m\u001b[0;34m.\u001b[0m\u001b[0mdrop\u001b[0m\u001b[0;34m(\u001b[0m\u001b[0mcolumns\u001b[0m\u001b[0;34m=\u001b[0m\u001b[0;34m[\u001b[0m\u001b[0;34m'Unnamed: 0'\u001b[0m\u001b[0;34m]\u001b[0m\u001b[0;34m)\u001b[0m\u001b[0;34m.\u001b[0m\u001b[0msort_values\u001b[0m\u001b[0;34m(\u001b[0m\u001b[0mby\u001b[0m\u001b[0;34m=\u001b[0m\u001b[0;34m[\u001b[0m\u001b[0;34m'MinutesRemaining'\u001b[0m\u001b[0;34m]\u001b[0m\u001b[0;34m,\u001b[0m \u001b[0mascending\u001b[0m\u001b[0;34m=\u001b[0m\u001b[0;32mFalse\u001b[0m\u001b[0;34m)\u001b[0m\u001b[0;34m\u001b[0m\u001b[0m\n\u001b[0m\u001b[1;32m     17\u001b[0m \u001b[0;34m\u001b[0m\u001b[0m\n\u001b[1;32m     18\u001b[0m     \u001b[0mcontests\u001b[0m \u001b[0;34m=\u001b[0m \u001b[0mchunkDF\u001b[0m\u001b[0;34m[\u001b[0m\u001b[0;34m'ContestId'\u001b[0m\u001b[0;34m]\u001b[0m\u001b[0;34m.\u001b[0m\u001b[0munique\u001b[0m\u001b[0;34m(\u001b[0m\u001b[0;34m)\u001b[0m\u001b[0;34m[\u001b[0m\u001b[0;34m:\u001b[0m\u001b[0;34m]\u001b[0m\u001b[0;34m\u001b[0m\u001b[0m\n",
      "\u001b[0;32m/anaconda3/lib/python3.6/site-packages/pandas/core/frame.py\u001b[0m in \u001b[0;36msort_values\u001b[0;34m(self, by, axis, ascending, inplace, kind, na_position)\u001b[0m\n\u001b[1;32m   4416\u001b[0m             \u001b[0mby\u001b[0m \u001b[0;34m=\u001b[0m \u001b[0mby\u001b[0m\u001b[0;34m[\u001b[0m\u001b[0;36m0\u001b[0m\u001b[0;34m]\u001b[0m\u001b[0;34m\u001b[0m\u001b[0m\n\u001b[1;32m   4417\u001b[0m             k = self._get_label_or_level_values(by, axis=axis,\n\u001b[0;32m-> 4418\u001b[0;31m                                                 stacklevel=stacklevel)\n\u001b[0m\u001b[1;32m   4419\u001b[0m \u001b[0;34m\u001b[0m\u001b[0m\n\u001b[1;32m   4420\u001b[0m             \u001b[0;32mif\u001b[0m \u001b[0misinstance\u001b[0m\u001b[0;34m(\u001b[0m\u001b[0mascending\u001b[0m\u001b[0;34m,\u001b[0m \u001b[0;34m(\u001b[0m\u001b[0mtuple\u001b[0m\u001b[0;34m,\u001b[0m \u001b[0mlist\u001b[0m\u001b[0;34m)\u001b[0m\u001b[0;34m)\u001b[0m\u001b[0;34m:\u001b[0m\u001b[0;34m\u001b[0m\u001b[0m\n",
      "\u001b[0;32m/anaconda3/lib/python3.6/site-packages/pandas/core/generic.py\u001b[0m in \u001b[0;36m_get_label_or_level_values\u001b[0;34m(self, key, axis, stacklevel)\u001b[0m\n\u001b[1;32m   1377\u001b[0m             \u001b[0mvalues\u001b[0m \u001b[0;34m=\u001b[0m \u001b[0mself\u001b[0m\u001b[0;34m.\u001b[0m\u001b[0maxes\u001b[0m\u001b[0;34m[\u001b[0m\u001b[0maxis\u001b[0m\u001b[0;34m]\u001b[0m\u001b[0;34m.\u001b[0m\u001b[0mget_level_values\u001b[0m\u001b[0;34m(\u001b[0m\u001b[0mkey\u001b[0m\u001b[0;34m)\u001b[0m\u001b[0;34m.\u001b[0m\u001b[0m_values\u001b[0m\u001b[0;34m\u001b[0m\u001b[0m\n\u001b[1;32m   1378\u001b[0m         \u001b[0;32melse\u001b[0m\u001b[0;34m:\u001b[0m\u001b[0;34m\u001b[0m\u001b[0m\n\u001b[0;32m-> 1379\u001b[0;31m             \u001b[0;32mraise\u001b[0m \u001b[0mKeyError\u001b[0m\u001b[0;34m(\u001b[0m\u001b[0mkey\u001b[0m\u001b[0;34m)\u001b[0m\u001b[0;34m\u001b[0m\u001b[0m\n\u001b[0m\u001b[1;32m   1380\u001b[0m \u001b[0;34m\u001b[0m\u001b[0m\n\u001b[1;32m   1381\u001b[0m         \u001b[0;31m# Check for duplicates\u001b[0m\u001b[0;34m\u001b[0m\u001b[0;34m\u001b[0m\u001b[0m\n",
      "\u001b[0;31mKeyError\u001b[0m: 'MinutesRemaining'"
     ]
    }
   ],
   "source": [
    "chunkNames = chunkMapDF['Chunk'].unique()[:]\n",
    "\n",
    "chunkBar = IntProgress(min=0, max=len(chunkNames))\n",
    "contestBar = IntProgress(min=0, max=10000)\n",
    "\n",
    "print(\"Chunks:\")\n",
    "display(chunkBar)\n",
    "\n",
    "print(\"Contests:\")\n",
    "display(contestBar)\n",
    "\n",
    "results = []\n",
    "\n",
    "for chunkName in chunkNames:\n",
    "    print(chunkName)\n",
    "    chunkDF = pd.read_csv('data/Chunks_Scaled/'+chunkName+'.csv').drop(columns=['Unnamed: 0']).sort_values(by=['MinutesRemaining'], ascending=False)\n",
    "    \n",
    "    contests = chunkDF['ContestId'].unique()[:]\n",
    "    contestBar.value=0\n",
    "    contestBar.max = len(contests)\n",
    "    for cid in contests:\n",
    "        cSeriesDF = chunkDF[chunkDF['ContestId']==cid]\n",
    "#         numberToRemove = len(cSeriesDF[cSeriesDF['MinutesRemaining']<240])\n",
    "\n",
    "#         X = cSeriesDF['MinutesRemaining'].max() - cSeriesDF['MinutesRemaining'][:-numberToRemove]\n",
    "#         Y = cSeriesDF['Entries'].cumsum()[:-numberToRemove]\n",
    "#         X, Y = list(X), list(Y)        \n",
    "#         count = 0\n",
    "#         contest = {'ContestId':cid}\n",
    "        \n",
    "#         for fFactor in Fs:\n",
    "            \n",
    "#             fName = fFactor['label']\n",
    "#             fFactor = fFactor['F']\n",
    "# #             print(fName, fFactor)\n",
    "#             A, B = 'TooShort', 'TooShort'\n",
    "#             if(len(X)>=3):\n",
    "#                 A, B = processRegr(X, Y, fFactor)\n",
    "#             contest['A'+fName], contest['B'+fName]=A, B    \n",
    "#         results.append(contest)\n",
    "#         contestBar.value+=1\n",
    "#     chunkBar.value+=1\n"
   ]
  },
  {
   "cell_type": "code",
   "execution_count": 526,
   "metadata": {},
   "outputs": [],
   "source": [
    "resultsDF = pd.DataFrame(results).set_index('ContestId')"
   ]
  },
  {
   "cell_type": "code",
   "execution_count": 527,
   "metadata": {
    "scrolled": true
   },
   "outputs": [
    {
     "data": {
      "text/html": [
       "<div>\n",
       "<style scoped>\n",
       "    .dataframe tbody tr th:only-of-type {\n",
       "        vertical-align: middle;\n",
       "    }\n",
       "\n",
       "    .dataframe tbody tr th {\n",
       "        vertical-align: top;\n",
       "    }\n",
       "\n",
       "    .dataframe thead th {\n",
       "        text-align: right;\n",
       "    }\n",
       "</style>\n",
       "<table border=\"1\" class=\"dataframe\">\n",
       "  <thead>\n",
       "    <tr style=\"text-align: right;\">\n",
       "      <th></th>\n",
       "      <th>f10A</th>\n",
       "      <th>f10B</th>\n",
       "      <th>f11A</th>\n",
       "      <th>f11B</th>\n",
       "      <th>f1A</th>\n",
       "      <th>f1B</th>\n",
       "      <th>f2A</th>\n",
       "      <th>f2B</th>\n",
       "      <th>f3A</th>\n",
       "      <th>f3B</th>\n",
       "      <th>...</th>\n",
       "      <th>f5A</th>\n",
       "      <th>f5B</th>\n",
       "      <th>f6A</th>\n",
       "      <th>f6B</th>\n",
       "      <th>f7A</th>\n",
       "      <th>f7B</th>\n",
       "      <th>f8A</th>\n",
       "      <th>f8B</th>\n",
       "      <th>f9A</th>\n",
       "      <th>f9B</th>\n",
       "    </tr>\n",
       "    <tr>\n",
       "      <th>ContestId</th>\n",
       "      <th></th>\n",
       "      <th></th>\n",
       "      <th></th>\n",
       "      <th></th>\n",
       "      <th></th>\n",
       "      <th></th>\n",
       "      <th></th>\n",
       "      <th></th>\n",
       "      <th></th>\n",
       "      <th></th>\n",
       "      <th></th>\n",
       "      <th></th>\n",
       "      <th></th>\n",
       "      <th></th>\n",
       "      <th></th>\n",
       "      <th></th>\n",
       "      <th></th>\n",
       "      <th></th>\n",
       "      <th></th>\n",
       "      <th></th>\n",
       "      <th></th>\n",
       "    </tr>\n",
       "  </thead>\n",
       "  <tbody>\n",
       "    <tr>\n",
       "      <th>55826033</th>\n",
       "      <td>402.019</td>\n",
       "      <td>6.38683e-05</td>\n",
       "      <td>401.848</td>\n",
       "      <td>6.38737e-05</td>\n",
       "      <td>401.829</td>\n",
       "      <td>6.38743e-05</td>\n",
       "      <td>inf</td>\n",
       "      <td>-5.38728</td>\n",
       "      <td>inf</td>\n",
       "      <td>-0.482865</td>\n",
       "      <td>...</td>\n",
       "      <td>2.0541e+99</td>\n",
       "      <td>-0.0032119</td>\n",
       "      <td>266476</td>\n",
       "      <td>-2.67541e-05</td>\n",
       "      <td>655.437</td>\n",
       "      <td>5.7551e-05</td>\n",
       "      <td>421.393</td>\n",
       "      <td>6.32663e-05</td>\n",
       "      <td>403.738</td>\n",
       "      <td>6.38137e-05</td>\n",
       "    </tr>\n",
       "    <tr>\n",
       "      <th>56610037</th>\n",
       "      <td>186.177</td>\n",
       "      <td>8.7691e-05</td>\n",
       "      <td>186.146</td>\n",
       "      <td>8.76957e-05</td>\n",
       "      <td>186.143</td>\n",
       "      <td>8.76962e-05</td>\n",
       "      <td>inf</td>\n",
       "      <td>-3.90998</td>\n",
       "      <td>inf</td>\n",
       "      <td>-0.347349</td>\n",
       "      <td>...</td>\n",
       "      <td>1.09651e+28</td>\n",
       "      <td>-0.00181771</td>\n",
       "      <td>1585.99</td>\n",
       "      <td>2.53652e-05</td>\n",
       "      <td>224.648</td>\n",
       "      <td>8.24326e-05</td>\n",
       "      <td>189.629</td>\n",
       "      <td>8.7179e-05</td>\n",
       "      <td>186.488</td>\n",
       "      <td>8.76445e-05</td>\n",
       "    </tr>\n",
       "    <tr>\n",
       "      <th>56751298</th>\n",
       "      <td>0.661184</td>\n",
       "      <td>0.000231577</td>\n",
       "      <td>0.661178</td>\n",
       "      <td>0.000231577</td>\n",
       "      <td>0.661178</td>\n",
       "      <td>0.000231577</td>\n",
       "      <td>inf</td>\n",
       "      <td>-2.39249</td>\n",
       "      <td>inf</td>\n",
       "      <td>-0.21572</td>\n",
       "      <td>...</td>\n",
       "      <td>399.102</td>\n",
       "      <td>-2.11577e-06</td>\n",
       "      <td>0.745566</td>\n",
       "      <td>0.000235708</td>\n",
       "      <td>0.667472</td>\n",
       "      <td>0.000232144</td>\n",
       "      <td>0.661789</td>\n",
       "      <td>0.000231635</td>\n",
       "      <td>0.661239</td>\n",
       "      <td>0.000231582</td>\n",
       "    </tr>\n",
       "    <tr>\n",
       "      <th>56859642</th>\n",
       "      <td>23.552</td>\n",
       "      <td>0.000134688</td>\n",
       "      <td>23.5503</td>\n",
       "      <td>0.000134691</td>\n",
       "      <td>23.5501</td>\n",
       "      <td>0.000134691</td>\n",
       "      <td>inf</td>\n",
       "      <td>-2.85438</td>\n",
       "      <td>inf</td>\n",
       "      <td>-0.251052</td>\n",
       "      <td>...</td>\n",
       "      <td>8.9297e+09</td>\n",
       "      <td>-0.000829168</td>\n",
       "      <td>56.8338</td>\n",
       "      <td>9.66528e-05</td>\n",
       "      <td>25.524</td>\n",
       "      <td>0.000131323</td>\n",
       "      <td>23.7387</td>\n",
       "      <td>0.000134359</td>\n",
       "      <td>23.5689</td>\n",
       "      <td>0.000134658</td>\n",
       "    </tr>\n",
       "    <tr>\n",
       "      <th>57008091</th>\n",
       "      <td>7.00538</td>\n",
       "      <td>0.00016179</td>\n",
       "      <td>7.00511</td>\n",
       "      <td>0.000161792</td>\n",
       "      <td>7.00508</td>\n",
       "      <td>0.000161792</td>\n",
       "      <td>inf</td>\n",
       "      <td>-2.19106</td>\n",
       "      <td>inf</td>\n",
       "      <td>-0.191655</td>\n",
       "      <td>...</td>\n",
       "      <td>81928.9</td>\n",
       "      <td>-0.000405195</td>\n",
       "      <td>11.1534</td>\n",
       "      <td>0.000137387</td>\n",
       "      <td>7.31382</td>\n",
       "      <td>0.000159598</td>\n",
       "      <td>7.03513</td>\n",
       "      <td>0.000161575</td>\n",
       "      <td>7.00808</td>\n",
       "      <td>0.000161771</td>\n",
       "    </tr>\n",
       "  </tbody>\n",
       "</table>\n",
       "<p>5 rows × 22 columns</p>\n",
       "</div>"
      ],
      "text/plain": [
       "               f10A         f10B      f11A         f11B       f1A  \\\n",
       "ContestId                                                           \n",
       "55826033    402.019  6.38683e-05   401.848  6.38737e-05   401.829   \n",
       "56610037    186.177   8.7691e-05   186.146  8.76957e-05   186.143   \n",
       "56751298   0.661184  0.000231577  0.661178  0.000231577  0.661178   \n",
       "56859642     23.552  0.000134688   23.5503  0.000134691   23.5501   \n",
       "57008091    7.00538   0.00016179   7.00511  0.000161792   7.00508   \n",
       "\n",
       "                   f1B  f2A      f2B  f3A       f3B     ...               f5A  \\\n",
       "ContestId                                               ...                     \n",
       "55826033   6.38743e-05  inf -5.38728  inf -0.482865     ...        2.0541e+99   \n",
       "56610037   8.76962e-05  inf -3.90998  inf -0.347349     ...       1.09651e+28   \n",
       "56751298   0.000231577  inf -2.39249  inf  -0.21572     ...           399.102   \n",
       "56859642   0.000134691  inf -2.85438  inf -0.251052     ...        8.9297e+09   \n",
       "57008091   0.000161792  inf -2.19106  inf -0.191655     ...           81928.9   \n",
       "\n",
       "                   f5B       f6A          f6B       f7A          f7B  \\\n",
       "ContestId                                                              \n",
       "55826033    -0.0032119    266476 -2.67541e-05   655.437   5.7551e-05   \n",
       "56610037   -0.00181771   1585.99  2.53652e-05   224.648  8.24326e-05   \n",
       "56751298  -2.11577e-06  0.745566  0.000235708  0.667472  0.000232144   \n",
       "56859642  -0.000829168   56.8338  9.66528e-05    25.524  0.000131323   \n",
       "57008091  -0.000405195   11.1534  0.000137387   7.31382  0.000159598   \n",
       "\n",
       "                f8A          f8B       f9A          f9B  \n",
       "ContestId                                                \n",
       "55826033    421.393  6.32663e-05   403.738  6.38137e-05  \n",
       "56610037    189.629   8.7179e-05   186.488  8.76445e-05  \n",
       "56751298   0.661789  0.000231635  0.661239  0.000231582  \n",
       "56859642    23.7387  0.000134359   23.5689  0.000134658  \n",
       "57008091    7.03513  0.000161575   7.00808  0.000161771  \n",
       "\n",
       "[5 rows x 22 columns]"
      ]
     },
     "execution_count": 527,
     "metadata": {},
     "output_type": "execute_result"
    }
   ],
   "source": [
    "resultsDF.head()"
   ]
  },
  {
   "cell_type": "code",
   "execution_count": 525,
   "metadata": {},
   "outputs": [],
   "source": [
    "resultsDF.to_csv('data/LR_Values.csv')"
   ]
  },
  {
   "cell_type": "code",
   "execution_count": 344,
   "metadata": {},
   "outputs": [],
   "source": []
  },
  {
   "cell_type": "code",
   "execution_count": null,
   "metadata": {},
   "outputs": [],
   "source": []
  }
 ],
 "metadata": {
  "kernelspec": {
   "display_name": "Python 3",
   "language": "python",
   "name": "python3"
  },
  "language_info": {
   "codemirror_mode": {
    "name": "ipython",
    "version": 3
   },
   "file_extension": ".py",
   "mimetype": "text/x-python",
   "name": "python",
   "nbconvert_exporter": "python",
   "pygments_lexer": "ipython3",
   "version": "3.6.5"
  }
 },
 "nbformat": 4,
 "nbformat_minor": 2
}

{
 "cells": [
  {
   "cell_type": "code",
   "execution_count": 1,
   "metadata": {},
   "outputs": [],
   "source": [
    "import pandas as pd\n",
    "import numpy as np\n",
    "from ipywidgets import IntProgress\n",
    "from matplotlib import pyplot as plt"
   ]
  },
  {
   "cell_type": "code",
   "execution_count": 2,
   "metadata": {},
   "outputs": [],
   "source": [
    "dif = .1\n",
    "start = 0.\n",
    "Fs = [{'label': 'f1', 'F': 1.}]\n",
    "for i in range(1, 10):\n",
    "    cur = round(start+dif*i, 2)\n",
    "    Fs.append({'label':'f'+str(i+1), 'F':cur})\n",
    "\n",
    "base=.9\n",
    "dif = .9\n",
    "for i in range(0, 5):\n",
    "    dif = dif*.1\n",
    "    base = base + dif\n",
    "    cur = round(base, i+2)\n",
    "    Fs.append({'label':'f'+str(i+11), 'F':cur})"
   ]
  },
  {
   "cell_type": "code",
   "execution_count": 3,
   "metadata": {},
   "outputs": [
    {
     "data": {
      "text/plain": [
       "[{'label': 'f1', 'F': 1.0},\n",
       " {'label': 'f2', 'F': 0.1},\n",
       " {'label': 'f3', 'F': 0.2},\n",
       " {'label': 'f4', 'F': 0.3},\n",
       " {'label': 'f5', 'F': 0.4},\n",
       " {'label': 'f6', 'F': 0.5},\n",
       " {'label': 'f7', 'F': 0.6},\n",
       " {'label': 'f8', 'F': 0.7},\n",
       " {'label': 'f9', 'F': 0.8},\n",
       " {'label': 'f10', 'F': 0.9},\n",
       " {'label': 'f11', 'F': 0.99},\n",
       " {'label': 'f12', 'F': 0.999},\n",
       " {'label': 'f13', 'F': 0.9999},\n",
       " {'label': 'f14', 'F': 0.99999},\n",
       " {'label': 'f15', 'F': 0.999999}]"
      ]
     },
     "execution_count": 3,
     "metadata": {},
     "output_type": "execute_result"
    }
   ],
   "source": [
    "Fs"
   ]
  },
  {
   "cell_type": "code",
   "execution_count": 4,
   "metadata": {},
   "outputs": [],
   "source": [
    "chunkMapDF = pd.read_csv('data/ChunkMap.csv')\n",
    "# qrVals = pd.read_csv('QR_Values.csv')"
   ]
  },
  {
   "cell_type": "code",
   "execution_count": 5,
   "metadata": {},
   "outputs": [],
   "source": [
    "var = 0"
   ]
  },
  {
   "cell_type": "code",
   "execution_count": 6,
   "metadata": {},
   "outputs": [],
   "source": [
    "H_TRANSPOSE=None\n",
    "H = None\n",
    "\n",
    "def leastSquare(X, Y, F, SCALED_DATA=False):\n",
    "    global H, H_TRANSPOSE\n",
    "    H_TRANSPOSE = np.vstack(([1.]*len(X), X))\n",
    "    H = np.transpose(H_TRANSPOSE).copy()\n",
    "    currF = 1.\n",
    "    i=0\n",
    "    currF = F\n",
    "    for x in X:\n",
    "        if(SCALED_DATA):\n",
    "            currF = F**(100-x)\n",
    "        else:\n",
    "            currF = currF*F\n",
    "        H_TRANSPOSE[0][i], H_TRANSPOSE[1][i] = H_TRANSPOSE[0][i]*currF, H_TRANSPOSE[1][i]*currF\n",
    "        i+=1\n",
    "    #We are using np.linalg.lstsq because unlike .inv and .solve, .lstsq accepts singular matrices\n",
    "    if(np.linalg.det(H_TRANSPOSE @ H) == 0):\n",
    "        return np.linalg.lstsq(H_TRANSPOSE @ H, H_TRANSPOSE @ Y)[0]\n",
    "    else:\n",
    "        return np.linalg.solve(H_TRANSPOSE @ H, H_TRANSPOSE @ Y)\n",
    "\n",
    "\n",
    "def interpXY(X, Y):\n",
    "    numPoints = pd.Series(X).max()+1\n",
    "    startX = X[0]\n",
    "    newX = list(range(startX, numPoints+startX))\n",
    "    newY = [np.nan]*numPoints    \n",
    "    for i in range(0, len(X)):\n",
    "        xV = X[i]-startX\n",
    "#         print(i, xV)\n",
    "        newY[xV] = Y[i]\n",
    "    newY = list(pd.Series(newY).interpolate())\n",
    "    return newX, newY\n",
    "\n",
    "def raiseAB(A, B):\n",
    "    return np.exp(A), B\n",
    "\n",
    "def genABData(A, B):\n",
    "#     X = list(range(0, Xf))\n",
    "    X, Y = [], []\n",
    "    for i in range(0, 100):\n",
    "        x = i\n",
    "        X.append(x)\n",
    "        Y.append(A*np.exp(B*x))\n",
    "    return X, Y\n",
    "\n",
    "def genData(A, B):\n",
    "#     X = list(range(0, Xf))\n",
    "    X, Y = [], []\n",
    "    for i in range(0, 100):\n",
    "        x = i\n",
    "        X.append(x)\n",
    "        Y.append(A+B*x)\n",
    "    return X, Y\n",
    "\n",
    "def processRegr(X, Y, F, SCALED_DATA=False):\n",
    "    A, B = leastSquare(X, np.log(Y), F, SCALED_DATA=SCALED_DATA)\n",
    "    if(A==\"HTooShort\"):\n",
    "        return A, B\n",
    "    else:\n",
    "        return raiseAB(A, B)\n"
   ]
  },
  {
   "cell_type": "code",
   "execution_count": 16,
   "metadata": {},
   "outputs": [],
   "source": [
    "scaled = False"
   ]
  },
  {
   "cell_type": "code",
   "execution_count": 17,
   "metadata": {
    "scrolled": false
   },
   "outputs": [
    {
     "name": "stdout",
     "output_type": "stream",
     "text": [
      "Chunks:\n"
     ]
    },
    {
     "data": {
      "application/vnd.jupyter.widget-view+json": {
       "model_id": "5a532eba3e1242328fe84adebe52d2a3",
       "version_major": 2,
       "version_minor": 0
      },
      "text/plain": [
       "IntProgress(value=0, max=65)"
      ]
     },
     "metadata": {},
     "output_type": "display_data"
    },
    {
     "name": "stdout",
     "output_type": "stream",
     "text": [
      "Contests:\n"
     ]
    },
    {
     "data": {
      "application/vnd.jupyter.widget-view+json": {
       "model_id": "fa5f60d2314142d0b8d8512eb6e4861e",
       "version_major": 2,
       "version_minor": 0
      },
      "text/plain": [
       "IntProgress(value=0, max=10000)"
      ]
     },
     "metadata": {},
     "output_type": "display_data"
    },
    {
     "name": "stdout",
     "output_type": "stream",
     "text": [
      "chunk1\n"
     ]
    },
    {
     "name": "stderr",
     "output_type": "stream",
     "text": [
      "/anaconda3/lib/python3.6/site-packages/ipykernel_launcher.py:20: FutureWarning: `rcond` parameter will change to the default of machine precision times ``max(M, N)`` where M and N are the input matrix dimensions.\n",
      "To use the future default and silence this warning we advise to pass `rcond=None`, to keep using the old, explicitly pass `rcond=-1`.\n"
     ]
    },
    {
     "name": "stdout",
     "output_type": "stream",
     "text": [
      "chunk2\n",
      "chunk3\n",
      "chunk4\n",
      "chunk5\n",
      "chunk6\n",
      "chunk7\n",
      "chunk8\n",
      "chunk9\n",
      "chunk10\n",
      "chunk11\n",
      "chunk12\n",
      "chunk13\n",
      "chunk14\n",
      "chunk15\n",
      "chunk16\n",
      "chunk17\n",
      "chunk18\n",
      "chunk19\n",
      "chunk20\n",
      "chunk21\n",
      "chunk22\n",
      "chunk23\n",
      "chunk24\n",
      "chunk25\n",
      "chunk26\n",
      "chunk27\n",
      "chunk28\n",
      "chunk29\n",
      "chunk30\n",
      "chunk31\n",
      "chunk32\n",
      "chunk33\n",
      "chunk34\n",
      "chunk35\n",
      "chunk36\n",
      "chunk37\n",
      "chunk38\n",
      "chunk39\n",
      "chunk40\n",
      "chunk41\n",
      "chunk42\n",
      "chunk43\n",
      "chunk44\n",
      "chunk45\n",
      "chunk46\n",
      "chunk47\n",
      "chunk48\n",
      "chunk49\n",
      "chunk50\n",
      "chunk51\n",
      "chunk52\n",
      "chunk53\n",
      "chunk54\n",
      "chunk55\n",
      "chunk56\n",
      "chunk57\n",
      "chunk58\n",
      "chunk59\n",
      "chunk60\n",
      "chunk61\n",
      "chunk62\n",
      "chunk63\n",
      "chunk64\n",
      "chunk65\n"
     ]
    }
   ],
   "source": [
    "chunkNames = chunkMapDF['Chunk'].unique()[:]\n",
    "\n",
    "chunkBar = IntProgress(min=0, max=len(chunkNames))\n",
    "contestBar = IntProgress(min=0, max=10000)\n",
    "\n",
    "print(\"Chunks:\")\n",
    "display(chunkBar)\n",
    "\n",
    "print(\"Contests:\")\n",
    "display(contestBar)\n",
    "\n",
    "results = []\n",
    "\n",
    "for chunkName in chunkNames[:]:\n",
    "    print(chunkName)\n",
    "    if(scaled):\n",
    "        chunkDF = pd.read_csv('data/Chunks_Scaled/'+chunkName+'.csv')\n",
    "    else:\n",
    "        chunkDF = pd.read_csv('data/Chunks/'+chunkName+'.csv')\n",
    "\n",
    "    contests = chunkDF['ContestId'].unique()[:]\n",
    "    contestBar.value=0\n",
    "    contestBar.max = len(contests)\n",
    "    for cid in contests[:]:\n",
    "        if(scaled):\n",
    "            cSeriesDF = chunkDF[chunkDF['ContestId']==cid]\n",
    "            cSeriesDF = cSeriesDF[cSeriesDF['Before4HoursOut']]\n",
    "            X = cSeriesDF['TimeScaled']\n",
    "            Y = cSeriesDF['EntriesScaled']\n",
    "            X, Y = list(X), list(Y)        \n",
    "            count = 0\n",
    "        else:\n",
    "            cSeriesDF = chunkDF[chunkDF['ContestId']==cid].sort_values(by=['MinutesRemaining'], ascending=False)\n",
    "            numberToRemove = len(cSeriesDF[cSeriesDF['MinutesRemaining']<240])\n",
    "            X = cSeriesDF['MinutesRemaining'].max() - cSeriesDF['MinutesRemaining'][:-numberToRemove]\n",
    "            Y = cSeriesDF['Entries'].cumsum()[:-numberToRemove]\n",
    "            X, Y = list(X), list(Y)   \n",
    "        \n",
    "        contest = {'ContestId':cid}\n",
    "        \n",
    "        for fFactor in Fs[:]:\n",
    "            fName = fFactor['label']\n",
    "            fFactor = fFactor['F']\n",
    "            A, B = 'TooShort', 'TooShort'\n",
    "            if(len(X)>=1):\n",
    "                 A, B  = processRegr(X, Y, fFactor, SCALED_DATA=scaled)\n",
    "            contest[fName+'A'], contest[fName+'B']=A, B    \n",
    "        results.append(contest)\n",
    "        contestBar.value+=1\n",
    "    chunkBar.value+=1\n"
   ]
  },
  {
   "cell_type": "code",
   "execution_count": 18,
   "metadata": {},
   "outputs": [],
   "source": [
    "resultsDF = pd.DataFrame(results).set_index('ContestId')"
   ]
  },
  {
   "cell_type": "code",
   "execution_count": 19,
   "metadata": {},
   "outputs": [
    {
     "data": {
      "text/plain": [
       "649329"
      ]
     },
     "execution_count": 19,
     "metadata": {},
     "output_type": "execute_result"
    }
   ],
   "source": [
    "len(resultsDF)"
   ]
  },
  {
   "cell_type": "code",
   "execution_count": 20,
   "metadata": {
    "scrolled": true
   },
   "outputs": [
    {
     "data": {
      "text/plain": [
       "294389"
      ]
     },
     "execution_count": 20,
     "metadata": {},
     "output_type": "execute_result"
    }
   ],
   "source": [
    "len(resultsDF[resultsDF['f1A']=='TooShort'])"
   ]
  },
  {
   "cell_type": "markdown",
   "metadata": {},
   "source": [
    "scaled had 198k TooShort"
   ]
  },
  {
   "cell_type": "code",
   "execution_count": 22,
   "metadata": {},
   "outputs": [],
   "source": [
    "if(scaled):\n",
    "    resultsDF.to_csv('data/scaled/LR_Values.csv')\n",
    "else:\n",
    "    resultsDF.to_csv('data/unscaled/LR_Values.csv')"
   ]
  },
  {
   "cell_type": "code",
   "execution_count": null,
   "metadata": {},
   "outputs": [],
   "source": []
  }
 ],
 "metadata": {
  "kernelspec": {
   "display_name": "Python 3",
   "language": "python",
   "name": "python3"
  },
  "language_info": {
   "codemirror_mode": {
    "name": "ipython",
    "version": 3
   },
   "file_extension": ".py",
   "mimetype": "text/x-python",
   "name": "python",
   "nbconvert_exporter": "python",
   "pygments_lexer": "ipython3",
   "version": "3.6.5"
  }
 },
 "nbformat": 4,
 "nbformat_minor": 2
}

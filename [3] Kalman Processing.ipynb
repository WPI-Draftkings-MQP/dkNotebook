{
 "cells": [
  {
   "cell_type": "markdown",
   "metadata": {},
   "source": [
    "### MADE IT TO CHUNK 6, PROCESS 1-6!!!!"
   ]
  },
  {
   "cell_type": "code",
   "execution_count": 107,
   "metadata": {},
   "outputs": [],
   "source": [
    "import pandas as pd\n",
    "import numpy as np\n",
    "\n",
    "from ipywidgets import IntProgress\n"
   ]
  },
  {
   "cell_type": "code",
   "execution_count": 201,
   "metadata": {},
   "outputs": [],
   "source": [
    "chunkMapDF = pd.read_csv('data/ChunkMap.csv')\n",
    "qrVals = pd.read_csv('QR_Values.csv')"
   ]
  },
  {
   "cell_type": "code",
   "execution_count": 192,
   "metadata": {},
   "outputs": [],
   "source": [
    "def kParameters(X, Y, QA, QB):\n",
    "    random_state = np.random.RandomState(0)\n",
    "    F = np.eye(2) #Transition Matrix (Identity Matrix)\n",
    "    Z = Y #Observation matrix\n",
    "    X0 = [[4.], [.0023]] #Inital parameters guess (?) <<<< NEED VALUES\n",
    "    P0 = (np.eye(2) + random_state.randn(2, 2)*.1)*100*np.eye(2) #Covariance Matrix (The confidence in our prediction)\n",
    "    R = 1\n",
    "    Q = [[QA,0.],[0.,QB]]\n",
    "    w = np.random.multivariate_normal([0., 0.], Q)\n",
    "    return {'random_state':random_state, 'F':F, 'Z':Z, 'X0':X0, 'P0':P0, 'R':R, 'Q':Q, 'w':w}\n",
    "\n",
    "def kalmanFilter(X, Y, parameters, extended=True):\n",
    "    Xs = []\n",
    "    \n",
    "    Pk = parameters['P0'] \n",
    "    Xk = parameters['X0'] \n",
    "    for n in range(0, len(X)):\n",
    "        time, actual = X[n], Y[n]\n",
    "        Pk = Pk + parameters[\"Q\"]\n",
    "                  \n",
    "        Hk, Zk = 0, 0\n",
    "        if(extended):\n",
    "            part1 = np.exp(Xk[1][0]*time)\n",
    "            Hk = [part1, part1*(Xk[0][0]*time)]\n",
    "            Zk = Xk[0][0]*np.exp(Xk[1][0]*time)\n",
    "        else:\n",
    "            Hk = [1., time]\n",
    "            Zk = np.dot(Hk, Xk) + np.random.normal(loc=0., scale=parameters['R']) #<----- Consider putting Vk instead of R        \n",
    "        \n",
    "        Yk = actual - Zk # residuals\n",
    "        transposedH = [[Hk[0]],[Hk[1]]]\n",
    "        Sk = np.dot(np.dot(Hk, Pk), transposedH)[0]+parameters['R']\n",
    "        Kk = np.dot(Pk, transposedH)*(1/Sk)\n",
    "        Xnext = Xk + Kk*Yk        \n",
    "        p_part = (np.eye(2)-np.outer(Kk, Hk))\n",
    "        Pnext = np.dot(p_part, Pk)\n",
    "        Xs.append([Xk[0][0], Xk[1][0]])\n",
    "        #Set new vars based on current observation\n",
    "        Pk = Pnext\n",
    "        Xk = Xnext\n",
    "    if(len(Xs)==0):\n",
    "        if(len(X) <240):\n",
    "            return ['TooShort', 'TooShort']\n",
    "        else:\n",
    "            return [np.nan,np.nan]\n",
    "    return Xs[-1:][0]"
   ]
  },
  {
   "cell_type": "code",
   "execution_count": 135,
   "metadata": {},
   "outputs": [],
   "source": []
  },
  {
   "cell_type": "code",
   "execution_count": 104,
   "metadata": {},
   "outputs": [],
   "source": []
  },
  {
   "cell_type": "code",
   "execution_count": 206,
   "metadata": {},
   "outputs": [
    {
     "name": "stdout",
     "output_type": "stream",
     "text": [
      "Chunks:\n"
     ]
    },
    {
     "data": {
      "application/vnd.jupyter.widget-view+json": {
       "model_id": "8cf73c1e4fa14fd18473f00ea5956884",
       "version_major": 2,
       "version_minor": 0
      },
      "text/plain": [
       "IntProgress(value=0, max=65)"
      ]
     },
     "metadata": {},
     "output_type": "display_data"
    },
    {
     "name": "stdout",
     "output_type": "stream",
     "text": [
      "Contests:\n"
     ]
    },
    {
     "data": {
      "application/vnd.jupyter.widget-view+json": {
       "model_id": "2a95d1cf60734373991da906308de31d",
       "version_major": 2,
       "version_minor": 0
      },
      "text/plain": [
       "IntProgress(value=0, max=10000)"
      ]
     },
     "metadata": {},
     "output_type": "display_data"
    },
    {
     "name": "stdout",
     "output_type": "stream",
     "text": [
      "chunk1\n"
     ]
    },
    {
     "name": "stderr",
     "output_type": "stream",
     "text": [
      "/anaconda3/lib/python3.6/site-packages/ipykernel_launcher.py:33: RuntimeWarning: invalid value encountered in multiply\n",
      "/anaconda3/lib/python3.6/site-packages/ipykernel_launcher.py:24: RuntimeWarning: overflow encountered in double_scalars\n"
     ]
    },
    {
     "name": "stdout",
     "output_type": "stream",
     "text": [
      "chunk2\n"
     ]
    },
    {
     "name": "stderr",
     "output_type": "stream",
     "text": [
      "/anaconda3/lib/python3.6/site-packages/ipykernel_launcher.py:25: RuntimeWarning: overflow encountered in double_scalars\n"
     ]
    },
    {
     "name": "stdout",
     "output_type": "stream",
     "text": [
      "chunk3\n",
      "chunk4\n",
      "chunk5\n",
      "chunk6\n",
      "chunk7\n",
      "chunk8\n",
      "chunk9\n",
      "chunk10\n",
      "chunk11\n",
      "chunk12\n",
      "chunk13\n",
      "chunk14\n",
      "chunk15\n",
      "chunk16\n",
      "chunk17\n",
      "chunk18\n",
      "chunk19\n",
      "chunk20\n",
      "chunk21\n",
      "chunk22\n",
      "chunk23\n",
      "chunk24\n",
      "chunk25\n",
      "chunk26\n",
      "chunk27\n",
      "chunk28\n",
      "chunk29\n",
      "chunk30\n",
      "chunk31\n",
      "chunk32\n",
      "chunk33\n",
      "chunk34\n",
      "chunk35\n",
      "chunk36\n",
      "chunk37\n",
      "chunk38\n",
      "chunk39\n",
      "chunk40\n",
      "chunk41\n",
      "chunk42\n",
      "chunk43\n",
      "chunk44\n",
      "chunk45\n",
      "chunk46\n",
      "chunk47\n",
      "chunk48\n",
      "chunk49\n",
      "chunk50\n",
      "chunk51\n",
      "chunk52\n",
      "chunk53\n",
      "chunk54\n",
      "chunk55\n",
      "chunk56\n",
      "chunk57\n",
      "chunk58\n",
      "chunk59\n",
      "chunk60\n",
      "chunk61\n",
      "chunk62\n",
      "chunk63\n",
      "chunk64\n",
      "chunk65\n"
     ]
    }
   ],
   "source": [
    "chunkNames = chunkMapDF['Chunk'].unique()[:]\n",
    "\n",
    "chunkBar = IntProgress(min=0, max=len(chunkNames))\n",
    "contestBar = IntProgress(min=0, max=len(contests))\n",
    "\n",
    "print(\"Chunks:\")\n",
    "display(chunkBar)\n",
    "\n",
    "print(\"Contests:\")\n",
    "display(contestBar)\n",
    "\n",
    "results = []\n",
    "\n",
    "for chunkName in chunkNames:\n",
    "    print(chunkName)\n",
    "    chunkDF = pd.read_csv('data/Chunks/'+chunkName+'.csv').drop(columns=['Unnamed: 0']).sort_values(by=['MinutesRemaining'], ascending=False)\n",
    "    \n",
    "    contests = chunkDF['ContestId'].unique()[:]\n",
    "    contestBar.value=0\n",
    "    contestBar.max = len(contests)\n",
    "    for cid in contests:\n",
    "        cSeriesDF = chunkDF[chunkDF['ContestId']==cid]\n",
    "        numberToRemove = len(cSeriesDF[cSeriesDF['MinutesRemaining']<240])\n",
    "\n",
    "        X = cSeriesDF['MinutesRemaining'].max() - cSeriesDF['MinutesRemaining'][:-numberToRemove]\n",
    "        Y = cSeriesDF['Entries'].cumsum()[:-numberToRemove]\n",
    "        X, Y = list(X), list(Y)        \n",
    "        count = 0\n",
    "        contest = {'ContestId':cid}\n",
    "        for ID, qrObj in qrVals.iterrows():\n",
    "            label = qrObj['label']\n",
    "            P = kParameters(X, Y, float(qrObj['Q1']), float(qrObj['Q2']))\n",
    "            val = kalmanFilter(X, Y, P)  \n",
    "            \n",
    "            contest['A'+label] = val[0]\n",
    "            contest['B'+label] = val[1]\n",
    "        results.append(contest)\n",
    "        contestBar.value+=1\n",
    "    chunkBar.value+=1\n"
   ]
  },
  {
   "cell_type": "code",
   "execution_count": 207,
   "metadata": {},
   "outputs": [],
   "source": [
    "rDF = pd.DataFrame(results)"
   ]
  },
  {
   "cell_type": "code",
   "execution_count": 209,
   "metadata": {},
   "outputs": [
    {
     "data": {
      "text/plain": [
       "638723"
      ]
     },
     "execution_count": 209,
     "metadata": {},
     "output_type": "execute_result"
    }
   ],
   "source": [
    "len(rDF.dropna())"
   ]
  },
  {
   "cell_type": "code",
   "execution_count": 210,
   "metadata": {},
   "outputs": [],
   "source": [
    "rDF.to_csv('data/AB_Values.csv')"
   ]
  },
  {
   "cell_type": "code",
   "execution_count": null,
   "metadata": {},
   "outputs": [],
   "source": []
  }
 ],
 "metadata": {
  "kernelspec": {
   "display_name": "Python 3",
   "language": "python",
   "name": "python3"
  },
  "language_info": {
   "codemirror_mode": {
    "name": "ipython",
    "version": 3
   },
   "file_extension": ".py",
   "mimetype": "text/x-python",
   "name": "python",
   "nbconvert_exporter": "python",
   "pygments_lexer": "ipython3",
   "version": "3.6.5"
  }
 },
 "nbformat": 4,
 "nbformat_minor": 2
}

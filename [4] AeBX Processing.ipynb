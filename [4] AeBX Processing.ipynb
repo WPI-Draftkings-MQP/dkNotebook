{
 "cells": [
  {
   "cell_type": "code",
   "execution_count": 119,
   "metadata": {},
   "outputs": [],
   "source": [
    "import pandas as pd\n",
    "import numpy as np"
   ]
  },
  {
   "cell_type": "code",
   "execution_count": 120,
   "metadata": {},
   "outputs": [],
   "source": [
    "abDF = pd.read_csv('data/AB_Values.csv').drop(columns=['Unnamed: 0']).set_index(\"ContestId\")\n",
    "# abDF2 = pd.read_csv('data/AB_Values_part3.csv').drop(columns=['Unnamed: 0']).set_index(\"ContestId\")\n",
    "# abDF = pd.merge(abDF1, abDF2, on='ContestId', how=\"left\")"
   ]
  },
  {
   "cell_type": "code",
   "execution_count": 126,
   "metadata": {},
   "outputs": [],
   "source": [
    "durationDF = pd.read_csv('data/Durations.csv').set_index(\"ContestId\")\n",
    "df = pd.merge(durationDF, abDF, on='ContestId', how='left')"
   ]
  },
  {
   "cell_type": "code",
   "execution_count": 127,
   "metadata": {},
   "outputs": [],
   "source": [
    "df = df.replace('TooShort', 0).replace('NaN', 0).replace(np.nan, 0)"
   ]
  },
  {
   "cell_type": "code",
   "execution_count": 130,
   "metadata": {},
   "outputs": [
    {
     "name": "stdout",
     "output_type": "stream",
     "text": [
      "Processing v11\n",
      "Processing v12\n",
      "Processing v13\n",
      "Processing v14\n",
      "Processing v15\n",
      "Processing v1\n",
      "Processing v10\n",
      "Processing v2\n",
      "Processing v3\n",
      "Processing v4\n",
      "Processing v5\n",
      "Processing v6\n",
      "Processing v7\n",
      "Processing v8\n",
      "Processing v9\n"
     ]
    }
   ],
   "source": [
    "for col in df.columns:\n",
    "    if(col[0]=='A'):\n",
    "        v = col[1:]\n",
    "        print(\"Processing\", v)\n",
    "        df['Pred'+v] = df['A'+v].astype(float)*np.exp(df['B'+v].astype(float)*df['Duration'])"
   ]
  },
  {
   "cell_type": "code",
   "execution_count": 131,
   "metadata": {},
   "outputs": [],
   "source": [
    "df.to_csv('data/AB_Preds.csv')"
   ]
  },
  {
   "cell_type": "code",
   "execution_count": 106,
   "metadata": {},
   "outputs": [],
   "source": [
    "# contestsDF = pd.read_csv(\"data/WorkingData.csv\")"
   ]
  },
  {
   "cell_type": "code",
   "execution_count": null,
   "metadata": {},
   "outputs": [],
   "source": []
  }
 ],
 "metadata": {
  "kernelspec": {
   "display_name": "Python 3",
   "language": "python",
   "name": "python3"
  },
  "language_info": {
   "codemirror_mode": {
    "name": "ipython",
    "version": 3
   },
   "file_extension": ".py",
   "mimetype": "text/x-python",
   "name": "python",
   "nbconvert_exporter": "python",
   "pygments_lexer": "ipython3",
   "version": "3.6.5"
  }
 },
 "nbformat": 4,
 "nbformat_minor": 2
}

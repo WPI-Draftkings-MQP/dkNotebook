{
 "cells": [
  {
   "cell_type": "code",
   "execution_count": 2,
   "metadata": {},
   "outputs": [],
   "source": [
    "import pandas as pd\n",
    "import numpy as np"
   ]
  },
  {
   "cell_type": "code",
   "execution_count": 27,
   "metadata": {},
   "outputs": [],
   "source": [
    "durationDF = pd.read_csv('data/Durations.csv').set_index(\"ContestId\")"
   ]
  },
  {
   "cell_type": "markdown",
   "metadata": {},
   "source": [
    "## Kalman AB Processing"
   ]
  },
  {
   "cell_type": "code",
   "execution_count": 110,
   "metadata": {},
   "outputs": [],
   "source": [
    "abDF = pd.read_csv('data/KF_Values.csv').set_index(\"ContestId\")\n",
    "df = pd.merge(durationDF, abDF, on='ContestId', how='left')\n",
    "df = df.replace('TooShort', 0).replace('NaN', 0).replace(np.nan, 0)"
   ]
  },
  {
   "cell_type": "code",
   "execution_count": 111,
   "metadata": {},
   "outputs": [
    {
     "name": "stdout",
     "output_type": "stream",
     "text": [
      "Processing v11\n",
      "Processing v12\n",
      "Processing v13\n",
      "Processing v14\n",
      "Processing v15\n",
      "Processing v1\n",
      "Processing v10\n",
      "Processing v2\n",
      "Processing v3\n",
      "Processing v4\n",
      "Processing v5\n",
      "Processing v6\n",
      "Processing v7\n",
      "Processing v8\n",
      "Processing v9\n"
     ]
    }
   ],
   "source": [
    "kfCols = []\n",
    "for col in df.columns:\n",
    "    if(col[0]=='A'):\n",
    "        v = col[1:]\n",
    "        newCol = 'Pred'+v\n",
    "        print(\"Processing\", v)\n",
    "        df[newCol] = df['A'+v].astype(float)*np.exp(df['B'+v].astype(float)*df['Duration'])\n",
    "        kfCols.append(newCol)"
   ]
  },
  {
   "cell_type": "code",
   "execution_count": 112,
   "metadata": {},
   "outputs": [],
   "source": [
    "# This needs to \n",
    "# df[kfCols].to_csv('data/KF_Preds.csv')"
   ]
  },
  {
   "cell_type": "code",
   "execution_count": 113,
   "metadata": {},
   "outputs": [],
   "source": [
    "df.to_csv('data/KF_Preds.csv')"
   ]
  },
  {
   "cell_type": "markdown",
   "metadata": {},
   "source": [
    "### Scaled KF"
   ]
  },
  {
   "cell_type": "code",
   "execution_count": 106,
   "metadata": {},
   "outputs": [],
   "source": [
    "abDF = pd.read_csv('data/KF_Scaled_Values.csv').drop(columns=['Unnamed: 0']).set_index(\"ContestId\")\n",
    "df = abDF.replace('TooShort', 0).replace('NaN', 0).replace(np.nan, 0)"
   ]
  },
  {
   "cell_type": "code",
   "execution_count": 107,
   "metadata": {
    "scrolled": true
   },
   "outputs": [
    {
     "name": "stdout",
     "output_type": "stream",
     "text": [
      "Processing v1\n",
      "Processing v10\n",
      "Processing v11\n",
      "Processing v12\n",
      "Processing v13\n",
      "Processing v14\n",
      "Processing v15\n",
      "Processing v2\n",
      "Processing v3\n",
      "Processing v4\n",
      "Processing v5\n",
      "Processing v6\n",
      "Processing v7\n",
      "Processing v8\n",
      "Processing v9\n"
     ]
    }
   ],
   "source": [
    "kfCols = [kfCols]\n",
    "for col in df.columns:\n",
    "    if(col[0]=='A'):\n",
    "        v = col[1:]\n",
    "        newCol = 'Pred'+v\n",
    "        print(\"Processing\", v)\n",
    "        df[newCol] = df['A'+v].astype(float)*np.exp(df['B'+v].astype(float)*100)\n",
    "        kfCols.append(newCol)"
   ]
  },
  {
   "cell_type": "code",
   "execution_count": 108,
   "metadata": {
    "scrolled": true
   },
   "outputs": [],
   "source": [
    "# df[kfCols].to_csv('data/KF_Scaled_Preds.csv')"
   ]
  },
  {
   "cell_type": "code",
   "execution_count": 109,
   "metadata": {},
   "outputs": [],
   "source": [
    "df.to_csv('data/KF_Scaled_Preds.csv')"
   ]
  },
  {
   "cell_type": "markdown",
   "metadata": {},
   "source": [
    "## Linear Regression AB Processing"
   ]
  },
  {
   "cell_type": "code",
   "execution_count": 94,
   "metadata": {},
   "outputs": [],
   "source": [
    "LRDF = pd.read_csv(\"data/LR_Values.csv\")"
   ]
  },
  {
   "cell_type": "code",
   "execution_count": 95,
   "metadata": {},
   "outputs": [],
   "source": [
    "df = pd.merge(durationDF, LRDF, on='ContestId', how='left')\n",
    "df = df.replace('TooShort', 0)"
   ]
  },
  {
   "cell_type": "code",
   "execution_count": 96,
   "metadata": {},
   "outputs": [
    {
     "name": "stdout",
     "output_type": "stream",
     "text": [
      "Processing f10\n",
      "Processing f11\n",
      "Processing f12\n",
      "Processing f13\n",
      "Processing f14\n",
      "Processing f15\n",
      "Processing f1\n",
      "Processing f2\n",
      "Processing f3\n",
      "Processing f4\n",
      "Processing f5\n",
      "Processing f6\n",
      "Processing f7\n",
      "Processing f8\n",
      "Processing f9\n"
     ]
    }
   ],
   "source": [
    "lrCols = []\n",
    "for col in df.columns:\n",
    "    if(col[::-1][0]=='A'):\n",
    "        v = col[:-1]\n",
    "        newCol = 'Pred'+v\n",
    "\n",
    "        print(\"Processing\", v)\n",
    "        df[newCol] = df[v+'A'].astype(float)*np.exp(df[v+'B'].astype(float)*df['Duration'])\n",
    "        lrCols.append(newCol)"
   ]
  },
  {
   "cell_type": "code",
   "execution_count": 97,
   "metadata": {},
   "outputs": [],
   "source": [
    "df = df.replace(np.nan, 0.)"
   ]
  },
  {
   "cell_type": "code",
   "execution_count": 99,
   "metadata": {},
   "outputs": [],
   "source": [
    "df.to_csv('data/LR_Preds.csv')"
   ]
  },
  {
   "cell_type": "markdown",
   "metadata": {},
   "source": [
    "### Scaled LR"
   ]
  },
  {
   "cell_type": "code",
   "execution_count": 100,
   "metadata": {},
   "outputs": [],
   "source": [
    "LRDF = pd.read_csv(\"data/LR_Scaled_Values.csv\").set_index('ContestId')"
   ]
  },
  {
   "cell_type": "code",
   "execution_count": 101,
   "metadata": {},
   "outputs": [],
   "source": [
    "df = LRDF.replace('TooShort', 0).copy()"
   ]
  },
  {
   "cell_type": "code",
   "execution_count": 102,
   "metadata": {},
   "outputs": [
    {
     "name": "stdout",
     "output_type": "stream",
     "text": [
      "Processing f10\n",
      "Processing f11\n",
      "Processing f12\n",
      "Processing f13\n",
      "Processing f14\n",
      "Processing f15\n",
      "Processing f1\n",
      "Processing f2\n",
      "Processing f3\n",
      "Processing f4\n",
      "Processing f5\n",
      "Processing f6\n",
      "Processing f7\n",
      "Processing f8\n",
      "Processing f9\n"
     ]
    }
   ],
   "source": [
    "lrCols = []\n",
    "for col in df.columns:\n",
    "    if(col[::-1][0]=='A'):\n",
    "        v = col[:-1]\n",
    "        print(\"Processing\", v)\n",
    "        newCol = 'Pred'+v\n",
    "        df[newCol] = df[v+'A'].astype(float)*np.exp(df[v+'B'].astype(float)*100)\n",
    "        lrCols.append(newCol)"
   ]
  },
  {
   "cell_type": "code",
   "execution_count": 103,
   "metadata": {},
   "outputs": [],
   "source": [
    "df = df.replace(np.nan, 0.)"
   ]
  },
  {
   "cell_type": "code",
   "execution_count": 104,
   "metadata": {},
   "outputs": [],
   "source": [
    "df.to_csv('data/LR_Scaled_Preds.csv')"
   ]
  },
  {
   "cell_type": "code",
   "execution_count": null,
   "metadata": {},
   "outputs": [],
   "source": []
  }
 ],
 "metadata": {
  "kernelspec": {
   "display_name": "Python 3",
   "language": "python",
   "name": "python3"
  },
  "language_info": {
   "codemirror_mode": {
    "name": "ipython",
    "version": 3
   },
   "file_extension": ".py",
   "mimetype": "text/x-python",
   "name": "python",
   "nbconvert_exporter": "python",
   "pygments_lexer": "ipython3",
   "version": "3.6.5"
  }
 },
 "nbformat": 4,
 "nbformat_minor": 2
}

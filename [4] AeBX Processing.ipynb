{
 "cells": [
  {
   "cell_type": "code",
   "execution_count": 119,
   "metadata": {},
   "outputs": [],
   "source": [
    "import pandas as pd\n",
    "import numpy as np"
   ]
  },
  {
   "cell_type": "code",
   "execution_count": 141,
   "metadata": {},
   "outputs": [],
   "source": [
    "durationDF = pd.read_csv('data/Durations.csv').set_index(\"ContestId\")"
   ]
  },
  {
   "cell_type": "markdown",
   "metadata": {},
   "source": [
    "## Kalman AB Processing"
   ]
  },
  {
   "cell_type": "code",
   "execution_count": 120,
   "metadata": {},
   "outputs": [],
   "source": [
    "abDF = pd.read_csv('data/KF_Values.csv').drop(columns=['Unnamed: 0']).set_index(\"ContestId\")\n",
    "df = pd.merge(durationDF, abDF, on='ContestId', how='left')\n",
    "df = df.replace('TooShort', 0).replace('NaN', 0).replace(np.nan, 0)"
   ]
  },
  {
   "cell_type": "code",
   "execution_count": 130,
   "metadata": {},
   "outputs": [
    {
     "name": "stdout",
     "output_type": "stream",
     "text": [
      "Processing v11\n",
      "Processing v12\n",
      "Processing v13\n",
      "Processing v14\n",
      "Processing v15\n",
      "Processing v1\n",
      "Processing v10\n",
      "Processing v2\n",
      "Processing v3\n",
      "Processing v4\n",
      "Processing v5\n",
      "Processing v6\n",
      "Processing v7\n",
      "Processing v8\n",
      "Processing v9\n"
     ]
    }
   ],
   "source": [
    "for col in df.columns:\n",
    "    if(col[0]=='A'):\n",
    "        v = col[1:]\n",
    "        print(\"Processing\", v)\n",
    "        df['Pred'+v] = df['A'+v].astype(float)*np.exp(df['B'+v].astype(float)*df['Duration'])"
   ]
  },
  {
   "cell_type": "code",
   "execution_count": 131,
   "metadata": {},
   "outputs": [],
   "source": [
    "df.to_csv('data/KF_Preds.csv')"
   ]
  },
  {
   "cell_type": "markdown",
   "metadata": {},
   "source": [
    "## Linear Regression AB Processing"
   ]
  },
  {
   "cell_type": "code",
   "execution_count": 133,
   "metadata": {},
   "outputs": [],
   "source": [
    "LRDF = pd.read_csv(\"data/LR_Values.csv\").drop(columns='Unnamed: 0')"
   ]
  },
  {
   "cell_type": "code",
   "execution_count": 147,
   "metadata": {},
   "outputs": [],
   "source": [
    "df = pd.merge(durationDF, LRDF, on='ContestId', how='left')\n",
    "df = df.replace('TooShort', 0)"
   ]
  },
  {
   "cell_type": "code",
   "execution_count": 152,
   "metadata": {},
   "outputs": [
    {
     "name": "stdout",
     "output_type": "stream",
     "text": [
      "Processing f10\n",
      "Processing f11\n",
      "Processing f1\n",
      "Processing f2\n",
      "Processing f3\n",
      "Processing f4\n",
      "Processing f5\n",
      "Processing f6\n",
      "Processing f7\n",
      "Processing f8\n",
      "Processing f9\n"
     ]
    }
   ],
   "source": [
    "for col in df.columns:\n",
    "    if(col[::-1][0]=='A'):\n",
    "        v = col[:-1]\n",
    "        print(\"Processing\", v)\n",
    "        df['Pred'+v] = df[v+'A'].astype(float)*np.exp(df[v+'B'].astype(float)*df['Duration'])"
   ]
  },
  {
   "cell_type": "code",
   "execution_count": 154,
   "metadata": {},
   "outputs": [],
   "source": [
    "df = df.replace(np.nan, 0.)"
   ]
  },
  {
   "cell_type": "code",
   "execution_count": 157,
   "metadata": {},
   "outputs": [],
   "source": [
    "df.to_csv('data/LR_Preds.csv')"
   ]
  },
  {
   "cell_type": "code",
   "execution_count": null,
   "metadata": {},
   "outputs": [],
   "source": []
  }
 ],
 "metadata": {
  "kernelspec": {
   "display_name": "Python 3",
   "language": "python",
   "name": "python3"
  },
  "language_info": {
   "codemirror_mode": {
    "name": "ipython",
    "version": 3
   },
   "file_extension": ".py",
   "mimetype": "text/x-python",
   "name": "python",
   "nbconvert_exporter": "python",
   "pygments_lexer": "ipython3",
   "version": "3.6.5"
  }
 },
 "nbformat": 4,
 "nbformat_minor": 2
}

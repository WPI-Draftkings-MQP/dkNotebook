{
 "cells": [
  {
   "cell_type": "markdown",
   "metadata": {},
   "source": [
    "This file generates the predicted final entries of each contest based on the models. \n",
    "For the scaled version, the final entries is the value of Ae^Bx when x is 100.\n",
    "For the unscaled version, the final entries is the value of Ae^Bx when x is the duration of the contest."
   ]
  },
  {
   "cell_type": "code",
   "execution_count": 1,
   "metadata": {},
   "outputs": [],
   "source": [
    "import pandas as pd\n",
    "import numpy as np"
   ]
  },
  {
   "cell_type": "code",
   "execution_count": 2,
   "metadata": {},
   "outputs": [],
   "source": [
    "durationDF = pd.read_csv('data/Durations.csv').set_index(\"ContestId\")"
   ]
  },
  {
   "cell_type": "code",
   "execution_count": 3,
   "metadata": {},
   "outputs": [],
   "source": [
    "scaled = True"
   ]
  },
  {
   "cell_type": "markdown",
   "metadata": {},
   "source": [
    "## Kalman AB Processing"
   ]
  },
  {
   "cell_type": "code",
   "execution_count": 4,
   "metadata": {},
   "outputs": [],
   "source": [
    "abDF = pd.read_csv('data/KF_Values.csv').set_index(\"ContestId\")\n",
    "if('Unnamed: 0' in abDF.columns): ## I'm not sure why this column sometimes appears, so I just remove it\n",
    "    abDF = abDF.drop(columns=['Unnamed: 0'])\n",
    "df = pd.merge(durationDF, abDF, on='ContestId', how='left')\n",
    "df = df.replace('TooShort', 0).replace('NaN', 0).replace(np.nan, 0)\n",
    "if(scaled):\n",
    "    df['Duration'] = 100"
   ]
  },
  {
   "cell_type": "code",
   "execution_count": 5,
   "metadata": {},
   "outputs": [
    {
     "name": "stdout",
     "output_type": "stream",
     "text": [
      "Processing v1\n",
      "Processing v10\n",
      "Processing v11\n",
      "Processing v12\n",
      "Processing v13\n",
      "Processing v14\n",
      "Processing v15\n",
      "Processing v2\n",
      "Processing v3\n",
      "Processing v4\n",
      "Processing v5\n",
      "Processing v6\n",
      "Processing v7\n",
      "Processing v8\n",
      "Processing v9\n"
     ]
    }
   ],
   "source": [
    "kfCols = []\n",
    "for col in df.columns:\n",
    "    if(col[0]=='A'):\n",
    "        v = col[1:]\n",
    "        newCol = 'Pred'+v\n",
    "        print(\"Processing\", v)\n",
    "        df[newCol] = df['A'+v].astype(float)*np.exp(df['B'+v].astype(float)*df['Duration'])\n",
    "        kfCols.append(newCol)"
   ]
  },
  {
   "cell_type": "code",
   "execution_count": 7,
   "metadata": {},
   "outputs": [],
   "source": [
    "df.to_csv('data/KF_Preds.csv')"
   ]
  },
  {
   "cell_type": "markdown",
   "metadata": {},
   "source": [
    "## Linear Regression AB Processing"
   ]
  },
  {
   "cell_type": "code",
   "execution_count": 8,
   "metadata": {},
   "outputs": [],
   "source": [
    "LRDF = pd.read_csv(\"data/LR_Values.csv\").set_index('ContestId')"
   ]
  },
  {
   "cell_type": "code",
   "execution_count": 9,
   "metadata": {},
   "outputs": [],
   "source": [
    "if('Unnamed: 0' in LRDF.columns): ## I'm not sure why this column sometimes appears, so I just remove it\n",
    "    LRDF = LRDF.drop(columns=['Unnamed: 0'])\n",
    "df = pd.merge(durationDF, LRDF, on='ContestId', how='left')\n",
    "df = df.replace('TooShort', 0).replace('HTooShort', 0)\n",
    "if(scaled):\n",
    "    df['Duration'] = 100"
   ]
  },
  {
   "cell_type": "code",
   "execution_count": 10,
   "metadata": {},
   "outputs": [
    {
     "name": "stdout",
     "output_type": "stream",
     "text": [
      "Processing f10\n",
      "Processing f11\n",
      "Processing f12\n",
      "Processing f13\n",
      "Processing f14\n",
      "Processing f15\n",
      "Processing f1\n",
      "Processing f2\n",
      "Processing f3\n",
      "Processing f4\n",
      "Processing f5\n",
      "Processing f6\n",
      "Processing f7\n",
      "Processing f8\n",
      "Processing f9\n"
     ]
    }
   ],
   "source": [
    "lrCols = []\n",
    "for col in df.columns:\n",
    "    if(col[::-1][0]=='A'):\n",
    "        v = col[:-1]\n",
    "        newCol = 'Pred'+v\n",
    "        print(\"Processing\", v)\n",
    "        df[newCol] = df[v+'A'].astype(float)*np.exp(df[v+'B'].astype(float)*df['Duration'])\n",
    "        lrCols.append(newCol)"
   ]
  },
  {
   "cell_type": "code",
   "execution_count": 12,
   "metadata": {},
   "outputs": [],
   "source": [
    "df = df.replace(np.nan, 0.)"
   ]
  },
  {
   "cell_type": "code",
   "execution_count": 14,
   "metadata": {},
   "outputs": [],
   "source": [
    "df.to_csv('data/LR_Preds.csv')"
   ]
  },
  {
   "cell_type": "code",
   "execution_count": null,
   "metadata": {},
   "outputs": [],
   "source": []
  }
 ],
 "metadata": {
  "kernelspec": {
   "display_name": "Python 3",
   "language": "python",
   "name": "python3"
  },
  "language_info": {
   "codemirror_mode": {
    "name": "ipython",
    "version": 3
   },
   "file_extension": ".py",
   "mimetype": "text/x-python",
   "name": "python",
   "nbconvert_exporter": "python",
   "pygments_lexer": "ipython3",
   "version": "3.6.5"
  }
 },
 "nbformat": 4,
 "nbformat_minor": 2
}

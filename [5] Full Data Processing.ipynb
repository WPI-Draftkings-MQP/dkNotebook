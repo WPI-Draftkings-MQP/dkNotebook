{
 "cells": [
  {
   "cell_type": "markdown",
   "metadata": {},
   "source": [
    "## Make sure to run Chunking Series and Durations first. This will not be accurate if those files are not up to date."
   ]
  },
  {
   "cell_type": "code",
   "execution_count": 1,
   "metadata": {},
   "outputs": [],
   "source": [
    "import pandas as pd\n",
    "import numpy as np"
   ]
  },
  {
   "cell_type": "code",
   "execution_count": 6,
   "metadata": {},
   "outputs": [],
   "source": [
    "scaleColumns = ['EntryFeeAmount', 'TotalPrizeAmount','MaxNumberPlayers', 'MaxEntriesPerUser', 'DistinctUsers', 'NumGames', 'DraftablePlayersInSet','PaidUsersInDraftGroup', 'TopPrize', 'MaxPayoutPosition', 'Duration']\n",
    "categoricalColumns = ['SportName', 'VariantName', 'Contest_Group']"
   ]
  },
  {
   "cell_type": "code",
   "execution_count": 80,
   "metadata": {},
   "outputs": [],
   "source": [
    "rawDF = pd.read_csv('data/WorkingData.csv')\n",
    "rawDF = pd.merge(rawDF, pd.read_csv('data/Durations.csv').set_index('ContestId'), on='ContestId', how='left')"
   ]
  },
  {
   "cell_type": "code",
   "execution_count": 81,
   "metadata": {},
   "outputs": [],
   "source": [
    "abDF = pd.read_csv('data/AB_Preds.csv').set_index('ContestId').drop(columns='Duration')\n",
    "rawDF = pd.merge(rawDF, abDF, on='ContestId', how='left').set_index('ContestId')"
   ]
  },
  {
   "cell_type": "code",
   "execution_count": 82,
   "metadata": {},
   "outputs": [],
   "source": [
    "processedDF = rawDF.copy(deep=True)\n"
   ]
  },
  {
   "cell_type": "code",
   "execution_count": 84,
   "metadata": {},
   "outputs": [],
   "source": [
    "processedDF = rawDF.copy(deep=True)\n",
    "metaColumns = []\n",
    "abColumns = []\n",
    "successCol = []\n",
    "\n",
    "\n",
    "processedDF['Success'] = (processedDF['MaxNumberPlayers'] == processedDF['Entries'])\n",
    "successCol.append('Success')\n",
    "\n",
    "successDF = processedDF[['Success']]\n",
    "\n",
    "for scol in scaleColumns:\n",
    "    processedDF[scol+\"_Scaled\"] = processedDF[scol]/processedDF[scol].max()\n",
    "    metaColumns.append(scol+\"_Scaled\")\n",
    "    \n",
    "for scol in categoricalColumns:\n",
    "    for val in processedDF[scol].unique():\n",
    "        catStr = scol+\"_\"+val\n",
    "        processedDF[catStr] = (processedDF[scol]==val)\n",
    "        metaColumns.append(catStr)\n",
    "        \n",
    "metaDF = processedDF[metaColumns]\n",
    "\n",
    "for col in abDF.columns:\n",
    "    if(col[:4]==\"Pred\"):\n",
    "        label = col+\"_Scaled\"\n",
    "        processedDF[label] = processedDF[col]/processedDF[\"MaxNumberPlayers\"]\n",
    "        abColumns.append(label)\n",
    "        \n",
    "kalmanPredsDF = processedDF[abColumns]"
   ]
  },
  {
   "cell_type": "code",
   "execution_count": 65,
   "metadata": {},
   "outputs": [],
   "source": [
    "kalmanPredsDF.to_csv('data/KalmanResults.csv')\n",
    "metaDF.to_csv('data/MetaData.csv')"
   ]
  },
  {
   "cell_type": "code",
   "execution_count": 86,
   "metadata": {},
   "outputs": [],
   "source": [
    "workedData = pd.merge(metaDF, kalmanPredsDF, on='ContestId', how='left')\n",
    "workedData = pd.merge(successDF, workedData, on='ContestId', how='left')"
   ]
  },
  {
   "cell_type": "code",
   "execution_count": 89,
   "metadata": {},
   "outputs": [],
   "source": [
    "workedData.to_csv('data/WorkedData.csv')"
   ]
  },
  {
   "cell_type": "code",
   "execution_count": null,
   "metadata": {},
   "outputs": [],
   "source": []
  }
 ],
 "metadata": {
  "kernelspec": {
   "display_name": "Python 3",
   "language": "python",
   "name": "python3"
  },
  "language_info": {
   "codemirror_mode": {
    "name": "ipython",
    "version": 3
   },
   "file_extension": ".py",
   "mimetype": "text/x-python",
   "name": "python",
   "nbconvert_exporter": "python",
   "pygments_lexer": "ipython3",
   "version": "3.6.5"
  }
 },
 "nbformat": 4,
 "nbformat_minor": 2
}

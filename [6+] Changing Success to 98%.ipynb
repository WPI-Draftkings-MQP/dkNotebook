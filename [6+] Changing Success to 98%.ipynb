{
 "cells": [
  {
   "cell_type": "code",
   "execution_count": 15,
   "metadata": {},
   "outputs": [],
   "source": [
    "import pandas as pd\n",
    "import numpy as np\n",
    "import matplotlib.pyplot as plt"
   ]
  },
  {
   "cell_type": "code",
   "execution_count": null,
   "metadata": {},
   "outputs": [],
   "source": []
  },
  {
   "cell_type": "code",
   "execution_count": 5,
   "metadata": {},
   "outputs": [],
   "source": [
    "rawDF = pd.read_csv('data/WorkingData.csv').set_index('ContestId')[['MaxNumberPlayers', 'Entries']]"
   ]
  },
  {
   "cell_type": "code",
   "execution_count": 6,
   "metadata": {},
   "outputs": [
    {
     "data": {
      "text/html": [
       "<div>\n",
       "<style scoped>\n",
       "    .dataframe tbody tr th:only-of-type {\n",
       "        vertical-align: middle;\n",
       "    }\n",
       "\n",
       "    .dataframe tbody tr th {\n",
       "        vertical-align: top;\n",
       "    }\n",
       "\n",
       "    .dataframe thead th {\n",
       "        text-align: right;\n",
       "    }\n",
       "</style>\n",
       "<table border=\"1\" class=\"dataframe\">\n",
       "  <thead>\n",
       "    <tr style=\"text-align: right;\">\n",
       "      <th></th>\n",
       "      <th>MaxNumberPlayers</th>\n",
       "      <th>Entries</th>\n",
       "    </tr>\n",
       "    <tr>\n",
       "      <th>ContestId</th>\n",
       "      <th></th>\n",
       "      <th></th>\n",
       "    </tr>\n",
       "  </thead>\n",
       "  <tbody>\n",
       "    <tr>\n",
       "      <th>9267153</th>\n",
       "      <td>95</td>\n",
       "      <td>95</td>\n",
       "    </tr>\n",
       "    <tr>\n",
       "      <th>9267148</th>\n",
       "      <td>230</td>\n",
       "      <td>230</td>\n",
       "    </tr>\n",
       "    <tr>\n",
       "      <th>9219345</th>\n",
       "      <td>22</td>\n",
       "      <td>22</td>\n",
       "    </tr>\n",
       "    <tr>\n",
       "      <th>9213466</th>\n",
       "      <td>9400</td>\n",
       "      <td>9400</td>\n",
       "    </tr>\n",
       "    <tr>\n",
       "      <th>9213148</th>\n",
       "      <td>73</td>\n",
       "      <td>61</td>\n",
       "    </tr>\n",
       "  </tbody>\n",
       "</table>\n",
       "</div>"
      ],
      "text/plain": [
       "           MaxNumberPlayers  Entries\n",
       "ContestId                           \n",
       "9267153                  95       95\n",
       "9267148                 230      230\n",
       "9219345                  22       22\n",
       "9213466                9400     9400\n",
       "9213148                  73       61"
      ]
     },
     "execution_count": 6,
     "metadata": {},
     "output_type": "execute_result"
    }
   ],
   "source": [
    "rawDF.head()"
   ]
  },
  {
   "cell_type": "code",
   "execution_count": 21,
   "metadata": {},
   "outputs": [],
   "source": [
    "thresholds = []\n",
    "successes = []\n",
    "for i in range(0, 11):\n",
    "    thresh = (100-i)/100.\n",
    "    thresholds.append(thresh)\n",
    "    successes.append(len(rawDF[rawDF['MaxNumberPlayers']*thresh<=rawDF['Entries']])/ len(rawDF))"
   ]
  },
  {
   "cell_type": "code",
   "execution_count": 51,
   "metadata": {},
   "outputs": [
    {
     "data": {
      "image/png": "[encoded data removed]",
      "text/plain": [
       "<Figure size 360x360 with 1 Axes>"
      ]
     },
     "metadata": {},
     "output_type": "display_data"
    }
   ],
   "source": [
    "fig, ax = plt.subplots(figsize=(5, 5))\n",
    "ax.scatter(thresholds, successes)\n",
    "ax.set_xlabel('Threshold for Success  (%)')\n",
    "ax.set_ylabel('Contests Classified as Successful (%)')\n",
    "ax.set_title('Successful Contests per Success Threshold')\n",
    "ax.set_xlim(.9, 1)\n",
    "ax.set_ylim(.9, 1)\n",
    "ax.grid()"
   ]
  },
  {
   "cell_type": "code",
   "execution_count": 69,
   "metadata": {},
   "outputs": [
    {
     "name": "stdout",
     "output_type": "stream",
     "text": [
      "1.0 575966.0\n",
      "0.98 579223.0\n"
     ]
    }
   ],
   "source": [
    "print(thresholds[0], successes[0]*len(rawDF))\n",
    "print(thresholds[2], successes[2]*len(rawDF))"
   ]
  },
  {
   "cell_type": "code",
   "execution_count": 32,
   "metadata": {},
   "outputs": [],
   "source": [
    "newSuccessDF = rawDF.assign(Success= lambda c: c.Entries >= c.MaxNumberPlayers*.98)[['Success']]"
   ]
  },
  {
   "cell_type": "code",
   "execution_count": 64,
   "metadata": {},
   "outputs": [
    {
     "name": "stdout",
     "output_type": "stream",
     "text": [
      "Modifying test1.csv\n",
      "Modifying test2.csv\n",
      "Modifying test3.csv\n",
      "Modifying test4.csv\n"
     ]
    }
   ],
   "source": [
    "for filename in ['train.csv', 'test1.csv', 'test2.csv', 'test3.csv', 'test4.csv']:\n",
    "    print('Modifying', filename)\n",
    "    file = pd.read_csv('data/Vault/'+filename).set_index('ContestId')\n",
    "    df = pd.merge(file.drop(columns=['Success']), newSuccessDF, on='ContestId', how='left')\n",
    "    df.to_csv('Data/Vault98/'+filename)"
   ]
  },
  {
   "cell_type": "code",
   "execution_count": 71,
   "metadata": {},
   "outputs": [],
   "source": [
    "newSuccessDF = rawDF.assign(Success= lambda c: c.Entries >= c.MaxNumberPlayers*.96)[['Success']]"
   ]
  },
  {
   "cell_type": "code",
   "execution_count": 73,
   "metadata": {},
   "outputs": [
    {
     "name": "stdout",
     "output_type": "stream",
     "text": [
      "Modifying train.csv\n",
      "Modifying test1.csv\n",
      "Modifying test2.csv\n",
      "Modifying test3.csv\n",
      "Modifying test4.csv\n"
     ]
    }
   ],
   "source": [
    "for filename in ['train.csv', 'test1.csv', 'test2.csv', 'test3.csv', 'test4.csv']:\n",
    "    print('Modifying', filename)\n",
    "    file = pd.read_csv('data/Vault/'+filename).set_index('ContestId')\n",
    "    df = pd.merge(file.drop(columns=['Success']), newSuccessDF, on='ContestId', how='left')\n",
    "    df.to_csv('Data/Vault96/'+filename)"
   ]
  },
  {
   "cell_type": "code",
   "execution_count": null,
   "metadata": {},
   "outputs": [],
   "source": []
  }
 ],
 "metadata": {
  "kernelspec": {
   "display_name": "Python 3",
   "language": "python",
   "name": "python3"
  },
  "language_info": {
   "codemirror_mode": {
    "name": "ipython",
    "version": 3
   },
   "file_extension": ".py",
   "mimetype": "text/x-python",
   "name": "python",
   "nbconvert_exporter": "python",
   "pygments_lexer": "ipython3",
   "version": "3.6.5"
  }
 },
 "nbformat": 4,
 "nbformat_minor": 2
}

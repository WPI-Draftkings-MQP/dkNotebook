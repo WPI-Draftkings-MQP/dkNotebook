{
 "cells": [
  {
   "cell_type": "code",
   "execution_count": 10,
   "metadata": {},
   "outputs": [],
   "source": [
    "import pandas as pd\n",
    "import numpy as np"
   ]
  },
  {
   "cell_type": "code",
   "execution_count": 11,
   "metadata": {},
   "outputs": [],
   "source": [
    "#Raw (Meta) Data (ALL)\n",
    "fullDF = pd.read_csv('data/WorkingData.csv').set_index('ContestId')\n",
    "#Processed Data (ALL)\n",
    "dataDF = pd.read_csv('data/scaled/WorkedData.csv').set_index('ContestId')"
   ]
  },
  {
   "cell_type": "code",
   "execution_count": 12,
   "metadata": {},
   "outputs": [],
   "source": [
    "#Ids of the data we used to make our methodology\n",
    "nonVaultIdsDF = pd.read_csv('dataVault/WorkingData.csv').set_index('ContestId')[[]]"
   ]
  },
  {
   "cell_type": "code",
   "execution_count": 13,
   "metadata": {},
   "outputs": [],
   "source": [
    "vault1IdsDF = pd.read_csv('dataVault/vault1.csv').set_index('ContestId')[[]]\n",
    "vault2IdsDF = pd.read_csv('dataVault/vault2.csv').set_index('ContestId')[[]]\n",
    "vault3IdsDF = pd.read_csv('dataVault/vault3.csv').set_index('ContestId')[[]]\n",
    "vault4IdsDF = pd.read_csv('dataVault/vault4.csv').set_index('ContestId')[[]]"
   ]
  },
  {
   "cell_type": "code",
   "execution_count": 14,
   "metadata": {},
   "outputs": [],
   "source": [
    "#Processed Data (data we used to make our methodology) \n",
    "trainDF = dataDF[dataDF.index.isin(nonVaultIdsDF.index)]\n",
    "trainDF.to_csv('dataVault/train.csv')"
   ]
  },
  {
   "cell_type": "code",
   "execution_count": 15,
   "metadata": {},
   "outputs": [],
   "source": [
    "vault1DF = dataDF[dataDF.index.isin(vault1IdsDF.index)]\n",
    "vault1DF.to_csv('dataVault/vault1.csv')"
   ]
  },
  {
   "cell_type": "code",
   "execution_count": 16,
   "metadata": {},
   "outputs": [],
   "source": [
    "vault2DF = dataDF[dataDF.index.isin(vault2IdsDF.index)]\n",
    "vault2DF.to_csv('dataVault/vault2.csv')"
   ]
  },
  {
   "cell_type": "code",
   "execution_count": 17,
   "metadata": {},
   "outputs": [],
   "source": [
    "vault3DF = dataDF[dataDF.index.isin(vault3IdsDF.index)]\n",
    "vault3DF.to_csv('dataVault/vault3.csv')"
   ]
  },
  {
   "cell_type": "code",
   "execution_count": 18,
   "metadata": {},
   "outputs": [],
   "source": [
    "vault4DF = dataDF[dataDF.index.isin(vault4IdsDF.index)]\n",
    "vault4DF.to_csv('dataVault/vault4.csv')"
   ]
  },
  {
   "cell_type": "markdown",
   "metadata": {},
   "source": [
    "### This is how they were originally split, but repeating the process will change the chunk distribution"
   ]
  },
  {
   "cell_type": "markdown",
   "metadata": {},
   "source": [
    "I'm going to split up the remaining data into 4 testing chunks (seems like the right number, I want to be able to test on some vault data without ruining the vault)"
   ]
  },
  {
   "cell_type": "code",
   "execution_count": 5,
   "metadata": {},
   "outputs": [],
   "source": [
    "numChunks = 4"
   ]
  },
  {
   "cell_type": "code",
   "execution_count": 6,
   "metadata": {},
   "outputs": [],
   "source": [
    "#Ids of the remaining data\n",
    "vaultDF = dataDF[~dataDF.index.isin(nonVaultIdsDF.index)]\n",
    "vaultIdsDF = vaultDF[[]]"
   ]
  },
  {
   "cell_type": "code",
   "execution_count": 7,
   "metadata": {},
   "outputs": [],
   "source": [
    "#Split the vault into 4 chunks of approximately equal size\n",
    "vaultIdsDF = vaultIdsDF.assign(RandVal = np.random.uniform(0, 1, len(vaultIdsDF)))"
   ]
  },
  {
   "cell_type": "code",
   "execution_count": 8,
   "metadata": {},
   "outputs": [],
   "source": [
    "restDF = vaultIdsDF.copy(deep=True)\n",
    "vaultChunks = []\n",
    "for i in range(0, numChunks):\n",
    "    threshold = (i+1)/numChunks\n",
    "    \n",
    "    thisChunk = restDF[restDF['RandVal']<=threshold]\n",
    "    restDF = restDF[~restDF.index.isin(thisChunk.index)]\n",
    "        \n",
    "    chunkDataDF = vaultDF[vaultDF.index.isin(thisChunk.index)]\n",
    "    chunkDataDF.to_csv('dataVault/vault'+str(1+i)+'.csv')"
   ]
  },
  {
   "cell_type": "code",
   "execution_count": null,
   "metadata": {},
   "outputs": [],
   "source": []
  }
 ],
 "metadata": {
  "kernelspec": {
   "display_name": "Python 3",
   "language": "python",
   "name": "python3"
  },
  "language_info": {
   "codemirror_mode": {
    "name": "ipython",
    "version": 3
   },
   "file_extension": ".py",
   "mimetype": "text/x-python",
   "name": "python",
   "nbconvert_exporter": "python",
   "pygments_lexer": "ipython3",
   "version": "3.6.5"
  }
 },
 "nbformat": 4,
 "nbformat_minor": 2
}

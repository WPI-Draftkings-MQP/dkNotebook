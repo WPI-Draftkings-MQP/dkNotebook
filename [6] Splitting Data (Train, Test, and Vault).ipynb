{
 "cells": [
  {
   "cell_type": "code",
   "execution_count": 1,
   "metadata": {},
   "outputs": [],
   "source": [
    "import pandas as pd\n",
    "import numpy as np"
   ]
  },
  {
   "cell_type": "code",
   "execution_count": 2,
   "metadata": {},
   "outputs": [],
   "source": [
    "#Raw (Meta) Data (ALL)\n",
    "fullDF = pd.read_csv('data/WorkingData.csv').set_index('ContestId')\n",
    "#Processed Data (ALL)\n",
    "dataDF = pd.read_csv('data/WorkedData.csv').set_index('ContestId')"
   ]
  },
  {
   "cell_type": "code",
   "execution_count": 3,
   "metadata": {},
   "outputs": [],
   "source": [
    "#Ids of the data we used to make our methodology\n",
    "nonVaultIdsDF = pd.read_csv('dataVault/WorkingData.csv').set_index('ContestId')[[]]"
   ]
  },
  {
   "cell_type": "code",
   "execution_count": 4,
   "metadata": {},
   "outputs": [],
   "source": [
    "#Processed Data (data we used to make our methodology) \n",
    "trainDF = dataDF[dataDF.index.isin(nonVaultIdsDF.index)]\n",
    "trainDF.to_csv('dataVault/train.csv')"
   ]
  },
  {
   "cell_type": "markdown",
   "metadata": {},
   "source": [
    "I'm going to split up the remaining data into 4 testing chunks (seems like the right number, I want to be able to test on some vault data without ruining the vault)"
   ]
  },
  {
   "cell_type": "code",
   "execution_count": 5,
   "metadata": {},
   "outputs": [],
   "source": [
    "numChunks = 4"
   ]
  },
  {
   "cell_type": "code",
   "execution_count": 6,
   "metadata": {},
   "outputs": [],
   "source": [
    "#Ids of the remaining data\n",
    "vaultDF = dataDF[~dataDF.index.isin(nonVaultIdsDF.index)]\n",
    "vaultIdsDF = vaultDF[[]]"
   ]
  },
  {
   "cell_type": "code",
   "execution_count": 7,
   "metadata": {},
   "outputs": [],
   "source": [
    "#Split the vault into 4 chunks of approximately equal size\n",
    "vaultIdsDF = vaultIdsDF.assign(RandVal = np.random.uniform(0, 1, len(vaultIdsDF)))"
   ]
  },
  {
   "cell_type": "code",
   "execution_count": 8,
   "metadata": {},
   "outputs": [],
   "source": [
    "restDF = vaultIdsDF.copy(deep=True)\n",
    "vaultChunks = []\n",
    "for i in range(0, numChunks):\n",
    "    threshold = (i+1)/numChunks\n",
    "    \n",
    "    thisChunk = restDF[restDF['RandVal']<=threshold]\n",
    "    restDF = restDF[~restDF.index.isin(thisChunk.index)]\n",
    "        \n",
    "    chunkDataDF = vaultDF[vaultDF.index.isin(thisChunk.index)]\n",
    "    chunkDataDF.to_csv('dataVault/vault'+str(1+i)+'.csv')"
   ]
  },
  {
   "cell_type": "code",
   "execution_count": null,
   "metadata": {},
   "outputs": [],
   "source": []
  }
 ],
 "metadata": {
  "kernelspec": {
   "display_name": "Python 3",
   "language": "python",
   "name": "python3"
  },
  "language_info": {
   "codemirror_mode": {
    "name": "ipython",
    "version": 3
   },
   "file_extension": ".py",
   "mimetype": "text/x-python",
   "name": "python",
   "nbconvert_exporter": "python",
   "pygments_lexer": "ipython3",
   "version": "3.6.5"
  }
 },
 "nbformat": 4,
 "nbformat_minor": 2
}

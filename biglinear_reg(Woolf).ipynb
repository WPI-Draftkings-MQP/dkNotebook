{
 "cells": [
  {
   "cell_type": "code",
   "execution_count": 1,
   "metadata": {},
   "outputs": [],
   "source": [
    "import pandas as pd\n",
    "import numpy as np"
   ]
  },
  {
   "cell_type": "code",
   "execution_count": 2,
   "metadata": {},
   "outputs": [],
   "source": [
    "chunkMapDF = pd.read_csv('data/ChunkMap.csv')"
   ]
  },
  {
   "cell_type": "code",
   "execution_count": 122,
   "metadata": {},
   "outputs": [],
   "source": [
    "for chunkName in chunkMapDF['Chunk'].unique()[:1]:\n",
    "    jChunk = pd.read_csv('data/JChunks/'+chunkName+'.csv').drop(columns=['Unnamed: 0'])\n",
    "    for cid in jChunk['ContestId'].unique()[:1]:\n",
    "        cDF = jChunk[jChunk['ContestId']==cid]\n",
    "X, Y = list(cDF['MinutesRemaining']), list(cDF['Summed'])\n",
    "interpArray = [np.nan]*(max(X)+1)\n",
    "for i in range(0, len(X)):\n",
    "    currX, currY = X[i], Y[i]\n",
    "    interpArray[currX] = currY\n",
    "interpArray = interpArray[::-1]\n",
    "interpDF = pd.Series(interpArray).interpolate().to_frame()\n",
    "interpDF.columns = ['Summed']\n",
    "interpDF = interpDF.assign(Logged=np.log(interpDF.Summed))\n",
    "loggedArray = np.log(interpDF.Summed)"
   ]
  },
  {
   "cell_type": "code",
   "execution_count": 78,
   "metadata": {},
   "outputs": [],
   "source": [
    "final = ['na']*(max(X)+1)"
   ]
  },
  {
   "cell_type": "code",
   "execution_count": 83,
   "metadata": {},
   "outputs": [],
   "source": [
    "final = [np.nan]*(max(X)+1)\n",
    "for i in range(0, len(X)):\n",
    "    currX, currY = X[i], Y[i]\n",
    "    final[currX] = currY\n",
    "final = final[::-1]"
   ]
  },
  {
   "cell_type": "code",
   "execution_count": 84,
   "metadata": {},
   "outputs": [
    {
     "data": {
      "text/plain": [
       "0             1.000000\n",
       "1             2.500000\n",
       "2             4.000000\n",
       "3             4.142857\n",
       "4             4.285714\n",
       "5             4.428571\n",
       "6             4.571429\n",
       "7             4.714286\n",
       "8             4.857143\n",
       "9             5.000000\n",
       "10            5.200000\n",
       "11            5.400000\n",
       "12            5.600000\n",
       "13            5.800000\n",
       "14            6.000000\n",
       "15            6.500000\n",
       "16            7.000000\n",
       "17            8.000000\n",
       "18            8.400000\n",
       "19            8.800000\n",
       "20            9.200000\n",
       "21            9.600000\n",
       "22           10.000000\n",
       "23           10.142857\n",
       "24           10.285714\n",
       "25           10.428571\n",
       "26           10.571429\n",
       "27           10.714286\n",
       "28           10.857143\n",
       "29           11.000000\n",
       "             ...      \n",
       "70207    184648.000000\n",
       "70208    184693.000000\n",
       "70209    184741.000000\n",
       "70210    184806.000000\n",
       "70211    184859.000000\n",
       "70212    184908.000000\n",
       "70213    184957.000000\n",
       "70214    185009.000000\n",
       "70215    185082.000000\n",
       "70216    185138.000000\n",
       "70217    185194.000000\n",
       "70218    185254.000000\n",
       "70219    185320.000000\n",
       "70220    185374.000000\n",
       "70221    185442.000000\n",
       "70222    185496.000000\n",
       "70223    185567.000000\n",
       "70224    185632.000000\n",
       "70225    185696.000000\n",
       "70226    185751.000000\n",
       "70227    185831.000000\n",
       "70228    185905.000000\n",
       "70229    185976.000000\n",
       "70230    186050.000000\n",
       "70231    186135.000000\n",
       "70232    186219.000000\n",
       "70233    186307.000000\n",
       "70234    186430.000000\n",
       "70235    186430.000000\n",
       "70236    186430.000000\n",
       "Length: 70237, dtype: float64"
      ]
     },
     "execution_count": 84,
     "metadata": {},
     "output_type": "execute_result"
    }
   ],
   "source": [
    "pd.Series(final).interpolate()\n",
    "#np.interpolate(final)"
   ]
  },
  {
   "cell_type": "code",
   "execution_count": null,
   "metadata": {},
   "outputs": [],
   "source": []
  }
 ],
 "metadata": {
  "kernelspec": {
   "display_name": "Python 3",
   "language": "python",
   "name": "python3"
  },
  "language_info": {
   "codemirror_mode": {
    "name": "ipython",
    "version": 3
   },
   "file_extension": ".py",
   "mimetype": "text/x-python",
   "name": "python",
   "nbconvert_exporter": "python",
   "pygments_lexer": "ipython3",
   "version": "3.6.5"
  }
 },
 "nbformat": 4,
 "nbformat_minor": 2
}

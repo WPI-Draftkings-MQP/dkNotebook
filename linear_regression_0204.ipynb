{
 "cells": [
  {
   "cell_type": "code",
   "execution_count": 2,
   "metadata": {},
   "outputs": [
    {
     "data": {
      "text/plain": [
       "1289.5261158943176"
      ]
     },
     "execution_count": 2,
     "metadata": {},
     "output_type": "execute_result"
    }
   ],
   "source": [
    "import csv\n",
    "import math\n",
    "import matplotlib.pyplot as plt\n",
    "import numpy as np\n",
    "import pandas as pd\n",
    "import time\n",
    "\n",
    "\n",
    "#get the thresholds\n",
    "b = pd.read_csv(\"data/WorkingData.csv\")\n",
    "series = (b['ContestId']);\n",
    "series2 = (b['MaxNumberPlayers'])\n",
    "\n",
    "#allocate the final data array\n",
    "final = []\n",
    "\n",
    "#tic\n",
    "t = time.time()\n",
    "\n",
    "#open the file\n",
    "with open('data/JacksonData_01_29.csv', newline='') as f:\n",
    "    #prime the reader\n",
    "    reader = csv.reader(f)\n",
    "    header = next(reader)\n",
    "    \n",
    "    for row in reader:\n",
    "        \n",
    "        if (row[2]==row[6] and row[0]!='0'): #if minutes left and minute length match\n",
    "            \n",
    "            ##############\n",
    "            #fill in time series\n",
    "            ##############\n",
    "            s_log_entries = pd.Series(log_entries); #make a series out of previous sparse time series\n",
    "            s_log_entries = s_log_entries.interpolate(); #interpolate\n",
    "            \n",
    "            ##############\n",
    "            #linear regression\n",
    "            ##############\n",
    "            seen_entries = s_log_entries[:-240]; #give it the data we see 4 hours out\n",
    "            \n",
    "            #initialize W\n",
    "            #forget_factor = 1; #set the value for the diagonal\n",
    "            #W = np.identity(len(seen_entries))*forget_factor;\n",
    "\n",
    "            #initialize H\n",
    "            H1 = np.linspace(1,1,len(seen_entries));\n",
    "            H2 = np.linspace(0,len(seen_entries)-1, len(seen_entries));\n",
    "            H = np.vstack((H1,H2));\n",
    "            H = np.transpose(H);\n",
    "\n",
    "            #calculate alpha and beta\n",
    "            #if (np.linalg.det(np.transpose(H).dot(W).dot(H))!=0):\n",
    "            if (np.linalg.det(np.transpose(H).dot(H))!=0):\n",
    "                [alpha, beta] = np.linalg.inv(np.transpose(H).dot(H)).dot(np.transpose(H)).dot(seen_entries);\n",
    "                #[alpha, beta] = np.linalg.inv(np.transpose(H).dot(W).dot(H)).dot(np.transpose(H)).dot(W).dot(seen_entries);\n",
    "\n",
    "            else:\n",
    "                [alpha, beta] = [0,0];\n",
    "            \n",
    "            \n",
    "            #################\n",
    "            #comparison to threshold\n",
    "            #################\n",
    "            ind = series[series == int(row1[1])].index[0];\n",
    "            thresh = math.log(series2[ind]);\n",
    "            if ((alpha + beta*(int(row1[2]))) >= thresh):\n",
    "                pred_succ = 1;\n",
    "            else:\n",
    "                pred_succ = 0;\n",
    "            \n",
    "            \n",
    "            #################\n",
    "            #gather and write data\n",
    "            #################\n",
    "            line = [row1[1], row1[3], alpha, beta, pred_succ]; #write the line\n",
    "            final.append(line); #append the line to our final array\n",
    "        \n",
    "            #################\n",
    "            #start new time series\n",
    "            #################\n",
    "            log_entries = [np.nan]*(int(row[2])+1); \n",
    "            log_entries[0] = math.log(int(row[5]));\n",
    "            \n",
    "            \n",
    "            \n",
    "        elif(row[2]==row[6] and row[0]=='0'): #if we are at the first line of the whole thing\n",
    "            #just initialize and fill first\n",
    "            log_entries = [np.nan]*(int(row[2])+1);\n",
    "            log_entries[0] = math.log(int(row[5]));\n",
    "            \n",
    "            \n",
    "        else: #we're just at a regular line\n",
    "            row1 = row;\n",
    "            slot = int(row[2]) - int(row[6]);\n",
    "            log_entries[slot] = math.log(int(row[5]));\n",
    "            \n",
    "\n",
    "\n",
    "f.close()       \n",
    "elapsed = time.time()-t\n",
    "elapsed"
   ]
  },
  {
   "cell_type": "code",
   "execution_count": 3,
   "metadata": {},
   "outputs": [],
   "source": [
    "df = pd.DataFrame(final, columns = ['ContestId', 'Success', 'alpha', 'beta', 'Pred_Success'])\n",
    "df.to_csv(path_or_buf = 'linreg_results_0204.csv')"
   ]
  },
  {
   "cell_type": "code",
   "execution_count": 83,
   "metadata": {},
   "outputs": [
    {
     "name": "stdout",
     "output_type": "stream",
     "text": [
      "17303 167195 68172 7870\n",
      "0.7081369463422124\n"
     ]
    }
   ],
   "source": [
    "[TP,FP,TN,FN] = [0,0,0,0];\n",
    "for i in range(len(final)):\n",
    "    if final[i][1]=='False' and final[i][4]==0:\n",
    "        TN = TN + 1;\n",
    "    elif final[i][1]=='False' and final[i][4]==1:\n",
    "        FP = FP + 1;\n",
    "    elif final[i][1]=='True' and final[i][4]==0:\n",
    "        FN = FN + 1;\n",
    "    elif final[i][1]=='True' and final[i][4]==1:\n",
    "        TP = TP + 1;\n",
    "print(TN,TP,FN,FP)\n",
    "rate = (TN + TP)/len(final)\n",
    "print(rate)"
   ]
  },
  {
   "cell_type": "code",
   "execution_count": null,
   "metadata": {},
   "outputs": [],
   "source": []
  }
 ],
 "metadata": {
  "kernelspec": {
   "display_name": "Python 3",
   "language": "python",
   "name": "python3"
  },
  "language_info": {
   "codemirror_mode": {
    "name": "ipython",
    "version": 3
   },
   "file_extension": ".py",
   "mimetype": "text/x-python",
   "name": "python",
   "nbconvert_exporter": "python",
   "pygments_lexer": "ipython3",
   "version": "3.6.5"
  }
 },
 "nbformat": 4,
 "nbformat_minor": 2
}

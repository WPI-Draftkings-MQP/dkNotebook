{
 "cells": [
  {
   "cell_type": "code",
   "execution_count": 1,
   "metadata": {},
   "outputs": [],
   "source": [
    "import pandas as pd\n",
    "import numpy as np"
   ]
  },
  {
   "cell_type": "code",
   "execution_count": 23,
   "metadata": {},
   "outputs": [],
   "source": [
    "data = pd.read_csv('data/PCA_Features.csv').set_index(\"ContestId\").drop(['Unnamed: 0'], axis = 1)\n",
    "#[['Payout_Year_Y', 'Payout_Month_Y', 'Payout_Year_X', 'Payout_Month_X']]"
   ]
  },
  {
   "cell_type": "code",
   "execution_count": 26,
   "metadata": {},
   "outputs": [
    {
     "name": "stdout",
     "output_type": "stream",
     "text": [
      "VariantName_code\n",
      "Start_Month_X\n",
      "Start_Month_Y\n",
      "Start_Year_X\n",
      "Start_Year_Y\n",
      "End_Month_X\n",
      "End_Month_Y\n",
      "End_Year_X\n",
      "End_Year_Y\n",
      "Payout_Month_X\n",
      "Payout_Month_Y\n",
      "Payout_Year_X\n",
      "Payout_Year_Y\n"
     ]
    }
   ],
   "source": [
    "for c in data.columns:\n",
    "    if(len(data[c].unique()) <= 1):  \n",
    "        print(c)"
   ]
  },
  {
   "cell_type": "code",
   "execution_count": null,
   "metadata": {},
   "outputs": [],
   "source": []
  }
 ],
 "metadata": {
  "kernelspec": {
   "display_name": "Python 3",
   "language": "python",
   "name": "python3"
  },
  "language_info": {
   "codemirror_mode": {
    "name": "ipython",
    "version": 3
   },
   "file_extension": ".py",
   "mimetype": "text/x-python",
   "name": "python",
   "nbconvert_exporter": "python",
   "pygments_lexer": "ipython3",
   "version": "3.6.5"
  }
 },
 "nbformat": 4,
 "nbformat_minor": 2
}

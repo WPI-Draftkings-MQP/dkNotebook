{
 "cells": [
  {
   "cell_type": "code",
   "execution_count": 1,
   "metadata": {},
   "outputs": [],
   "source": [
    "import pandas as pd\n",
    "import matplotlib.pyplot as plt\n",
    "import numpy as np\n",
    "import random\n",
    "from sklearn.ensemble import RandomForestClassifier\n",
    "from sklearn.metrics import accuracy_score\n",
    "from sklearn.metrics import confusion_matrix"
   ]
  },
  {
   "cell_type": "code",
   "execution_count": 2,
   "metadata": {},
   "outputs": [],
   "source": [
    "contests = pd.read_csv('data/ContestsWithPaths.csv')"
   ]
  },
  {
   "cell_type": "code",
   "execution_count": 3,
   "metadata": {},
   "outputs": [
    {
     "data": {
      "text/html": [
       "<div>\n",
       "<style scoped>\n",
       "    .dataframe tbody tr th:only-of-type {\n",
       "        vertical-align: middle;\n",
       "    }\n",
       "\n",
       "    .dataframe tbody tr th {\n",
       "        vertical-align: top;\n",
       "    }\n",
       "\n",
       "    .dataframe thead th {\n",
       "        text-align: right;\n",
       "    }\n",
       "</style>\n",
       "<table border=\"1\" class=\"dataframe\">\n",
       "  <thead>\n",
       "    <tr style=\"text-align: right;\">\n",
       "      <th></th>\n",
       "      <th>Unnamed: 0</th>\n",
       "      <th>ContestId</th>\n",
       "      <th>SportName</th>\n",
       "      <th>VariantName</th>\n",
       "      <th>GameSet</th>\n",
       "      <th>ContestName</th>\n",
       "      <th>ContestStartDatetimeEST</th>\n",
       "      <th>ContestEndDatetimeEST</th>\n",
       "      <th>ContestPayoutDatetimeEST</th>\n",
       "      <th>EntryFeeAmount</th>\n",
       "      <th>...</th>\n",
       "      <th>MaxEntriesPerUser</th>\n",
       "      <th>Entries</th>\n",
       "      <th>DistinctUsers</th>\n",
       "      <th>Contest_Group</th>\n",
       "      <th>NumGames</th>\n",
       "      <th>DraftablePlayersInSet</th>\n",
       "      <th>PaidUsersInDraftGroup</th>\n",
       "      <th>TopPrize</th>\n",
       "      <th>MaxPayoutPosition</th>\n",
       "      <th>fileName</th>\n",
       "    </tr>\n",
       "  </thead>\n",
       "  <tbody>\n",
       "    <tr>\n",
       "      <th>0</th>\n",
       "      <td>0</td>\n",
       "      <td>7963004</td>\n",
       "      <td>NFL</td>\n",
       "      <td>Classic</td>\n",
       "      <td>(Main)</td>\n",
       "      <td>NFL $25K Quarter Arcade [Just $0.25!]</td>\n",
       "      <td>2015-09-13 13:00:00.000</td>\n",
       "      <td>2015-09-14 22:20:00.000</td>\n",
       "      <td>2015-09-15 02:27:24.000</td>\n",
       "      <td>0.25</td>\n",
       "      <td>...</td>\n",
       "      <td>100</td>\n",
       "      <td>117500.0</td>\n",
       "      <td>38925</td>\n",
       "      <td>Headliner</td>\n",
       "      <td>15</td>\n",
       "      <td>910.0</td>\n",
       "      <td>668396</td>\n",
       "      <td>2000.0</td>\n",
       "      <td>23665</td>\n",
       "      <td>2015-09</td>\n",
       "    </tr>\n",
       "    <tr>\n",
       "      <th>1</th>\n",
       "      <td>1</td>\n",
       "      <td>7963437</td>\n",
       "      <td>NFL</td>\n",
       "      <td>Classic</td>\n",
       "      <td>(Main)</td>\n",
       "      <td>NFL GIANT $2 Booster [Top 1,250 Win $20]</td>\n",
       "      <td>2015-09-13 13:00:00.000</td>\n",
       "      <td>2015-09-14 22:20:00.000</td>\n",
       "      <td>2015-09-15 02:27:24.000</td>\n",
       "      <td>2.00</td>\n",
       "      <td>...</td>\n",
       "      <td>100</td>\n",
       "      <td>14375.0</td>\n",
       "      <td>9663</td>\n",
       "      <td>Booster</td>\n",
       "      <td>15</td>\n",
       "      <td>910.0</td>\n",
       "      <td>668396</td>\n",
       "      <td>20.0</td>\n",
       "      <td>1250</td>\n",
       "      <td>2015-09</td>\n",
       "    </tr>\n",
       "    <tr>\n",
       "      <th>2</th>\n",
       "      <td>2</td>\n",
       "      <td>8296224</td>\n",
       "      <td>NFL</td>\n",
       "      <td>Classic</td>\n",
       "      <td>(Main)</td>\n",
       "      <td>Beginner NFL $5K Spy [Single Entry]</td>\n",
       "      <td>2015-09-13 13:00:00.000</td>\n",
       "      <td>2015-09-14 22:20:00.000</td>\n",
       "      <td>2015-09-15 02:27:24.000</td>\n",
       "      <td>100.00</td>\n",
       "      <td>...</td>\n",
       "      <td>1</td>\n",
       "      <td>55.0</td>\n",
       "      <td>55</td>\n",
       "      <td>SingleEntry</td>\n",
       "      <td>15</td>\n",
       "      <td>910.0</td>\n",
       "      <td>668396</td>\n",
       "      <td>1100.0</td>\n",
       "      <td>11</td>\n",
       "      <td>2015-09</td>\n",
       "    </tr>\n",
       "    <tr>\n",
       "      <th>3</th>\n",
       "      <td>3</td>\n",
       "      <td>8296543</td>\n",
       "      <td>NFL</td>\n",
       "      <td>Classic</td>\n",
       "      <td>(Main)</td>\n",
       "      <td>NFL $50 Double Up [$5K Gtd] (Multi-Entry)</td>\n",
       "      <td>2015-09-13 13:00:00.000</td>\n",
       "      <td>2015-09-14 22:20:00.000</td>\n",
       "      <td>2015-09-15 02:27:24.000</td>\n",
       "      <td>50.00</td>\n",
       "      <td>...</td>\n",
       "      <td>11</td>\n",
       "      <td>111.0</td>\n",
       "      <td>79</td>\n",
       "      <td>FeaturedDoubleUp</td>\n",
       "      <td>15</td>\n",
       "      <td>910.0</td>\n",
       "      <td>668396</td>\n",
       "      <td>100.0</td>\n",
       "      <td>50</td>\n",
       "      <td>2015-09</td>\n",
       "    </tr>\n",
       "    <tr>\n",
       "      <th>4</th>\n",
       "      <td>4</td>\n",
       "      <td>8296544</td>\n",
       "      <td>NFL</td>\n",
       "      <td>Classic</td>\n",
       "      <td>(Main)</td>\n",
       "      <td>NFL $50 Double Up [$5K Gtd] (Multi-Entry)</td>\n",
       "      <td>2015-09-13 13:00:00.000</td>\n",
       "      <td>2015-09-14 22:20:00.000</td>\n",
       "      <td>2015-09-15 02:27:24.000</td>\n",
       "      <td>50.00</td>\n",
       "      <td>...</td>\n",
       "      <td>11</td>\n",
       "      <td>111.0</td>\n",
       "      <td>91</td>\n",
       "      <td>FeaturedDoubleUp</td>\n",
       "      <td>15</td>\n",
       "      <td>910.0</td>\n",
       "      <td>668396</td>\n",
       "      <td>100.0</td>\n",
       "      <td>50</td>\n",
       "      <td>2015-09</td>\n",
       "    </tr>\n",
       "  </tbody>\n",
       "</table>\n",
       "<p>5 rows × 22 columns</p>\n",
       "</div>"
      ],
      "text/plain": [
       "   Unnamed: 0  ContestId SportName VariantName  GameSet  \\\n",
       "0           0    7963004       NFL     Classic   (Main)   \n",
       "1           1    7963437       NFL     Classic   (Main)   \n",
       "2           2    8296224       NFL     Classic   (Main)   \n",
       "3           3    8296543       NFL     Classic   (Main)   \n",
       "4           4    8296544       NFL     Classic   (Main)   \n",
       "\n",
       "                                 ContestName  ContestStartDatetimeEST  \\\n",
       "0      NFL $25K Quarter Arcade [Just $0.25!]  2015-09-13 13:00:00.000   \n",
       "1   NFL GIANT $2 Booster [Top 1,250 Win $20]  2015-09-13 13:00:00.000   \n",
       "2        Beginner NFL $5K Spy [Single Entry]  2015-09-13 13:00:00.000   \n",
       "3  NFL $50 Double Up [$5K Gtd] (Multi-Entry)  2015-09-13 13:00:00.000   \n",
       "4  NFL $50 Double Up [$5K Gtd] (Multi-Entry)  2015-09-13 13:00:00.000   \n",
       "\n",
       "     ContestEndDatetimeEST ContestPayoutDatetimeEST  EntryFeeAmount    ...     \\\n",
       "0  2015-09-14 22:20:00.000  2015-09-15 02:27:24.000            0.25    ...      \n",
       "1  2015-09-14 22:20:00.000  2015-09-15 02:27:24.000            2.00    ...      \n",
       "2  2015-09-14 22:20:00.000  2015-09-15 02:27:24.000          100.00    ...      \n",
       "3  2015-09-14 22:20:00.000  2015-09-15 02:27:24.000           50.00    ...      \n",
       "4  2015-09-14 22:20:00.000  2015-09-15 02:27:24.000           50.00    ...      \n",
       "\n",
       "   MaxEntriesPerUser   Entries  DistinctUsers     Contest_Group  NumGames  \\\n",
       "0                100  117500.0          38925         Headliner        15   \n",
       "1                100   14375.0           9663           Booster        15   \n",
       "2                  1      55.0             55       SingleEntry        15   \n",
       "3                 11     111.0             79  FeaturedDoubleUp        15   \n",
       "4                 11     111.0             91  FeaturedDoubleUp        15   \n",
       "\n",
       "  DraftablePlayersInSet  PaidUsersInDraftGroup  TopPrize  MaxPayoutPosition  \\\n",
       "0                 910.0                 668396    2000.0              23665   \n",
       "1                 910.0                 668396      20.0               1250   \n",
       "2                 910.0                 668396    1100.0                 11   \n",
       "3                 910.0                 668396     100.0                 50   \n",
       "4                 910.0                 668396     100.0                 50   \n",
       "\n",
       "   fileName  \n",
       "0   2015-09  \n",
       "1   2015-09  \n",
       "2   2015-09  \n",
       "3   2015-09  \n",
       "4   2015-09  \n",
       "\n",
       "[5 rows x 22 columns]"
      ]
     },
     "execution_count": 3,
     "metadata": {},
     "output_type": "execute_result"
    }
   ],
   "source": [
    "contests.head()"
   ]
  },
  {
   "cell_type": "code",
   "execution_count": 4,
   "metadata": {},
   "outputs": [],
   "source": [
    "def contestThreshold(id):\n",
    "    aContest = getContestData(id)\n",
    "    return float(aContest.TopPrize/aContest.EntryFeeAmount)\n",
    "def getContestData(id):\n",
    "    return contests.loc[contests['ContestId'] == id]"
   ]
  },
  {
   "cell_type": "code",
   "execution_count": 5,
   "metadata": {},
   "outputs": [],
   "source": [
    "contests = contests.assign(Threshold = lambda x: x.TopPrize/x.EntryFeeAmount)"
   ]
  },
  {
   "cell_type": "code",
   "execution_count": 6,
   "metadata": {
    "scrolled": true
   },
   "outputs": [],
   "source": [
    "contests = contests.assign(Success = lambda x: (1+(x.Entries- x.Threshold)/abs(x.Entries - x.Threshold))/2)"
   ]
  },
  {
   "cell_type": "code",
   "execution_count": 7,
   "metadata": {},
   "outputs": [],
   "source": [
    "CLF_Features=['EntryFeeAmount', 'TotalPrizeAmount', 'MaxNumberPlayers',\n",
    "       'MaxEntriesPerUser', 'NumGames',\n",
    "       'DraftablePlayersInSet', 'PaidUsersInDraftGroup', 'TopPrize',\n",
    "       'MaxPayoutPosition', 'Threshold', 'Success']\n",
    "CLF_contests = contests.filter(CLF_Features, axis=1).dropna()"
   ]
  },
  {
   "cell_type": "code",
   "execution_count": 8,
   "metadata": {},
   "outputs": [
    {
     "data": {
      "text/html": [
       "<div>\n",
       "<style scoped>\n",
       "    .dataframe tbody tr th:only-of-type {\n",
       "        vertical-align: middle;\n",
       "    }\n",
       "\n",
       "    .dataframe tbody tr th {\n",
       "        vertical-align: top;\n",
       "    }\n",
       "\n",
       "    .dataframe thead th {\n",
       "        text-align: right;\n",
       "    }\n",
       "</style>\n",
       "<table border=\"1\" class=\"dataframe\">\n",
       "  <thead>\n",
       "    <tr style=\"text-align: right;\">\n",
       "      <th></th>\n",
       "      <th>EntryFeeAmount</th>\n",
       "      <th>TotalPrizeAmount</th>\n",
       "      <th>MaxNumberPlayers</th>\n",
       "      <th>MaxEntriesPerUser</th>\n",
       "      <th>NumGames</th>\n",
       "      <th>DraftablePlayersInSet</th>\n",
       "      <th>PaidUsersInDraftGroup</th>\n",
       "      <th>TopPrize</th>\n",
       "      <th>MaxPayoutPosition</th>\n",
       "      <th>Threshold</th>\n",
       "      <th>Success</th>\n",
       "    </tr>\n",
       "  </thead>\n",
       "  <tbody>\n",
       "    <tr>\n",
       "      <th>0</th>\n",
       "      <td>0.25</td>\n",
       "      <td>25000.0</td>\n",
       "      <td>117500</td>\n",
       "      <td>100</td>\n",
       "      <td>15</td>\n",
       "      <td>910.0</td>\n",
       "      <td>668396</td>\n",
       "      <td>2000.0</td>\n",
       "      <td>23665</td>\n",
       "      <td>8000.0</td>\n",
       "      <td>1.0</td>\n",
       "    </tr>\n",
       "    <tr>\n",
       "      <th>1</th>\n",
       "      <td>2.00</td>\n",
       "      <td>25000.0</td>\n",
       "      <td>14375</td>\n",
       "      <td>100</td>\n",
       "      <td>15</td>\n",
       "      <td>910.0</td>\n",
       "      <td>668396</td>\n",
       "      <td>20.0</td>\n",
       "      <td>1250</td>\n",
       "      <td>10.0</td>\n",
       "      <td>1.0</td>\n",
       "    </tr>\n",
       "    <tr>\n",
       "      <th>2</th>\n",
       "      <td>100.00</td>\n",
       "      <td>5000.0</td>\n",
       "      <td>55</td>\n",
       "      <td>1</td>\n",
       "      <td>15</td>\n",
       "      <td>910.0</td>\n",
       "      <td>668396</td>\n",
       "      <td>1100.0</td>\n",
       "      <td>11</td>\n",
       "      <td>11.0</td>\n",
       "      <td>1.0</td>\n",
       "    </tr>\n",
       "    <tr>\n",
       "      <th>3</th>\n",
       "      <td>50.00</td>\n",
       "      <td>5000.0</td>\n",
       "      <td>111</td>\n",
       "      <td>11</td>\n",
       "      <td>15</td>\n",
       "      <td>910.0</td>\n",
       "      <td>668396</td>\n",
       "      <td>100.0</td>\n",
       "      <td>50</td>\n",
       "      <td>2.0</td>\n",
       "      <td>1.0</td>\n",
       "    </tr>\n",
       "    <tr>\n",
       "      <th>4</th>\n",
       "      <td>50.00</td>\n",
       "      <td>5000.0</td>\n",
       "      <td>111</td>\n",
       "      <td>11</td>\n",
       "      <td>15</td>\n",
       "      <td>910.0</td>\n",
       "      <td>668396</td>\n",
       "      <td>100.0</td>\n",
       "      <td>50</td>\n",
       "      <td>2.0</td>\n",
       "      <td>1.0</td>\n",
       "    </tr>\n",
       "  </tbody>\n",
       "</table>\n",
       "</div>"
      ],
      "text/plain": [
       "   EntryFeeAmount  TotalPrizeAmount  MaxNumberPlayers  MaxEntriesPerUser  \\\n",
       "0            0.25           25000.0            117500                100   \n",
       "1            2.00           25000.0             14375                100   \n",
       "2          100.00            5000.0                55                  1   \n",
       "3           50.00            5000.0               111                 11   \n",
       "4           50.00            5000.0               111                 11   \n",
       "\n",
       "   NumGames  DraftablePlayersInSet  PaidUsersInDraftGroup  TopPrize  \\\n",
       "0        15                  910.0                 668396    2000.0   \n",
       "1        15                  910.0                 668396      20.0   \n",
       "2        15                  910.0                 668396    1100.0   \n",
       "3        15                  910.0                 668396     100.0   \n",
       "4        15                  910.0                 668396     100.0   \n",
       "\n",
       "   MaxPayoutPosition  Threshold  Success  \n",
       "0              23665     8000.0      1.0  \n",
       "1               1250       10.0      1.0  \n",
       "2                 11       11.0      1.0  \n",
       "3                 50        2.0      1.0  \n",
       "4                 50        2.0      1.0  "
      ]
     },
     "execution_count": 8,
     "metadata": {},
     "output_type": "execute_result"
    }
   ],
   "source": [
    "CLF_contests.head()"
   ]
  },
  {
   "cell_type": "code",
   "execution_count": 9,
   "metadata": {},
   "outputs": [],
   "source": [
    "feature_names = CLF_contests.columns"
   ]
  },
  {
   "cell_type": "code",
   "execution_count": 10,
   "metadata": {},
   "outputs": [
    {
     "name": "stdout",
     "output_type": "stream",
     "text": [
      "Number of observations in the training data: 348607\n",
      "Number of observations in the test data: 116097\n"
     ]
    }
   ],
   "source": [
    "CLF_contests['is_train'] = np.random.uniform(0, 1, len(CLF_contests)) <= .75\n",
    "train, test = CLF_contests[CLF_contests['is_train']==True], CLF_contests[CLF_contests['is_train']==False]\n",
    "print('Number of observations in the training data:', len(train))\n",
    "print('Number of observations in the test data:',len(test))"
   ]
  },
  {
   "cell_type": "code",
   "execution_count": 11,
   "metadata": {},
   "outputs": [],
   "source": [
    "true = test['Success']\n",
    "features = CLF_contests.columns[:].drop('is_train').drop('Success')\n",
    "y = train['Success']"
   ]
  },
  {
   "cell_type": "code",
   "execution_count": 12,
   "metadata": {},
   "outputs": [
    {
     "data": {
      "text/plain": [
       "RandomForestClassifier(bootstrap=True, class_weight=None, criterion='gini',\n",
       "            max_depth=None, max_features='auto', max_leaf_nodes=None,\n",
       "            min_impurity_decrease=0.0, min_impurity_split=None,\n",
       "            min_samples_leaf=1, min_samples_split=2,\n",
       "            min_weight_fraction_leaf=0.0, n_estimators=10, n_jobs=2,\n",
       "            oob_score=False, random_state=0, verbose=0, warm_start=False)"
      ]
     },
     "execution_count": 12,
     "metadata": {},
     "output_type": "execute_result"
    }
   ],
   "source": [
    "clf = RandomForestClassifier(n_jobs=2, random_state=0)\n",
    "clf.fit(train[features], y)"
   ]
  },
  {
   "cell_type": "code",
   "execution_count": 13,
   "metadata": {},
   "outputs": [
    {
     "name": "stdout",
     "output_type": "stream",
     "text": [
      "Predicted price of first five observations [1. 1. 1. 1. 1.]\n",
      "Actual Price of first five observations 2     1.0\n",
      "3     1.0\n",
      "7     1.0\n",
      "8     1.0\n",
      "13    1.0\n",
      "Name: Success, dtype: float64\n"
     ]
    }
   ],
   "source": [
    "# Create actual english names for the plants for each predicted plant class\n",
    "preds = clf.predict(test[features])\n",
    "true = test['Success']\n",
    "\n",
    "# View the PREDICTED species for the first five observations\n",
    "print('Predicted price of first five observations', preds[0:5])\n",
    "# View the ACTUAL species for the first five observations\n",
    "print('Actual Price of first five observations', test['Success'].head())"
   ]
  },
  {
   "cell_type": "code",
   "execution_count": 14,
   "metadata": {
    "scrolled": true
   },
   "outputs": [
    {
     "name": "stdout",
     "output_type": "stream",
     "text": [
      "Feature importance: [('EntryFeeAmount', 0.043786151048240726), ('TotalPrizeAmount', 0.043791116446200144), ('MaxNumberPlayers', 0.05000678778168279), ('MaxEntriesPerUser', 0.0165945516311569), ('NumGames', 0.0940672847859099), ('DraftablePlayersInSet', 0.24367273964707875), ('PaidUsersInDraftGroup', 0.3532601792056217), ('TopPrize', 0.046846788453726605), ('MaxPayoutPosition', 0.05529105107598782), ('Threshold', 0.05268334992439466)]\n"
     ]
    }
   ],
   "source": [
    "print(\"Feature importance:\", list(zip(train[features], clf.feature_importances_)))\n"
   ]
  },
  {
   "cell_type": "code",
   "execution_count": 15,
   "metadata": {},
   "outputs": [
    {
     "data": {
      "text/plain": [
       "0.9887421724936907"
      ]
     },
     "execution_count": 15,
     "metadata": {},
     "output_type": "execute_result"
    }
   ],
   "source": [
    "accuracy_score(true, preds)"
   ]
  },
  {
   "cell_type": "code",
   "execution_count": 16,
   "metadata": {},
   "outputs": [],
   "source": [
    "confuse = pd.DataFrame({'Predict':preds, 'Real':true})"
   ]
  },
  {
   "cell_type": "code",
   "execution_count": 17,
   "metadata": {},
   "outputs": [],
   "source": [
    "successes =  len(test.loc[test['Success']==1.0])\n",
    "fails = len(test.loc[test['Success']==0.0])"
   ]
  },
  {
   "cell_type": "code",
   "execution_count": 18,
   "metadata": {},
   "outputs": [
    {
     "name": "stdout",
     "output_type": "stream",
     "text": [
      "fails: 1280 --- successes: 114817\n"
     ]
    }
   ],
   "source": [
    "print(\"fails:\", fails, \"---\", \"successes:\", successes)"
   ]
  },
  {
   "cell_type": "code",
   "execution_count": 19,
   "metadata": {},
   "outputs": [
    {
     "name": "stdout",
     "output_type": "stream",
     "text": [
      "[[   513    767]\n",
      " [   540 114277]]\n"
     ]
    }
   ],
   "source": [
    "print(confusion_matrix(true, preds))"
   ]
  },
  {
   "cell_type": "code",
   "execution_count": null,
   "metadata": {},
   "outputs": [],
   "source": []
  },
  {
   "cell_type": "code",
   "execution_count": null,
   "metadata": {},
   "outputs": [],
   "source": []
  }
 ],
 "metadata": {
  "kernelspec": {
   "display_name": "Python 3",
   "language": "python",
   "name": "python3"
  },
  "language_info": {
   "codemirror_mode": {
    "name": "ipython",
    "version": 3
   },
   "file_extension": ".py",
   "mimetype": "text/x-python",
   "name": "python",
   "nbconvert_exporter": "python",
   "pygments_lexer": "ipython3",
   "version": "3.6.5"
  }
 },
 "nbformat": 4,
 "nbformat_minor": 2
}
